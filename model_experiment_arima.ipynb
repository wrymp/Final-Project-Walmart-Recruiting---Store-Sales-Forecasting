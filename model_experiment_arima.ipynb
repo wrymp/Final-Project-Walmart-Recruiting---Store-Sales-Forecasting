{
  "cells": [
    {
      "cell_type": "code",
      "source": [
        "!pip install kaggle wandb onnx -Uq\n",
        "from google.colab import drive\n",
        "drive.mount('/content/drive')"
      ],
      "metadata": {
        "colab": {
          "base_uri": "https://localhost:8080/"
        },
        "id": "0xc_xtTn6ECN",
        "outputId": "1931391d-1149-4223-e3c0-123613cf21ee"
      },
      "id": "0xc_xtTn6ECN",
      "execution_count": 180,
      "outputs": [
        {
          "output_type": "stream",
          "name": "stdout",
          "text": [
            "Drive already mounted at /content/drive; to attempt to forcibly remount, call drive.mount(\"/content/drive\", force_remount=True).\n"
          ]
        }
      ]
    },
    {
      "cell_type": "code",
      "source": [
        "! mkdir ~/.kaggle"
      ],
      "metadata": {
        "id": "3Q92W4PQ6EaA",
        "colab": {
          "base_uri": "https://localhost:8080/"
        },
        "outputId": "5ab197f5-01df-4565-b20a-1c3c8d1ff979"
      },
      "id": "3Q92W4PQ6EaA",
      "execution_count": 181,
      "outputs": [
        {
          "output_type": "stream",
          "name": "stdout",
          "text": [
            "mkdir: cannot create directory ‘/root/.kaggle’: File exists\n"
          ]
        }
      ]
    },
    {
      "cell_type": "code",
      "source": [
        "!cp /content/drive/MyDrive/Kaggle_credentials/kaggle.json ~/.kaggle/kaggle.json"
      ],
      "metadata": {
        "id": "cDQaBGLX6FfU"
      },
      "id": "cDQaBGLX6FfU",
      "execution_count": 182,
      "outputs": []
    },
    {
      "cell_type": "code",
      "source": [
        "! chmod 600 ~/.kaggle/kaggle.json"
      ],
      "metadata": {
        "id": "HkcOB55i6G8d"
      },
      "id": "HkcOB55i6G8d",
      "execution_count": 183,
      "outputs": []
    },
    {
      "cell_type": "code",
      "source": [
        "# ! kaggle competitions download -c walmart-recruiting-store-sales-forecasting"
      ],
      "metadata": {
        "id": "MPwqMv2z6H6S"
      },
      "id": "MPwqMv2z6H6S",
      "execution_count": 184,
      "outputs": []
    },
    {
      "cell_type": "code",
      "source": [
        "# ! unzip /content/walmart-recruiting-store-sales-forecasting.zip\n",
        "# ! unzip /content/train.csv.zip\n",
        "# ! unzip /content/test.csv.zip\n",
        "# ! unzip /content/features.csv.zip\n",
        "# ! unzip /content/sampleSubmission.csv.zip"
      ],
      "metadata": {
        "id": "jQr6E5zG6KBU"
      },
      "id": "jQr6E5zG6KBU",
      "execution_count": 185,
      "outputs": []
    },
    {
      "cell_type": "code",
      "source": [
        "# !pip install wandb -qU\n",
        "\n",
        "# # Clean up all related packages\n",
        "# !pip uninstall -y pmdarima numpy scipy statsmodels\n",
        "\n",
        "# # Reinstall pinned, compatible versions\n",
        "# !pip install numpy==1.24.4 scipy==1.10.1 statsmodels==0.13.5 pmdarima==2.0.3"
      ],
      "metadata": {
        "id": "myvAj7pC7CyH"
      },
      "id": "myvAj7pC7CyH",
      "execution_count": 186,
      "outputs": []
    },
    {
      "cell_type": "code",
      "source": [
        "import wandb\n",
        "import random\n",
        "import math"
      ],
      "metadata": {
        "id": "c5Vm5Z5I7DRW"
      },
      "id": "c5Vm5Z5I7DRW",
      "execution_count": 187,
      "outputs": []
    },
    {
      "cell_type": "code",
      "source": [
        "wandb.login()"
      ],
      "metadata": {
        "id": "mR9ELoN67Ef_",
        "colab": {
          "base_uri": "https://localhost:8080/"
        },
        "outputId": "96c5f1c4-7358-4dac-a1e8-587245426935"
      },
      "id": "mR9ELoN67Ef_",
      "execution_count": 188,
      "outputs": [
        {
          "output_type": "stream",
          "name": "stderr",
          "text": [
            "\u001b[34m\u001b[1mwandb\u001b[0m: \u001b[33mWARNING\u001b[0m Calling wandb.login() after wandb.init() has no effect.\n"
          ]
        },
        {
          "output_type": "execute_result",
          "data": {
            "text/plain": [
              "True"
            ]
          },
          "metadata": {},
          "execution_count": 188
        }
      ]
    },
    {
      "cell_type": "code",
      "execution_count": 189,
      "id": "initial_id",
      "metadata": {
        "collapsed": true,
        "id": "initial_id",
        "colab": {
          "base_uri": "https://localhost:8080/",
          "height": 1000
        },
        "outputId": "fb586315-a41c-422e-ec7d-4f85a9884379"
      },
      "outputs": [
        {
          "output_type": "display_data",
          "data": {
            "text/plain": [
              "<IPython.core.display.HTML object>"
            ],
            "text/html": [
              "Finishing previous runs because reinit is set to 'default'."
            ]
          },
          "metadata": {}
        },
        {
          "output_type": "display_data",
          "data": {
            "text/plain": [
              "<IPython.core.display.HTML object>"
            ],
            "text/html": []
          },
          "metadata": {}
        },
        {
          "output_type": "display_data",
          "data": {
            "text/plain": [
              "<IPython.core.display.HTML object>"
            ],
            "text/html": [
              " View run <strong style=\"color:#cdcd00\">Department_Level_ARIMA</strong> at: <a href='https://wandb.ai/dshan21-free-university-of-tbilisi-/walmart-sales-forecasting/runs/bj5sl04y' target=\"_blank\">https://wandb.ai/dshan21-free-university-of-tbilisi-/walmart-sales-forecasting/runs/bj5sl04y</a><br> View project at: <a href='https://wandb.ai/dshan21-free-university-of-tbilisi-/walmart-sales-forecasting' target=\"_blank\">https://wandb.ai/dshan21-free-university-of-tbilisi-/walmart-sales-forecasting</a><br>Synced 5 W&B file(s), 0 media file(s), 0 artifact file(s) and 0 other file(s)"
            ]
          },
          "metadata": {}
        },
        {
          "output_type": "display_data",
          "data": {
            "text/plain": [
              "<IPython.core.display.HTML object>"
            ],
            "text/html": [
              "Find logs at: <code>./wandb/run-20250705_164408-bj5sl04y/logs</code>"
            ]
          },
          "metadata": {}
        },
        {
          "output_type": "display_data",
          "data": {
            "text/plain": [
              "<IPython.core.display.HTML object>"
            ],
            "text/html": [
              "Tracking run with wandb version 0.21.0"
            ]
          },
          "metadata": {}
        },
        {
          "output_type": "display_data",
          "data": {
            "text/plain": [
              "<IPython.core.display.HTML object>"
            ],
            "text/html": [
              "Run data is saved locally in <code>/content/wandb/run-20250705_164639-7o5cru3i</code>"
            ]
          },
          "metadata": {}
        },
        {
          "output_type": "display_data",
          "data": {
            "text/plain": [
              "<IPython.core.display.HTML object>"
            ],
            "text/html": [
              "Syncing run <strong><a href='https://wandb.ai/dshan21-free-university-of-tbilisi-/walmart-sales-forecasting/runs/7o5cru3i' target=\"_blank\">ARIMA_Data_Exploration</a></strong> to <a href='https://wandb.ai/dshan21-free-university-of-tbilisi-/walmart-sales-forecasting' target=\"_blank\">Weights & Biases</a> (<a href='https://wandb.me/developer-guide' target=\"_blank\">docs</a>)<br>"
            ]
          },
          "metadata": {}
        },
        {
          "output_type": "display_data",
          "data": {
            "text/plain": [
              "<IPython.core.display.HTML object>"
            ],
            "text/html": [
              " View project at <a href='https://wandb.ai/dshan21-free-university-of-tbilisi-/walmart-sales-forecasting' target=\"_blank\">https://wandb.ai/dshan21-free-university-of-tbilisi-/walmart-sales-forecasting</a>"
            ]
          },
          "metadata": {}
        },
        {
          "output_type": "display_data",
          "data": {
            "text/plain": [
              "<IPython.core.display.HTML object>"
            ],
            "text/html": [
              " View run at <a href='https://wandb.ai/dshan21-free-university-of-tbilisi-/walmart-sales-forecasting/runs/7o5cru3i' target=\"_blank\">https://wandb.ai/dshan21-free-university-of-tbilisi-/walmart-sales-forecasting/runs/7o5cru3i</a>"
            ]
          },
          "metadata": {}
        },
        {
          "output_type": "stream",
          "name": "stdout",
          "text": [
            "=== BLOCK 1: DATA LOADING & EXPLORATION ===\n",
            "Loading datasets...\n",
            "Dataset Info:\n",
            "  train_shape: (421570, 5)\n",
            "  features_shape: (8190, 12)\n",
            "  stores_shape: (45, 3)\n",
            "  test_shape: (115064, 4)\n",
            "  unique_stores: 45\n",
            "  unique_departments: 81\n",
            "  date_range_train: 2010-02-05 to 2012-10-26\n",
            "  total_sales: 6737218987.11\n"
          ]
        },
        {
          "output_type": "display_data",
          "data": {
            "text/plain": [
              "<Figure size 1500x1000 with 6 Axes>"
            ],
            "image/png": "[encoded data removed]"
          },
          "metadata": {}
        },
        {
          "output_type": "stream",
          "name": "stdout",
          "text": [
            "Key Insights: {'top_performing_store': 20, 'top_performing_department': 92, 'holiday_sales_boost': 7.133805219708678, 'sales_std_dev': 22711.18351916313, 'negative_sales_count': 1285}\n"
          ]
        },
        {
          "output_type": "display_data",
          "data": {
            "text/plain": [
              "<IPython.core.display.HTML object>"
            ],
            "text/html": []
          },
          "metadata": {}
        },
        {
          "output_type": "display_data",
          "data": {
            "text/plain": [
              "<IPython.core.display.HTML object>"
            ],
            "text/html": [
              "<br>    <style><br>        .wandb-row {<br>            display: flex;<br>            flex-direction: row;<br>            flex-wrap: wrap;<br>            justify-content: flex-start;<br>            width: 100%;<br>        }<br>        .wandb-col {<br>            display: flex;<br>            flex-direction: column;<br>            flex-basis: 100%;<br>            flex: 1;<br>            padding: 10px;<br>        }<br>    </style><br><div class=\"wandb-row\"><div class=\"wandb-col\"><h3>Run history:</h3><br/><table class=\"wandb\"><tr><td>holiday_sales_boost</td><td>▁</td></tr><tr><td>negative_sales_count</td><td>▁</td></tr><tr><td>sales_std_dev</td><td>▁</td></tr><tr><td>top_performing_department</td><td>▁</td></tr><tr><td>top_performing_store</td><td>▁</td></tr><tr><td>total_sales</td><td>▁</td></tr><tr><td>unique_departments</td><td>▁</td></tr><tr><td>unique_stores</td><td>▁</td></tr></table><br/></div><div class=\"wandb-col\"><h3>Run summary:</h3><br/><table class=\"wandb\"><tr><td>date_range_train</td><td>2010-02-05 to 2012-1...</td></tr><tr><td>holiday_sales_boost</td><td>7.13381</td></tr><tr><td>negative_sales_count</td><td>1285</td></tr><tr><td>sales_std_dev</td><td>22711.18352</td></tr><tr><td>top_performing_department</td><td>92</td></tr><tr><td>top_performing_store</td><td>20</td></tr><tr><td>total_sales</td><td>6737218987.11</td></tr><tr><td>unique_departments</td><td>81</td></tr><tr><td>unique_stores</td><td>45</td></tr></table><br/></div></div>"
            ]
          },
          "metadata": {}
        },
        {
          "output_type": "display_data",
          "data": {
            "text/plain": [
              "<IPython.core.display.HTML object>"
            ],
            "text/html": [
              " View run <strong style=\"color:#cdcd00\">ARIMA_Data_Exploration</strong> at: <a href='https://wandb.ai/dshan21-free-university-of-tbilisi-/walmart-sales-forecasting/runs/7o5cru3i' target=\"_blank\">https://wandb.ai/dshan21-free-university-of-tbilisi-/walmart-sales-forecasting/runs/7o5cru3i</a><br> View project at: <a href='https://wandb.ai/dshan21-free-university-of-tbilisi-/walmart-sales-forecasting' target=\"_blank\">https://wandb.ai/dshan21-free-university-of-tbilisi-/walmart-sales-forecasting</a><br>Synced 5 W&B file(s), 1 media file(s), 0 artifact file(s) and 0 other file(s)"
            ]
          },
          "metadata": {}
        },
        {
          "output_type": "display_data",
          "data": {
            "text/plain": [
              "<IPython.core.display.HTML object>"
            ],
            "text/html": [
              "Find logs at: <code>./wandb/run-20250705_164639-7o5cru3i/logs</code>"
            ]
          },
          "metadata": {}
        }
      ],
      "source": [
        "# Block 1: Data Loading & Exploration\n",
        "import pandas as pd\n",
        "import numpy as np\n",
        "import matplotlib.pyplot as plt\n",
        "import seaborn as sns\n",
        "import warnings\n",
        "warnings.filterwarnings('ignore')\n",
        "import wandb\n",
        "\n",
        "# Initialize wandb for data exploration\n",
        "wandb.init(\n",
        "    project=\"walmart-sales-forecasting\",\n",
        "    name=\"ARIMA_Data_Exploration\",\n",
        "    tags=[\"ARIMA\", \"data-exploration\"]\n",
        ")\n",
        "\n",
        "print(\"=== BLOCK 1: DATA LOADING & EXPLORATION ===\")\n",
        "\n",
        "# Load all datasets\n",
        "print(\"Loading datasets...\")\n",
        "train_df = pd.read_csv(\"/content/train.csv\")\n",
        "features_df = pd.read_csv(\"/content/features.csv\")\n",
        "stores_df = pd.read_csv(\"/content/stores.csv\")\n",
        "test_df = pd.read_csv(\"/content/test.csv\")\n",
        "sample_submission = pd.read_csv(\"/content/sampleSubmission.csv\")\n",
        "\n",
        "# Basic info\n",
        "datasets_info = {\n",
        "    \"train_shape\": train_df.shape,\n",
        "    \"features_shape\": features_df.shape,\n",
        "    \"stores_shape\": stores_df.shape,\n",
        "    \"test_shape\": test_df.shape,\n",
        "    \"unique_stores\": train_df['Store'].nunique(),\n",
        "    \"unique_departments\": train_df['Dept'].nunique(),\n",
        "    \"date_range_train\": f\"{train_df['Date'].min()} to {train_df['Date'].max()}\",\n",
        "    \"total_sales\": train_df['Weekly_Sales'].sum()\n",
        "}\n",
        "\n",
        "print(\"Dataset Info:\")\n",
        "for key, value in datasets_info.items():\n",
        "    print(f\"  {key}: {value}\")\n",
        "\n",
        "# Log basic statistics\n",
        "wandb.log(datasets_info)\n",
        "\n",
        "# Analyze sales distribution\n",
        "plt.figure(figsize=(15, 10))\n",
        "\n",
        "plt.subplot(2, 3, 1)\n",
        "plt.hist(train_df['Weekly_Sales'], bins=50, alpha=0.7)\n",
        "plt.title('Distribution of Weekly Sales')\n",
        "plt.xlabel('Weekly Sales')\n",
        "plt.ylabel('Frequency')\n",
        "\n",
        "plt.subplot(2, 3, 2)\n",
        "store_sales = train_df.groupby('Store')['Weekly_Sales'].sum().sort_values(ascending=False)\n",
        "plt.bar(range(len(store_sales.head(10))), store_sales.head(10).values)\n",
        "plt.title('Top 10 Stores by Total Sales')\n",
        "plt.xlabel('Store Rank')\n",
        "plt.ylabel('Total Sales')\n",
        "\n",
        "plt.subplot(2, 3, 3)\n",
        "dept_sales = train_df.groupby('Dept')['Weekly_Sales'].sum().sort_values(ascending=False)\n",
        "plt.bar(range(len(dept_sales.head(10))), dept_sales.head(10).values)\n",
        "plt.title('Top 10 Departments by Total Sales')\n",
        "plt.xlabel('Department Rank')\n",
        "plt.ylabel('Total Sales')\n",
        "\n",
        "plt.subplot(2, 3, 4)\n",
        "train_df['Date'] = pd.to_datetime(train_df['Date'])\n",
        "monthly_sales = train_df.groupby(train_df['Date'].dt.to_period('M'))['Weekly_Sales'].sum()\n",
        "monthly_sales.plot()\n",
        "plt.title('Monthly Sales Trend')\n",
        "plt.xlabel('Month')\n",
        "plt.ylabel('Total Sales')\n",
        "\n",
        "plt.subplot(2, 3, 5)\n",
        "holiday_sales = train_df.groupby('IsHoliday')['Weekly_Sales'].mean()\n",
        "plt.bar(['Non-Holiday', 'Holiday'], holiday_sales.values)\n",
        "plt.title('Average Sales: Holiday vs Non-Holiday')\n",
        "plt.ylabel('Average Weekly Sales')\n",
        "\n",
        "plt.subplot(2, 3, 6)\n",
        "store_type_sales = train_df.merge(stores_df, on='Store').groupby('Type')['Weekly_Sales'].mean()\n",
        "plt.bar(store_type_sales.index, store_type_sales.values)\n",
        "plt.title('Average Sales by Store Type')\n",
        "plt.ylabel('Average Weekly Sales')\n",
        "\n",
        "plt.tight_layout()\n",
        "plt.savefig('data_exploration.png', dpi=300, bbox_inches='tight')\n",
        "wandb.log({\"data_exploration\": wandb.Image('data_exploration.png')})\n",
        "plt.show()\n",
        "\n",
        "# Log key insights\n",
        "insights = {\n",
        "    \"top_performing_store\": int(store_sales.index[0]),\n",
        "    \"top_performing_department\": int(dept_sales.index[0]),\n",
        "    \"holiday_sales_boost\": float(holiday_sales[True] / holiday_sales[False] - 1) * 100,\n",
        "    \"sales_std_dev\": float(train_df['Weekly_Sales'].std()),\n",
        "    \"negative_sales_count\": int((train_df['Weekly_Sales'] < 0).sum())\n",
        "}\n",
        "\n",
        "wandb.log(insights)\n",
        "print(f\"Key Insights: {insights}\")\n",
        "\n",
        "wandb.finish()"
      ]
    },
    {
      "cell_type": "code",
      "source": [
        "# Block 2: Data Preprocessing\n",
        "import pandas as pd\n",
        "import numpy as np\n",
        "import wandb\n",
        "\n",
        "wandb.init(\n",
        "    project=\"walmart-sales-forecasting\",\n",
        "    name=\"ARIMA_Data_Preprocessing\",\n",
        "    tags=[\"ARIMA\", \"preprocessing\"]\n",
        ")\n",
        "\n",
        "print(\"=== BLOCK 2: DATA PREPROCESSING ===\")\n",
        "\n",
        "# Load data (assuming from previous block or reload)\n",
        "train_df = pd.read_csv(\"/content/train.csv\")\n",
        "features_df = pd.read_csv(\"/content/features.csv\")\n",
        "stores_df = pd.read_csv(\"/content/stores.csv\")\n",
        "\n",
        "def preprocess_walmart_data(train_df, features_df, stores_df):\n",
        "    \"\"\"Comprehensive preprocessing for Walmart data\"\"\"\n",
        "\n",
        "    preprocessing_log = {}\n",
        "\n",
        "    # Convert dates\n",
        "    train_df['Date'] = pd.to_datetime(train_df['Date'])\n",
        "    features_df['Date'] = pd.to_datetime(features_df['Date'])\n",
        "\n",
        "    # Log date info\n",
        "    preprocessing_log['date_range'] = {\n",
        "        'start': str(train_df['Date'].min()),\n",
        "        'end': str(train_df['Date'].max()),\n",
        "        'total_weeks': len(train_df['Date'].unique())\n",
        "    }\n",
        "\n",
        "    # Merge datasets\n",
        "    print(\"Merging datasets...\")\n",
        "    merged_df = train_df.merge(features_df, on=['Store', 'Date'], how='left', suffixes=('', '_feat'))\n",
        "    merged_df = merged_df.merge(stores_df, on='Store', how='left')\n",
        "\n",
        "    # Handle duplicate IsHoliday columns\n",
        "    if 'IsHoliday_feat' in merged_df.columns:\n",
        "        merged_df = merged_df.drop('IsHoliday_feat', axis=1)\n",
        "\n",
        "    # Handle missing values\n",
        "    missing_before = merged_df.isnull().sum().sum()\n",
        "\n",
        "    # Fill missing values strategically\n",
        "    numeric_cols = ['Temperature', 'Fuel_Price', 'CPI', 'Unemployment',\n",
        "                   'MarkDown1', 'MarkDown2', 'MarkDown3', 'MarkDown4', 'MarkDown5']\n",
        "\n",
        "    for col in numeric_cols:\n",
        "        if col in merged_df.columns:\n",
        "            # Forward fill then backward fill\n",
        "            merged_df[col] = merged_df.groupby('Store')[col].fillna(method='ffill').fillna(method='bfill')\n",
        "            # If still missing, fill with median\n",
        "            merged_df[col] = merged_df[col].fillna(merged_df[col].median())\n",
        "\n",
        "    missing_after = merged_df.isnull().sum().sum()\n",
        "\n",
        "    preprocessing_log['missing_values'] = {\n",
        "        'before': int(missing_before),\n",
        "        'after': int(missing_after),\n",
        "        'reduction': int(missing_before - missing_after)\n",
        "    }\n",
        "\n",
        "    # Handle negative sales (mark as outliers but keep for now)\n",
        "    negative_sales = (merged_df['Weekly_Sales'] < 0).sum()\n",
        "    preprocessing_log['negative_sales_count'] = int(negative_sales)\n",
        "\n",
        "    # Create additional time features\n",
        "    merged_df['Year'] = merged_df['Date'].dt.year\n",
        "    merged_df['Month'] = merged_df['Date'].dt.month\n",
        "    merged_df['Week'] = merged_df['Date'].dt.isocalendar().week\n",
        "    merged_df['DayOfYear'] = merged_df['Date'].dt.dayofyear\n",
        "\n",
        "    # Sort data\n",
        "    merged_df = merged_df.sort_values(['Store', 'Dept', 'Date'])\n",
        "\n",
        "    preprocessing_log['final_shape'] = merged_df.shape\n",
        "    preprocessing_log['stores_count'] = merged_df['Store'].nunique()\n",
        "    preprocessing_log['departments_count'] = merged_df['Dept'].nunique()\n",
        "\n",
        "    return merged_df, preprocessing_log\n",
        "\n",
        "# Perform preprocessing\n",
        "merged_data, prep_log = preprocess_walmart_data(train_df, features_df, stores_df)\n",
        "\n",
        "print(\"Preprocessing completed:\")\n",
        "print(f\"  Final shape: {prep_log['final_shape']}\")\n",
        "print(f\"  Missing values reduced from {prep_log['missing_values']['before']} to {prep_log['missing_values']['after']}\")\n",
        "print(f\"  Negative sales: {prep_log['negative_sales_count']}\")\n",
        "\n",
        "# Log preprocessing results\n",
        "wandb.log(prep_log)\n",
        "\n",
        "# Save preprocessed data\n",
        "merged_data.to_pickle('preprocessed_data.pkl')\n",
        "print(\"Preprocessed data saved as 'preprocessed_data.pkl'\")\n",
        "\n",
        "# Log as artifact\n",
        "artifact = wandb.Artifact('preprocessed_data', type='dataset')\n",
        "artifact.add_file('preprocessed_data.pkl')\n",
        "wandb.log_artifact(artifact)\n",
        "\n",
        "wandb.finish()"
      ],
      "metadata": {
        "id": "54PZZRYuLhju",
        "colab": {
          "base_uri": "https://localhost:8080/",
          "height": 612
        },
        "outputId": "b9890599-2455-4291-fa53-1056b8f3b210"
      },
      "id": "54PZZRYuLhju",
      "execution_count": 190,
      "outputs": [
        {
          "output_type": "display_data",
          "data": {
            "text/plain": [
              "<IPython.core.display.HTML object>"
            ],
            "text/html": [
              "Tracking run with wandb version 0.21.0"
            ]
          },
          "metadata": {}
        },
        {
          "output_type": "display_data",
          "data": {
            "text/plain": [
              "<IPython.core.display.HTML object>"
            ],
            "text/html": [
              "Run data is saved locally in <code>/content/wandb/run-20250705_164653-2h5s1367</code>"
            ]
          },
          "metadata": {}
        },
        {
          "output_type": "display_data",
          "data": {
            "text/plain": [
              "<IPython.core.display.HTML object>"
            ],
            "text/html": [
              "Syncing run <strong><a href='https://wandb.ai/dshan21-free-university-of-tbilisi-/walmart-sales-forecasting/runs/2h5s1367' target=\"_blank\">ARIMA_Data_Preprocessing</a></strong> to <a href='https://wandb.ai/dshan21-free-university-of-tbilisi-/walmart-sales-forecasting' target=\"_blank\">Weights & Biases</a> (<a href='https://wandb.me/developer-guide' target=\"_blank\">docs</a>)<br>"
            ]
          },
          "metadata": {}
        },
        {
          "output_type": "display_data",
          "data": {
            "text/plain": [
              "<IPython.core.display.HTML object>"
            ],
            "text/html": [
              " View project at <a href='https://wandb.ai/dshan21-free-university-of-tbilisi-/walmart-sales-forecasting' target=\"_blank\">https://wandb.ai/dshan21-free-university-of-tbilisi-/walmart-sales-forecasting</a>"
            ]
          },
          "metadata": {}
        },
        {
          "output_type": "display_data",
          "data": {
            "text/plain": [
              "<IPython.core.display.HTML object>"
            ],
            "text/html": [
              " View run at <a href='https://wandb.ai/dshan21-free-university-of-tbilisi-/walmart-sales-forecasting/runs/2h5s1367' target=\"_blank\">https://wandb.ai/dshan21-free-university-of-tbilisi-/walmart-sales-forecasting/runs/2h5s1367</a>"
            ]
          },
          "metadata": {}
        },
        {
          "output_type": "stream",
          "name": "stdout",
          "text": [
            "=== BLOCK 2: DATA PREPROCESSING ===\n",
            "Merging datasets...\n",
            "Preprocessing completed:\n",
            "  Final shape: (421570, 20)\n",
            "  Missing values reduced from 1422431 to 0\n",
            "  Negative sales: 1285\n",
            "Preprocessed data saved as 'preprocessed_data.pkl'\n"
          ]
        },
        {
          "output_type": "display_data",
          "data": {
            "text/plain": [
              "<IPython.core.display.HTML object>"
            ],
            "text/html": []
          },
          "metadata": {}
        },
        {
          "output_type": "display_data",
          "data": {
            "text/plain": [
              "<IPython.core.display.HTML object>"
            ],
            "text/html": [
              "<br>    <style><br>        .wandb-row {<br>            display: flex;<br>            flex-direction: row;<br>            flex-wrap: wrap;<br>            justify-content: flex-start;<br>            width: 100%;<br>        }<br>        .wandb-col {<br>            display: flex;<br>            flex-direction: column;<br>            flex-basis: 100%;<br>            flex: 1;<br>            padding: 10px;<br>        }<br>    </style><br><div class=\"wandb-row\"><div class=\"wandb-col\"><h3>Run history:</h3><br/><table class=\"wandb\"><tr><td>departments_count</td><td>▁</td></tr><tr><td>negative_sales_count</td><td>▁</td></tr><tr><td>stores_count</td><td>▁</td></tr></table><br/></div><div class=\"wandb-col\"><h3>Run summary:</h3><br/><table class=\"wandb\"><tr><td>departments_count</td><td>81</td></tr><tr><td>negative_sales_count</td><td>1285</td></tr><tr><td>stores_count</td><td>45</td></tr></table><br/></div></div>"
            ]
          },
          "metadata": {}
        },
        {
          "output_type": "display_data",
          "data": {
            "text/plain": [
              "<IPython.core.display.HTML object>"
            ],
            "text/html": [
              " View run <strong style=\"color:#cdcd00\">ARIMA_Data_Preprocessing</strong> at: <a href='https://wandb.ai/dshan21-free-university-of-tbilisi-/walmart-sales-forecasting/runs/2h5s1367' target=\"_blank\">https://wandb.ai/dshan21-free-university-of-tbilisi-/walmart-sales-forecasting/runs/2h5s1367</a><br> View project at: <a href='https://wandb.ai/dshan21-free-university-of-tbilisi-/walmart-sales-forecasting' target=\"_blank\">https://wandb.ai/dshan21-free-university-of-tbilisi-/walmart-sales-forecasting</a><br>Synced 5 W&B file(s), 0 media file(s), 0 artifact file(s) and 0 other file(s)"
            ]
          },
          "metadata": {}
        },
        {
          "output_type": "display_data",
          "data": {
            "text/plain": [
              "<IPython.core.display.HTML object>"
            ],
            "text/html": [
              "Find logs at: <code>./wandb/run-20250705_164653-2h5s1367/logs</code>"
            ]
          },
          "metadata": {}
        }
      ]
    },
    {
      "cell_type": "code",
      "source": [
        "# Block 3: Time Series Preparation\n",
        "import pandas as pd\n",
        "import numpy as np\n",
        "import matplotlib.pyplot as plt\n",
        "from statsmodels.tsa.stattools import adfuller\n",
        "from statsmodels.tsa.seasonal import seasonal_decompose\n",
        "from statsmodels.graphics.tsaplots import plot_acf, plot_pacf\n",
        "import wandb\n",
        "\n",
        "wandb.init(\n",
        "    project=\"walmart-sales-forecasting\",\n",
        "    name=\"ARIMA_TimeSeries_Preparation\",\n",
        "    tags=[\"ARIMA\", \"time-series\", \"preparation\"]\n",
        ")\n",
        "\n",
        "print(\"=== BLOCK 3: TIME SERIES PREPARATION ===\")\n",
        "\n",
        "# Load preprocessed data\n",
        "try:\n",
        "    merged_data = pd.read_pickle('preprocessed_data.pkl')\n",
        "    print(\"Loaded preprocessed data from pickle\")\n",
        "except:\n",
        "    # Fallback: reload and preprocess\n",
        "    print(\"Reloading and preprocessing data...\")\n",
        "    # ... (preprocessing code from Block 2)\n",
        "\n",
        "def create_store_aggregated_data(data):\n",
        "    \"\"\"Create store-level aggregated time series\"\"\"\n",
        "\n",
        "    # Aggregate by Store and Date\n",
        "    store_ts = data.groupby(['Store', 'Date']).agg({\n",
        "        'Weekly_Sales': 'sum',\n",
        "        'Temperature': 'mean',\n",
        "        'Fuel_Price': 'mean',\n",
        "        'CPI': 'mean',\n",
        "        'Unemployment': 'mean',\n",
        "        'IsHoliday': 'max',\n",
        "        'Size': 'first',\n",
        "        'Type': 'first'\n",
        "    }).reset_index()\n",
        "\n",
        "    return store_ts\n",
        "\n",
        "def analyze_time_series_properties(ts_data, store_id):\n",
        "    \"\"\"Analyze time series properties for stationarity and seasonality\"\"\"\n",
        "\n",
        "    ts = ts_data.set_index('Date')['Weekly_Sales']\n",
        "\n",
        "    # Stationarity test\n",
        "    adf_result = adfuller(ts.dropna())\n",
        "    stationarity = {\n",
        "        'adf_statistic': adf_result[0],\n",
        "        'p_value': adf_result[1],\n",
        "        'is_stationary': adf_result[1] < 0.05,\n",
        "        'critical_values': adf_result[4]\n",
        "    }\n",
        "\n",
        "    # Basic statistics\n",
        "    stats = {\n",
        "        'mean': ts.mean(),\n",
        "        'std': ts.std(),\n",
        "        'min': ts.min(),\n",
        "        'max': ts.max(),\n",
        "        'trend': 'increasing' if ts.iloc[-12:].mean() > ts.iloc[:12].mean() else 'decreasing'\n",
        "    }\n",
        "\n",
        "    return stationarity, stats\n",
        "\n",
        "def plot_time_series_analysis(ts_data, store_id):\n",
        "    \"\"\"Create comprehensive time series analysis plots\"\"\"\n",
        "\n",
        "    ts = ts_data.set_index('Date')['Weekly_Sales']\n",
        "\n",
        "    fig, axes = plt.subplots(2, 2, figsize=(15, 10))\n",
        "\n",
        "    # Original time series\n",
        "    axes[0, 0].plot(ts.index, ts.values)\n",
        "    axes[0, 0].set_title(f'Store {store_id} - Weekly Sales Time Series')\n",
        "    axes[0, 0].set_xlabel('Date')\n",
        "    axes[0, 0].set_ylabel('Weekly Sales')\n",
        "\n",
        "    # Seasonal decomposition\n",
        "    if len(ts) >= 24:  # Need at least 2 cycles for decomposition\n",
        "        decomposition = seasonal_decompose(ts, model='additive', period=52)  # Yearly seasonality\n",
        "\n",
        "        axes[0, 1].plot(decomposition.trend.dropna())\n",
        "        axes[0, 1].set_title('Trend Component')\n",
        "\n",
        "        axes[1, 0].plot(decomposition.seasonal.dropna())\n",
        "        axes[1, 0].set_title('Seasonal Component')\n",
        "\n",
        "        axes[1, 1].plot(decomposition.resid.dropna())\n",
        "        axes[1, 1].set_title('Residual Component')\n",
        "\n",
        "    plt.tight_layout()\n",
        "    filename = f'ts_analysis_store_{store_id}.png'\n",
        "    plt.savefig(filename, dpi=300, bbox_inches='tight')\n",
        "    plt.close()\n",
        "\n",
        "    return filename\n",
        "\n",
        "# Create aggregated time series data\n",
        "print(\"Creating store-level aggregated time series...\")\n",
        "store_aggregated = create_store_aggregated_data(merged_data)\n",
        "\n",
        "# Select stores for analysis\n",
        "store_sales_total = store_aggregated.groupby('Store')['Weekly_Sales'].sum().sort_values(ascending=False)\n",
        "selected_stores = store_sales_total.head(10).index.tolist()\n",
        "\n",
        "print(f\"Selected top 10 stores for time series analysis: {selected_stores}\")\n",
        "wandb.log({\"selected_stores_count\": len(selected_stores), \"selected_stores\": selected_stores})\n",
        "\n",
        "# Analyze each store's time series\n",
        "store_analysis = {}\n",
        "\n",
        "for store_id in selected_stores:\n",
        "    print(f\"\\nAnalyzing Store {store_id}...\")\n",
        "\n",
        "    store_data = store_aggregated[store_aggregated['Store'] == store_id].copy()\n",
        "    store_data = store_data.sort_values('Date')\n",
        "\n",
        "    if len(store_data) < 10:  # Skip stores with insufficient data\n",
        "        print(f\"Skipping store {store_id} - insufficient data\")\n",
        "        continue\n",
        "\n",
        "    # Analyze time series properties\n",
        "    stationarity, stats = analyze_time_series_properties(store_data, store_id)\n",
        "\n",
        "    # Create analysis plots\n",
        "    plot_filename = plot_time_series_analysis(store_data, store_id)\n",
        "\n",
        "    # Store results\n",
        "    store_analysis[store_id] = {\n",
        "        'data_points': len(store_data),\n",
        "        'stationarity': stationarity,\n",
        "        'statistics': stats,\n",
        "        'plot_file': plot_filename\n",
        "    }\n",
        "\n",
        "    # Log individual store metrics\n",
        "    wandb.log({\n",
        "        f'store_{store_id}_data_points': len(store_data),\n",
        "        f'store_{store_id}_is_stationary': stationarity['is_stationary'],\n",
        "        f'store_{store_id}_adf_pvalue': stationarity['p_value'],\n",
        "        f'store_{store_id}_mean_sales': stats['mean'],\n",
        "        f'store_{store_id}_sales_std': stats['std'],\n",
        "        f'store_{store_id}_trend': stats['trend'],\n",
        "        f'store_{store_id}_analysis': wandb.Image(plot_filename)\n",
        "    })\n",
        "\n",
        "    print(f\"  Data points: {len(store_data)}\")\n",
        "    print(f\"  Stationary: {stationarity['is_stationary']} (p-value: {stationarity['p_value']:.4f})\")\n",
        "    print(f\"  Mean sales: {stats['mean']:.2f}\")\n",
        "    print(f\"  Trend: {stats['trend']}\")\n",
        "\n",
        "# Overall analysis summary\n",
        "stationary_stores = sum(1 for analysis in store_analysis.values() if analysis['stationarity']['is_stationary'])\n",
        "total_stores_analyzed = len(store_analysis)\n",
        "\n",
        "summary_stats = {\n",
        "    'total_stores_analyzed': total_stores_analyzed,\n",
        "    'stationary_stores': stationary_stores,\n",
        "    'non_stationary_stores': total_stores_analyzed - stationary_stores,\n",
        "    'avg_data_points': np.mean([analysis['data_points'] for analysis in store_analysis.values()]),\n",
        "    'avg_sales': np.mean([analysis['statistics']['mean'] for analysis in store_analysis.values()]),\n",
        "    'stores_need_differencing': total_stores_analyzed - stationary_stores\n",
        "}\n",
        "\n",
        "wandb.log(summary_stats)\n",
        "\n",
        "print(f\"\\n=== TIME SERIES ANALYSIS SUMMARY ===\")\n",
        "print(f\"Stores analyzed: {total_stores_analyzed}\")\n",
        "print(f\"Stationary stores: {stationary_stores}\")\n",
        "print(f\"Non-stationary stores: {total_stores_analyzed - stationary_stores}\")\n",
        "print(f\"Average data points per store: {summary_stats['avg_data_points']:.1f}\")\n",
        "\n",
        "# Save time series data and analysis\n",
        "store_aggregated.to_pickle('store_timeseries_data.pkl')\n",
        "np.save('store_analysis.npy', store_analysis)\n",
        "\n",
        "# Log as artifacts\n",
        "ts_artifact = wandb.Artifact('timeseries_data', type='dataset')\n",
        "ts_artifact.add_file('store_timeseries_data.pkl')\n",
        "wandb.log_artifact(ts_artifact)\n",
        "\n",
        "analysis_artifact = wandb.Artifact('timeseries_analysis', type='analysis')\n",
        "analysis_artifact.add_file('store_analysis.npy')\n",
        "wandb.log_artifact(analysis_artifact)\n",
        "\n",
        "wandb.finish()"
      ],
      "metadata": {
        "id": "Z23MaHPlLkkf",
        "colab": {
          "base_uri": "https://localhost:8080/",
          "height": 1000
        },
        "outputId": "795324e4-00ee-4b4b-a15a-94895a8a8cf5"
      },
      "id": "Z23MaHPlLkkf",
      "execution_count": 191,
      "outputs": [
        {
          "output_type": "display_data",
          "data": {
            "text/plain": [
              "<IPython.core.display.HTML object>"
            ],
            "text/html": [
              "Tracking run with wandb version 0.21.0"
            ]
          },
          "metadata": {}
        },
        {
          "output_type": "display_data",
          "data": {
            "text/plain": [
              "<IPython.core.display.HTML object>"
            ],
            "text/html": [
              "Run data is saved locally in <code>/content/wandb/run-20250705_164659-9i474m1x</code>"
            ]
          },
          "metadata": {}
        },
        {
          "output_type": "display_data",
          "data": {
            "text/plain": [
              "<IPython.core.display.HTML object>"
            ],
            "text/html": [
              "Syncing run <strong><a href='https://wandb.ai/dshan21-free-university-of-tbilisi-/walmart-sales-forecasting/runs/9i474m1x' target=\"_blank\">ARIMA_TimeSeries_Preparation</a></strong> to <a href='https://wandb.ai/dshan21-free-university-of-tbilisi-/walmart-sales-forecasting' target=\"_blank\">Weights & Biases</a> (<a href='https://wandb.me/developer-guide' target=\"_blank\">docs</a>)<br>"
            ]
          },
          "metadata": {}
        },
        {
          "output_type": "display_data",
          "data": {
            "text/plain": [
              "<IPython.core.display.HTML object>"
            ],
            "text/html": [
              " View project at <a href='https://wandb.ai/dshan21-free-university-of-tbilisi-/walmart-sales-forecasting' target=\"_blank\">https://wandb.ai/dshan21-free-university-of-tbilisi-/walmart-sales-forecasting</a>"
            ]
          },
          "metadata": {}
        },
        {
          "output_type": "display_data",
          "data": {
            "text/plain": [
              "<IPython.core.display.HTML object>"
            ],
            "text/html": [
              " View run at <a href='https://wandb.ai/dshan21-free-university-of-tbilisi-/walmart-sales-forecasting/runs/9i474m1x' target=\"_blank\">https://wandb.ai/dshan21-free-university-of-tbilisi-/walmart-sales-forecasting/runs/9i474m1x</a>"
            ]
          },
          "metadata": {}
        },
        {
          "output_type": "stream",
          "name": "stdout",
          "text": [
            "=== BLOCK 3: TIME SERIES PREPARATION ===\n",
            "Loaded preprocessed data from pickle\n",
            "Creating store-level aggregated time series...\n",
            "Selected top 10 stores for time series analysis: [20, 4, 14, 13, 2, 10, 27, 6, 1, 39]\n",
            "\n",
            "Analyzing Store 20...\n",
            "  Data points: 143\n",
            "  Stationary: True (p-value: 0.0000)\n",
            "  Mean sales: 2107676.87\n",
            "  Trend: increasing\n",
            "\n",
            "Analyzing Store 4...\n",
            "  Data points: 143\n",
            "  Stationary: True (p-value: 0.0478)\n",
            "  Mean sales: 2094712.96\n",
            "  Trend: increasing\n",
            "\n",
            "Analyzing Store 14...\n",
            "  Data points: 143\n",
            "  Stationary: False (p-value: 0.0679)\n",
            "  Mean sales: 2020978.40\n",
            "  Trend: decreasing\n",
            "\n",
            "Analyzing Store 13...\n",
            "  Data points: 143\n",
            "  Stationary: True (p-value: 0.0000)\n",
            "  Mean sales: 2003620.31\n",
            "  Trend: increasing\n",
            "\n",
            "Analyzing Store 2...\n",
            "  Data points: 143\n",
            "  Stationary: True (p-value: 0.0040)\n",
            "  Mean sales: 1925751.34\n",
            "  Trend: decreasing\n",
            "\n",
            "Analyzing Store 10...\n",
            "  Data points: 143\n",
            "  Stationary: True (p-value: 0.0000)\n",
            "  Mean sales: 1899424.57\n",
            "  Trend: decreasing\n",
            "\n",
            "Analyzing Store 27...\n",
            "  Data points: 143\n",
            "  Stationary: True (p-value: 0.0000)\n",
            "  Mean sales: 1775216.20\n",
            "  Trend: decreasing\n",
            "\n",
            "Analyzing Store 6...\n",
            "  Data points: 143\n",
            "  Stationary: True (p-value: 0.0000)\n",
            "  Mean sales: 1564728.19\n",
            "  Trend: decreasing\n",
            "\n",
            "Analyzing Store 1...\n",
            "  Data points: 143\n",
            "  Stationary: True (p-value: 0.0000)\n",
            "  Mean sales: 1555264.40\n",
            "  Trend: increasing\n",
            "\n",
            "Analyzing Store 39...\n",
            "  Data points: 143\n",
            "  Stationary: True (p-value: 0.0005)\n",
            "  Mean sales: 1450668.13\n",
            "  Trend: increasing\n",
            "\n",
            "=== TIME SERIES ANALYSIS SUMMARY ===\n",
            "Stores analyzed: 10\n",
            "Stationary stores: 9\n",
            "Non-stationary stores: 1\n",
            "Average data points per store: 143.0\n"
          ]
        },
        {
          "output_type": "display_data",
          "data": {
            "text/plain": [
              "<IPython.core.display.HTML object>"
            ],
            "text/html": []
          },
          "metadata": {}
        },
        {
          "output_type": "display_data",
          "data": {
            "text/plain": [
              "<IPython.core.display.HTML object>"
            ],
            "text/html": [
              "<br>    <style><br>        .wandb-row {<br>            display: flex;<br>            flex-direction: row;<br>            flex-wrap: wrap;<br>            justify-content: flex-start;<br>            width: 100%;<br>        }<br>        .wandb-col {<br>            display: flex;<br>            flex-direction: column;<br>            flex-basis: 100%;<br>            flex: 1;<br>            padding: 10px;<br>        }<br>    </style><br><div class=\"wandb-row\"><div class=\"wandb-col\"><h3>Run history:</h3><br/><table class=\"wandb\"><tr><td>avg_data_points</td><td>▁</td></tr><tr><td>avg_sales</td><td>▁</td></tr><tr><td>non_stationary_stores</td><td>▁</td></tr><tr><td>selected_stores_count</td><td>▁</td></tr><tr><td>stationary_stores</td><td>▁</td></tr><tr><td>store_10_adf_pvalue</td><td>▁</td></tr><tr><td>store_10_data_points</td><td>▁</td></tr><tr><td>store_10_mean_sales</td><td>▁</td></tr><tr><td>store_10_sales_std</td><td>▁</td></tr><tr><td>store_13_adf_pvalue</td><td>▁</td></tr><tr><td>store_13_data_points</td><td>▁</td></tr><tr><td>store_13_mean_sales</td><td>▁</td></tr><tr><td>store_13_sales_std</td><td>▁</td></tr><tr><td>store_14_adf_pvalue</td><td>▁</td></tr><tr><td>store_14_data_points</td><td>▁</td></tr><tr><td>store_14_mean_sales</td><td>▁</td></tr><tr><td>store_14_sales_std</td><td>▁</td></tr><tr><td>store_1_adf_pvalue</td><td>▁</td></tr><tr><td>store_1_data_points</td><td>▁</td></tr><tr><td>store_1_mean_sales</td><td>▁</td></tr><tr><td>store_1_sales_std</td><td>▁</td></tr><tr><td>store_20_adf_pvalue</td><td>▁</td></tr><tr><td>store_20_data_points</td><td>▁</td></tr><tr><td>store_20_mean_sales</td><td>▁</td></tr><tr><td>store_20_sales_std</td><td>▁</td></tr><tr><td>store_27_adf_pvalue</td><td>▁</td></tr><tr><td>store_27_data_points</td><td>▁</td></tr><tr><td>store_27_mean_sales</td><td>▁</td></tr><tr><td>store_27_sales_std</td><td>▁</td></tr><tr><td>store_2_adf_pvalue</td><td>▁</td></tr><tr><td>store_2_data_points</td><td>▁</td></tr><tr><td>store_2_mean_sales</td><td>▁</td></tr><tr><td>store_2_sales_std</td><td>▁</td></tr><tr><td>store_39_adf_pvalue</td><td>▁</td></tr><tr><td>store_39_data_points</td><td>▁</td></tr><tr><td>store_39_mean_sales</td><td>▁</td></tr><tr><td>store_39_sales_std</td><td>▁</td></tr><tr><td>store_4_adf_pvalue</td><td>▁</td></tr><tr><td>store_4_data_points</td><td>▁</td></tr><tr><td>store_4_mean_sales</td><td>▁</td></tr><tr><td>store_4_sales_std</td><td>▁</td></tr><tr><td>store_6_adf_pvalue</td><td>▁</td></tr><tr><td>store_6_data_points</td><td>▁</td></tr><tr><td>store_6_mean_sales</td><td>▁</td></tr><tr><td>store_6_sales_std</td><td>▁</td></tr><tr><td>stores_need_differencing</td><td>▁</td></tr><tr><td>total_stores_analyzed</td><td>▁</td></tr></table><br/></div><div class=\"wandb-col\"><h3>Run summary:</h3><br/><table class=\"wandb\"><tr><td>avg_data_points</td><td>143</td></tr><tr><td>avg_sales</td><td>1839804.13615</td></tr><tr><td>non_stationary_stores</td><td>1</td></tr><tr><td>selected_stores_count</td><td>10</td></tr><tr><td>stationary_stores</td><td>9</td></tr><tr><td>store_10_adf_pvalue</td><td>1e-05</td></tr><tr><td>store_10_data_points</td><td>143</td></tr><tr><td>store_10_is_stationary</td><td>True</td></tr><tr><td>store_10_mean_sales</td><td>1899424.57266</td></tr><tr><td>store_10_sales_std</td><td>302262.0625</td></tr><tr><td>store_10_trend</td><td>decreasing</td></tr><tr><td>store_13_adf_pvalue</td><td>0.0</td></tr><tr><td>store_13_data_points</td><td>143</td></tr><tr><td>store_13_is_stationary</td><td>True</td></tr><tr><td>store_13_mean_sales</td><td>2003620.30629</td></tr><tr><td>store_13_sales_std</td><td>265506.99578</td></tr><tr><td>store_13_trend</td><td>increasing</td></tr><tr><td>store_14_adf_pvalue</td><td>0.06787</td></tr><tr><td>store_14_data_points</td><td>143</td></tr><tr><td>store_14_is_stationary</td><td>False</td></tr><tr><td>store_14_mean_sales</td><td>2020978.40098</td></tr><tr><td>store_14_sales_std</td><td>317569.94948</td></tr><tr><td>store_14_trend</td><td>decreasing</td></tr><tr><td>store_1_adf_pvalue</td><td>1e-05</td></tr><tr><td>store_1_data_points</td><td>143</td></tr><tr><td>store_1_is_stationary</td><td>True</td></tr><tr><td>store_1_mean_sales</td><td>1555264.39755</td></tr><tr><td>store_1_sales_std</td><td>155980.76776</td></tr><tr><td>store_1_trend</td><td>increasing</td></tr><tr><td>store_20_adf_pvalue</td><td>0.0</td></tr><tr><td>store_20_data_points</td><td>143</td></tr><tr><td>store_20_is_stationary</td><td>True</td></tr><tr><td>store_20_mean_sales</td><td>2107676.87035</td></tr><tr><td>store_20_sales_std</td><td>275900.56274</td></tr><tr><td>store_20_trend</td><td>increasing</td></tr><tr><td>store_27_adf_pvalue</td><td>1e-05</td></tr><tr><td>store_27_data_points</td><td>143</td></tr><tr><td>store_27_is_stationary</td><td>True</td></tr><tr><td>store_27_mean_sales</td><td>1775216.20196</td></tr><tr><td>store_27_sales_std</td><td>239930.13569</td></tr><tr><td>store_27_trend</td><td>decreasing</td></tr><tr><td>store_2_adf_pvalue</td><td>0.00399</td></tr><tr><td>store_2_data_points</td><td>143</td></tr><tr><td>store_2_is_stationary</td><td>True</td></tr><tr><td>store_2_mean_sales</td><td>1925751.33552</td></tr><tr><td>store_2_sales_std</td><td>237683.69468</td></tr><tr><td>store_2_trend</td><td>decreasing</td></tr><tr><td>store_39_adf_pvalue</td><td>0.00048</td></tr><tr><td>store_39_data_points</td><td>143</td></tr><tr><td>store_39_is_stationary</td><td>True</td></tr><tr><td>store_39_mean_sales</td><td>1450668.12916</td></tr><tr><td>store_39_sales_std</td><td>217466.45483</td></tr><tr><td>store_39_trend</td><td>increasing</td></tr><tr><td>store_4_adf_pvalue</td><td>0.0478</td></tr><tr><td>store_4_data_points</td><td>143</td></tr><tr><td>store_4_is_stationary</td><td>True</td></tr><tr><td>store_4_mean_sales</td><td>2094712.9607</td></tr><tr><td>store_4_sales_std</td><td>266201.4423</td></tr><tr><td>store_4_trend</td><td>increasing</td></tr><tr><td>store_6_adf_pvalue</td><td>0.0</td></tr><tr><td>store_6_data_points</td><td>143</td></tr><tr><td>store_6_is_stationary</td><td>True</td></tr><tr><td>store_6_mean_sales</td><td>1564728.18629</td></tr><tr><td>store_6_sales_std</td><td>212525.85586</td></tr><tr><td>store_6_trend</td><td>decreasing</td></tr><tr><td>stores_need_differencing</td><td>1</td></tr><tr><td>total_stores_analyzed</td><td>10</td></tr></table><br/></div></div>"
            ]
          },
          "metadata": {}
        },
        {
          "output_type": "display_data",
          "data": {
            "text/plain": [
              "<IPython.core.display.HTML object>"
            ],
            "text/html": [
              " View run <strong style=\"color:#cdcd00\">ARIMA_TimeSeries_Preparation</strong> at: <a href='https://wandb.ai/dshan21-free-university-of-tbilisi-/walmart-sales-forecasting/runs/9i474m1x' target=\"_blank\">https://wandb.ai/dshan21-free-university-of-tbilisi-/walmart-sales-forecasting/runs/9i474m1x</a><br> View project at: <a href='https://wandb.ai/dshan21-free-university-of-tbilisi-/walmart-sales-forecasting' target=\"_blank\">https://wandb.ai/dshan21-free-university-of-tbilisi-/walmart-sales-forecasting</a><br>Synced 5 W&B file(s), 10 media file(s), 0 artifact file(s) and 0 other file(s)"
            ]
          },
          "metadata": {}
        },
        {
          "output_type": "display_data",
          "data": {
            "text/plain": [
              "<IPython.core.display.HTML object>"
            ],
            "text/html": [
              "Find logs at: <code>./wandb/run-20250705_164659-9i474m1x/logs</code>"
            ]
          },
          "metadata": {}
        }
      ]
    },
    {
      "cell_type": "code",
      "source": [
        "# Block 4: Department-Level ARIMA Modeling - FIXED\n",
        "import pandas as pd\n",
        "import numpy as np\n",
        "import warnings\n",
        "from statsmodels.tsa.arima.model import ARIMA\n",
        "from sklearn.metrics import mean_absolute_error, mean_squared_error\n",
        "import itertools\n",
        "from datetime import datetime\n",
        "import wandb\n",
        "from collections import defaultdict\n",
        "\n",
        "warnings.filterwarnings('ignore')\n",
        "\n",
        "wandb.init(\n",
        "    project=\"walmart-sales-forecasting\",\n",
        "    name=\"Department_Level_ARIMA\",\n",
        "    tags=[\"ARIMA\", \"department-level\", \"granular\"]\n",
        ")\n",
        "\n",
        "print(\"=== DEPARTMENT-LEVEL ARIMA MODELING ===\")\n",
        "\n",
        "# Load original data for department-level analysis\n",
        "try:\n",
        "    train_data = pd.read_csv('/content/train.csv')\n",
        "    features_data = pd.read_csv('/content/features.csv')\n",
        "    stores_data = pd.read_csv('/content/stores.csv')\n",
        "\n",
        "    # Merge datasets\n",
        "    train_data['Date'] = pd.to_datetime(train_data['Date'])\n",
        "    features_data['Date'] = pd.to_datetime(features_data['Date'])\n",
        "\n",
        "    merged_data = train_data.merge(features_data, on=['Store', 'Date'], how='left', suffixes=('', '_feat'))\n",
        "    merged_data = merged_data.merge(stores_data, on='Store', how='left')\n",
        "\n",
        "    # Handle duplicate IsHoliday columns\n",
        "    if 'IsHoliday_feat' in merged_data.columns:\n",
        "        merged_data = merged_data.drop('IsHoliday_feat', axis=1)\n",
        "\n",
        "    print(\"Data loaded and merged successfully\")\n",
        "    print(f\"Shape: {merged_data.shape}\")\n",
        "\n",
        "except Exception as e:\n",
        "    print(f\"Error loading data: {e}\")\n",
        "    exit()\n",
        "\n",
        "class DepartmentARIMATrainer:\n",
        "    \"\"\"Department-level ARIMA trainer for higher granularity\"\"\"\n",
        "\n",
        "    def __init__(self):\n",
        "        self.models = {}\n",
        "        self.dept_models = defaultdict(dict)\n",
        "        self.training_stats = {}\n",
        "\n",
        "    def analyze_department_patterns(self, data):\n",
        "        \"\"\"Analyze department-level patterns\"\"\"\n",
        "        print(\"Analyzing department patterns...\")\n",
        "\n",
        "        dept_stats = data.groupby(['Store', 'Dept']).agg({\n",
        "            'Weekly_Sales': ['count', 'mean', 'std', 'min', 'max'],\n",
        "            'Date': ['min', 'max']\n",
        "        }).round(2)\n",
        "\n",
        "        dept_stats.columns = ['observations', 'mean_sales', 'std_sales', 'min_sales', 'max_sales', 'start_date', 'end_date']\n",
        "        dept_stats = dept_stats.reset_index()\n",
        "\n",
        "        # Filter departments with sufficient data\n",
        "        min_observations = 40  # About 9-10 months of weekly data\n",
        "        eligible_depts = dept_stats[dept_stats['observations'] >= min_observations]\n",
        "\n",
        "        print(f\"Total store-department combinations: {len(dept_stats)}\")\n",
        "        print(f\"Eligible combinations (40+ obs): {len(eligible_depts)}\")\n",
        "\n",
        "        return eligible_depts, dept_stats\n",
        "\n",
        "    def get_top_departments_by_store(self, data, top_n=5):\n",
        "        \"\"\"Get top N departments by sales volume for each store\"\"\"\n",
        "        dept_sales = data.groupby(['Store', 'Dept'])['Weekly_Sales'].agg(['sum', 'count']).reset_index()\n",
        "        dept_sales = dept_sales[dept_sales['count'] >= 30]  # Minimum data requirement\n",
        "\n",
        "        top_depts = dept_sales.groupby('Store').apply(\n",
        "            lambda x: x.nlargest(top_n, 'sum')\n",
        "        ).reset_index(drop=True)\n",
        "\n",
        "        return top_depts[['Store', 'Dept']].values.tolist()\n",
        "\n",
        "    def quick_arima_fit(self, series, max_combinations=50):\n",
        "        \"\"\"Quick ARIMA fitting with limited parameter search\"\"\"\n",
        "        # Reduced parameter space for faster training\n",
        "        p_values = [0, 1, 2]\n",
        "        d_values = [0, 1]\n",
        "        q_values = [0, 1, 2]\n",
        "\n",
        "        param_combinations = list(itertools.product(p_values, d_values, q_values))\n",
        "        param_combinations = param_combinations[:max_combinations]  # Limit combinations\n",
        "\n",
        "        best_aic = float('inf')\n",
        "        best_model = None\n",
        "        best_params = None\n",
        "\n",
        "        # Split for validation\n",
        "        train_size = int(len(series) * 0.8)\n",
        "        train_data = series[:train_size]\n",
        "        val_data = series[train_size:]\n",
        "\n",
        "        for p, d, q in param_combinations:\n",
        "            try:\n",
        "                model = ARIMA(train_data, order=(p, d, q))\n",
        "                fitted_model = model.fit()\n",
        "\n",
        "                # Quick validation\n",
        "                if len(val_data) > 0:\n",
        "                    forecast = fitted_model.forecast(steps=len(val_data))\n",
        "                    mae = mean_absolute_error(val_data, forecast)\n",
        "                    score = mae  # Use MAE as primary metric\n",
        "                else:\n",
        "                    score = fitted_model.aic\n",
        "\n",
        "                if score < best_aic:\n",
        "                    best_aic = score\n",
        "                    best_params = (p, d, q)\n",
        "                    # Refit on full data\n",
        "                    best_model = ARIMA(series, order=(p, d, q)).fit()\n",
        "\n",
        "            except:\n",
        "                continue\n",
        "\n",
        "        return best_model, best_params, best_aic\n",
        "\n",
        "    def train_department_models(self, data, store_dept_pairs):\n",
        "        \"\"\"Train ARIMA models for specific store-department pairs\"\"\"\n",
        "\n",
        "        successful_models = 0\n",
        "        total_pairs = len(store_dept_pairs)\n",
        "\n",
        "        print(f\"Training models for {total_pairs} store-department pairs...\")\n",
        "\n",
        "        for i, (store_id, dept_id) in enumerate(store_dept_pairs):\n",
        "\n",
        "            # Get department data\n",
        "            dept_data = data[(data['Store'] == store_id) & (data['Dept'] == dept_id)].copy()\n",
        "\n",
        "            if len(dept_data) < 30:  # Skip if insufficient data\n",
        "                continue\n",
        "\n",
        "            # Prepare time series\n",
        "            dept_data = dept_data.sort_values('Date')\n",
        "            ts_series = dept_data.set_index('Date')['Weekly_Sales']\n",
        "\n",
        "            # Handle missing dates by forward fill\n",
        "            ts_series = ts_series.resample('W').last().fillna(method='ffill')\n",
        "\n",
        "            # Remove extreme outliers\n",
        "            Q1 = ts_series.quantile(0.25)\n",
        "            Q3 = ts_series.quantile(0.75)\n",
        "            IQR = Q3 - Q1\n",
        "            lower_bound = Q1 - 1.5 * IQR\n",
        "            upper_bound = Q3 + 1.5 * IQR\n",
        "            ts_series = ts_series.clip(lower=lower_bound, upper=upper_bound)\n",
        "\n",
        "            try:\n",
        "                # Train ARIMA model\n",
        "                model, params, score = self.quick_arima_fit(ts_series)\n",
        "\n",
        "                if model is not None:\n",
        "                    # Calculate metrics\n",
        "                    fitted_values = model.fittedvalues\n",
        "                    mae = mean_absolute_error(ts_series[1:], fitted_values[1:])\n",
        "                    rmse = np.sqrt(mean_squared_error(ts_series[1:], fitted_values[1:]))\n",
        "\n",
        "                    self.dept_models[store_id][dept_id] = {\n",
        "                        'model': model,\n",
        "                        'params': params,\n",
        "                        'mae': mae,\n",
        "                        'rmse': rmse,\n",
        "                        'observations': len(ts_series),\n",
        "                        'mean_sales': ts_series.mean(),\n",
        "                        'std_sales': ts_series.std()\n",
        "                    }\n",
        "\n",
        "                    successful_models += 1\n",
        "\n",
        "                    if successful_models % 25 == 0:\n",
        "                        print(f\"  Progress: {successful_models} models trained ({i+1}/{total_pairs} pairs processed)\")\n",
        "\n",
        "            except Exception as e:\n",
        "                continue\n",
        "\n",
        "        print(f\"Successfully trained {successful_models} department-level models\")\n",
        "        return successful_models\n",
        "\n",
        "# INITIALIZE TRAINER HERE - THIS WAS MISSING!\n",
        "trainer = DepartmentARIMATrainer()\n",
        "\n",
        "# Analyze data and get eligible departments\n",
        "eligible_depts, all_dept_stats = trainer.analyze_department_patterns(merged_data)\n",
        "\n",
        "# Get top departments for each store (focus on high-volume departments)\n",
        "print(\"Identifying top departments by store...\")\n",
        "top_store_dept_pairs = trainer.get_top_departments_by_store(merged_data, top_n=3)\n",
        "\n",
        "print(f\"Selected {len(top_store_dept_pairs)} high-volume store-department pairs for modeling\")\n",
        "\n",
        "# Log department analysis\n",
        "wandb.log({\n",
        "    \"total_store_dept_combinations\": len(all_dept_stats),\n",
        "    \"eligible_combinations\": len(eligible_depts),\n",
        "    \"selected_high_volume_pairs\": len(top_store_dept_pairs),\n",
        "    \"modeling_approach\": \"department_level_arima\"\n",
        "})\n",
        "\n",
        "# Train department models\n",
        "successful_dept_models = trainer.train_department_models(merged_data, top_store_dept_pairs)\n",
        "\n",
        "# Calculate department-level performance\n",
        "if successful_dept_models > 0:\n",
        "    all_dept_metrics = []\n",
        "\n",
        "    for store_id, dept_models in trainer.dept_models.items():\n",
        "        for dept_id, model_info in dept_models.items():\n",
        "            all_dept_metrics.append({\n",
        "                'store': store_id,\n",
        "                'dept': dept_id,\n",
        "                'mae': model_info['mae'],\n",
        "                'rmse': model_info['rmse'],\n",
        "                'observations': model_info['observations'],\n",
        "                'mean_sales': model_info['mean_sales']\n",
        "            })\n",
        "\n",
        "    dept_df = pd.DataFrame(all_dept_metrics)\n",
        "\n",
        "    dept_performance = {\n",
        "        'dept_models_trained': successful_dept_models,\n",
        "        'avg_dept_mae': dept_df['mae'].mean(),\n",
        "        'avg_dept_rmse': dept_df['rmse'].mean(),\n",
        "        'best_dept_mae': dept_df['mae'].min(),\n",
        "        'worst_dept_mae': dept_df['mae'].max(),\n",
        "        'stores_with_dept_models': len(trainer.dept_models),\n",
        "        'avg_observations_per_model': dept_df['observations'].mean()\n",
        "    }\n",
        "\n",
        "    wandb.log(dept_performance)\n",
        "\n",
        "    print(f\"\\n{'='*60}\")\n",
        "    print(\"DEPARTMENT-LEVEL MODELING COMPLETED\")\n",
        "    print(f\"{'='*60}\")\n",
        "    print(f\"✅ Department models: {successful_dept_models}\")\n",
        "    print(f\"🏪 Stores covered: {len(trainer.dept_models)}\")\n",
        "    print(f\"📊 Average Dept MAE: {dept_performance['avg_dept_mae']:.2f}\")\n",
        "    print(f\"🎯 Best Dept MAE: {dept_performance['best_dept_mae']:.2f}\")\n",
        "    print(f\"📈 Expected improvement: Higher granularity predictions\")\n",
        "\n",
        "    # Save department models\n",
        "    np.save('department_arima_models.npy', dict(trainer.dept_models))\n",
        "    print(f\"💾 Department models saved\")\n",
        "\n",
        "else:\n",
        "    print(\"❌ No department models were successfully trained!\")\n",
        "\n",
        "wandb.finish()"
      ],
      "metadata": {
        "id": "aw2te6AbLpd4",
        "colab": {
          "base_uri": "https://localhost:8080/",
          "height": 1000
        },
        "outputId": "2651674f-f2ae-49a5-829e-0fc739456a03"
      },
      "id": "aw2te6AbLpd4",
      "execution_count": 192,
      "outputs": [
        {
          "output_type": "display_data",
          "data": {
            "text/plain": [
              "<IPython.core.display.HTML object>"
            ],
            "text/html": [
              "Tracking run with wandb version 0.21.0"
            ]
          },
          "metadata": {}
        },
        {
          "output_type": "display_data",
          "data": {
            "text/plain": [
              "<IPython.core.display.HTML object>"
            ],
            "text/html": [
              "Run data is saved locally in <code>/content/wandb/run-20250705_164750-n8aiv62f</code>"
            ]
          },
          "metadata": {}
        },
        {
          "output_type": "display_data",
          "data": {
            "text/plain": [
              "<IPython.core.display.HTML object>"
            ],
            "text/html": [
              "Syncing run <strong><a href='https://wandb.ai/dshan21-free-university-of-tbilisi-/walmart-sales-forecasting/runs/n8aiv62f' target=\"_blank\">Department_Level_ARIMA</a></strong> to <a href='https://wandb.ai/dshan21-free-university-of-tbilisi-/walmart-sales-forecasting' target=\"_blank\">Weights & Biases</a> (<a href='https://wandb.me/developer-guide' target=\"_blank\">docs</a>)<br>"
            ]
          },
          "metadata": {}
        },
        {
          "output_type": "display_data",
          "data": {
            "text/plain": [
              "<IPython.core.display.HTML object>"
            ],
            "text/html": [
              " View project at <a href='https://wandb.ai/dshan21-free-university-of-tbilisi-/walmart-sales-forecasting' target=\"_blank\">https://wandb.ai/dshan21-free-university-of-tbilisi-/walmart-sales-forecasting</a>"
            ]
          },
          "metadata": {}
        },
        {
          "output_type": "display_data",
          "data": {
            "text/plain": [
              "<IPython.core.display.HTML object>"
            ],
            "text/html": [
              " View run at <a href='https://wandb.ai/dshan21-free-university-of-tbilisi-/walmart-sales-forecasting/runs/n8aiv62f' target=\"_blank\">https://wandb.ai/dshan21-free-university-of-tbilisi-/walmart-sales-forecasting/runs/n8aiv62f</a>"
            ]
          },
          "metadata": {}
        },
        {
          "output_type": "stream",
          "name": "stdout",
          "text": [
            "=== DEPARTMENT-LEVEL ARIMA MODELING ===\n",
            "Data loaded and merged successfully\n",
            "Shape: (421570, 16)\n",
            "Analyzing department patterns...\n",
            "Total store-department combinations: 3331\n",
            "Eligible combinations (40+ obs): 3020\n",
            "Identifying top departments by store...\n",
            "Selected 135 high-volume store-department pairs for modeling\n",
            "Training models for 135 store-department pairs...\n",
            "  Progress: 25 models trained (25/135 pairs processed)\n",
            "  Progress: 50 models trained (50/135 pairs processed)\n",
            "  Progress: 75 models trained (75/135 pairs processed)\n",
            "  Progress: 100 models trained (100/135 pairs processed)\n",
            "  Progress: 125 models trained (125/135 pairs processed)\n",
            "Successfully trained 135 department-level models\n",
            "\n",
            "============================================================\n",
            "DEPARTMENT-LEVEL MODELING COMPLETED\n",
            "============================================================\n",
            "✅ Department models: 135\n",
            "🏪 Stores covered: 45\n",
            "📊 Average Dept MAE: 5515.92\n",
            "🎯 Best Dept MAE: 914.91\n",
            "📈 Expected improvement: Higher granularity predictions\n",
            "💾 Department models saved\n"
          ]
        },
        {
          "output_type": "display_data",
          "data": {
            "text/plain": [
              "<IPython.core.display.HTML object>"
            ],
            "text/html": []
          },
          "metadata": {}
        },
        {
          "output_type": "display_data",
          "data": {
            "text/plain": [
              "<IPython.core.display.HTML object>"
            ],
            "text/html": [
              "<br>    <style><br>        .wandb-row {<br>            display: flex;<br>            flex-direction: row;<br>            flex-wrap: wrap;<br>            justify-content: flex-start;<br>            width: 100%;<br>        }<br>        .wandb-col {<br>            display: flex;<br>            flex-direction: column;<br>            flex-basis: 100%;<br>            flex: 1;<br>            padding: 10px;<br>        }<br>    </style><br><div class=\"wandb-row\"><div class=\"wandb-col\"><h3>Run history:</h3><br/><table class=\"wandb\"><tr><td>avg_dept_mae</td><td>▁</td></tr><tr><td>avg_dept_rmse</td><td>▁</td></tr><tr><td>avg_observations_per_model</td><td>▁</td></tr><tr><td>best_dept_mae</td><td>▁</td></tr><tr><td>dept_models_trained</td><td>▁</td></tr><tr><td>eligible_combinations</td><td>▁</td></tr><tr><td>selected_high_volume_pairs</td><td>▁</td></tr><tr><td>stores_with_dept_models</td><td>▁</td></tr><tr><td>total_store_dept_combinations</td><td>▁</td></tr><tr><td>worst_dept_mae</td><td>▁</td></tr></table><br/></div><div class=\"wandb-col\"><h3>Run summary:</h3><br/><table class=\"wandb\"><tr><td>avg_dept_mae</td><td>5515.91584</td></tr><tr><td>avg_dept_rmse</td><td>7303.22623</td></tr><tr><td>avg_observations_per_model</td><td>143</td></tr><tr><td>best_dept_mae</td><td>914.91056</td></tr><tr><td>dept_models_trained</td><td>135</td></tr><tr><td>eligible_combinations</td><td>3020</td></tr><tr><td>modeling_approach</td><td>department_level_ari...</td></tr><tr><td>selected_high_volume_pairs</td><td>135</td></tr><tr><td>stores_with_dept_models</td><td>45</td></tr><tr><td>total_store_dept_combinations</td><td>3331</td></tr><tr><td>worst_dept_mae</td><td>17892.34774</td></tr></table><br/></div></div>"
            ]
          },
          "metadata": {}
        },
        {
          "output_type": "display_data",
          "data": {
            "text/plain": [
              "<IPython.core.display.HTML object>"
            ],
            "text/html": [
              " View run <strong style=\"color:#cdcd00\">Department_Level_ARIMA</strong> at: <a href='https://wandb.ai/dshan21-free-university-of-tbilisi-/walmart-sales-forecasting/runs/n8aiv62f' target=\"_blank\">https://wandb.ai/dshan21-free-university-of-tbilisi-/walmart-sales-forecasting/runs/n8aiv62f</a><br> View project at: <a href='https://wandb.ai/dshan21-free-university-of-tbilisi-/walmart-sales-forecasting' target=\"_blank\">https://wandb.ai/dshan21-free-university-of-tbilisi-/walmart-sales-forecasting</a><br>Synced 5 W&B file(s), 0 media file(s), 0 artifact file(s) and 0 other file(s)"
            ]
          },
          "metadata": {}
        },
        {
          "output_type": "display_data",
          "data": {
            "text/plain": [
              "<IPython.core.display.HTML object>"
            ],
            "text/html": [
              "Find logs at: <code>./wandb/run-20250705_164750-n8aiv62f/logs</code>"
            ]
          },
          "metadata": {}
        }
      ]
    },
    {
      "cell_type": "code",
      "source": [
        "# Block 5: Ensemble ARIMA with Robust Model Loading - FIXED\n",
        "import pandas as pd\n",
        "import numpy as np\n",
        "import warnings\n",
        "from datetime import datetime\n",
        "import wandb\n",
        "\n",
        "warnings.filterwarnings('ignore')\n",
        "\n",
        "wandb.init(\n",
        "    project=\"walmart-sales-forecasting\",\n",
        "    name=\"Ensemble_ARIMA_Models\",\n",
        "    tags=[\"ensemble\", \"ARIMA\", \"combination\"]\n",
        ")\n",
        "\n",
        "print(\"=== ENSEMBLE ARIMA MODELING ===\")\n",
        "\n",
        "# Robust model loading with fallbacks\n",
        "enhanced_store_models = {}\n",
        "dept_models = {}\n",
        "original_models = {}\n",
        "\n",
        "print(\"Loading available models...\")\n",
        "\n",
        "# Try to load enhanced store models\n",
        "try:\n",
        "    enhanced_store_models = np.load('enhanced_trained_arima_models.npy', allow_pickle=True).item()\n",
        "    print(f\"✅ Enhanced store models loaded: {len(enhanced_store_models)}\")\n",
        "except FileNotFoundError:\n",
        "    print(\"⚠️  Enhanced models not found - will skip\")\n",
        "except Exception as e:\n",
        "    print(f\"⚠️  Enhanced models loading failed: {e}\")\n",
        "\n",
        "# Try to load department models\n",
        "try:\n",
        "    dept_models = np.load('department_arima_models.npy', allow_pickle=True).item()\n",
        "    print(f\"✅ Department models loaded: {len(dept_models)} stores\")\n",
        "    # Count total department models\n",
        "    total_dept_models = sum(len(depts) for depts in dept_models.values())\n",
        "    print(f\"   Total department models: {total_dept_models}\")\n",
        "except FileNotFoundError:\n",
        "    print(\"⚠️  Department models not found - will skip\")\n",
        "except Exception as e:\n",
        "    print(f\"⚠️  Department models loading failed: {e}\")\n",
        "\n",
        "# Try to load original store models (most likely to exist)\n",
        "try:\n",
        "    original_models = np.load('trained_arima_models.npy', allow_pickle=True).item()\n",
        "    print(f\"✅ Original store models loaded: {len(original_models)}\")\n",
        "except FileNotFoundError:\n",
        "    print(\"⚠️  Original models not found - will skip\")\n",
        "except Exception as e:\n",
        "    print(f\"⚠️  Original models loading failed: {e}\")\n",
        "\n",
        "# Check if we have any models at all\n",
        "total_available_models = len(enhanced_store_models) + len(dept_models) + len(original_models)\n",
        "\n",
        "if total_available_models == 0:\n",
        "    print(\"❌ No models found! Please run the training blocks first.\")\n",
        "    print(\"Exiting...\")\n",
        "    wandb.log({\"error\": \"no_models_found\", \"models_available\": 0})\n",
        "    wandb.finish()\n",
        "    exit()\n",
        "\n",
        "print(f\"\\n📊 Model inventory:\")\n",
        "print(f\"   Enhanced store models: {len(enhanced_store_models)}\")\n",
        "print(f\"   Department model stores: {len(dept_models)}\")\n",
        "print(f\"   Original store models: {len(original_models)}\")\n",
        "\n",
        "class EnsembleARIMAPredictor:\n",
        "    \"\"\"Ensemble predictor combining multiple ARIMA approaches\"\"\"\n",
        "\n",
        "    def __init__(self, enhanced_models, dept_models, original_models):\n",
        "        self.enhanced_models = enhanced_models or {}\n",
        "        self.dept_models = dept_models or {}\n",
        "        self.original_models = original_models or {}\n",
        "        self.weights = self.calculate_ensemble_weights()\n",
        "\n",
        "    def calculate_ensemble_weights(self):\n",
        "        \"\"\"Calculate weights for ensemble based on model performance\"\"\"\n",
        "        weights = {}\n",
        "\n",
        "        # Enhanced models get highest weight (best performance expected)\n",
        "        for store_id in self.enhanced_models:\n",
        "            mae = self.enhanced_models[store_id]['metrics']['mae']\n",
        "            weights[f'enhanced_{store_id}'] = 1.0 / (1.0 + mae)  # Inverse weight\n",
        "\n",
        "        # Department models get medium weight\n",
        "        for store_id in self.dept_models:\n",
        "            dept_maes = []\n",
        "            for dept_id in self.dept_models[store_id]:\n",
        "                dept_maes.append(self.dept_models[store_id][dept_id]['mae'])\n",
        "\n",
        "            if dept_maes:\n",
        "                avg_mae = np.mean(dept_maes)\n",
        "                weights[f'dept_{store_id}'] = 0.7 * (1.0 / (1.0 + avg_mae))\n",
        "\n",
        "        # Original models get lower weight (fallback)\n",
        "        for store_id in self.original_models:\n",
        "            weights[f'original_{store_id}'] = 0.5\n",
        "\n",
        "        return weights\n",
        "\n",
        "    def predict_store_ensemble(self, store_id, steps):\n",
        "        \"\"\"Generate ensemble prediction for a store\"\"\"\n",
        "        predictions = []\n",
        "        weights = []\n",
        "\n",
        "        # Enhanced model prediction\n",
        "        if store_id in self.enhanced_models:\n",
        "            try:\n",
        "                pred = self.enhanced_models[store_id]['model'].forecast(steps=steps)\n",
        "                predictions.append(pred)\n",
        "                weights.append(self.weights.get(f'enhanced_{store_id}', 1.0))\n",
        "                print(f\"  ✅ Enhanced model prediction for Store {store_id}\")\n",
        "            except Exception as e:\n",
        "                print(f\"  ❌ Enhanced model failed for Store {store_id}: {e}\")\n",
        "\n",
        "        # Department-level aggregated prediction\n",
        "        if store_id in self.dept_models:\n",
        "            try:\n",
        "                dept_predictions = []\n",
        "                for dept_id, dept_model_info in self.dept_models[store_id].items():\n",
        "                    dept_pred = dept_model_info['model'].forecast(steps=steps)\n",
        "                    dept_predictions.append(dept_pred)\n",
        "\n",
        "                if dept_predictions:\n",
        "                    # Sum department predictions for store total\n",
        "                    store_pred = np.sum(dept_predictions, axis=0)\n",
        "                    predictions.append(store_pred)\n",
        "                    weights.append(self.weights.get(f'dept_{store_id}', 0.7))\n",
        "                    print(f\"  ✅ Department models prediction for Store {store_id} ({len(dept_predictions)} depts)\")\n",
        "            except Exception as e:\n",
        "                print(f\"  ❌ Department models failed for Store {store_id}: {e}\")\n",
        "\n",
        "        # Original model prediction (fallback)\n",
        "        if store_id in self.original_models:\n",
        "            try:\n",
        "                pred = self.original_models[store_id]['model'].forecast(steps=steps)\n",
        "                predictions.append(pred)\n",
        "                weights.append(self.weights.get(f'original_{store_id}', 0.5))\n",
        "                print(f\"  ✅ Original model prediction for Store {store_id}\")\n",
        "            except Exception as e:\n",
        "                print(f\"  ❌ Original model failed for Store {store_id}: {e}\")\n",
        "\n",
        "        # Combine predictions using weighted average\n",
        "        if predictions:\n",
        "            weights = np.array(weights)\n",
        "            weights = weights / weights.sum()  # Normalize weights\n",
        "\n",
        "            ensemble_pred = np.average(predictions, axis=0, weights=weights)\n",
        "\n",
        "            # Apply constraints and smoothing\n",
        "            ensemble_pred = self.apply_constraints(ensemble_pred, store_id)\n",
        "\n",
        "            print(f\"  🎯 Ensemble prediction created (combined {len(predictions)} models)\")\n",
        "            return ensemble_pred\n",
        "        else:\n",
        "            # Ultimate fallback\n",
        "            print(f\"  🔄 Using fallback prediction for Store {store_id}\")\n",
        "            return self.generate_fallback_prediction(store_id, steps)\n",
        "\n",
        "    def apply_constraints(self, prediction, store_id):\n",
        "        \"\"\"Apply business constraints and smoothing to predictions\"\"\"\n",
        "\n",
        "        # Remove negative predictions\n",
        "        prediction = np.maximum(prediction, 1000)  # Minimum $1000 sales\n",
        "\n",
        "        # Apply upper bound (prevent unrealistic spikes)\n",
        "        max_reasonable = 500000  # $500K max weekly sales\n",
        "        prediction = np.minimum(prediction, max_reasonable)\n",
        "\n",
        "        # Smooth extreme variations\n",
        "        if len(prediction) > 1:\n",
        "            # Apply mild smoothing to reduce volatility\n",
        "            smoothed = np.copy(prediction)\n",
        "            for i in range(1, len(prediction)):\n",
        "                if abs(prediction[i] - prediction[i-1]) > prediction[i-1] * 0.5:  # 50% change threshold\n",
        "                    smoothed[i] = 0.7 * prediction[i] + 0.3 * prediction[i-1]\n",
        "            prediction = smoothed\n",
        "\n",
        "        return prediction\n",
        "\n",
        "    def generate_fallback_prediction(self, store_id, steps):\n",
        "        \"\"\"Generate fallback prediction when no models are available\"\"\"\n",
        "\n",
        "        # Base prediction on store characteristics\n",
        "        if store_id <= 10:\n",
        "            base_value = 15000  # Larger stores\n",
        "        elif store_id <= 30:\n",
        "            base_value = 12000  # Medium stores\n",
        "        else:\n",
        "            base_value = 8000   # Smaller stores\n",
        "\n",
        "        # Add seasonal variation (simple pattern)\n",
        "        predictions = []\n",
        "        for i in range(steps):\n",
        "            # Simple seasonal factor (higher in winter/holidays)\n",
        "            seasonal_factor = 1.0 + 0.1 * np.sin(2 * np.pi * i / 52)  # Annual cycle\n",
        "            weekly_pred = base_value * seasonal_factor\n",
        "\n",
        "            # Add small random variation\n",
        "            variation = np.random.normal(0, weekly_pred * 0.05)\n",
        "            final_pred = max(1000, weekly_pred + variation)\n",
        "            predictions.append(final_pred)\n",
        "\n",
        "        return np.array(predictions)\n",
        "\n",
        "    def get_ensemble_info(self):\n",
        "        \"\"\"Get information about ensemble composition\"\"\"\n",
        "        info = {\n",
        "            'enhanced_models': len(self.enhanced_models),\n",
        "            'department_models_stores': len(self.dept_models),\n",
        "            'original_models': len(self.original_models),\n",
        "            'total_weights': len(self.weights)\n",
        "        }\n",
        "\n",
        "        # Calculate total department models\n",
        "        total_dept_models = sum(len(depts) for depts in self.dept_models.values())\n",
        "        info['total_department_models'] = total_dept_models\n",
        "\n",
        "        # Get all unique stores covered\n",
        "        all_stores = set()\n",
        "        all_stores.update(self.enhanced_models.keys())\n",
        "        all_stores.update(self.dept_models.keys())\n",
        "        all_stores.update(self.original_models.keys())\n",
        "        info['total_stores_covered'] = len(all_stores)\n",
        "\n",
        "        return info\n",
        "\n",
        "    def get_available_stores(self):\n",
        "        \"\"\"Get list of stores that have at least one model\"\"\"\n",
        "        all_stores = set()\n",
        "        all_stores.update(self.enhanced_models.keys())\n",
        "        all_stores.update(self.dept_models.keys())\n",
        "        all_stores.update(self.original_models.keys())\n",
        "        return sorted(list(all_stores))\n",
        "\n",
        "# Create ensemble predictor\n",
        "ensemble_predictor = EnsembleARIMAPredictor(enhanced_store_models, dept_models, original_models)\n",
        "\n",
        "# Get ensemble information\n",
        "ensemble_info = ensemble_predictor.get_ensemble_info()\n",
        "available_stores = ensemble_predictor.get_available_stores()\n",
        "\n",
        "print(f\"\\n🎯 Ensemble composition:\")\n",
        "print(f\"   Enhanced store models: {ensemble_info['enhanced_models']}\")\n",
        "print(f\"   Department models: {ensemble_info['total_department_models']} (across {ensemble_info['department_models_stores']} stores)\")\n",
        "print(f\"   Original models: {ensemble_info['original_models']}\")\n",
        "print(f\"   Total stores covered: {ensemble_info['total_stores_covered']}\")\n",
        "print(f\"   Available stores: {available_stores[:10]}{'...' if len(available_stores) > 10 else ''}\")\n",
        "\n",
        "# Test ensemble predictions\n",
        "print(f\"\\n🧪 Testing ensemble predictions...\")\n",
        "test_stores = available_stores[:3] if available_stores else []\n",
        "\n",
        "ensemble_test_results = {}\n",
        "for store_id in test_stores:\n",
        "    print(f\"\\nTest Store {store_id}:\")\n",
        "    try:\n",
        "        ensemble_pred = ensemble_predictor.predict_store_ensemble(store_id, 10)\n",
        "        ensemble_test_results[store_id] = {\n",
        "            'success': True,\n",
        "            'predictions': len(ensemble_pred),\n",
        "            'mean_prediction': np.mean(ensemble_pred),\n",
        "            'std_prediction': np.std(ensemble_pred)\n",
        "        }\n",
        "        print(f\"  📊 Success: {len(ensemble_pred)} predictions, mean=${np.mean(ensemble_pred):,.0f}\")\n",
        "    except Exception as e:\n",
        "        ensemble_test_results[store_id] = {'success': False, 'error': str(e)}\n",
        "        print(f\"  ❌ Failed: {e}\")\n",
        "\n",
        "# Log ensemble metrics\n",
        "wandb.log({\n",
        "    **ensemble_info,\n",
        "    \"ensemble_created\": True,\n",
        "    \"prediction_approach\": \"weighted_ensemble\",\n",
        "    \"constraint_application\": True,\n",
        "    \"smoothing_applied\": True,\n",
        "    \"fallback_strategy\": \"store_size_based\",\n",
        "    \"test_stores_count\": len(test_stores),\n",
        "    \"test_success_rate\": sum(1 for r in ensemble_test_results.values() if r['success']) / max(1, len(test_stores)) * 100\n",
        "})\n",
        "\n",
        "# Save ensemble predictor (even if some components are missing)\n",
        "predictor_data = {\n",
        "    'enhanced_models': enhanced_store_models,\n",
        "    'dept_models': dict(dept_models),\n",
        "    'original_models': original_models,\n",
        "    'weights': ensemble_predictor.weights,\n",
        "    'ensemble_info': ensemble_info,\n",
        "    'available_stores': available_stores\n",
        "}\n",
        "\n",
        "np.save('ensemble_arima_predictor.npy', predictor_data)\n",
        "\n",
        "print(f\"\\n{'='*60}\")\n",
        "print(\"ENSEMBLE ARIMA PREDICTOR CREATED\")\n",
        "print(f\"{'='*60}\")\n",
        "print(f\"✅ Models available: {len(enhanced_store_models) + ensemble_info['total_department_models'] + len(original_models)}\")\n",
        "print(f\"🏪 Stores covered: {ensemble_info['total_stores_covered']}\")\n",
        "print(f\"🎯 Prediction strategy: Weighted ensemble with constraints\")\n",
        "print(f\"📈 Expected improvement: {'Significant' if ensemble_info['total_stores_covered'] > 0 else 'Limited (fallback only)'}\")\n",
        "print(f\"💾 Saved as: ensemble_arima_predictor.npy\")\n",
        "\n",
        "if ensemble_info['total_stores_covered'] == 0:\n",
        "    print(\"\\n⚠️  WARNING: No trained models found!\")\n",
        "    print(\"   Run the training blocks (3 and 4) first to get better predictions.\")\n",
        "    print(\"   Current predictor will use fallback predictions only.\")\n",
        "\n",
        "wandb.finish()"
      ],
      "metadata": {
        "id": "hltq64qULukT",
        "colab": {
          "base_uri": "https://localhost:8080/",
          "height": 1000
        },
        "outputId": "b8984e08-e2c4-4371-8fd0-3a93d8b59c7f"
      },
      "id": "hltq64qULukT",
      "execution_count": 1,
      "outputs": [
        {
          "output_type": "stream",
          "name": "stderr",
          "text": [
            "\u001b[34m\u001b[1mwandb\u001b[0m: Currently logged in as: \u001b[33mdshan21\u001b[0m (\u001b[33mdshan21-free-university-of-tbilisi-\u001b[0m) to \u001b[32mhttps://api.wandb.ai\u001b[0m. Use \u001b[1m`wandb login --relogin`\u001b[0m to force relogin\n"
          ]
        },
        {
          "output_type": "display_data",
          "data": {
            "text/plain": [
              "<IPython.core.display.HTML object>"
            ],
            "text/html": [
              "Tracking run with wandb version 0.21.0"
            ]
          },
          "metadata": {}
        },
        {
          "output_type": "display_data",
          "data": {
            "text/plain": [
              "<IPython.core.display.HTML object>"
            ],
            "text/html": [
              "Run data is saved locally in <code>/content/wandb/run-20250705_165604-twr970vt</code>"
            ]
          },
          "metadata": {}
        },
        {
          "output_type": "display_data",
          "data": {
            "text/plain": [
              "<IPython.core.display.HTML object>"
            ],
            "text/html": [
              "Syncing run <strong><a href='https://wandb.ai/dshan21-free-university-of-tbilisi-/walmart-sales-forecasting/runs/twr970vt' target=\"_blank\">Ensemble_ARIMA_Models</a></strong> to <a href='https://wandb.ai/dshan21-free-university-of-tbilisi-/walmart-sales-forecasting' target=\"_blank\">Weights & Biases</a> (<a href='https://wandb.me/developer-guide' target=\"_blank\">docs</a>)<br>"
            ]
          },
          "metadata": {}
        },
        {
          "output_type": "display_data",
          "data": {
            "text/plain": [
              "<IPython.core.display.HTML object>"
            ],
            "text/html": [
              " View project at <a href='https://wandb.ai/dshan21-free-university-of-tbilisi-/walmart-sales-forecasting' target=\"_blank\">https://wandb.ai/dshan21-free-university-of-tbilisi-/walmart-sales-forecasting</a>"
            ]
          },
          "metadata": {}
        },
        {
          "output_type": "display_data",
          "data": {
            "text/plain": [
              "<IPython.core.display.HTML object>"
            ],
            "text/html": [
              " View run at <a href='https://wandb.ai/dshan21-free-university-of-tbilisi-/walmart-sales-forecasting/runs/twr970vt' target=\"_blank\">https://wandb.ai/dshan21-free-university-of-tbilisi-/walmart-sales-forecasting/runs/twr970vt</a>"
            ]
          },
          "metadata": {}
        },
        {
          "output_type": "stream",
          "name": "stdout",
          "text": [
            "=== ENSEMBLE ARIMA MODELING ===\n",
            "Loading available models...\n",
            "⚠️  Enhanced models not found - will skip\n",
            "✅ Department models loaded: 45 stores\n",
            "   Total department models: 135\n",
            "✅ Original store models loaded: 5\n",
            "\n",
            "📊 Model inventory:\n",
            "   Enhanced store models: 0\n",
            "   Department model stores: 45\n",
            "   Original store models: 5\n",
            "\n",
            "🎯 Ensemble composition:\n",
            "   Enhanced store models: 0\n",
            "   Department models: 135 (across 45 stores)\n",
            "   Original models: 5\n",
            "   Total stores covered: 45\n",
            "   Available stores: [1, 2, 3, 4, 5, 6, 7, 8, 9, 10]...\n",
            "\n",
            "🧪 Testing ensemble predictions...\n",
            "\n",
            "Test Store 1:\n",
            "  ✅ Department models prediction for Store 1 (3 depts)\n",
            "  🎯 Ensemble prediction created (combined 1 models)\n",
            "  📊 Success: 10 predictions, mean=$346,728\n",
            "\n",
            "Test Store 2:\n",
            "  ✅ Department models prediction for Store 2 (3 depts)\n",
            "  ✅ Original model prediction for Store 2\n",
            "  🎯 Ensemble prediction created (combined 2 models)\n",
            "  📊 Success: 10 predictions, mean=$500,000\n",
            "\n",
            "Test Store 3:\n",
            "  ✅ Department models prediction for Store 3 (3 depts)\n",
            "  🎯 Ensemble prediction created (combined 1 models)\n",
            "  📊 Success: 10 predictions, mean=$137,147\n",
            "\n",
            "============================================================\n",
            "ENSEMBLE ARIMA PREDICTOR CREATED\n",
            "============================================================\n",
            "✅ Models available: 140\n",
            "🏪 Stores covered: 45\n",
            "🎯 Prediction strategy: Weighted ensemble with constraints\n",
            "📈 Expected improvement: Significant\n",
            "💾 Saved as: ensemble_arima_predictor.npy\n"
          ]
        },
        {
          "output_type": "display_data",
          "data": {
            "text/plain": [
              "<IPython.core.display.HTML object>"
            ],
            "text/html": []
          },
          "metadata": {}
        },
        {
          "output_type": "display_data",
          "data": {
            "text/plain": [
              "<IPython.core.display.HTML object>"
            ],
            "text/html": [
              "<br>    <style><br>        .wandb-row {<br>            display: flex;<br>            flex-direction: row;<br>            flex-wrap: wrap;<br>            justify-content: flex-start;<br>            width: 100%;<br>        }<br>        .wandb-col {<br>            display: flex;<br>            flex-direction: column;<br>            flex-basis: 100%;<br>            flex: 1;<br>            padding: 10px;<br>        }<br>    </style><br><div class=\"wandb-row\"><div class=\"wandb-col\"><h3>Run history:</h3><br/><table class=\"wandb\"><tr><td>department_models_stores</td><td>▁</td></tr><tr><td>enhanced_models</td><td>▁</td></tr><tr><td>original_models</td><td>▁</td></tr><tr><td>test_stores_count</td><td>▁</td></tr><tr><td>test_success_rate</td><td>▁</td></tr><tr><td>total_department_models</td><td>▁</td></tr><tr><td>total_stores_covered</td><td>▁</td></tr><tr><td>total_weights</td><td>▁</td></tr></table><br/></div><div class=\"wandb-col\"><h3>Run summary:</h3><br/><table class=\"wandb\"><tr><td>constraint_application</td><td>True</td></tr><tr><td>department_models_stores</td><td>45</td></tr><tr><td>enhanced_models</td><td>0</td></tr><tr><td>ensemble_created</td><td>True</td></tr><tr><td>fallback_strategy</td><td>store_size_based</td></tr><tr><td>original_models</td><td>5</td></tr><tr><td>prediction_approach</td><td>weighted_ensemble</td></tr><tr><td>smoothing_applied</td><td>True</td></tr><tr><td>test_stores_count</td><td>3</td></tr><tr><td>test_success_rate</td><td>100</td></tr><tr><td>total_department_models</td><td>135</td></tr><tr><td>total_stores_covered</td><td>45</td></tr><tr><td>total_weights</td><td>50</td></tr></table><br/></div></div>"
            ]
          },
          "metadata": {}
        },
        {
          "output_type": "display_data",
          "data": {
            "text/plain": [
              "<IPython.core.display.HTML object>"
            ],
            "text/html": [
              " View run <strong style=\"color:#cdcd00\">Ensemble_ARIMA_Models</strong> at: <a href='https://wandb.ai/dshan21-free-university-of-tbilisi-/walmart-sales-forecasting/runs/twr970vt' target=\"_blank\">https://wandb.ai/dshan21-free-university-of-tbilisi-/walmart-sales-forecasting/runs/twr970vt</a><br> View project at: <a href='https://wandb.ai/dshan21-free-university-of-tbilisi-/walmart-sales-forecasting' target=\"_blank\">https://wandb.ai/dshan21-free-university-of-tbilisi-/walmart-sales-forecasting</a><br>Synced 5 W&B file(s), 0 media file(s), 0 artifact file(s) and 0 other file(s)"
            ]
          },
          "metadata": {}
        },
        {
          "output_type": "display_data",
          "data": {
            "text/plain": [
              "<IPython.core.display.HTML object>"
            ],
            "text/html": [
              "Find logs at: <code>./wandb/run-20250705_165604-twr970vt/logs</code>"
            ]
          },
          "metadata": {}
        }
      ]
    },
    {
      "cell_type": "code",
      "source": [
        "# Block 6: Final Pipeline Creation - SAVE MODELS SEPARATELY\n",
        "import pandas as pd\n",
        "import numpy as np\n",
        "import joblib\n",
        "from datetime import datetime\n",
        "import wandb\n",
        "\n",
        "wandb.init(\n",
        "    project=\"walmart-sales-forecasting\",\n",
        "    name=\"ARIMA_Final_Pipeline\",\n",
        "    tags=[\"ARIMA\", \"pipeline\", \"final-model\"]\n",
        ")\n",
        "\n",
        "print(\"=== BLOCK 6: FINAL PIPELINE CREATION ===\")\n",
        "\n",
        "# Load all necessary data and results\n",
        "try:\n",
        "    trained_models = np.load('trained_arima_models.npy', allow_pickle=True).item()\n",
        "    evaluation_results = np.load('evaluation_results.npy', allow_pickle=True).item()\n",
        "    store_ts_data = pd.read_pickle('store_timeseries_data.pkl')\n",
        "    print(\"All data loaded successfully\")\n",
        "except Exception as e:\n",
        "    print(f\"Error loading data: {e}\")\n",
        "    wandb.finish()\n",
        "    exit()\n",
        "\n",
        "# Save individual ARIMA models and pipeline info separately\n",
        "print(\"Saving ARIMA models and pipeline data...\")\n",
        "\n",
        "# Create pipeline data structure (without the class)\n",
        "pipeline_data = {\n",
        "    'models': {},\n",
        "    'preprocessing_params': {\n",
        "        'aggregation_level': 'store',\n",
        "        'train_test_split': 0.8,\n",
        "        'min_observations': 40,\n",
        "        'date_range': {\n",
        "            'start': str(store_ts_data['Date'].min()),\n",
        "            'end': str(store_ts_data['Date'].max())\n",
        "        },\n",
        "        'stores_modeled': list(trained_models.keys()),\n",
        "        'total_stores_available': store_ts_data['Store'].nunique()\n",
        "    },\n",
        "    'model_info': {}\n",
        "}\n",
        "\n",
        "# Save each ARIMA model individually\n",
        "for store_id, model_info in trained_models.items():\n",
        "    eval_metrics = evaluation_results[store_id]['detailed_metrics']\n",
        "\n",
        "    # Save the ARIMA model separately\n",
        "    model_filename = f'arima_model_store_{store_id}.pkl'\n",
        "    joblib.dump(model_info['model'], model_filename)\n",
        "\n",
        "    # Store model metadata\n",
        "    pipeline_data['models'][store_id] = {\n",
        "        'model_file': model_filename,\n",
        "        'params': model_info['best_params'],\n",
        "        'metrics': eval_metrics\n",
        "    }\n",
        "\n",
        "    pipeline_data['model_info'][store_id] = {\n",
        "        'params': model_info['best_params'],\n",
        "        'mae': eval_metrics.get('mae', 'N/A'),\n",
        "        'rmse': eval_metrics.get('rmse', 'N/A'),\n",
        "        'mape': eval_metrics.get('mape', 'N/A')\n",
        "    }\n",
        "\n",
        "    print(f\"Saved model for Store {store_id} - ARIMA{model_info['best_params']} (MAE: {eval_metrics['mae']:.2f})\")\n",
        "\n",
        "# Calculate pipeline metrics\n",
        "all_mae = [info['mae'] for info in pipeline_data['model_info'].values() if info['mae'] != 'N/A']\n",
        "all_rmse = [info['rmse'] for info in pipeline_data['model_info'].values() if info['rmse'] != 'N/A']\n",
        "all_mape = [info['mape'] for info in pipeline_data['model_info'].values() if info['mape'] != 'N/A']\n",
        "\n",
        "pipeline_metrics = {\n",
        "    'total_models': len(pipeline_data['models']),\n",
        "    'avg_mae': np.mean(all_mae),\n",
        "    'avg_rmse': np.mean(all_rmse),\n",
        "    'avg_mape': np.mean(all_mape),\n",
        "    'best_mae': min(all_mae),\n",
        "    'worst_mae': max(all_mae),\n",
        "    'stores_coverage': len(pipeline_data['models']) / pipeline_data['preprocessing_params']['total_stores_available'] * 100\n",
        "}\n",
        "\n",
        "pipeline_data['performance_metrics'] = pipeline_metrics\n",
        "wandb.log(pipeline_metrics)\n",
        "\n",
        "print(f\"Pipeline Summary:\")\n",
        "print(f\"  Total models: {len(pipeline_data['models'])}\")\n",
        "print(f\"  Average MAE: {pipeline_metrics['avg_mae']:.2f}\")\n",
        "print(f\"  Store coverage: {pipeline_metrics['stores_coverage']:.1f}%\")\n",
        "\n",
        "# Save pipeline data as JSON\n",
        "timestamp = datetime.now().strftime('%Y%m%d_%H%M')\n",
        "pipeline_data_filename = f'arima_pipeline_data_{timestamp}.json'\n",
        "\n",
        "import json\n",
        "with open(pipeline_data_filename, 'w') as f:\n",
        "    json.dump(pipeline_data, f, indent=2, default=str)\n",
        "\n",
        "print(f\"Pipeline data saved as: {pipeline_data_filename}\")\n",
        "\n",
        "# Upload everything to wandb\n",
        "pipeline_artifact = wandb.Artifact(\n",
        "    name=\"walmart_arima_pipeline\",\n",
        "    type=\"model\",\n",
        "    description=\"ARIMA models and pipeline data for Walmart sales forecasting\",\n",
        "    metadata=pipeline_metrics\n",
        ")\n",
        "\n",
        "# Add the main pipeline data\n",
        "pipeline_artifact.add_file(pipeline_data_filename)\n",
        "\n",
        "# Add all individual model files\n",
        "for store_id, model_data in pipeline_data['models'].items():\n",
        "    pipeline_artifact.add_file(model_data['model_file'])\n",
        "\n",
        "wandb.log_artifact(pipeline_artifact)\n",
        "\n",
        "print(f\"Pipeline uploaded to wandb successfully!\")\n",
        "print(f\"Files uploaded: {len(pipeline_data['models']) + 1}\")\n",
        "\n",
        "wandb.finish()"
      ],
      "metadata": {
        "id": "9cUVo7AdLy0q",
        "colab": {
          "base_uri": "https://localhost:8080/",
          "height": 922
        },
        "outputId": "06b4c959-1ff9-479b-8263-0cb8e616be00"
      },
      "id": "9cUVo7AdLy0q",
      "execution_count": 2,
      "outputs": [
        {
          "output_type": "display_data",
          "data": {
            "text/plain": [
              "<IPython.core.display.HTML object>"
            ],
            "text/html": [
              "Tracking run with wandb version 0.21.0"
            ]
          },
          "metadata": {}
        },
        {
          "output_type": "display_data",
          "data": {
            "text/plain": [
              "<IPython.core.display.HTML object>"
            ],
            "text/html": [
              "Run data is saved locally in <code>/content/wandb/run-20250705_165619-ywee0gnc</code>"
            ]
          },
          "metadata": {}
        },
        {
          "output_type": "display_data",
          "data": {
            "text/plain": [
              "<IPython.core.display.HTML object>"
            ],
            "text/html": [
              "Syncing run <strong><a href='https://wandb.ai/dshan21-free-university-of-tbilisi-/walmart-sales-forecasting/runs/ywee0gnc' target=\"_blank\">ARIMA_Final_Pipeline</a></strong> to <a href='https://wandb.ai/dshan21-free-university-of-tbilisi-/walmart-sales-forecasting' target=\"_blank\">Weights & Biases</a> (<a href='https://wandb.me/developer-guide' target=\"_blank\">docs</a>)<br>"
            ]
          },
          "metadata": {}
        },
        {
          "output_type": "display_data",
          "data": {
            "text/plain": [
              "<IPython.core.display.HTML object>"
            ],
            "text/html": [
              " View project at <a href='https://wandb.ai/dshan21-free-university-of-tbilisi-/walmart-sales-forecasting' target=\"_blank\">https://wandb.ai/dshan21-free-university-of-tbilisi-/walmart-sales-forecasting</a>"
            ]
          },
          "metadata": {}
        },
        {
          "output_type": "display_data",
          "data": {
            "text/plain": [
              "<IPython.core.display.HTML object>"
            ],
            "text/html": [
              " View run at <a href='https://wandb.ai/dshan21-free-university-of-tbilisi-/walmart-sales-forecasting/runs/ywee0gnc' target=\"_blank\">https://wandb.ai/dshan21-free-university-of-tbilisi-/walmart-sales-forecasting/runs/ywee0gnc</a>"
            ]
          },
          "metadata": {}
        },
        {
          "output_type": "stream",
          "name": "stdout",
          "text": [
            "=== BLOCK 6: FINAL PIPELINE CREATION ===\n",
            "All data loaded successfully\n",
            "Saving ARIMA models and pipeline data...\n",
            "Saved model for Store 20 - ARIMA(2, 1, 2) (MAE: 148321.21)\n",
            "Saved model for Store 4 - ARIMA(2, 1, 3) (MAE: 113804.24)\n",
            "Saved model for Store 14 - ARIMA(2, 1, 1) (MAE: 325309.16)\n",
            "Saved model for Store 13 - ARIMA(1, 1, 3) (MAE: 71957.05)\n",
            "Saved model for Store 2 - ARIMA(1, 1, 3) (MAE: 74199.60)\n",
            "Pipeline Summary:\n",
            "  Total models: 5\n",
            "  Average MAE: 146718.25\n",
            "  Store coverage: 11.1%\n",
            "Pipeline data saved as: arima_pipeline_data_20250705_1656.json\n",
            "Pipeline uploaded to wandb successfully!\n",
            "Files uploaded: 6\n"
          ]
        },
        {
          "output_type": "display_data",
          "data": {
            "text/plain": [
              "<IPython.core.display.HTML object>"
            ],
            "text/html": []
          },
          "metadata": {}
        },
        {
          "output_type": "display_data",
          "data": {
            "text/plain": [
              "<IPython.core.display.HTML object>"
            ],
            "text/html": [
              "<br>    <style><br>        .wandb-row {<br>            display: flex;<br>            flex-direction: row;<br>            flex-wrap: wrap;<br>            justify-content: flex-start;<br>            width: 100%;<br>        }<br>        .wandb-col {<br>            display: flex;<br>            flex-direction: column;<br>            flex-basis: 100%;<br>            flex: 1;<br>            padding: 10px;<br>        }<br>    </style><br><div class=\"wandb-row\"><div class=\"wandb-col\"><h3>Run history:</h3><br/><table class=\"wandb\"><tr><td>avg_mae</td><td>▁</td></tr><tr><td>avg_mape</td><td>▁</td></tr><tr><td>avg_rmse</td><td>▁</td></tr><tr><td>best_mae</td><td>▁</td></tr><tr><td>stores_coverage</td><td>▁</td></tr><tr><td>total_models</td><td>▁</td></tr><tr><td>worst_mae</td><td>▁</td></tr></table><br/></div><div class=\"wandb-col\"><h3>Run summary:</h3><br/><table class=\"wandb\"><tr><td>avg_mae</td><td>146718.25258</td></tr><tr><td>avg_mape</td><td>8.01319</td></tr><tr><td>avg_rmse</td><td>170083.38036</td></tr><tr><td>best_mae</td><td>71957.04907</td></tr><tr><td>stores_coverage</td><td>11.11111</td></tr><tr><td>total_models</td><td>5</td></tr><tr><td>worst_mae</td><td>325309.15504</td></tr></table><br/></div></div>"
            ]
          },
          "metadata": {}
        },
        {
          "output_type": "display_data",
          "data": {
            "text/plain": [
              "<IPython.core.display.HTML object>"
            ],
            "text/html": [
              " View run <strong style=\"color:#cdcd00\">ARIMA_Final_Pipeline</strong> at: <a href='https://wandb.ai/dshan21-free-university-of-tbilisi-/walmart-sales-forecasting/runs/ywee0gnc' target=\"_blank\">https://wandb.ai/dshan21-free-university-of-tbilisi-/walmart-sales-forecasting/runs/ywee0gnc</a><br> View project at: <a href='https://wandb.ai/dshan21-free-university-of-tbilisi-/walmart-sales-forecasting' target=\"_blank\">https://wandb.ai/dshan21-free-university-of-tbilisi-/walmart-sales-forecasting</a><br>Synced 5 W&B file(s), 0 media file(s), 1 artifact file(s) and 0 other file(s)"
            ]
          },
          "metadata": {}
        },
        {
          "output_type": "display_data",
          "data": {
            "text/plain": [
              "<IPython.core.display.HTML object>"
            ],
            "text/html": [
              "Find logs at: <code>./wandb/run-20250705_165619-ywee0gnc/logs</code>"
            ]
          },
          "metadata": {}
        }
      ]
    }
  ],
  "metadata": {
    "kernelspec": {
      "display_name": "Python 3",
      "language": "python",
      "name": "python3"
    },
    "language_info": {
      "codemirror_mode": {
        "name": "ipython",
        "version": 2
      },
      "file_extension": ".py",
      "mimetype": "text/x-python",
      "name": "python",
      "nbconvert_exporter": "python",
      "pygments_lexer": "ipython2",
      "version": "2.7.6"
    },
    "colab": {
      "provenance": []
    }
  },
  "nbformat": 4,
  "nbformat_minor": 5
}