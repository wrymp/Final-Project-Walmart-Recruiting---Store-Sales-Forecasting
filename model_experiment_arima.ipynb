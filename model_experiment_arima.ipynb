{
  "cells": [
    {
      "cell_type": "code",
      "source": [
        "!pip install kaggle wandb onnx -Uq\n",
        "from google.colab import drive\n",
        "drive.mount('/content/drive')"
      ],
      "metadata": {
        "colab": {
          "base_uri": "https://localhost:8080/"
        },
        "id": "0xc_xtTn6ECN",
        "outputId": "c9b7577b-6240-4a91-b191-cd621590e20c"
      },
      "id": "0xc_xtTn6ECN",
      "execution_count": 107,
      "outputs": [
        {
          "output_type": "stream",
          "name": "stdout",
          "text": [
            "Drive already mounted at /content/drive; to attempt to forcibly remount, call drive.mount(\"/content/drive\", force_remount=True).\n"
          ]
        }
      ]
    },
    {
      "cell_type": "code",
      "source": [
        "! mkdir ~/.kaggle"
      ],
      "metadata": {
        "id": "3Q92W4PQ6EaA",
        "colab": {
          "base_uri": "https://localhost:8080/"
        },
        "outputId": "bc56a0ba-c579-433a-8ce0-e62c8dd551a0"
      },
      "id": "3Q92W4PQ6EaA",
      "execution_count": 108,
      "outputs": [
        {
          "output_type": "stream",
          "name": "stdout",
          "text": [
            "mkdir: cannot create directory ‘/root/.kaggle’: File exists\n"
          ]
        }
      ]
    },
    {
      "cell_type": "code",
      "source": [
        "!cp /content/drive/MyDrive/Kaggle_credentials/kaggle.json ~/.kaggle/kaggle.json"
      ],
      "metadata": {
        "id": "cDQaBGLX6FfU"
      },
      "id": "cDQaBGLX6FfU",
      "execution_count": 109,
      "outputs": []
    },
    {
      "cell_type": "code",
      "source": [
        "! chmod 600 ~/.kaggle/kaggle.json"
      ],
      "metadata": {
        "id": "HkcOB55i6G8d"
      },
      "id": "HkcOB55i6G8d",
      "execution_count": 110,
      "outputs": []
    },
    {
      "cell_type": "code",
      "source": [
        "# ! kaggle competitions download -c walmart-recruiting-store-sales-forecasting"
      ],
      "metadata": {
        "id": "MPwqMv2z6H6S"
      },
      "id": "MPwqMv2z6H6S",
      "execution_count": 111,
      "outputs": []
    },
    {
      "cell_type": "code",
      "source": [
        "# ! unzip /content/walmart-recruiting-store-sales-forecasting.zip\n",
        "# ! unzip /content/train.csv.zip\n",
        "# ! unzip /content/test.csv.zip\n",
        "# ! unzip /content/features.csv.zip\n",
        "# ! unzip /content/sampleSubmission.csv.zip"
      ],
      "metadata": {
        "id": "jQr6E5zG6KBU"
      },
      "id": "jQr6E5zG6KBU",
      "execution_count": 112,
      "outputs": []
    },
    {
      "cell_type": "code",
      "source": [
        "# !pip install wandb -qU\n",
        "\n",
        "# # Clean up all related packages\n",
        "# !pip uninstall -y pmdarima numpy scipy statsmodels\n",
        "\n",
        "# # Reinstall pinned, compatible versions\n",
        "# !pip install numpy==1.24.4 scipy==1.10.1 statsmodels==0.13.5 pmdarima==2.0.3"
      ],
      "metadata": {
        "id": "myvAj7pC7CyH"
      },
      "id": "myvAj7pC7CyH",
      "execution_count": 113,
      "outputs": []
    },
    {
      "cell_type": "code",
      "source": [
        "import wandb\n",
        "import random\n",
        "import math"
      ],
      "metadata": {
        "id": "c5Vm5Z5I7DRW"
      },
      "id": "c5Vm5Z5I7DRW",
      "execution_count": 114,
      "outputs": []
    },
    {
      "cell_type": "code",
      "source": [
        "wandb.login()"
      ],
      "metadata": {
        "id": "mR9ELoN67Ef_",
        "colab": {
          "base_uri": "https://localhost:8080/"
        },
        "outputId": "ae7b7828-08be-44db-c816-6b1851db0982"
      },
      "id": "mR9ELoN67Ef_",
      "execution_count": 115,
      "outputs": [
        {
          "output_type": "stream",
          "name": "stderr",
          "text": [
            "\u001b[34m\u001b[1mwandb\u001b[0m: \u001b[33mWARNING\u001b[0m Calling wandb.login() after wandb.init() has no effect.\n"
          ]
        },
        {
          "output_type": "execute_result",
          "data": {
            "text/plain": [
              "True"
            ]
          },
          "metadata": {},
          "execution_count": 115
        }
      ]
    },
    {
      "cell_type": "code",
      "execution_count": 116,
      "id": "initial_id",
      "metadata": {
        "collapsed": true,
        "id": "initial_id",
        "colab": {
          "base_uri": "https://localhost:8080/",
          "height": 1000
        },
        "outputId": "de664936-73f8-4cad-c99e-38ede1016c43"
      },
      "outputs": [
        {
          "output_type": "display_data",
          "data": {
            "text/plain": [
              "<IPython.core.display.HTML object>"
            ],
            "text/html": [
              "Finishing previous runs because reinit is set to 'default'."
            ]
          },
          "metadata": {}
        },
        {
          "output_type": "display_data",
          "data": {
            "text/plain": [
              "<IPython.core.display.HTML object>"
            ],
            "text/html": []
          },
          "metadata": {}
        },
        {
          "output_type": "display_data",
          "data": {
            "text/plain": [
              "<IPython.core.display.HTML object>"
            ],
            "text/html": [
              "<br>    <style><br>        .wandb-row {<br>            display: flex;<br>            flex-direction: row;<br>            flex-wrap: wrap;<br>            justify-content: flex-start;<br>            width: 100%;<br>        }<br>        .wandb-col {<br>            display: flex;<br>            flex-direction: column;<br>            flex-basis: 100%;<br>            flex: 1;<br>            padding: 10px;<br>        }<br>    </style><br><div class=\"wandb-row\"><div class=\"wandb-col\"><h3>Run history:</h3><br/><table class=\"wandb\"><tr><td>m</td><td>▁</td></tr><tr><td>max_d</td><td>▁</td></tr><tr><td>max_p</td><td>▁</td></tr><tr><td>max_q</td><td>▁</td></tr></table><br/></div><div class=\"wandb-col\"><h3>Run summary:</h3><br/><table class=\"wandb\"><tr><td>m</td><td>52</td></tr><tr><td>max_d</td><td>1</td></tr><tr><td>max_p</td><td>3</td></tr><tr><td>max_q</td><td>3</td></tr><tr><td>seasonal</td><td>True</td></tr></table><br/></div></div>"
            ]
          },
          "metadata": {}
        },
        {
          "output_type": "display_data",
          "data": {
            "text/plain": [
              "<IPython.core.display.HTML object>"
            ],
            "text/html": [
              " View run <strong style=\"color:#cdcd00\">ARIMA_Final_Training</strong> at: <a href='https://wandb.ai/dshan21-free-university-of-tbilisi-/walmart-sales-forecasting/runs/p7svn564' target=\"_blank\">https://wandb.ai/dshan21-free-university-of-tbilisi-/walmart-sales-forecasting/runs/p7svn564</a><br> View project at: <a href='https://wandb.ai/dshan21-free-university-of-tbilisi-/walmart-sales-forecasting' target=\"_blank\">https://wandb.ai/dshan21-free-university-of-tbilisi-/walmart-sales-forecasting</a><br>Synced 5 W&B file(s), 0 media file(s), 0 artifact file(s) and 0 other file(s)"
            ]
          },
          "metadata": {}
        },
        {
          "output_type": "display_data",
          "data": {
            "text/plain": [
              "<IPython.core.display.HTML object>"
            ],
            "text/html": [
              "Find logs at: <code>./wandb/run-20250705_152512-p7svn564/logs</code>"
            ]
          },
          "metadata": {}
        },
        {
          "output_type": "display_data",
          "data": {
            "text/plain": [
              "<IPython.core.display.HTML object>"
            ],
            "text/html": [
              "Tracking run with wandb version 0.21.0"
            ]
          },
          "metadata": {}
        },
        {
          "output_type": "display_data",
          "data": {
            "text/plain": [
              "<IPython.core.display.HTML object>"
            ],
            "text/html": [
              "Run data is saved locally in <code>/content/wandb/run-20250705_153711-ws28b030</code>"
            ]
          },
          "metadata": {}
        },
        {
          "output_type": "display_data",
          "data": {
            "text/plain": [
              "<IPython.core.display.HTML object>"
            ],
            "text/html": [
              "Syncing run <strong><a href='https://wandb.ai/dshan21-free-university-of-tbilisi-/walmart-sales-forecasting/runs/ws28b030' target=\"_blank\">ARIMA_Data_Exploration</a></strong> to <a href='https://wandb.ai/dshan21-free-university-of-tbilisi-/walmart-sales-forecasting' target=\"_blank\">Weights & Biases</a> (<a href='https://wandb.me/developer-guide' target=\"_blank\">docs</a>)<br>"
            ]
          },
          "metadata": {}
        },
        {
          "output_type": "display_data",
          "data": {
            "text/plain": [
              "<IPython.core.display.HTML object>"
            ],
            "text/html": [
              " View project at <a href='https://wandb.ai/dshan21-free-university-of-tbilisi-/walmart-sales-forecasting' target=\"_blank\">https://wandb.ai/dshan21-free-university-of-tbilisi-/walmart-sales-forecasting</a>"
            ]
          },
          "metadata": {}
        },
        {
          "output_type": "display_data",
          "data": {
            "text/plain": [
              "<IPython.core.display.HTML object>"
            ],
            "text/html": [
              " View run at <a href='https://wandb.ai/dshan21-free-university-of-tbilisi-/walmart-sales-forecasting/runs/ws28b030' target=\"_blank\">https://wandb.ai/dshan21-free-university-of-tbilisi-/walmart-sales-forecasting/runs/ws28b030</a>"
            ]
          },
          "metadata": {}
        },
        {
          "output_type": "stream",
          "name": "stdout",
          "text": [
            "=== BLOCK 1: DATA LOADING & EXPLORATION ===\n",
            "Loading datasets...\n",
            "Dataset Info:\n",
            "  train_shape: (421570, 5)\n",
            "  features_shape: (8190, 12)\n",
            "  stores_shape: (45, 3)\n",
            "  test_shape: (115064, 4)\n",
            "  unique_stores: 45\n",
            "  unique_departments: 81\n",
            "  date_range_train: 2010-02-05 to 2012-10-26\n",
            "  total_sales: 6737218987.11\n"
          ]
        },
        {
          "output_type": "display_data",
          "data": {
            "text/plain": [
              "<Figure size 1500x1000 with 6 Axes>"
            ],
            "image/png": "[encoded data removed]"
          },
          "metadata": {}
        },
        {
          "output_type": "stream",
          "name": "stdout",
          "text": [
            "Key Insights: {'top_performing_store': 20, 'top_performing_department': 92, 'holiday_sales_boost': 7.133805219708678, 'sales_std_dev': 22711.18351916313, 'negative_sales_count': 1285}\n"
          ]
        },
        {
          "output_type": "display_data",
          "data": {
            "text/plain": [
              "<IPython.core.display.HTML object>"
            ],
            "text/html": []
          },
          "metadata": {}
        },
        {
          "output_type": "display_data",
          "data": {
            "text/plain": [
              "<IPython.core.display.HTML object>"
            ],
            "text/html": [
              "<br>    <style><br>        .wandb-row {<br>            display: flex;<br>            flex-direction: row;<br>            flex-wrap: wrap;<br>            justify-content: flex-start;<br>            width: 100%;<br>        }<br>        .wandb-col {<br>            display: flex;<br>            flex-direction: column;<br>            flex-basis: 100%;<br>            flex: 1;<br>            padding: 10px;<br>        }<br>    </style><br><div class=\"wandb-row\"><div class=\"wandb-col\"><h3>Run history:</h3><br/><table class=\"wandb\"><tr><td>holiday_sales_boost</td><td>▁</td></tr><tr><td>negative_sales_count</td><td>▁</td></tr><tr><td>sales_std_dev</td><td>▁</td></tr><tr><td>top_performing_department</td><td>▁</td></tr><tr><td>top_performing_store</td><td>▁</td></tr><tr><td>total_sales</td><td>▁</td></tr><tr><td>unique_departments</td><td>▁</td></tr><tr><td>unique_stores</td><td>▁</td></tr></table><br/></div><div class=\"wandb-col\"><h3>Run summary:</h3><br/><table class=\"wandb\"><tr><td>date_range_train</td><td>2010-02-05 to 2012-1...</td></tr><tr><td>holiday_sales_boost</td><td>7.13381</td></tr><tr><td>negative_sales_count</td><td>1285</td></tr><tr><td>sales_std_dev</td><td>22711.18352</td></tr><tr><td>top_performing_department</td><td>92</td></tr><tr><td>top_performing_store</td><td>20</td></tr><tr><td>total_sales</td><td>6737218987.11</td></tr><tr><td>unique_departments</td><td>81</td></tr><tr><td>unique_stores</td><td>45</td></tr></table><br/></div></div>"
            ]
          },
          "metadata": {}
        },
        {
          "output_type": "display_data",
          "data": {
            "text/plain": [
              "<IPython.core.display.HTML object>"
            ],
            "text/html": [
              " View run <strong style=\"color:#cdcd00\">ARIMA_Data_Exploration</strong> at: <a href='https://wandb.ai/dshan21-free-university-of-tbilisi-/walmart-sales-forecasting/runs/ws28b030' target=\"_blank\">https://wandb.ai/dshan21-free-university-of-tbilisi-/walmart-sales-forecasting/runs/ws28b030</a><br> View project at: <a href='https://wandb.ai/dshan21-free-university-of-tbilisi-/walmart-sales-forecasting' target=\"_blank\">https://wandb.ai/dshan21-free-university-of-tbilisi-/walmart-sales-forecasting</a><br>Synced 5 W&B file(s), 1 media file(s), 0 artifact file(s) and 0 other file(s)"
            ]
          },
          "metadata": {}
        },
        {
          "output_type": "display_data",
          "data": {
            "text/plain": [
              "<IPython.core.display.HTML object>"
            ],
            "text/html": [
              "Find logs at: <code>./wandb/run-20250705_153711-ws28b030/logs</code>"
            ]
          },
          "metadata": {}
        }
      ],
      "source": [
        "# Block 1: Data Loading & Exploration\n",
        "import pandas as pd\n",
        "import numpy as np\n",
        "import matplotlib.pyplot as plt\n",
        "import seaborn as sns\n",
        "import warnings\n",
        "warnings.filterwarnings('ignore')\n",
        "import wandb\n",
        "\n",
        "# Initialize wandb for data exploration\n",
        "wandb.init(\n",
        "    project=\"walmart-sales-forecasting\",\n",
        "    name=\"ARIMA_Data_Exploration\",\n",
        "    tags=[\"ARIMA\", \"data-exploration\"]\n",
        ")\n",
        "\n",
        "print(\"=== BLOCK 1: DATA LOADING & EXPLORATION ===\")\n",
        "\n",
        "# Load all datasets\n",
        "print(\"Loading datasets...\")\n",
        "train_df = pd.read_csv(\"/content/train.csv\")\n",
        "features_df = pd.read_csv(\"/content/features.csv\")\n",
        "stores_df = pd.read_csv(\"/content/stores.csv\")\n",
        "test_df = pd.read_csv(\"/content/test.csv\")\n",
        "sample_submission = pd.read_csv(\"/content/sampleSubmission.csv\")\n",
        "\n",
        "# Basic info\n",
        "datasets_info = {\n",
        "    \"train_shape\": train_df.shape,\n",
        "    \"features_shape\": features_df.shape,\n",
        "    \"stores_shape\": stores_df.shape,\n",
        "    \"test_shape\": test_df.shape,\n",
        "    \"unique_stores\": train_df['Store'].nunique(),\n",
        "    \"unique_departments\": train_df['Dept'].nunique(),\n",
        "    \"date_range_train\": f\"{train_df['Date'].min()} to {train_df['Date'].max()}\",\n",
        "    \"total_sales\": train_df['Weekly_Sales'].sum()\n",
        "}\n",
        "\n",
        "print(\"Dataset Info:\")\n",
        "for key, value in datasets_info.items():\n",
        "    print(f\"  {key}: {value}\")\n",
        "\n",
        "# Log basic statistics\n",
        "wandb.log(datasets_info)\n",
        "\n",
        "# Analyze sales distribution\n",
        "plt.figure(figsize=(15, 10))\n",
        "\n",
        "plt.subplot(2, 3, 1)\n",
        "plt.hist(train_df['Weekly_Sales'], bins=50, alpha=0.7)\n",
        "plt.title('Distribution of Weekly Sales')\n",
        "plt.xlabel('Weekly Sales')\n",
        "plt.ylabel('Frequency')\n",
        "\n",
        "plt.subplot(2, 3, 2)\n",
        "store_sales = train_df.groupby('Store')['Weekly_Sales'].sum().sort_values(ascending=False)\n",
        "plt.bar(range(len(store_sales.head(10))), store_sales.head(10).values)\n",
        "plt.title('Top 10 Stores by Total Sales')\n",
        "plt.xlabel('Store Rank')\n",
        "plt.ylabel('Total Sales')\n",
        "\n",
        "plt.subplot(2, 3, 3)\n",
        "dept_sales = train_df.groupby('Dept')['Weekly_Sales'].sum().sort_values(ascending=False)\n",
        "plt.bar(range(len(dept_sales.head(10))), dept_sales.head(10).values)\n",
        "plt.title('Top 10 Departments by Total Sales')\n",
        "plt.xlabel('Department Rank')\n",
        "plt.ylabel('Total Sales')\n",
        "\n",
        "plt.subplot(2, 3, 4)\n",
        "train_df['Date'] = pd.to_datetime(train_df['Date'])\n",
        "monthly_sales = train_df.groupby(train_df['Date'].dt.to_period('M'))['Weekly_Sales'].sum()\n",
        "monthly_sales.plot()\n",
        "plt.title('Monthly Sales Trend')\n",
        "plt.xlabel('Month')\n",
        "plt.ylabel('Total Sales')\n",
        "\n",
        "plt.subplot(2, 3, 5)\n",
        "holiday_sales = train_df.groupby('IsHoliday')['Weekly_Sales'].mean()\n",
        "plt.bar(['Non-Holiday', 'Holiday'], holiday_sales.values)\n",
        "plt.title('Average Sales: Holiday vs Non-Holiday')\n",
        "plt.ylabel('Average Weekly Sales')\n",
        "\n",
        "plt.subplot(2, 3, 6)\n",
        "store_type_sales = train_df.merge(stores_df, on='Store').groupby('Type')['Weekly_Sales'].mean()\n",
        "plt.bar(store_type_sales.index, store_type_sales.values)\n",
        "plt.title('Average Sales by Store Type')\n",
        "plt.ylabel('Average Weekly Sales')\n",
        "\n",
        "plt.tight_layout()\n",
        "plt.savefig('data_exploration.png', dpi=300, bbox_inches='tight')\n",
        "wandb.log({\"data_exploration\": wandb.Image('data_exploration.png')})\n",
        "plt.show()\n",
        "\n",
        "# Log key insights\n",
        "insights = {\n",
        "    \"top_performing_store\": int(store_sales.index[0]),\n",
        "    \"top_performing_department\": int(dept_sales.index[0]),\n",
        "    \"holiday_sales_boost\": float(holiday_sales[True] / holiday_sales[False] - 1) * 100,\n",
        "    \"sales_std_dev\": float(train_df['Weekly_Sales'].std()),\n",
        "    \"negative_sales_count\": int((train_df['Weekly_Sales'] < 0).sum())\n",
        "}\n",
        "\n",
        "wandb.log(insights)\n",
        "print(f\"Key Insights: {insights}\")\n",
        "\n",
        "wandb.finish()"
      ]
    },
    {
      "cell_type": "code",
      "source": [
        "# Block 2: Data Preprocessing\n",
        "import pandas as pd\n",
        "import numpy as np\n",
        "import wandb\n",
        "\n",
        "wandb.init(\n",
        "    project=\"walmart-sales-forecasting\",\n",
        "    name=\"ARIMA_Data_Preprocessing\",\n",
        "    tags=[\"ARIMA\", \"preprocessing\"]\n",
        ")\n",
        "\n",
        "print(\"=== BLOCK 2: DATA PREPROCESSING ===\")\n",
        "\n",
        "# Load data (assuming from previous block or reload)\n",
        "train_df = pd.read_csv(\"/content/train.csv\")\n",
        "features_df = pd.read_csv(\"/content/features.csv\")\n",
        "stores_df = pd.read_csv(\"/content/stores.csv\")\n",
        "\n",
        "def preprocess_walmart_data(train_df, features_df, stores_df):\n",
        "    \"\"\"Comprehensive preprocessing for Walmart data\"\"\"\n",
        "\n",
        "    preprocessing_log = {}\n",
        "\n",
        "    # Convert dates\n",
        "    train_df['Date'] = pd.to_datetime(train_df['Date'])\n",
        "    features_df['Date'] = pd.to_datetime(features_df['Date'])\n",
        "\n",
        "    # Log date info\n",
        "    preprocessing_log['date_range'] = {\n",
        "        'start': str(train_df['Date'].min()),\n",
        "        'end': str(train_df['Date'].max()),\n",
        "        'total_weeks': len(train_df['Date'].unique())\n",
        "    }\n",
        "\n",
        "    # Merge datasets\n",
        "    print(\"Merging datasets...\")\n",
        "    merged_df = train_df.merge(features_df, on=['Store', 'Date'], how='left', suffixes=('', '_feat'))\n",
        "    merged_df = merged_df.merge(stores_df, on='Store', how='left')\n",
        "\n",
        "    # Handle duplicate IsHoliday columns\n",
        "    if 'IsHoliday_feat' in merged_df.columns:\n",
        "        merged_df = merged_df.drop('IsHoliday_feat', axis=1)\n",
        "\n",
        "    # Handle missing values\n",
        "    missing_before = merged_df.isnull().sum().sum()\n",
        "\n",
        "    # Fill missing values strategically\n",
        "    numeric_cols = ['Temperature', 'Fuel_Price', 'CPI', 'Unemployment',\n",
        "                   'MarkDown1', 'MarkDown2', 'MarkDown3', 'MarkDown4', 'MarkDown5']\n",
        "\n",
        "    for col in numeric_cols:\n",
        "        if col in merged_df.columns:\n",
        "            # Forward fill then backward fill\n",
        "            merged_df[col] = merged_df.groupby('Store')[col].fillna(method='ffill').fillna(method='bfill')\n",
        "            # If still missing, fill with median\n",
        "            merged_df[col] = merged_df[col].fillna(merged_df[col].median())\n",
        "\n",
        "    missing_after = merged_df.isnull().sum().sum()\n",
        "\n",
        "    preprocessing_log['missing_values'] = {\n",
        "        'before': int(missing_before),\n",
        "        'after': int(missing_after),\n",
        "        'reduction': int(missing_before - missing_after)\n",
        "    }\n",
        "\n",
        "    # Handle negative sales (mark as outliers but keep for now)\n",
        "    negative_sales = (merged_df['Weekly_Sales'] < 0).sum()\n",
        "    preprocessing_log['negative_sales_count'] = int(negative_sales)\n",
        "\n",
        "    # Create additional time features\n",
        "    merged_df['Year'] = merged_df['Date'].dt.year\n",
        "    merged_df['Month'] = merged_df['Date'].dt.month\n",
        "    merged_df['Week'] = merged_df['Date'].dt.isocalendar().week\n",
        "    merged_df['DayOfYear'] = merged_df['Date'].dt.dayofyear\n",
        "\n",
        "    # Sort data\n",
        "    merged_df = merged_df.sort_values(['Store', 'Dept', 'Date'])\n",
        "\n",
        "    preprocessing_log['final_shape'] = merged_df.shape\n",
        "    preprocessing_log['stores_count'] = merged_df['Store'].nunique()\n",
        "    preprocessing_log['departments_count'] = merged_df['Dept'].nunique()\n",
        "\n",
        "    return merged_df, preprocessing_log\n",
        "\n",
        "# Perform preprocessing\n",
        "merged_data, prep_log = preprocess_walmart_data(train_df, features_df, stores_df)\n",
        "\n",
        "print(\"Preprocessing completed:\")\n",
        "print(f\"  Final shape: {prep_log['final_shape']}\")\n",
        "print(f\"  Missing values reduced from {prep_log['missing_values']['before']} to {prep_log['missing_values']['after']}\")\n",
        "print(f\"  Negative sales: {prep_log['negative_sales_count']}\")\n",
        "\n",
        "# Log preprocessing results\n",
        "wandb.log(prep_log)\n",
        "\n",
        "# Save preprocessed data\n",
        "merged_data.to_pickle('preprocessed_data.pkl')\n",
        "print(\"Preprocessed data saved as 'preprocessed_data.pkl'\")\n",
        "\n",
        "# Log as artifact\n",
        "artifact = wandb.Artifact('preprocessed_data', type='dataset')\n",
        "artifact.add_file('preprocessed_data.pkl')\n",
        "wandb.log_artifact(artifact)\n",
        "\n",
        "wandb.finish()"
      ],
      "metadata": {
        "id": "54PZZRYuLhju",
        "colab": {
          "base_uri": "https://localhost:8080/",
          "height": 612
        },
        "outputId": "1da27b6f-8950-4bf5-b2c0-0f8d077ab254"
      },
      "id": "54PZZRYuLhju",
      "execution_count": 117,
      "outputs": [
        {
          "output_type": "display_data",
          "data": {
            "text/plain": [
              "<IPython.core.display.HTML object>"
            ],
            "text/html": [
              "Tracking run with wandb version 0.21.0"
            ]
          },
          "metadata": {}
        },
        {
          "output_type": "display_data",
          "data": {
            "text/plain": [
              "<IPython.core.display.HTML object>"
            ],
            "text/html": [
              "Run data is saved locally in <code>/content/wandb/run-20250705_153727-246t101p</code>"
            ]
          },
          "metadata": {}
        },
        {
          "output_type": "display_data",
          "data": {
            "text/plain": [
              "<IPython.core.display.HTML object>"
            ],
            "text/html": [
              "Syncing run <strong><a href='https://wandb.ai/dshan21-free-university-of-tbilisi-/walmart-sales-forecasting/runs/246t101p' target=\"_blank\">ARIMA_Data_Preprocessing</a></strong> to <a href='https://wandb.ai/dshan21-free-university-of-tbilisi-/walmart-sales-forecasting' target=\"_blank\">Weights & Biases</a> (<a href='https://wandb.me/developer-guide' target=\"_blank\">docs</a>)<br>"
            ]
          },
          "metadata": {}
        },
        {
          "output_type": "display_data",
          "data": {
            "text/plain": [
              "<IPython.core.display.HTML object>"
            ],
            "text/html": [
              " View project at <a href='https://wandb.ai/dshan21-free-university-of-tbilisi-/walmart-sales-forecasting' target=\"_blank\">https://wandb.ai/dshan21-free-university-of-tbilisi-/walmart-sales-forecasting</a>"
            ]
          },
          "metadata": {}
        },
        {
          "output_type": "display_data",
          "data": {
            "text/plain": [
              "<IPython.core.display.HTML object>"
            ],
            "text/html": [
              " View run at <a href='https://wandb.ai/dshan21-free-university-of-tbilisi-/walmart-sales-forecasting/runs/246t101p' target=\"_blank\">https://wandb.ai/dshan21-free-university-of-tbilisi-/walmart-sales-forecasting/runs/246t101p</a>"
            ]
          },
          "metadata": {}
        },
        {
          "output_type": "stream",
          "name": "stdout",
          "text": [
            "=== BLOCK 2: DATA PREPROCESSING ===\n",
            "Merging datasets...\n",
            "Preprocessing completed:\n",
            "  Final shape: (421570, 20)\n",
            "  Missing values reduced from 1422431 to 0\n",
            "  Negative sales: 1285\n",
            "Preprocessed data saved as 'preprocessed_data.pkl'\n"
          ]
        },
        {
          "output_type": "display_data",
          "data": {
            "text/plain": [
              "<IPython.core.display.HTML object>"
            ],
            "text/html": []
          },
          "metadata": {}
        },
        {
          "output_type": "display_data",
          "data": {
            "text/plain": [
              "<IPython.core.display.HTML object>"
            ],
            "text/html": [
              "<br>    <style><br>        .wandb-row {<br>            display: flex;<br>            flex-direction: row;<br>            flex-wrap: wrap;<br>            justify-content: flex-start;<br>            width: 100%;<br>        }<br>        .wandb-col {<br>            display: flex;<br>            flex-direction: column;<br>            flex-basis: 100%;<br>            flex: 1;<br>            padding: 10px;<br>        }<br>    </style><br><div class=\"wandb-row\"><div class=\"wandb-col\"><h3>Run history:</h3><br/><table class=\"wandb\"><tr><td>departments_count</td><td>▁</td></tr><tr><td>negative_sales_count</td><td>▁</td></tr><tr><td>stores_count</td><td>▁</td></tr></table><br/></div><div class=\"wandb-col\"><h3>Run summary:</h3><br/><table class=\"wandb\"><tr><td>departments_count</td><td>81</td></tr><tr><td>negative_sales_count</td><td>1285</td></tr><tr><td>stores_count</td><td>45</td></tr></table><br/></div></div>"
            ]
          },
          "metadata": {}
        },
        {
          "output_type": "display_data",
          "data": {
            "text/plain": [
              "<IPython.core.display.HTML object>"
            ],
            "text/html": [
              " View run <strong style=\"color:#cdcd00\">ARIMA_Data_Preprocessing</strong> at: <a href='https://wandb.ai/dshan21-free-university-of-tbilisi-/walmart-sales-forecasting/runs/246t101p' target=\"_blank\">https://wandb.ai/dshan21-free-university-of-tbilisi-/walmart-sales-forecasting/runs/246t101p</a><br> View project at: <a href='https://wandb.ai/dshan21-free-university-of-tbilisi-/walmart-sales-forecasting' target=\"_blank\">https://wandb.ai/dshan21-free-university-of-tbilisi-/walmart-sales-forecasting</a><br>Synced 5 W&B file(s), 0 media file(s), 2 artifact file(s) and 0 other file(s)"
            ]
          },
          "metadata": {}
        },
        {
          "output_type": "display_data",
          "data": {
            "text/plain": [
              "<IPython.core.display.HTML object>"
            ],
            "text/html": [
              "Find logs at: <code>./wandb/run-20250705_153727-246t101p/logs</code>"
            ]
          },
          "metadata": {}
        }
      ]
    },
    {
      "cell_type": "code",
      "source": [
        "# Block 3: Time Series Preparation\n",
        "import pandas as pd\n",
        "import numpy as np\n",
        "import matplotlib.pyplot as plt\n",
        "from statsmodels.tsa.stattools import adfuller\n",
        "from statsmodels.tsa.seasonal import seasonal_decompose\n",
        "from statsmodels.graphics.tsaplots import plot_acf, plot_pacf\n",
        "import wandb\n",
        "\n",
        "wandb.init(\n",
        "    project=\"walmart-sales-forecasting\",\n",
        "    name=\"ARIMA_TimeSeries_Preparation\",\n",
        "    tags=[\"ARIMA\", \"time-series\", \"preparation\"]\n",
        ")\n",
        "\n",
        "print(\"=== BLOCK 3: TIME SERIES PREPARATION ===\")\n",
        "\n",
        "# Load preprocessed data\n",
        "try:\n",
        "    merged_data = pd.read_pickle('preprocessed_data.pkl')\n",
        "    print(\"Loaded preprocessed data from pickle\")\n",
        "except:\n",
        "    # Fallback: reload and preprocess\n",
        "    print(\"Reloading and preprocessing data...\")\n",
        "    # ... (preprocessing code from Block 2)\n",
        "\n",
        "def create_store_aggregated_data(data):\n",
        "    \"\"\"Create store-level aggregated time series\"\"\"\n",
        "\n",
        "    # Aggregate by Store and Date\n",
        "    store_ts = data.groupby(['Store', 'Date']).agg({\n",
        "        'Weekly_Sales': 'sum',\n",
        "        'Temperature': 'mean',\n",
        "        'Fuel_Price': 'mean',\n",
        "        'CPI': 'mean',\n",
        "        'Unemployment': 'mean',\n",
        "        'IsHoliday': 'max',\n",
        "        'Size': 'first',\n",
        "        'Type': 'first'\n",
        "    }).reset_index()\n",
        "\n",
        "    return store_ts\n",
        "\n",
        "def analyze_time_series_properties(ts_data, store_id):\n",
        "    \"\"\"Analyze time series properties for stationarity and seasonality\"\"\"\n",
        "\n",
        "    ts = ts_data.set_index('Date')['Weekly_Sales']\n",
        "\n",
        "    # Stationarity test\n",
        "    adf_result = adfuller(ts.dropna())\n",
        "    stationarity = {\n",
        "        'adf_statistic': adf_result[0],\n",
        "        'p_value': adf_result[1],\n",
        "        'is_stationary': adf_result[1] < 0.05,\n",
        "        'critical_values': adf_result[4]\n",
        "    }\n",
        "\n",
        "    # Basic statistics\n",
        "    stats = {\n",
        "        'mean': ts.mean(),\n",
        "        'std': ts.std(),\n",
        "        'min': ts.min(),\n",
        "        'max': ts.max(),\n",
        "        'trend': 'increasing' if ts.iloc[-12:].mean() > ts.iloc[:12].mean() else 'decreasing'\n",
        "    }\n",
        "\n",
        "    return stationarity, stats\n",
        "\n",
        "def plot_time_series_analysis(ts_data, store_id):\n",
        "    \"\"\"Create comprehensive time series analysis plots\"\"\"\n",
        "\n",
        "    ts = ts_data.set_index('Date')['Weekly_Sales']\n",
        "\n",
        "    fig, axes = plt.subplots(2, 2, figsize=(15, 10))\n",
        "\n",
        "    # Original time series\n",
        "    axes[0, 0].plot(ts.index, ts.values)\n",
        "    axes[0, 0].set_title(f'Store {store_id} - Weekly Sales Time Series')\n",
        "    axes[0, 0].set_xlabel('Date')\n",
        "    axes[0, 0].set_ylabel('Weekly Sales')\n",
        "\n",
        "    # Seasonal decomposition\n",
        "    if len(ts) >= 24:  # Need at least 2 cycles for decomposition\n",
        "        decomposition = seasonal_decompose(ts, model='additive', period=52)  # Yearly seasonality\n",
        "\n",
        "        axes[0, 1].plot(decomposition.trend.dropna())\n",
        "        axes[0, 1].set_title('Trend Component')\n",
        "\n",
        "        axes[1, 0].plot(decomposition.seasonal.dropna())\n",
        "        axes[1, 0].set_title('Seasonal Component')\n",
        "\n",
        "        axes[1, 1].plot(decomposition.resid.dropna())\n",
        "        axes[1, 1].set_title('Residual Component')\n",
        "\n",
        "    plt.tight_layout()\n",
        "    filename = f'ts_analysis_store_{store_id}.png'\n",
        "    plt.savefig(filename, dpi=300, bbox_inches='tight')\n",
        "    plt.close()\n",
        "\n",
        "    return filename\n",
        "\n",
        "# Create aggregated time series data\n",
        "print(\"Creating store-level aggregated time series...\")\n",
        "store_aggregated = create_store_aggregated_data(merged_data)\n",
        "\n",
        "# Select stores for analysis\n",
        "store_sales_total = store_aggregated.groupby('Store')['Weekly_Sales'].sum().sort_values(ascending=False)\n",
        "selected_stores = store_sales_total.head(10).index.tolist()\n",
        "\n",
        "print(f\"Selected top 10 stores for time series analysis: {selected_stores}\")\n",
        "wandb.log({\"selected_stores_count\": len(selected_stores), \"selected_stores\": selected_stores})\n",
        "\n",
        "# Analyze each store's time series\n",
        "store_analysis = {}\n",
        "\n",
        "for store_id in selected_stores:\n",
        "    print(f\"\\nAnalyzing Store {store_id}...\")\n",
        "\n",
        "    store_data = store_aggregated[store_aggregated['Store'] == store_id].copy()\n",
        "    store_data = store_data.sort_values('Date')\n",
        "\n",
        "    if len(store_data) < 10:  # Skip stores with insufficient data\n",
        "        print(f\"Skipping store {store_id} - insufficient data\")\n",
        "        continue\n",
        "\n",
        "    # Analyze time series properties\n",
        "    stationarity, stats = analyze_time_series_properties(store_data, store_id)\n",
        "\n",
        "    # Create analysis plots\n",
        "    plot_filename = plot_time_series_analysis(store_data, store_id)\n",
        "\n",
        "    # Store results\n",
        "    store_analysis[store_id] = {\n",
        "        'data_points': len(store_data),\n",
        "        'stationarity': stationarity,\n",
        "        'statistics': stats,\n",
        "        'plot_file': plot_filename\n",
        "    }\n",
        "\n",
        "    # Log individual store metrics\n",
        "    wandb.log({\n",
        "        f'store_{store_id}_data_points': len(store_data),\n",
        "        f'store_{store_id}_is_stationary': stationarity['is_stationary'],\n",
        "        f'store_{store_id}_adf_pvalue': stationarity['p_value'],\n",
        "        f'store_{store_id}_mean_sales': stats['mean'],\n",
        "        f'store_{store_id}_sales_std': stats['std'],\n",
        "        f'store_{store_id}_trend': stats['trend'],\n",
        "        f'store_{store_id}_analysis': wandb.Image(plot_filename)\n",
        "    })\n",
        "\n",
        "    print(f\"  Data points: {len(store_data)}\")\n",
        "    print(f\"  Stationary: {stationarity['is_stationary']} (p-value: {stationarity['p_value']:.4f})\")\n",
        "    print(f\"  Mean sales: {stats['mean']:.2f}\")\n",
        "    print(f\"  Trend: {stats['trend']}\")\n",
        "\n",
        "# Overall analysis summary\n",
        "stationary_stores = sum(1 for analysis in store_analysis.values() if analysis['stationarity']['is_stationary'])\n",
        "total_stores_analyzed = len(store_analysis)\n",
        "\n",
        "summary_stats = {\n",
        "    'total_stores_analyzed': total_stores_analyzed,\n",
        "    'stationary_stores': stationary_stores,\n",
        "    'non_stationary_stores': total_stores_analyzed - stationary_stores,\n",
        "    'avg_data_points': np.mean([analysis['data_points'] for analysis in store_analysis.values()]),\n",
        "    'avg_sales': np.mean([analysis['statistics']['mean'] for analysis in store_analysis.values()]),\n",
        "    'stores_need_differencing': total_stores_analyzed - stationary_stores\n",
        "}\n",
        "\n",
        "wandb.log(summary_stats)\n",
        "\n",
        "print(f\"\\n=== TIME SERIES ANALYSIS SUMMARY ===\")\n",
        "print(f\"Stores analyzed: {total_stores_analyzed}\")\n",
        "print(f\"Stationary stores: {stationary_stores}\")\n",
        "print(f\"Non-stationary stores: {total_stores_analyzed - stationary_stores}\")\n",
        "print(f\"Average data points per store: {summary_stats['avg_data_points']:.1f}\")\n",
        "\n",
        "# Save time series data and analysis\n",
        "store_aggregated.to_pickle('store_timeseries_data.pkl')\n",
        "np.save('store_analysis.npy', store_analysis)\n",
        "\n",
        "# Log as artifacts\n",
        "ts_artifact = wandb.Artifact('timeseries_data', type='dataset')\n",
        "ts_artifact.add_file('store_timeseries_data.pkl')\n",
        "wandb.log_artifact(ts_artifact)\n",
        "\n",
        "analysis_artifact = wandb.Artifact('timeseries_analysis', type='analysis')\n",
        "analysis_artifact.add_file('store_analysis.npy')\n",
        "wandb.log_artifact(analysis_artifact)\n",
        "\n",
        "wandb.finish()"
      ],
      "metadata": {
        "id": "Z23MaHPlLkkf",
        "colab": {
          "base_uri": "https://localhost:8080/",
          "height": 1000
        },
        "outputId": "653b0740-660d-4056-a11c-2d7abebfb451"
      },
      "id": "Z23MaHPlLkkf",
      "execution_count": 118,
      "outputs": [
        {
          "output_type": "display_data",
          "data": {
            "text/plain": [
              "<IPython.core.display.HTML object>"
            ],
            "text/html": [
              "Tracking run with wandb version 0.21.0"
            ]
          },
          "metadata": {}
        },
        {
          "output_type": "display_data",
          "data": {
            "text/plain": [
              "<IPython.core.display.HTML object>"
            ],
            "text/html": [
              "Run data is saved locally in <code>/content/wandb/run-20250705_153737-eyhph0rl</code>"
            ]
          },
          "metadata": {}
        },
        {
          "output_type": "display_data",
          "data": {
            "text/plain": [
              "<IPython.core.display.HTML object>"
            ],
            "text/html": [
              "Syncing run <strong><a href='https://wandb.ai/dshan21-free-university-of-tbilisi-/walmart-sales-forecasting/runs/eyhph0rl' target=\"_blank\">ARIMA_TimeSeries_Preparation</a></strong> to <a href='https://wandb.ai/dshan21-free-university-of-tbilisi-/walmart-sales-forecasting' target=\"_blank\">Weights & Biases</a> (<a href='https://wandb.me/developer-guide' target=\"_blank\">docs</a>)<br>"
            ]
          },
          "metadata": {}
        },
        {
          "output_type": "display_data",
          "data": {
            "text/plain": [
              "<IPython.core.display.HTML object>"
            ],
            "text/html": [
              " View project at <a href='https://wandb.ai/dshan21-free-university-of-tbilisi-/walmart-sales-forecasting' target=\"_blank\">https://wandb.ai/dshan21-free-university-of-tbilisi-/walmart-sales-forecasting</a>"
            ]
          },
          "metadata": {}
        },
        {
          "output_type": "display_data",
          "data": {
            "text/plain": [
              "<IPython.core.display.HTML object>"
            ],
            "text/html": [
              " View run at <a href='https://wandb.ai/dshan21-free-university-of-tbilisi-/walmart-sales-forecasting/runs/eyhph0rl' target=\"_blank\">https://wandb.ai/dshan21-free-university-of-tbilisi-/walmart-sales-forecasting/runs/eyhph0rl</a>"
            ]
          },
          "metadata": {}
        },
        {
          "output_type": "stream",
          "name": "stdout",
          "text": [
            "=== BLOCK 3: TIME SERIES PREPARATION ===\n",
            "Loaded preprocessed data from pickle\n",
            "Creating store-level aggregated time series...\n",
            "Selected top 10 stores for time series analysis: [20, 4, 14, 13, 2, 10, 27, 6, 1, 39]\n",
            "\n",
            "Analyzing Store 20...\n",
            "  Data points: 143\n",
            "  Stationary: True (p-value: 0.0000)\n",
            "  Mean sales: 2107676.87\n",
            "  Trend: increasing\n",
            "\n",
            "Analyzing Store 4...\n",
            "  Data points: 143\n",
            "  Stationary: True (p-value: 0.0478)\n",
            "  Mean sales: 2094712.96\n",
            "  Trend: increasing\n",
            "\n",
            "Analyzing Store 14...\n",
            "  Data points: 143\n",
            "  Stationary: False (p-value: 0.0679)\n",
            "  Mean sales: 2020978.40\n",
            "  Trend: decreasing\n",
            "\n",
            "Analyzing Store 13...\n",
            "  Data points: 143\n",
            "  Stationary: True (p-value: 0.0000)\n",
            "  Mean sales: 2003620.31\n",
            "  Trend: increasing\n",
            "\n",
            "Analyzing Store 2...\n",
            "  Data points: 143\n",
            "  Stationary: True (p-value: 0.0040)\n",
            "  Mean sales: 1925751.34\n",
            "  Trend: decreasing\n",
            "\n",
            "Analyzing Store 10...\n",
            "  Data points: 143\n",
            "  Stationary: True (p-value: 0.0000)\n",
            "  Mean sales: 1899424.57\n",
            "  Trend: decreasing\n",
            "\n",
            "Analyzing Store 27...\n",
            "  Data points: 143\n",
            "  Stationary: True (p-value: 0.0000)\n",
            "  Mean sales: 1775216.20\n",
            "  Trend: decreasing\n",
            "\n",
            "Analyzing Store 6...\n",
            "  Data points: 143\n",
            "  Stationary: True (p-value: 0.0000)\n",
            "  Mean sales: 1564728.19\n",
            "  Trend: decreasing\n",
            "\n",
            "Analyzing Store 1...\n",
            "  Data points: 143\n",
            "  Stationary: True (p-value: 0.0000)\n",
            "  Mean sales: 1555264.40\n",
            "  Trend: increasing\n",
            "\n",
            "Analyzing Store 39...\n",
            "  Data points: 143\n",
            "  Stationary: True (p-value: 0.0005)\n",
            "  Mean sales: 1450668.13\n",
            "  Trend: increasing\n",
            "\n",
            "=== TIME SERIES ANALYSIS SUMMARY ===\n",
            "Stores analyzed: 10\n",
            "Stationary stores: 9\n",
            "Non-stationary stores: 1\n",
            "Average data points per store: 143.0\n"
          ]
        },
        {
          "output_type": "display_data",
          "data": {
            "text/plain": [
              "<IPython.core.display.HTML object>"
            ],
            "text/html": []
          },
          "metadata": {}
        },
        {
          "output_type": "display_data",
          "data": {
            "text/plain": [
              "<IPython.core.display.HTML object>"
            ],
            "text/html": [
              "<br>    <style><br>        .wandb-row {<br>            display: flex;<br>            flex-direction: row;<br>            flex-wrap: wrap;<br>            justify-content: flex-start;<br>            width: 100%;<br>        }<br>        .wandb-col {<br>            display: flex;<br>            flex-direction: column;<br>            flex-basis: 100%;<br>            flex: 1;<br>            padding: 10px;<br>        }<br>    </style><br><div class=\"wandb-row\"><div class=\"wandb-col\"><h3>Run history:</h3><br/><table class=\"wandb\"><tr><td>avg_data_points</td><td>▁</td></tr><tr><td>avg_sales</td><td>▁</td></tr><tr><td>non_stationary_stores</td><td>▁</td></tr><tr><td>selected_stores_count</td><td>▁</td></tr><tr><td>stationary_stores</td><td>▁</td></tr><tr><td>store_10_adf_pvalue</td><td>▁</td></tr><tr><td>store_10_data_points</td><td>▁</td></tr><tr><td>store_10_mean_sales</td><td>▁</td></tr><tr><td>store_10_sales_std</td><td>▁</td></tr><tr><td>store_13_adf_pvalue</td><td>▁</td></tr><tr><td>store_13_data_points</td><td>▁</td></tr><tr><td>store_13_mean_sales</td><td>▁</td></tr><tr><td>store_13_sales_std</td><td>▁</td></tr><tr><td>store_14_adf_pvalue</td><td>▁</td></tr><tr><td>store_14_data_points</td><td>▁</td></tr><tr><td>store_14_mean_sales</td><td>▁</td></tr><tr><td>store_14_sales_std</td><td>▁</td></tr><tr><td>store_1_adf_pvalue</td><td>▁</td></tr><tr><td>store_1_data_points</td><td>▁</td></tr><tr><td>store_1_mean_sales</td><td>▁</td></tr><tr><td>store_1_sales_std</td><td>▁</td></tr><tr><td>store_20_adf_pvalue</td><td>▁</td></tr><tr><td>store_20_data_points</td><td>▁</td></tr><tr><td>store_20_mean_sales</td><td>▁</td></tr><tr><td>store_20_sales_std</td><td>▁</td></tr><tr><td>store_27_adf_pvalue</td><td>▁</td></tr><tr><td>store_27_data_points</td><td>▁</td></tr><tr><td>store_27_mean_sales</td><td>▁</td></tr><tr><td>store_27_sales_std</td><td>▁</td></tr><tr><td>store_2_adf_pvalue</td><td>▁</td></tr><tr><td>store_2_data_points</td><td>▁</td></tr><tr><td>store_2_mean_sales</td><td>▁</td></tr><tr><td>store_2_sales_std</td><td>▁</td></tr><tr><td>store_39_adf_pvalue</td><td>▁</td></tr><tr><td>store_39_data_points</td><td>▁</td></tr><tr><td>store_39_mean_sales</td><td>▁</td></tr><tr><td>store_39_sales_std</td><td>▁</td></tr><tr><td>store_4_adf_pvalue</td><td>▁</td></tr><tr><td>store_4_data_points</td><td>▁</td></tr><tr><td>store_4_mean_sales</td><td>▁</td></tr><tr><td>store_4_sales_std</td><td>▁</td></tr><tr><td>store_6_adf_pvalue</td><td>▁</td></tr><tr><td>store_6_data_points</td><td>▁</td></tr><tr><td>store_6_mean_sales</td><td>▁</td></tr><tr><td>store_6_sales_std</td><td>▁</td></tr><tr><td>stores_need_differencing</td><td>▁</td></tr><tr><td>total_stores_analyzed</td><td>▁</td></tr></table><br/></div><div class=\"wandb-col\"><h3>Run summary:</h3><br/><table class=\"wandb\"><tr><td>avg_data_points</td><td>143</td></tr><tr><td>avg_sales</td><td>1839804.13615</td></tr><tr><td>non_stationary_stores</td><td>1</td></tr><tr><td>selected_stores_count</td><td>10</td></tr><tr><td>stationary_stores</td><td>9</td></tr><tr><td>store_10_adf_pvalue</td><td>1e-05</td></tr><tr><td>store_10_data_points</td><td>143</td></tr><tr><td>store_10_is_stationary</td><td>True</td></tr><tr><td>store_10_mean_sales</td><td>1899424.57266</td></tr><tr><td>store_10_sales_std</td><td>302262.0625</td></tr><tr><td>store_10_trend</td><td>decreasing</td></tr><tr><td>store_13_adf_pvalue</td><td>0.0</td></tr><tr><td>store_13_data_points</td><td>143</td></tr><tr><td>store_13_is_stationary</td><td>True</td></tr><tr><td>store_13_mean_sales</td><td>2003620.30629</td></tr><tr><td>store_13_sales_std</td><td>265506.99578</td></tr><tr><td>store_13_trend</td><td>increasing</td></tr><tr><td>store_14_adf_pvalue</td><td>0.06787</td></tr><tr><td>store_14_data_points</td><td>143</td></tr><tr><td>store_14_is_stationary</td><td>False</td></tr><tr><td>store_14_mean_sales</td><td>2020978.40098</td></tr><tr><td>store_14_sales_std</td><td>317569.94948</td></tr><tr><td>store_14_trend</td><td>decreasing</td></tr><tr><td>store_1_adf_pvalue</td><td>1e-05</td></tr><tr><td>store_1_data_points</td><td>143</td></tr><tr><td>store_1_is_stationary</td><td>True</td></tr><tr><td>store_1_mean_sales</td><td>1555264.39755</td></tr><tr><td>store_1_sales_std</td><td>155980.76776</td></tr><tr><td>store_1_trend</td><td>increasing</td></tr><tr><td>store_20_adf_pvalue</td><td>0.0</td></tr><tr><td>store_20_data_points</td><td>143</td></tr><tr><td>store_20_is_stationary</td><td>True</td></tr><tr><td>store_20_mean_sales</td><td>2107676.87035</td></tr><tr><td>store_20_sales_std</td><td>275900.56274</td></tr><tr><td>store_20_trend</td><td>increasing</td></tr><tr><td>store_27_adf_pvalue</td><td>1e-05</td></tr><tr><td>store_27_data_points</td><td>143</td></tr><tr><td>store_27_is_stationary</td><td>True</td></tr><tr><td>store_27_mean_sales</td><td>1775216.20196</td></tr><tr><td>store_27_sales_std</td><td>239930.13569</td></tr><tr><td>store_27_trend</td><td>decreasing</td></tr><tr><td>store_2_adf_pvalue</td><td>0.00399</td></tr><tr><td>store_2_data_points</td><td>143</td></tr><tr><td>store_2_is_stationary</td><td>True</td></tr><tr><td>store_2_mean_sales</td><td>1925751.33552</td></tr><tr><td>store_2_sales_std</td><td>237683.69468</td></tr><tr><td>store_2_trend</td><td>decreasing</td></tr><tr><td>store_39_adf_pvalue</td><td>0.00048</td></tr><tr><td>store_39_data_points</td><td>143</td></tr><tr><td>store_39_is_stationary</td><td>True</td></tr><tr><td>store_39_mean_sales</td><td>1450668.12916</td></tr><tr><td>store_39_sales_std</td><td>217466.45483</td></tr><tr><td>store_39_trend</td><td>increasing</td></tr><tr><td>store_4_adf_pvalue</td><td>0.0478</td></tr><tr><td>store_4_data_points</td><td>143</td></tr><tr><td>store_4_is_stationary</td><td>True</td></tr><tr><td>store_4_mean_sales</td><td>2094712.9607</td></tr><tr><td>store_4_sales_std</td><td>266201.4423</td></tr><tr><td>store_4_trend</td><td>increasing</td></tr><tr><td>store_6_adf_pvalue</td><td>0.0</td></tr><tr><td>store_6_data_points</td><td>143</td></tr><tr><td>store_6_is_stationary</td><td>True</td></tr><tr><td>store_6_mean_sales</td><td>1564728.18629</td></tr><tr><td>store_6_sales_std</td><td>212525.85586</td></tr><tr><td>store_6_trend</td><td>decreasing</td></tr><tr><td>stores_need_differencing</td><td>1</td></tr><tr><td>total_stores_analyzed</td><td>10</td></tr></table><br/></div></div>"
            ]
          },
          "metadata": {}
        },
        {
          "output_type": "display_data",
          "data": {
            "text/plain": [
              "<IPython.core.display.HTML object>"
            ],
            "text/html": [
              " View run <strong style=\"color:#cdcd00\">ARIMA_TimeSeries_Preparation</strong> at: <a href='https://wandb.ai/dshan21-free-university-of-tbilisi-/walmart-sales-forecasting/runs/eyhph0rl' target=\"_blank\">https://wandb.ai/dshan21-free-university-of-tbilisi-/walmart-sales-forecasting/runs/eyhph0rl</a><br> View project at: <a href='https://wandb.ai/dshan21-free-university-of-tbilisi-/walmart-sales-forecasting' target=\"_blank\">https://wandb.ai/dshan21-free-university-of-tbilisi-/walmart-sales-forecasting</a><br>Synced 5 W&B file(s), 10 media file(s), 4 artifact file(s) and 0 other file(s)"
            ]
          },
          "metadata": {}
        },
        {
          "output_type": "display_data",
          "data": {
            "text/plain": [
              "<IPython.core.display.HTML object>"
            ],
            "text/html": [
              "Find logs at: <code>./wandb/run-20250705_153737-eyhph0rl/logs</code>"
            ]
          },
          "metadata": {}
        }
      ]
    },
    {
      "cell_type": "code",
      "source": [
        "# Block 4: ARIMA Model Training & Hyperparameter Tuning\n",
        "import pandas as pd\n",
        "import numpy as np\n",
        "import itertools\n",
        "import warnings\n",
        "warnings.filterwarnings('ignore')\n",
        "\n",
        "from statsmodels.tsa.arima.model import ARIMA\n",
        "from sklearn.metrics import mean_absolute_error, mean_squared_error\n",
        "import wandb\n",
        "\n",
        "wandb.init(\n",
        "    project=\"walmart-sales-forecasting\",\n",
        "    name=\"ARIMA_Hyperparameter_Tuning\",\n",
        "    tags=[\"ARIMA\", \"hyperparameter-tuning\", \"training\"]\n",
        ")\n",
        "\n",
        "print(\"=== BLOCK 4: ARIMA MODEL TRAINING & HYPERPARAMETER TUNING ===\")\n",
        "\n",
        "# Load time series data\n",
        "try:\n",
        "    store_ts_data = pd.read_pickle('store_timeseries_data.pkl')\n",
        "    store_analysis = np.load('store_analysis.npy', allow_pickle=True).item()\n",
        "    print(\"Loaded time series data and analysis\")\n",
        "except:\n",
        "    print(\"Could not load time series data. Please run Block 3 first.\")\n",
        "    wandb.finish()\n",
        "    exit()\n",
        "\n",
        "class ARIMAHyperparameterTuner:\n",
        "    def __init__(self, max_p=3, max_d=2, max_q=3):\n",
        "        self.max_p = max_p\n",
        "        self.max_d = max_d\n",
        "        self.max_q = max_q\n",
        "        self.results = {}\n",
        "\n",
        "    def grid_search(self, timeseries, store_id):\n",
        "        \"\"\"Perform grid search for best ARIMA parameters\"\"\"\n",
        "\n",
        "        print(f\"Grid searching ARIMA parameters for Store {store_id}...\")\n",
        "\n",
        "        best_aic = float('inf')\n",
        "        best_params = None\n",
        "        best_model = None\n",
        "        all_results = []\n",
        "\n",
        "        p_range = range(0, self.max_p + 1)\n",
        "        d_range = range(0, self.max_d + 1)\n",
        "        q_range = range(0, self.max_q + 1)\n",
        "\n",
        "        total_combinations = (self.max_p + 1) * (self.max_d + 1) * (self.max_q + 1)\n",
        "        print(f\"Testing {total_combinations} parameter combinations...\")\n",
        "\n",
        "        for i, (p, d, q) in enumerate(itertools.product(p_range, d_range, q_range)):\n",
        "            try:\n",
        "                # Fit ARIMA model\n",
        "                model = ARIMA(timeseries, order=(p, d, q))\n",
        "                fitted_model = model.fit()\n",
        "\n",
        "                aic = fitted_model.aic\n",
        "                bic = fitted_model.bic\n",
        "                hqic = fitted_model.hqic\n",
        "\n",
        "                result = {\n",
        "                    'store_id': store_id,\n",
        "                    'p': p, 'd': d, 'q': q,\n",
        "                    'aic': aic, 'bic': bic, 'hqic': hqic,\n",
        "                    'converged': fitted_model.mle_retvals['converged'] if hasattr(fitted_model, 'mle_retvals') else True\n",
        "                }\n",
        "\n",
        "                all_results.append(result)\n",
        "\n",
        "                # Track best model by AIC\n",
        "                if aic < best_aic:\n",
        "                    best_aic = aic\n",
        "                    best_params = (p, d, q)\n",
        "                    best_model = fitted_model\n",
        "\n",
        "                # Log progress\n",
        "                if (i + 1) % 10 == 0:\n",
        "                    print(f\"  Completed {i + 1}/{total_combinations} combinations\")\n",
        "\n",
        "            except Exception as e:\n",
        "                # Log failed combinations\n",
        "                all_results.append({\n",
        "                    'store_id': store_id,\n",
        "                    'p': p, 'd': d, 'q': q,\n",
        "                    'aic': np.inf, 'bic': np.inf, 'hqic': np.inf,\n",
        "                    'converged': False,\n",
        "                    'error': str(e)\n",
        "                })\n",
        "                continue\n",
        "\n",
        "        return best_params, best_aic, best_model, all_results\n",
        "\n",
        "def evaluate_arima_model(fitted_model, train_data, test_data):\n",
        "    \"\"\"Evaluate ARIMA model performance\"\"\"\n",
        "\n",
        "    try:\n",
        "        # Make predictions\n",
        "        forecast = fitted_model.forecast(steps=len(test_data))\n",
        "\n",
        "        # Calculate metrics\n",
        "        mae = mean_absolute_error(test_data, forecast)\n",
        "        rmse = np.sqrt(mean_squared_error(test_data, forecast))\n",
        "        mape = np.mean(np.abs((test_data - forecast) / test_data)) * 100\n",
        "\n",
        "        return {\n",
        "            'mae': mae,\n",
        "            'rmse': rmse,\n",
        "            'mape': mape,\n",
        "            'forecast': forecast\n",
        "        }\n",
        "    except Exception as e:\n",
        "        return {\n",
        "            'mae': np.inf,\n",
        "            'rmse': np.inf,\n",
        "            'mape': np.inf,\n",
        "            'error': str(e)\n",
        "        }\n",
        "\n",
        "# Select stores for modeling (top performers with sufficient data)\n",
        "store_sales = store_ts_data.groupby('Store')['Weekly_Sales'].sum().sort_values(ascending=False)\n",
        "modeling_stores = []\n",
        "\n",
        "for store_id in store_sales.index:\n",
        "    store_data = store_ts_data[store_ts_data['Store'] == store_id]\n",
        "    if len(store_data) >= 40:  # Need sufficient data for train/test split\n",
        "        modeling_stores.append(store_id)\n",
        "    if len(modeling_stores) >= 5:  # Limit to top 5 stores for computational efficiency\n",
        "        break\n",
        "\n",
        "print(f\"Selected {len(modeling_stores)} stores for ARIMA modeling: {modeling_stores}\")\n",
        "wandb.log({\"modeling_stores\": modeling_stores, \"modeling_stores_count\": len(modeling_stores)})\n",
        "\n",
        "# Initialize hyperparameter tuner\n",
        "tuner = ARIMAHyperparameterTuner(max_p=3, max_d=2, max_q=3)\n",
        "\n",
        "# Train and tune ARIMA models for each store\n",
        "trained_models = {}\n",
        "all_tuning_results = []\n",
        "\n",
        "for store_id in modeling_stores:\n",
        "    print(f\"\\n{'='*50}\")\n",
        "    print(f\"TRAINING ARIMA MODEL FOR STORE {store_id}\")\n",
        "    print(f\"{'='*50}\")\n",
        "\n",
        "    # Get store data\n",
        "    store_data = store_ts_data[store_ts_data['Store'] == store_id].copy()\n",
        "    store_data = store_data.sort_values('Date')\n",
        "    store_ts = store_data.set_index('Date')['Weekly_Sales']\n",
        "\n",
        "    # Train/test split (80/20)\n",
        "    split_idx = int(len(store_ts) * 0.8)\n",
        "    train_ts = store_ts.iloc[:split_idx]\n",
        "    test_ts = store_ts.iloc[split_idx:]\n",
        "\n",
        "    print(f\"Train size: {len(train_ts)}, Test size: {len(test_ts)}\")\n",
        "\n",
        "    # Hyperparameter tuning\n",
        "    best_params, best_aic, best_model, tuning_results = tuner.grid_search(train_ts, store_id)\n",
        "\n",
        "    if best_model is not None:\n",
        "        # Evaluate best model\n",
        "        evaluation = evaluate_arima_model(best_model, train_ts, test_ts)\n",
        "\n",
        "        # Store results\n",
        "        trained_models[store_id] = {\n",
        "            'best_params': best_params,\n",
        "            'best_aic': best_aic,\n",
        "            'model': best_model,\n",
        "            'evaluation': evaluation,\n",
        "            'train_size': len(train_ts),\n",
        "            'test_size': len(test_ts)\n",
        "        }\n",
        "\n",
        "        print(f\"Best parameters: ARIMA{best_params}\")\n",
        "        print(f\"Best AIC: {best_aic:.2f}\")\n",
        "        print(f\"Test MAE: {evaluation['mae']:.2f}\")\n",
        "        print(f\"Test RMSE: {evaluation['rmse']:.2f}\")\n",
        "        print(f\"Test MAPE: {evaluation['mape']:.2f}%\")\n",
        "\n",
        "        # Log to wandb\n",
        "        wandb.log({\n",
        "            f'store_{store_id}_best_p': best_params[0],\n",
        "            f'store_{store_id}_best_d': best_params[1],\n",
        "            f'store_{store_id}_best_q': best_params[2],\n",
        "            f'store_{store_id}_best_aic': best_aic,\n",
        "            f'store_{store_id}_test_mae': evaluation['mae'],\n",
        "            f'store_{store_id}_test_rmse': evaluation['rmse'],\n",
        "            f'store_{store_id}_test_mape': evaluation['mape'],\n",
        "            f'store_{store_id}_train_size': len(train_ts),\n",
        "            f'store_{store_id}_test_size': len(test_ts)\n",
        "        })\n",
        "\n",
        "    else:\n",
        "        print(f\"Failed to train ARIMA model for Store {store_id}\")\n",
        "\n",
        "    # Store all tuning results\n",
        "    all_tuning_results.extend(tuning_results)\n",
        "\n",
        "# Create summary of hyperparameter tuning results\n",
        "tuning_df = pd.DataFrame(all_tuning_results)\n",
        "successful_runs = tuning_df[tuning_df['aic'] != np.inf]\n",
        "\n",
        "if len(successful_runs) > 0:\n",
        "    # Analyze parameter frequency\n",
        "    param_analysis = {\n",
        "        'most_common_p': int(successful_runs['p'].mode().iloc[0]),\n",
        "        'most_common_d': int(successful_runs['d'].mode().iloc[0]),\n",
        "        'most_common_q': int(successful_runs['q'].mode().iloc[0]),\n",
        "        'avg_aic': float(successful_runs['aic'].mean()),\n",
        "        'best_overall_aic': float(successful_runs['aic'].min()),\n",
        "        'success_rate': len(successful_runs) / len(tuning_df) * 100,\n",
        "        'total_experiments': len(tuning_df),\n",
        "        'successful_experiments': len(successful_runs)\n",
        "    }\n",
        "\n",
        "    wandb.log(param_analysis)\n",
        "\n",
        "    print(f\"\\n=== HYPERPARAMETER TUNING SUMMARY ===\")\n",
        "    print(f\"Total experiments: {param_analysis['total_experiments']}\")\n",
        "    print(f\"Successful experiments: {param_analysis['successful_experiments']}\")\n",
        "    print(f\"Success rate: {param_analysis['success_rate']:.1f}%\")\n",
        "    print(f\"Most common parameters: ({param_analysis['most_common_p']}, {param_analysis['most_common_d']}, {param_analysis['most_common_q']})\")\n",
        "    print(f\"Average AIC: {param_analysis['avg_aic']:.2f}\")\n",
        "    print(f\"Best overall AIC: {param_analysis['best_overall_aic']:.2f}\")\n",
        "\n",
        "# Save tuning results and trained models\n",
        "tuning_df.to_csv('arima_tuning_results.csv', index=False)\n",
        "np.save('trained_arima_models.npy', trained_models)\n",
        "\n",
        "# Log as artifacts\n",
        "tuning_artifact = wandb.Artifact('arima_tuning_results', type='results')\n",
        "tuning_artifact.add_file('arima_tuning_results.csv')\n",
        "wandb.log_artifact(tuning_artifact)\n",
        "\n",
        "models_artifact = wandb.Artifact('trained_arima_models', type='model')\n",
        "models_artifact.add_file('trained_arima_models.npy')\n",
        "wandb.log_artifact(models_artifact)\n",
        "\n",
        "print(f\"\\nTraining completed for {len(trained_models)} stores\")\n",
        "print(\"Results saved and logged to wandb\")\n",
        "\n",
        "wandb.finish()"
      ],
      "metadata": {
        "id": "aw2te6AbLpd4",
        "colab": {
          "base_uri": "https://localhost:8080/",
          "height": 1000
        },
        "outputId": "f990aef1-e16a-4210-ab9f-2d8a698c96cb"
      },
      "id": "aw2te6AbLpd4",
      "execution_count": 119,
      "outputs": [
        {
          "output_type": "display_data",
          "data": {
            "text/plain": [
              "<IPython.core.display.HTML object>"
            ],
            "text/html": [
              "Tracking run with wandb version 0.21.0"
            ]
          },
          "metadata": {}
        },
        {
          "output_type": "display_data",
          "data": {
            "text/plain": [
              "<IPython.core.display.HTML object>"
            ],
            "text/html": [
              "Run data is saved locally in <code>/content/wandb/run-20250705_153822-7ati0biv</code>"
            ]
          },
          "metadata": {}
        },
        {
          "output_type": "display_data",
          "data": {
            "text/plain": [
              "<IPython.core.display.HTML object>"
            ],
            "text/html": [
              "Syncing run <strong><a href='https://wandb.ai/dshan21-free-university-of-tbilisi-/walmart-sales-forecasting/runs/7ati0biv' target=\"_blank\">ARIMA_Hyperparameter_Tuning</a></strong> to <a href='https://wandb.ai/dshan21-free-university-of-tbilisi-/walmart-sales-forecasting' target=\"_blank\">Weights & Biases</a> (<a href='https://wandb.me/developer-guide' target=\"_blank\">docs</a>)<br>"
            ]
          },
          "metadata": {}
        },
        {
          "output_type": "display_data",
          "data": {
            "text/plain": [
              "<IPython.core.display.HTML object>"
            ],
            "text/html": [
              " View project at <a href='https://wandb.ai/dshan21-free-university-of-tbilisi-/walmart-sales-forecasting' target=\"_blank\">https://wandb.ai/dshan21-free-university-of-tbilisi-/walmart-sales-forecasting</a>"
            ]
          },
          "metadata": {}
        },
        {
          "output_type": "display_data",
          "data": {
            "text/plain": [
              "<IPython.core.display.HTML object>"
            ],
            "text/html": [
              " View run at <a href='https://wandb.ai/dshan21-free-university-of-tbilisi-/walmart-sales-forecasting/runs/7ati0biv' target=\"_blank\">https://wandb.ai/dshan21-free-university-of-tbilisi-/walmart-sales-forecasting/runs/7ati0biv</a>"
            ]
          },
          "metadata": {}
        },
        {
          "output_type": "stream",
          "name": "stdout",
          "text": [
            "=== BLOCK 4: ARIMA MODEL TRAINING & HYPERPARAMETER TUNING ===\n",
            "Loaded time series data and analysis\n",
            "Selected 5 stores for ARIMA modeling: [20, 4, 14, 13, 2]\n",
            "\n",
            "==================================================\n",
            "TRAINING ARIMA MODEL FOR STORE 20\n",
            "==================================================\n",
            "Train size: 114, Test size: 29\n",
            "Grid searching ARIMA parameters for Store 20...\n",
            "Testing 48 parameter combinations...\n",
            "  Completed 10/48 combinations\n",
            "  Completed 20/48 combinations\n",
            "  Completed 30/48 combinations\n",
            "  Completed 40/48 combinations\n",
            "Best parameters: ARIMA(2, 1, 2)\n",
            "Best AIC: 3172.61\n",
            "Test MAE: 148321.21\n",
            "Test RMSE: 178149.55\n",
            "Test MAPE: 7.34%\n",
            "\n",
            "==================================================\n",
            "TRAINING ARIMA MODEL FOR STORE 4\n",
            "==================================================\n",
            "Train size: 114, Test size: 29\n",
            "Grid searching ARIMA parameters for Store 4...\n",
            "Testing 48 parameter combinations...\n",
            "  Completed 10/48 combinations\n",
            "  Completed 20/48 combinations\n",
            "  Completed 30/48 combinations\n",
            "  Completed 40/48 combinations\n",
            "Best parameters: ARIMA(2, 1, 3)\n",
            "Best AIC: 3156.11\n",
            "Test MAE: 113804.24\n",
            "Test RMSE: 128543.92\n",
            "Test MAPE: 5.37%\n",
            "\n",
            "==================================================\n",
            "TRAINING ARIMA MODEL FOR STORE 14\n",
            "==================================================\n",
            "Train size: 114, Test size: 29\n",
            "Grid searching ARIMA parameters for Store 14...\n",
            "Testing 48 parameter combinations...\n",
            "  Completed 10/48 combinations\n",
            "  Completed 20/48 combinations\n",
            "  Completed 30/48 combinations\n",
            "  Completed 40/48 combinations\n",
            "Best parameters: ARIMA(2, 1, 1)\n",
            "Best AIC: 3175.01\n",
            "Test MAE: 325309.16\n",
            "Test RMSE: 365521.72\n",
            "Test MAPE: 19.80%\n",
            "\n",
            "==================================================\n",
            "TRAINING ARIMA MODEL FOR STORE 13\n",
            "==================================================\n",
            "Train size: 114, Test size: 29\n",
            "Grid searching ARIMA parameters for Store 13...\n",
            "Testing 48 parameter combinations...\n",
            "  Completed 10/48 combinations\n",
            "  Completed 20/48 combinations\n",
            "  Completed 30/48 combinations\n",
            "  Completed 40/48 combinations\n",
            "Best parameters: ARIMA(1, 1, 3)\n",
            "Best AIC: 3164.31\n",
            "Test MAE: 71957.05\n",
            "Test RMSE: 88330.67\n",
            "Test MAPE: 3.57%\n",
            "\n",
            "==================================================\n",
            "TRAINING ARIMA MODEL FOR STORE 2\n",
            "==================================================\n",
            "Train size: 114, Test size: 29\n",
            "Grid searching ARIMA parameters for Store 2...\n",
            "Testing 48 parameter combinations...\n",
            "  Completed 10/48 combinations\n",
            "  Completed 20/48 combinations\n",
            "  Completed 30/48 combinations\n",
            "  Completed 40/48 combinations\n",
            "Best parameters: ARIMA(1, 1, 3)\n",
            "Best AIC: 3142.51\n",
            "Test MAE: 74199.60\n",
            "Test RMSE: 89871.05\n",
            "Test MAPE: 4.00%\n",
            "\n",
            "=== HYPERPARAMETER TUNING SUMMARY ===\n",
            "Total experiments: 240\n",
            "Successful experiments: 240\n",
            "Success rate: 100.0%\n",
            "Most common parameters: (0, 0, 0)\n",
            "Average AIC: 3188.72\n",
            "Best overall AIC: 3142.51\n",
            "\n",
            "Training completed for 5 stores\n",
            "Results saved and logged to wandb\n"
          ]
        },
        {
          "output_type": "display_data",
          "data": {
            "text/plain": [
              "<IPython.core.display.HTML object>"
            ],
            "text/html": []
          },
          "metadata": {}
        },
        {
          "output_type": "display_data",
          "data": {
            "text/plain": [
              "<IPython.core.display.HTML object>"
            ],
            "text/html": [
              "<br>    <style><br>        .wandb-row {<br>            display: flex;<br>            flex-direction: row;<br>            flex-wrap: wrap;<br>            justify-content: flex-start;<br>            width: 100%;<br>        }<br>        .wandb-col {<br>            display: flex;<br>            flex-direction: column;<br>            flex-basis: 100%;<br>            flex: 1;<br>            padding: 10px;<br>        }<br>    </style><br><div class=\"wandb-row\"><div class=\"wandb-col\"><h3>Run history:</h3><br/><table class=\"wandb\"><tr><td>avg_aic</td><td>▁</td></tr><tr><td>best_overall_aic</td><td>▁</td></tr><tr><td>modeling_stores_count</td><td>▁</td></tr><tr><td>most_common_d</td><td>▁</td></tr><tr><td>most_common_p</td><td>▁</td></tr><tr><td>most_common_q</td><td>▁</td></tr><tr><td>store_13_best_aic</td><td>▁</td></tr><tr><td>store_13_best_d</td><td>▁</td></tr><tr><td>store_13_best_p</td><td>▁</td></tr><tr><td>store_13_best_q</td><td>▁</td></tr><tr><td>store_13_test_mae</td><td>▁</td></tr><tr><td>store_13_test_mape</td><td>▁</td></tr><tr><td>store_13_test_rmse</td><td>▁</td></tr><tr><td>store_13_test_size</td><td>▁</td></tr><tr><td>store_13_train_size</td><td>▁</td></tr><tr><td>store_14_best_aic</td><td>▁</td></tr><tr><td>store_14_best_d</td><td>▁</td></tr><tr><td>store_14_best_p</td><td>▁</td></tr><tr><td>store_14_best_q</td><td>▁</td></tr><tr><td>store_14_test_mae</td><td>▁</td></tr><tr><td>store_14_test_mape</td><td>▁</td></tr><tr><td>store_14_test_rmse</td><td>▁</td></tr><tr><td>store_14_test_size</td><td>▁</td></tr><tr><td>store_14_train_size</td><td>▁</td></tr><tr><td>store_20_best_aic</td><td>▁</td></tr><tr><td>store_20_best_d</td><td>▁</td></tr><tr><td>store_20_best_p</td><td>▁</td></tr><tr><td>store_20_best_q</td><td>▁</td></tr><tr><td>store_20_test_mae</td><td>▁</td></tr><tr><td>store_20_test_mape</td><td>▁</td></tr><tr><td>store_20_test_rmse</td><td>▁</td></tr><tr><td>store_20_test_size</td><td>▁</td></tr><tr><td>store_20_train_size</td><td>▁</td></tr><tr><td>store_2_best_aic</td><td>▁</td></tr><tr><td>store_2_best_d</td><td>▁</td></tr><tr><td>store_2_best_p</td><td>▁</td></tr><tr><td>store_2_best_q</td><td>▁</td></tr><tr><td>store_2_test_mae</td><td>▁</td></tr><tr><td>store_2_test_mape</td><td>▁</td></tr><tr><td>store_2_test_rmse</td><td>▁</td></tr><tr><td>store_2_test_size</td><td>▁</td></tr><tr><td>store_2_train_size</td><td>▁</td></tr><tr><td>store_4_best_aic</td><td>▁</td></tr><tr><td>store_4_best_d</td><td>▁</td></tr><tr><td>store_4_best_p</td><td>▁</td></tr><tr><td>store_4_best_q</td><td>▁</td></tr><tr><td>store_4_test_mae</td><td>▁</td></tr><tr><td>store_4_test_mape</td><td>▁</td></tr><tr><td>store_4_test_rmse</td><td>▁</td></tr><tr><td>store_4_test_size</td><td>▁</td></tr><tr><td>store_4_train_size</td><td>▁</td></tr><tr><td>success_rate</td><td>▁</td></tr><tr><td>successful_experiments</td><td>▁</td></tr><tr><td>total_experiments</td><td>▁</td></tr></table><br/></div><div class=\"wandb-col\"><h3>Run summary:</h3><br/><table class=\"wandb\"><tr><td>avg_aic</td><td>3188.71724</td></tr><tr><td>best_overall_aic</td><td>3142.51478</td></tr><tr><td>modeling_stores_count</td><td>5</td></tr><tr><td>most_common_d</td><td>0</td></tr><tr><td>most_common_p</td><td>0</td></tr><tr><td>most_common_q</td><td>0</td></tr><tr><td>store_13_best_aic</td><td>3164.30912</td></tr><tr><td>store_13_best_d</td><td>1</td></tr><tr><td>store_13_best_p</td><td>1</td></tr><tr><td>store_13_best_q</td><td>3</td></tr><tr><td>store_13_test_mae</td><td>71957.04907</td></tr><tr><td>store_13_test_mape</td><td>3.56624</td></tr><tr><td>store_13_test_rmse</td><td>88330.6665</td></tr><tr><td>store_13_test_size</td><td>29</td></tr><tr><td>store_13_train_size</td><td>114</td></tr><tr><td>store_14_best_aic</td><td>3175.00719</td></tr><tr><td>store_14_best_d</td><td>1</td></tr><tr><td>store_14_best_p</td><td>2</td></tr><tr><td>store_14_best_q</td><td>1</td></tr><tr><td>store_14_test_mae</td><td>325309.15504</td></tr><tr><td>store_14_test_mape</td><td>19.79581</td></tr><tr><td>store_14_test_rmse</td><td>365521.71959</td></tr><tr><td>store_14_test_size</td><td>29</td></tr><tr><td>store_14_train_size</td><td>114</td></tr><tr><td>store_20_best_aic</td><td>3172.61357</td></tr><tr><td>store_20_best_d</td><td>1</td></tr><tr><td>store_20_best_p</td><td>2</td></tr><tr><td>store_20_best_q</td><td>2</td></tr><tr><td>store_20_test_mae</td><td>148321.21427</td></tr><tr><td>store_20_test_mape</td><td>7.34026</td></tr><tr><td>store_20_test_rmse</td><td>178149.55231</td></tr><tr><td>store_20_test_size</td><td>29</td></tr><tr><td>store_20_train_size</td><td>114</td></tr><tr><td>store_2_best_aic</td><td>3142.51478</td></tr><tr><td>store_2_best_d</td><td>1</td></tr><tr><td>store_2_best_p</td><td>1</td></tr><tr><td>store_2_best_q</td><td>3</td></tr><tr><td>store_2_test_mae</td><td>74199.60292</td></tr><tr><td>store_2_test_mape</td><td>3.99716</td></tr><tr><td>store_2_test_rmse</td><td>89871.04517</td></tr><tr><td>store_2_test_size</td><td>29</td></tr><tr><td>store_2_train_size</td><td>114</td></tr><tr><td>store_4_best_aic</td><td>3156.11166</td></tr><tr><td>store_4_best_d</td><td>1</td></tr><tr><td>store_4_best_p</td><td>2</td></tr><tr><td>store_4_best_q</td><td>3</td></tr><tr><td>store_4_test_mae</td><td>113804.24158</td></tr><tr><td>store_4_test_mape</td><td>5.36648</td></tr><tr><td>store_4_test_rmse</td><td>128543.91821</td></tr><tr><td>store_4_test_size</td><td>29</td></tr><tr><td>store_4_train_size</td><td>114</td></tr><tr><td>success_rate</td><td>100</td></tr><tr><td>successful_experiments</td><td>240</td></tr><tr><td>total_experiments</td><td>240</td></tr></table><br/></div></div>"
            ]
          },
          "metadata": {}
        },
        {
          "output_type": "display_data",
          "data": {
            "text/plain": [
              "<IPython.core.display.HTML object>"
            ],
            "text/html": [
              " View run <strong style=\"color:#cdcd00\">ARIMA_Hyperparameter_Tuning</strong> at: <a href='https://wandb.ai/dshan21-free-university-of-tbilisi-/walmart-sales-forecasting/runs/7ati0biv' target=\"_blank\">https://wandb.ai/dshan21-free-university-of-tbilisi-/walmart-sales-forecasting/runs/7ati0biv</a><br> View project at: <a href='https://wandb.ai/dshan21-free-university-of-tbilisi-/walmart-sales-forecasting' target=\"_blank\">https://wandb.ai/dshan21-free-university-of-tbilisi-/walmart-sales-forecasting</a><br>Synced 5 W&B file(s), 0 media file(s), 4 artifact file(s) and 0 other file(s)"
            ]
          },
          "metadata": {}
        },
        {
          "output_type": "display_data",
          "data": {
            "text/plain": [
              "<IPython.core.display.HTML object>"
            ],
            "text/html": [
              "Find logs at: <code>./wandb/run-20250705_153822-7ati0biv/logs</code>"
            ]
          },
          "metadata": {}
        }
      ]
    },
    {
      "cell_type": "code",
      "source": [
        "# Block 5: Model Evaluation & Validation\n",
        "import pandas as pd\n",
        "import numpy as np\n",
        "import matplotlib.pyplot as plt\n",
        "import seaborn as sns\n",
        "from sklearn.metrics import mean_absolute_error, mean_squared_error\n",
        "import wandb\n",
        "\n",
        "wandb.init(\n",
        "    project=\"walmart-sales-forecasting\",\n",
        "    name=\"ARIMA_Model_Evaluation\",\n",
        "    tags=[\"ARIMA\", \"evaluation\", \"validation\"]\n",
        ")\n",
        "\n",
        "print(\"=== BLOCK 5: MODEL EVALUATION & VALIDATION ===\")\n",
        "\n",
        "# Load trained models and data\n",
        "try:\n",
        "    trained_models = np.load('trained_arima_models.npy', allow_pickle=True).item()\n",
        "    store_ts_data = pd.read_pickle('store_timeseries_data.pkl')\n",
        "    print(f\"Loaded {len(trained_models)} trained models\")\n",
        "except:\n",
        "    print(\"Could not load trained models. Please run Block 4 first.\")\n",
        "    wandb.finish()\n",
        "    exit()\n",
        "\n",
        "def plot_forecast_comparison(store_id, actual_train, actual_test, forecast, title_suffix=\"\"):\n",
        "    \"\"\"Plot actual vs predicted values\"\"\"\n",
        "\n",
        "    plt.figure(figsize=(12, 6))\n",
        "\n",
        "    # Plot training data\n",
        "    plt.plot(actual_train.index, actual_train.values, label='Training Data', alpha=0.7, color='blue')\n",
        "\n",
        "    # Plot actual test data\n",
        "    plt.plot(actual_test.index, actual_test.values, label='Actual Test', alpha=0.8, color='green', linewidth=2)\n",
        "\n",
        "    # Plot forecast\n",
        "    plt.plot(actual_test.index, forecast, label='ARIMA Forecast', alpha=0.8, color='red', linestyle='--', linewidth=2)\n",
        "\n",
        "    plt.axvline(x=actual_train.index[-1], color='black', linestyle=':', alpha=0.5, label='Train/Test Split')\n",
        "\n",
        "    plt.title(f'Store {store_id} - ARIMA Forecast vs Actual {title_suffix}')\n",
        "    plt.xlabel('Date')\n",
        "    plt.ylabel('Weekly Sales')\n",
        "    plt.legend()\n",
        "    plt.xticks(rotation=45)\n",
        "    plt.tight_layout()\n",
        "\n",
        "    filename = f'forecast_comparison_store_{store_id}.png'\n",
        "    plt.savefig(filename, dpi=300, bbox_inches='tight')\n",
        "    plt.close()\n",
        "\n",
        "    return filename\n",
        "\n",
        "def calculate_additional_metrics(actual, predicted):\n",
        "    \"\"\"Calculate additional evaluation metrics\"\"\"\n",
        "\n",
        "    # Basic metrics\n",
        "    mae = mean_absolute_error(actual, predicted)\n",
        "    rmse = np.sqrt(mean_squared_error(actual, predicted))\n",
        "    mape = np.mean(np.abs((actual - predicted) / actual)) * 100\n",
        "\n",
        "    # Additional metrics\n",
        "    smape = np.mean(2 * np.abs(actual - predicted) / (np.abs(actual) + np.abs(predicted))) * 100\n",
        "\n",
        "    # Directional accuracy (how often forecast correctly predicts direction of change)\n",
        "    actual_diff = np.diff(actual)\n",
        "    pred_diff = np.diff(predicted)\n",
        "    directional_accuracy = np.mean(np.sign(actual_diff) == np.sign(pred_diff)) * 100\n",
        "\n",
        "    # Forecast bias\n",
        "    bias = np.mean(predicted - actual)\n",
        "\n",
        "    return {\n",
        "        'mae': mae,\n",
        "        'rmse': rmse,\n",
        "        'mape': mape,\n",
        "        'smape': smape,\n",
        "        'directional_accuracy': directional_accuracy,\n",
        "        'bias': bias\n",
        "    }\n",
        "\n",
        "def perform_cross_validation(store_data, best_params, n_folds=3):\n",
        "    \"\"\"Perform time series cross-validation\"\"\"\n",
        "\n",
        "    from statsmodels.tsa.arima.model import ARIMA\n",
        "\n",
        "    ts = store_data.set_index('Date')['Weekly_Sales']\n",
        "    n_obs = len(ts)\n",
        "\n",
        "    # Calculate fold size\n",
        "    fold_size = n_obs // (n_folds + 1)\n",
        "\n",
        "    cv_results = []\n",
        "\n",
        "    for fold in range(n_folds):\n",
        "        # Define train/test for this fold\n",
        "        train_end = fold_size * (fold + 2)\n",
        "        test_start = train_end\n",
        "        test_end = min(test_start + fold_size, n_obs)\n",
        "\n",
        "        if test_end <= test_start:\n",
        "            break\n",
        "\n",
        "        train_data = ts.iloc[:train_end]\n",
        "        test_data = ts.iloc[test_start:test_end]\n",
        "\n",
        "        try:\n",
        "            # Fit model\n",
        "            model = ARIMA(train_data, order=best_params)\n",
        "            fitted_model = model.fit()\n",
        "\n",
        "            # Make forecast\n",
        "            forecast = fitted_model.forecast(steps=len(test_data))\n",
        "\n",
        "            # Calculate metrics\n",
        "            metrics = calculate_additional_metrics(test_data.values, forecast)\n",
        "            metrics['fold'] = fold\n",
        "            metrics['train_size'] = len(train_data)\n",
        "            metrics['test_size'] = len(test_data)\n",
        "\n",
        "            cv_results.append(metrics)\n",
        "\n",
        "        except Exception as e:\n",
        "            print(f\"Error in fold {fold}: {e}\")\n",
        "            continue\n",
        "\n",
        "    return cv_results\n",
        "\n",
        "# Comprehensive evaluation of all trained models\n",
        "evaluation_results = {}\n",
        "\n",
        "for store_id, model_info in trained_models.items():\n",
        "    print(f\"\\n--- Evaluating Store {store_id} ---\")\n",
        "\n",
        "    # Get store data\n",
        "    store_data = store_ts_data[store_ts_data['Store'] == store_id].copy()\n",
        "    store_data = store_data.sort_values('Date')\n",
        "    store_ts = store_data.set_index('Date')['Weekly_Sales']\n",
        "\n",
        "    # Recreate train/test split used in training\n",
        "    split_idx = int(len(store_ts) * 0.8)\n",
        "    train_ts = store_ts.iloc[:split_idx]\n",
        "    test_ts = store_ts.iloc[split_idx:]\n",
        "\n",
        "    # Get forecast from trained model\n",
        "    forecast = model_info['evaluation']['forecast']\n",
        "\n",
        "    # Calculate comprehensive metrics\n",
        "    detailed_metrics = calculate_additional_metrics(test_ts.values, forecast)\n",
        "\n",
        "    # Create forecast comparison plot\n",
        "    plot_filename = plot_forecast_comparison(store_id, train_ts, test_ts, forecast)\n",
        "\n",
        "    # Perform cross-validation\n",
        "    print(f\"  Performing cross-validation for Store {store_id}...\")\n",
        "    cv_results = perform_cross_validation(store_data, model_info['best_params'])\n",
        "\n",
        "    # Store comprehensive results\n",
        "    evaluation_results[store_id] = {\n",
        "        'basic_metrics': model_info['evaluation'],\n",
        "        'detailed_metrics': detailed_metrics,\n",
        "        'cv_results': cv_results,\n",
        "        'plot_file': plot_filename,\n",
        "        'best_params': model_info['best_params'],\n",
        "        'model_aic': model_info['best_aic']\n",
        "    }\n",
        "\n",
        "    # Log individual store results\n",
        "    log_data = {\n",
        "        f'eval_store_{store_id}_mae': detailed_metrics['mae'],\n",
        "        f'eval_store_{store_id}_rmse': detailed_metrics['rmse'],\n",
        "        f'eval_store_{store_id}_mape': detailed_metrics['mape'],\n",
        "        f'eval_store_{store_id}_smape': detailed_metrics['smape'],\n",
        "        f'eval_store_{store_id}_directional_accuracy': detailed_metrics['directional_accuracy'],\n",
        "        f'eval_store_{store_id}_bias': detailed_metrics['bias'],\n",
        "        f'eval_store_{store_id}_forecast_plot': wandb.Image(plot_filename)\n",
        "    }\n",
        "\n",
        "    # Add CV results if available\n",
        "    if cv_results:\n",
        "        cv_mae = np.mean([result['mae'] for result in cv_results])\n",
        "        cv_rmse = np.mean([result['rmse'] for result in cv_results])\n",
        "        cv_mape = np.mean([result['mape'] for result in cv_results])\n",
        "\n",
        "        log_data.update({\n",
        "            f'cv_store_{store_id}_mae': cv_mae,\n",
        "            f'cv_store_{store_id}_rmse': cv_rmse,\n",
        "            f'cv_store_{store_id}_mape': cv_mape,\n",
        "            f'cv_store_{store_id}_folds': len(cv_results)\n",
        "        })\n",
        "\n",
        "    wandb.log(log_data)\n",
        "\n",
        "    print(f\"  MAE: {detailed_metrics['mae']:.2f}\")\n",
        "    print(f\"  RMSE: {detailed_metrics['rmse']:.2f}\")\n",
        "    print(f\"  MAPE: {detailed_metrics['mape']:.2f}%\")\n",
        "    print(f\"  Directional Accuracy: {detailed_metrics['directional_accuracy']:.1f}%\")\n",
        "    if cv_results:\n",
        "        print(f\"  CV MAE: {cv_mae:.2f} (±{np.std([r['mae'] for r in cv_results]):.2f})\")\n",
        "\n",
        "# Overall model performance analysis\n",
        "print(f\"\\n=== OVERALL MODEL PERFORMANCE ===\")\n",
        "\n",
        "# Aggregate metrics across all stores\n",
        "all_mae = [result['detailed_metrics']['mae'] for result in evaluation_results.values()]\n",
        "all_rmse = [result['detailed_metrics']['rmse'] for result in evaluation_results.values()]\n",
        "all_mape = [result['detailed_metrics']['mape'] for result in evaluation_results.values()]\n",
        "all_directional = [result['detailed_metrics']['directional_accuracy'] for result in evaluation_results.values()]\n",
        "\n",
        "overall_metrics = {\n",
        "    'avg_mae': np.mean(all_mae),\n",
        "    'std_mae': np.std(all_mae),\n",
        "    'avg_rmse': np.mean(all_rmse),\n",
        "    'std_rmse': np.std(all_rmse),\n",
        "    'avg_mape': np.mean(all_mape),\n",
        "    'std_mape': np.std(all_mape),\n",
        "    'avg_directional_accuracy': np.mean(all_directional),\n",
        "    'best_store_mae': min(all_mae),\n",
        "    'worst_store_mae': max(all_mae),\n",
        "    'models_evaluated': len(evaluation_results)\n",
        "}\n",
        "\n",
        "wandb.log(overall_metrics)\n",
        "\n",
        "print(f\"Models evaluated: {overall_metrics['models_evaluated']}\")\n",
        "print(f\"Average MAE: {overall_metrics['avg_mae']:.2f} (±{overall_metrics['std_mae']:.2f})\")\n",
        "print(f\"Average RMSE: {overall_metrics['avg_rmse']:.2f} (±{overall_metrics['std_rmse']:.2f})\")\n",
        "print(f\"Average MAPE: {overall_metrics['avg_mape']:.2f}% (±{overall_metrics['std_mape']:.2f}%)\")\n",
        "print(f\"Average Directional Accuracy: {overall_metrics['avg_directional_accuracy']:.1f}%\")\n",
        "\n",
        "# Create summary visualization\n",
        "plt.figure(figsize=(15, 10))\n",
        "\n",
        "plt.subplot(2, 3, 1)\n",
        "plt.bar(range(len(all_mae)), all_mae)\n",
        "plt.title('MAE by Store')\n",
        "plt.xlabel('Store Index')\n",
        "plt.ylabel('MAE')\n",
        "\n",
        "plt.subplot(2, 3, 2)\n",
        "plt.bar(range(len(all_rmse)), all_rmse)\n",
        "plt.title('RMSE by Store')\n",
        "plt.xlabel('Store Index')\n",
        "plt.ylabel('RMSE')\n",
        "\n",
        "plt.subplot(2, 3, 3)\n",
        "plt.bar(range(len(all_mape)), all_mape)\n",
        "plt.title('MAPE by Store')\n",
        "plt.xlabel('Store Index')\n",
        "plt.ylabel('MAPE (%)')\n",
        "\n",
        "plt.subplot(2, 3, 4)\n",
        "plt.hist(all_mae, bins=10, alpha=0.7)\n",
        "plt.title('Distribution of MAE')\n",
        "plt.xlabel('MAE')\n",
        "plt.ylabel('Frequency')\n",
        "\n",
        "plt.subplot(2, 3, 5)\n",
        "plt.hist(all_mape, bins=10, alpha=0.7)\n",
        "plt.title('Distribution of MAPE')\n",
        "plt.xlabel('MAPE (%)')\n",
        "plt.ylabel('Frequency')\n",
        "\n",
        "plt.subplot(2, 3, 6)\n",
        "plt.bar(range(len(all_directional)), all_directional)\n",
        "plt.title('Directional Accuracy by Store')\n",
        "plt.xlabel('Store Index')\n",
        "plt.ylabel('Directional Accuracy (%)')\n",
        "\n",
        "plt.tight_layout()\n",
        "plt.savefig('model_evaluation_summary.png', dpi=300, bbox_inches='tight')\n",
        "wandb.log({\"evaluation_summary\": wandb.Image('model_evaluation_summary.png')})\n",
        "plt.show()\n",
        "\n",
        "# Save evaluation results\n",
        "np.save('evaluation_results.npy', evaluation_results)\n",
        "\n",
        "# Log as artifact\n",
        "eval_artifact = wandb.Artifact('evaluation_results', type='evaluation')\n",
        "eval_artifact.add_file('evaluation_results.npy')\n",
        "wandb.log_artifact(eval_artifact)\n",
        "\n",
        "print(\"Model evaluation completed and results saved!\")\n",
        "\n",
        "wandb.finish()"
      ],
      "metadata": {
        "id": "hltq64qULukT",
        "colab": {
          "base_uri": "https://localhost:8080/",
          "height": 1000
        },
        "outputId": "35af393d-01ee-413d-9cc8-af365ca26682"
      },
      "id": "hltq64qULukT",
      "execution_count": 120,
      "outputs": [
        {
          "output_type": "display_data",
          "data": {
            "text/plain": [
              "<IPython.core.display.HTML object>"
            ],
            "text/html": [
              "Tracking run with wandb version 0.21.0"
            ]
          },
          "metadata": {}
        },
        {
          "output_type": "display_data",
          "data": {
            "text/plain": [
              "<IPython.core.display.HTML object>"
            ],
            "text/html": [
              "Run data is saved locally in <code>/content/wandb/run-20250705_153908-stel46hr</code>"
            ]
          },
          "metadata": {}
        },
        {
          "output_type": "display_data",
          "data": {
            "text/plain": [
              "<IPython.core.display.HTML object>"
            ],
            "text/html": [
              "Syncing run <strong><a href='https://wandb.ai/dshan21-free-university-of-tbilisi-/walmart-sales-forecasting/runs/stel46hr' target=\"_blank\">ARIMA_Model_Evaluation</a></strong> to <a href='https://wandb.ai/dshan21-free-university-of-tbilisi-/walmart-sales-forecasting' target=\"_blank\">Weights & Biases</a> (<a href='https://wandb.me/developer-guide' target=\"_blank\">docs</a>)<br>"
            ]
          },
          "metadata": {}
        },
        {
          "output_type": "display_data",
          "data": {
            "text/plain": [
              "<IPython.core.display.HTML object>"
            ],
            "text/html": [
              " View project at <a href='https://wandb.ai/dshan21-free-university-of-tbilisi-/walmart-sales-forecasting' target=\"_blank\">https://wandb.ai/dshan21-free-university-of-tbilisi-/walmart-sales-forecasting</a>"
            ]
          },
          "metadata": {}
        },
        {
          "output_type": "display_data",
          "data": {
            "text/plain": [
              "<IPython.core.display.HTML object>"
            ],
            "text/html": [
              " View run at <a href='https://wandb.ai/dshan21-free-university-of-tbilisi-/walmart-sales-forecasting/runs/stel46hr' target=\"_blank\">https://wandb.ai/dshan21-free-university-of-tbilisi-/walmart-sales-forecasting/runs/stel46hr</a>"
            ]
          },
          "metadata": {}
        },
        {
          "output_type": "stream",
          "name": "stdout",
          "text": [
            "=== BLOCK 5: MODEL EVALUATION & VALIDATION ===\n",
            "Loaded 5 trained models\n",
            "\n",
            "--- Evaluating Store 20 ---\n",
            "  Performing cross-validation for Store 20...\n",
            "  MAE: 148321.21\n",
            "  RMSE: 178149.55\n",
            "  MAPE: 7.34%\n",
            "  Directional Accuracy: 39.3%\n",
            "  CV MAE: 134402.56 (±45914.79)\n",
            "\n",
            "--- Evaluating Store 4 ---\n",
            "  Performing cross-validation for Store 4...\n",
            "  MAE: 113804.24\n",
            "  RMSE: 128543.92\n",
            "  MAPE: 5.37%\n",
            "  Directional Accuracy: 50.0%\n",
            "  CV MAE: 108647.04 (±57547.22)\n",
            "\n",
            "--- Evaluating Store 14 ---\n",
            "  Performing cross-validation for Store 14...\n",
            "  MAE: 325309.16\n",
            "  RMSE: 365521.72\n",
            "  MAPE: 19.80%\n",
            "  Directional Accuracy: 50.0%\n",
            "  CV MAE: 189824.31 (±59583.37)\n",
            "\n",
            "--- Evaluating Store 13 ---\n",
            "  Performing cross-validation for Store 13...\n",
            "  MAE: 71957.05\n",
            "  RMSE: 88330.67\n",
            "  MAPE: 3.57%\n",
            "  Directional Accuracy: 42.9%\n",
            "  CV MAE: 98137.36 (±71641.97)\n",
            "\n",
            "--- Evaluating Store 2 ---\n",
            "  Performing cross-validation for Store 2...\n",
            "  MAE: 74199.60\n",
            "  RMSE: 89871.05\n",
            "  MAPE: 4.00%\n",
            "  Directional Accuracy: 50.0%\n",
            "  CV MAE: 101522.36 (±42410.58)\n",
            "\n",
            "=== OVERALL MODEL PERFORMANCE ===\n",
            "Models evaluated: 5\n",
            "Average MAE: 146718.25 (±93625.64)\n",
            "Average RMSE: 170083.38 (±103057.52)\n",
            "Average MAPE: 8.01% (±6.04%)\n",
            "Average Directional Accuracy: 46.4%\n"
          ]
        },
        {
          "output_type": "display_data",
          "data": {
            "text/plain": [
              "<Figure size 1500x1000 with 6 Axes>"
            ],
            "image/png": "[encoded data removed]"
          },
          "metadata": {}
        },
        {
          "output_type": "stream",
          "name": "stdout",
          "text": [
            "Model evaluation completed and results saved!\n"
          ]
        },
        {
          "output_type": "display_data",
          "data": {
            "text/plain": [
              "<IPython.core.display.HTML object>"
            ],
            "text/html": []
          },
          "metadata": {}
        },
        {
          "output_type": "display_data",
          "data": {
            "text/plain": [
              "<IPython.core.display.HTML object>"
            ],
            "text/html": [
              "<br>    <style><br>        .wandb-row {<br>            display: flex;<br>            flex-direction: row;<br>            flex-wrap: wrap;<br>            justify-content: flex-start;<br>            width: 100%;<br>        }<br>        .wandb-col {<br>            display: flex;<br>            flex-direction: column;<br>            flex-basis: 100%;<br>            flex: 1;<br>            padding: 10px;<br>        }<br>    </style><br><div class=\"wandb-row\"><div class=\"wandb-col\"><h3>Run history:</h3><br/><table class=\"wandb\"><tr><td>avg_directional_accuracy</td><td>▁</td></tr><tr><td>avg_mae</td><td>▁</td></tr><tr><td>avg_mape</td><td>▁</td></tr><tr><td>avg_rmse</td><td>▁</td></tr><tr><td>best_store_mae</td><td>▁</td></tr><tr><td>cv_store_13_folds</td><td>▁</td></tr><tr><td>cv_store_13_mae</td><td>▁</td></tr><tr><td>cv_store_13_mape</td><td>▁</td></tr><tr><td>cv_store_13_rmse</td><td>▁</td></tr><tr><td>cv_store_14_folds</td><td>▁</td></tr><tr><td>cv_store_14_mae</td><td>▁</td></tr><tr><td>cv_store_14_mape</td><td>▁</td></tr><tr><td>cv_store_14_rmse</td><td>▁</td></tr><tr><td>cv_store_20_folds</td><td>▁</td></tr><tr><td>cv_store_20_mae</td><td>▁</td></tr><tr><td>cv_store_20_mape</td><td>▁</td></tr><tr><td>cv_store_20_rmse</td><td>▁</td></tr><tr><td>cv_store_2_folds</td><td>▁</td></tr><tr><td>cv_store_2_mae</td><td>▁</td></tr><tr><td>cv_store_2_mape</td><td>▁</td></tr><tr><td>cv_store_2_rmse</td><td>▁</td></tr><tr><td>cv_store_4_folds</td><td>▁</td></tr><tr><td>cv_store_4_mae</td><td>▁</td></tr><tr><td>cv_store_4_mape</td><td>▁</td></tr><tr><td>cv_store_4_rmse</td><td>▁</td></tr><tr><td>eval_store_13_bias</td><td>▁</td></tr><tr><td>eval_store_13_directional_accuracy</td><td>▁</td></tr><tr><td>eval_store_13_mae</td><td>▁</td></tr><tr><td>eval_store_13_mape</td><td>▁</td></tr><tr><td>eval_store_13_rmse</td><td>▁</td></tr><tr><td>eval_store_13_smape</td><td>▁</td></tr><tr><td>eval_store_14_bias</td><td>▁</td></tr><tr><td>eval_store_14_directional_accuracy</td><td>▁</td></tr><tr><td>eval_store_14_mae</td><td>▁</td></tr><tr><td>eval_store_14_mape</td><td>▁</td></tr><tr><td>eval_store_14_rmse</td><td>▁</td></tr><tr><td>eval_store_14_smape</td><td>▁</td></tr><tr><td>eval_store_20_bias</td><td>▁</td></tr><tr><td>eval_store_20_directional_accuracy</td><td>▁</td></tr><tr><td>eval_store_20_mae</td><td>▁</td></tr><tr><td>eval_store_20_mape</td><td>▁</td></tr><tr><td>eval_store_20_rmse</td><td>▁</td></tr><tr><td>eval_store_20_smape</td><td>▁</td></tr><tr><td>eval_store_2_bias</td><td>▁</td></tr><tr><td>eval_store_2_directional_accuracy</td><td>▁</td></tr><tr><td>eval_store_2_mae</td><td>▁</td></tr><tr><td>eval_store_2_mape</td><td>▁</td></tr><tr><td>eval_store_2_rmse</td><td>▁</td></tr><tr><td>eval_store_2_smape</td><td>▁</td></tr><tr><td>eval_store_4_bias</td><td>▁</td></tr><tr><td>eval_store_4_directional_accuracy</td><td>▁</td></tr><tr><td>eval_store_4_mae</td><td>▁</td></tr><tr><td>eval_store_4_mape</td><td>▁</td></tr><tr><td>eval_store_4_rmse</td><td>▁</td></tr><tr><td>eval_store_4_smape</td><td>▁</td></tr><tr><td>models_evaluated</td><td>▁</td></tr><tr><td>std_mae</td><td>▁</td></tr><tr><td>std_mape</td><td>▁</td></tr><tr><td>std_rmse</td><td>▁</td></tr><tr><td>worst_store_mae</td><td>▁</td></tr></table><br/></div><div class=\"wandb-col\"><h3>Run summary:</h3><br/><table class=\"wandb\"><tr><td>avg_directional_accuracy</td><td>46.42857</td></tr><tr><td>avg_mae</td><td>146718.25258</td></tr><tr><td>avg_mape</td><td>8.01319</td></tr><tr><td>avg_rmse</td><td>170083.38036</td></tr><tr><td>best_store_mae</td><td>71957.04907</td></tr><tr><td>cv_store_13_folds</td><td>3</td></tr><tr><td>cv_store_13_mae</td><td>98137.35834</td></tr><tr><td>cv_store_13_mape</td><td>4.27107</td></tr><tr><td>cv_store_13_rmse</td><td>166701.91137</td></tr><tr><td>cv_store_14_folds</td><td>3</td></tr><tr><td>cv_store_14_mae</td><td>189824.30992</td></tr><tr><td>cv_store_14_mape</td><td>10.43644</td></tr><tr><td>cv_store_14_rmse</td><td>249635.15405</td></tr><tr><td>cv_store_20_folds</td><td>3</td></tr><tr><td>cv_store_20_mae</td><td>134402.56329</td></tr><tr><td>cv_store_20_mape</td><td>6.02802</td></tr><tr><td>cv_store_20_rmse</td><td>201247.54699</td></tr><tr><td>cv_store_2_folds</td><td>3</td></tr><tr><td>cv_store_2_mae</td><td>101522.36462</td></tr><tr><td>cv_store_2_mape</td><td>4.96494</td></tr><tr><td>cv_store_2_rmse</td><td>159597.24745</td></tr><tr><td>cv_store_4_folds</td><td>3</td></tr><tr><td>cv_store_4_mae</td><td>108647.03823</td></tr><tr><td>cv_store_4_mape</td><td>4.52875</td></tr><tr><td>cv_store_4_rmse</td><td>178560.03622</td></tr><tr><td>eval_store_13_bias</td><td>37753.20613</td></tr><tr><td>eval_store_13_directional_accuracy</td><td>42.85714</td></tr><tr><td>eval_store_13_mae</td><td>71957.04907</td></tr><tr><td>eval_store_13_mape</td><td>3.56624</td></tr><tr><td>eval_store_13_rmse</td><td>88330.6665</td></tr><tr><td>eval_store_13_smape</td><td>3.5021</td></tr><tr><td>eval_store_14_bias</td><td>322655.53348</td></tr><tr><td>eval_store_14_directional_accuracy</td><td>50</td></tr><tr><td>eval_store_14_mae</td><td>325309.15504</td></tr><tr><td>eval_store_14_mape</td><td>19.79581</td></tr><tr><td>eval_store_14_rmse</td><td>365521.71959</td></tr><tr><td>eval_store_14_smape</td><td>17.53245</td></tr><tr><td>eval_store_20_bias</td><td>130761.10165</td></tr><tr><td>eval_store_20_directional_accuracy</td><td>39.28571</td></tr><tr><td>eval_store_20_mae</td><td>148321.21427</td></tr><tr><td>eval_store_20_mape</td><td>7.34026</td></tr><tr><td>eval_store_20_rmse</td><td>178149.55231</td></tr><tr><td>eval_store_20_smape</td><td>6.98098</td></tr><tr><td>eval_store_2_bias</td><td>49072.51043</td></tr><tr><td>eval_store_2_directional_accuracy</td><td>50</td></tr><tr><td>eval_store_2_mae</td><td>74199.60292</td></tr><tr><td>eval_store_2_mape</td><td>3.99716</td></tr><tr><td>eval_store_2_rmse</td><td>89871.04517</td></tr><tr><td>eval_store_2_smape</td><td>3.90335</td></tr><tr><td>eval_store_4_bias</td><td>112144.40978</td></tr><tr><td>eval_store_4_directional_accuracy</td><td>50</td></tr><tr><td>eval_store_4_mae</td><td>113804.24158</td></tr><tr><td>eval_store_4_mape</td><td>5.36648</td></tr><tr><td>eval_store_4_rmse</td><td>128543.91821</td></tr><tr><td>eval_store_4_smape</td><td>5.18736</td></tr><tr><td>models_evaluated</td><td>5</td></tr><tr><td>std_mae</td><td>93625.64195</td></tr><tr><td>std_mape</td><td>6.03642</td></tr><tr><td>std_rmse</td><td>103057.51737</td></tr><tr><td>worst_store_mae</td><td>325309.15504</td></tr></table><br/></div></div>"
            ]
          },
          "metadata": {}
        },
        {
          "output_type": "display_data",
          "data": {
            "text/plain": [
              "<IPython.core.display.HTML object>"
            ],
            "text/html": [
              " View run <strong style=\"color:#cdcd00\">ARIMA_Model_Evaluation</strong> at: <a href='https://wandb.ai/dshan21-free-university-of-tbilisi-/walmart-sales-forecasting/runs/stel46hr' target=\"_blank\">https://wandb.ai/dshan21-free-university-of-tbilisi-/walmart-sales-forecasting/runs/stel46hr</a><br> View project at: <a href='https://wandb.ai/dshan21-free-university-of-tbilisi-/walmart-sales-forecasting' target=\"_blank\">https://wandb.ai/dshan21-free-university-of-tbilisi-/walmart-sales-forecasting</a><br>Synced 5 W&B file(s), 6 media file(s), 2 artifact file(s) and 0 other file(s)"
            ]
          },
          "metadata": {}
        },
        {
          "output_type": "display_data",
          "data": {
            "text/plain": [
              "<IPython.core.display.HTML object>"
            ],
            "text/html": [
              "Find logs at: <code>./wandb/run-20250705_153908-stel46hr/logs</code>"
            ]
          },
          "metadata": {}
        }
      ]
    },
    {
      "cell_type": "code",
      "source": [
        "# Block 6: Final Pipeline Creation\n",
        "import pandas as pd\n",
        "import numpy as np\n",
        "import joblib\n",
        "from datetime import datetime\n",
        "import wandb\n",
        "\n",
        "wandb.init(\n",
        "    project=\"walmart-sales-forecasting\",\n",
        "    name=\"ARIMA_Final_Pipeline\",\n",
        "    tags=[\"ARIMA\", \"pipeline\", \"final-model\"]\n",
        ")\n",
        "\n",
        "print(\"=== BLOCK 6: FINAL PIPELINE CREATION ===\")\n",
        "\n",
        "# Load all necessary data and results\n",
        "try:\n",
        "    trained_models = np.load('trained_arima_models.npy', allow_pickle=True).item()\n",
        "    evaluation_results = np.load('evaluation_results.npy', allow_pickle=True).item()\n",
        "    store_ts_data = pd.read_pickle('store_timeseries_data.pkl')\n",
        "    print(\"All data loaded successfully\")\n",
        "except Exception as e:\n",
        "    print(f\"Error loading data: {e}\")\n",
        "    wandb.finish()\n",
        "    exit()\n",
        "\n",
        "class WalmartARIMAPipeline:\n",
        "    \"\"\"Complete ARIMA pipeline for Walmart sales forecasting\"\"\"\n",
        "\n",
        "    def __init__(self):\n",
        "        self.models = {}\n",
        "        self.preprocessing_params = {}\n",
        "        self.evaluation_metrics = {}\n",
        "        self.is_fitted = False\n",
        "\n",
        "    def add_store_model(self, store_id, arima_model, best_params, metrics):\n",
        "        \"\"\"Add a trained ARIMA model for a specific store\"\"\"\n",
        "        self.models[store_id] = {\n",
        "            'model': arima_model,\n",
        "            'params': best_params,\n",
        "            'metrics': metrics\n",
        "        }\n",
        "\n",
        "    def set_preprocessing_params(self, params):\n",
        "        \"\"\"Set preprocessing parameters\"\"\"\n",
        "        self.preprocessing_params = params\n",
        "\n",
        "    def predict_store(self, store_id, steps):\n",
        "        \"\"\"Make predictions for a specific store\"\"\"\n",
        "        if store_id not in self.models:\n",
        "            raise ValueError(f\"No model available for store {store_id}\")\n",
        "\n",
        "        model_info = self.models[store_id]\n",
        "        forecast = model_info['model'].forecast(steps=steps)\n",
        "        return forecast\n",
        "\n",
        "    def predict_multiple_stores(self, store_ids, steps):\n",
        "        \"\"\"Make predictions for multiple stores\"\"\"\n",
        "        predictions = {}\n",
        "        for store_id in store_ids:\n",
        "            try:\n",
        "                pred = self.predict_store(store_id, steps)\n",
        "                predictions[store_id] = pred\n",
        "            except Exception as e:\n",
        "                print(f\"Error predicting for store {store_id}: {e}\")\n",
        "                # Use fallback prediction\n",
        "                predictions[store_id] = np.full(steps, 10000)  # Conservative fallback\n",
        "\n",
        "        return predictions\n",
        "\n",
        "    def get_model_info(self):\n",
        "        \"\"\"Get information about all models in the pipeline\"\"\"\n",
        "        info = {}\n",
        "        for store_id, model_data in self.models.items():\n",
        "            info[store_id] = {\n",
        "                'params': model_data['params'],\n",
        "                'mae': model_data['metrics'].get('mae', 'N/A'),\n",
        "                'rmse': model_data['metrics'].get('rmse', 'N/A'),\n",
        "                'mape': model_data['metrics'].get('mape', 'N/A')\n",
        "            }\n",
        "        return info\n",
        "\n",
        "    def get_best_performing_stores(self, metric='mae', top_n=5):\n",
        "        \"\"\"Get the best performing stores based on a metric\"\"\"\n",
        "        store_metrics = []\n",
        "        for store_id, model_data in self.models.items():\n",
        "            if metric in model_data['metrics']:\n",
        "                store_metrics.append((store_id, model_data['metrics'][metric]))\n",
        "\n",
        "        # Sort by metric (lower is better for MAE, RMSE, MAPE)\n",
        "        store_metrics.sort(key=lambda x: x[1])\n",
        "        return [store_id for store_id, _ in store_metrics[:top_n]]\n",
        "\n",
        "# Create the final pipeline\n",
        "print(\"Creating final ARIMA pipeline...\")\n",
        "\n",
        "pipeline = WalmartARIMAPipeline()\n",
        "\n",
        "# Add all trained models to the pipeline\n",
        "for store_id, model_info in trained_models.items():\n",
        "\n",
        "    # Get evaluation metrics\n",
        "    eval_metrics = evaluation_results[store_id]['detailed_metrics']\n",
        "\n",
        "    # Add model to pipeline\n",
        "    pipeline.add_store_model(\n",
        "        store_id=store_id,\n",
        "        arima_model=model_info['model'],\n",
        "        best_params=model_info['best_params'],\n",
        "        metrics=eval_metrics\n",
        "    )\n",
        "\n",
        "    print(f\"Added Store {store_id} model - ARIMA{model_info['best_params']} (MAE: {eval_metrics['mae']:.2f})\")\n",
        "\n",
        "# Set preprocessing parameters\n",
        "preprocessing_info = {\n",
        "    'aggregation_level': 'store',\n",
        "    'train_test_split': 0.8,\n",
        "    'min_observations': 40,\n",
        "    'date_range': {\n",
        "        'start': str(store_ts_data['Date'].min()),\n",
        "        'end': str(store_ts_data['Date'].max())\n",
        "    },\n",
        "    'stores_modeled': list(trained_models.keys()),\n",
        "    'total_stores_available': store_ts_data['Store'].nunique()\n",
        "}\n",
        "\n",
        "pipeline.set_preprocessing_params(preprocessing_info)\n",
        "\n",
        "# Test the pipeline\n",
        "print(\"\\nTesting pipeline functionality...\")\n",
        "\n",
        "test_stores = list(trained_models.keys())[:3]  # Test with first 3 stores\n",
        "test_predictions = pipeline.predict_multiple_stores(test_stores, steps=10)\n",
        "\n",
        "print(f\"Test predictions generated for {len(test_predictions)} stores\")\n",
        "for store_id, pred in test_predictions.items():\n",
        "    print(f\"  Store {store_id}: {len(pred)} predictions, mean={np.mean(pred):.2f}\")\n",
        "\n",
        "# Get pipeline performance summary\n",
        "model_info = pipeline.get_model_info()\n",
        "best_stores = pipeline.get_best_performing_stores(metric='mae', top_n=3)\n",
        "\n",
        "print(f\"\\nPipeline Summary:\")\n",
        "print(f\"  Total models: {len(pipeline.models)}\")\n",
        "print(f\"  Best performing stores (by MAE): {best_stores}\")\n",
        "\n",
        "# Calculate overall pipeline metrics\n",
        "all_mae = [info['mae'] for info in model_info.values() if info['mae'] != 'N/A']\n",
        "all_rmse = [info['rmse'] for info in model_info.values() if info['rmse'] != 'N/A']\n",
        "all_mape = [info['mape'] for info in model_info.values() if info['mape'] != 'N/A']\n",
        "\n",
        "pipeline_metrics = {\n",
        "    'total_models': len(pipeline.models),\n",
        "    'avg_mae': np.mean(all_mae),\n",
        "    'avg_rmse': np.mean(all_rmse),\n",
        "    'avg_mape': np.mean(all_mape),\n",
        "    'best_mae': min(all_mae),\n",
        "    'worst_mae': max(all_mae),\n",
        "    'best_performing_stores': best_stores,\n",
        "    'stores_coverage': len(pipeline.models) / preprocessing_info['total_stores_available'] * 100\n",
        "}\n",
        "\n",
        "# Log pipeline metrics\n",
        "wandb.log(pipeline_metrics)\n",
        "\n",
        "print(f\"  Average MAE: {pipeline_metrics['avg_mae']:.2f}\")\n",
        "print(f\"  Average RMSE: {pipeline_metrics['avg_rmse']:.2f}\")\n",
        "print(f\"  Average MAPE: {pipeline_metrics['avg_mape']:.2f}%\")\n",
        "print(f\"  Store coverage: {pipeline_metrics['stores_coverage']:.1f}%\")\n",
        "\n",
        "# Save the final pipeline\n",
        "timestamp = datetime.now().strftime('%Y%m%d_%H%M')\n",
        "pipeline_filename = f'walmart_arima_pipeline_{timestamp}.pkl'\n",
        "\n",
        "joblib.dump(pipeline, pipeline_filename)\n",
        "print(f\"\\nPipeline saved as: {pipeline_filename}\")\n",
        "\n",
        "# Create pipeline metadata\n",
        "metadata = {\n",
        "    'creation_date': timestamp,\n",
        "    'model_type': 'ARIMA',\n",
        "    'stores_modeled': list(trained_models.keys()),\n",
        "    'preprocessing_params': preprocessing_info,\n",
        "    'performance_metrics': pipeline_metrics,\n",
        "    'model_details': model_info\n",
        "}\n",
        "\n",
        "metadata_filename = f'pipeline_metadata_{timestamp}.json'\n",
        "import json\n",
        "with open(metadata_filename, 'w') as f:\n",
        "    json.dump(metadata, f, indent=2, default=str)\n",
        "\n",
        "# Log as wandb artifacts\n",
        "pipeline_artifact = wandb.Artifact(\n",
        "    name=\"walmart_arima_pipeline\",\n",
        "    type=\"model\",\n",
        "    description=\"Complete ARIMA pipeline for Walmart sales forecasting\",\n",
        "    metadata=metadata\n",
        ")\n",
        "pipeline_artifact.add_file(pipeline_filename)\n",
        "pipeline_artifact.add_file(metadata_filename)\n",
        "wandb.log_artifact(pipeline_artifact)\n",
        "\n",
        "# Log final summary\n",
        "final_summary = {\n",
        "    'pipeline_created': True,\n",
        "    'pipeline_filename': pipeline_filename,\n",
        "    'total_models_in_pipeline': len(pipeline.models),\n",
        "    'pipeline_test_successful': len(test_predictions) > 0,\n",
        "    'average_model_performance_mae': pipeline_metrics['avg_mae'],\n",
        "    'ready_for_inference': True\n",
        "}\n",
        "\n",
        "wandb.log(final_summary)\n",
        "\n",
        "print(f\"\\n{'='*60}\")\n",
        "print(\"ARIMA PIPELINE CREATION COMPLETED SUCCESSFULLY!\")\n",
        "print(f\"{'='*60}\")\n",
        "print(f\"Pipeline file: {pipeline_filename}\")\n",
        "print(f\"Metadata file: {metadata_filename}\")\n",
        "print(f\"Models included: {len(pipeline.models)}\")\n",
        "print(f\"Ready for inference: Yes\")\n",
        "print(f\"Uploaded to wandb: Yes\")\n",
        "\n",
        "wandb.finish()"
      ],
      "metadata": {
        "id": "9cUVo7AdLy0q",
        "colab": {
          "base_uri": "https://localhost:8080/",
          "height": 1000
        },
        "outputId": "35ecf697-590f-4cf7-d0a8-a707ade3bce5"
      },
      "id": "9cUVo7AdLy0q",
      "execution_count": 121,
      "outputs": [
        {
          "output_type": "display_data",
          "data": {
            "text/plain": [
              "<IPython.core.display.HTML object>"
            ],
            "text/html": [
              "Tracking run with wandb version 0.21.0"
            ]
          },
          "metadata": {}
        },
        {
          "output_type": "display_data",
          "data": {
            "text/plain": [
              "<IPython.core.display.HTML object>"
            ],
            "text/html": [
              "Run data is saved locally in <code>/content/wandb/run-20250705_153924-awdyqgh8</code>"
            ]
          },
          "metadata": {}
        },
        {
          "output_type": "display_data",
          "data": {
            "text/plain": [
              "<IPython.core.display.HTML object>"
            ],
            "text/html": [
              "Syncing run <strong><a href='https://wandb.ai/dshan21-free-university-of-tbilisi-/walmart-sales-forecasting/runs/awdyqgh8' target=\"_blank\">ARIMA_Final_Pipeline</a></strong> to <a href='https://wandb.ai/dshan21-free-university-of-tbilisi-/walmart-sales-forecasting' target=\"_blank\">Weights & Biases</a> (<a href='https://wandb.me/developer-guide' target=\"_blank\">docs</a>)<br>"
            ]
          },
          "metadata": {}
        },
        {
          "output_type": "display_data",
          "data": {
            "text/plain": [
              "<IPython.core.display.HTML object>"
            ],
            "text/html": [
              " View project at <a href='https://wandb.ai/dshan21-free-university-of-tbilisi-/walmart-sales-forecasting' target=\"_blank\">https://wandb.ai/dshan21-free-university-of-tbilisi-/walmart-sales-forecasting</a>"
            ]
          },
          "metadata": {}
        },
        {
          "output_type": "display_data",
          "data": {
            "text/plain": [
              "<IPython.core.display.HTML object>"
            ],
            "text/html": [
              " View run at <a href='https://wandb.ai/dshan21-free-university-of-tbilisi-/walmart-sales-forecasting/runs/awdyqgh8' target=\"_blank\">https://wandb.ai/dshan21-free-university-of-tbilisi-/walmart-sales-forecasting/runs/awdyqgh8</a>"
            ]
          },
          "metadata": {}
        },
        {
          "output_type": "stream",
          "name": "stdout",
          "text": [
            "=== BLOCK 6: FINAL PIPELINE CREATION ===\n",
            "All data loaded successfully\n",
            "Creating final ARIMA pipeline...\n",
            "Added Store 20 model - ARIMA(2, 1, 2) (MAE: 148321.21)\n",
            "Added Store 4 model - ARIMA(2, 1, 3) (MAE: 113804.24)\n",
            "Added Store 14 model - ARIMA(2, 1, 1) (MAE: 325309.16)\n",
            "Added Store 13 model - ARIMA(1, 1, 3) (MAE: 71957.05)\n",
            "Added Store 2 model - ARIMA(1, 1, 3) (MAE: 74199.60)\n",
            "\n",
            "Testing pipeline functionality...\n",
            "Test predictions generated for 3 stores\n",
            "  Store 20: 10 predictions, mean=2236583.90\n",
            "  Store 4: 10 predictions, mean=2269319.58\n",
            "  Store 14: 10 predictions, mean=2087659.92\n",
            "\n",
            "Pipeline Summary:\n",
            "  Total models: 5\n",
            "  Best performing stores (by MAE): [13, 2, 4]\n",
            "  Average MAE: 146718.25\n",
            "  Average RMSE: 170083.38\n",
            "  Average MAPE: 8.01%\n",
            "  Store coverage: 11.1%\n",
            "\n",
            "Pipeline saved as: walmart_arima_pipeline_20250705_1539.pkl\n",
            "\n",
            "============================================================\n",
            "ARIMA PIPELINE CREATION COMPLETED SUCCESSFULLY!\n",
            "============================================================\n",
            "Pipeline file: walmart_arima_pipeline_20250705_1539.pkl\n",
            "Metadata file: pipeline_metadata_20250705_1539.json\n",
            "Models included: 5\n",
            "Ready for inference: Yes\n",
            "Uploaded to wandb: Yes\n"
          ]
        },
        {
          "output_type": "display_data",
          "data": {
            "text/plain": [
              "<IPython.core.display.HTML object>"
            ],
            "text/html": []
          },
          "metadata": {}
        },
        {
          "output_type": "display_data",
          "data": {
            "text/plain": [
              "<IPython.core.display.HTML object>"
            ],
            "text/html": [
              "<br>    <style><br>        .wandb-row {<br>            display: flex;<br>            flex-direction: row;<br>            flex-wrap: wrap;<br>            justify-content: flex-start;<br>            width: 100%;<br>        }<br>        .wandb-col {<br>            display: flex;<br>            flex-direction: column;<br>            flex-basis: 100%;<br>            flex: 1;<br>            padding: 10px;<br>        }<br>    </style><br><div class=\"wandb-row\"><div class=\"wandb-col\"><h3>Run history:</h3><br/><table class=\"wandb\"><tr><td>average_model_performance_mae</td><td>▁</td></tr><tr><td>avg_mae</td><td>▁</td></tr><tr><td>avg_mape</td><td>▁</td></tr><tr><td>avg_rmse</td><td>▁</td></tr><tr><td>best_mae</td><td>▁</td></tr><tr><td>stores_coverage</td><td>▁</td></tr><tr><td>total_models</td><td>▁</td></tr><tr><td>total_models_in_pipeline</td><td>▁</td></tr><tr><td>worst_mae</td><td>▁</td></tr></table><br/></div><div class=\"wandb-col\"><h3>Run summary:</h3><br/><table class=\"wandb\"><tr><td>average_model_performance_mae</td><td>146718.25258</td></tr><tr><td>avg_mae</td><td>146718.25258</td></tr><tr><td>avg_mape</td><td>8.01319</td></tr><tr><td>avg_rmse</td><td>170083.38036</td></tr><tr><td>best_mae</td><td>71957.04907</td></tr><tr><td>pipeline_created</td><td>True</td></tr><tr><td>pipeline_filename</td><td>walmart_arima_pipeli...</td></tr><tr><td>pipeline_test_successful</td><td>True</td></tr><tr><td>ready_for_inference</td><td>True</td></tr><tr><td>stores_coverage</td><td>11.11111</td></tr><tr><td>total_models</td><td>5</td></tr><tr><td>total_models_in_pipeline</td><td>5</td></tr><tr><td>worst_mae</td><td>325309.15504</td></tr></table><br/></div></div>"
            ]
          },
          "metadata": {}
        },
        {
          "output_type": "display_data",
          "data": {
            "text/plain": [
              "<IPython.core.display.HTML object>"
            ],
            "text/html": [
              " View run <strong style=\"color:#cdcd00\">ARIMA_Final_Pipeline</strong> at: <a href='https://wandb.ai/dshan21-free-university-of-tbilisi-/walmart-sales-forecasting/runs/awdyqgh8' target=\"_blank\">https://wandb.ai/dshan21-free-university-of-tbilisi-/walmart-sales-forecasting/runs/awdyqgh8</a><br> View project at: <a href='https://wandb.ai/dshan21-free-university-of-tbilisi-/walmart-sales-forecasting' target=\"_blank\">https://wandb.ai/dshan21-free-university-of-tbilisi-/walmart-sales-forecasting</a><br>Synced 5 W&B file(s), 0 media file(s), 3 artifact file(s) and 0 other file(s)"
            ]
          },
          "metadata": {}
        },
        {
          "output_type": "display_data",
          "data": {
            "text/plain": [
              "<IPython.core.display.HTML object>"
            ],
            "text/html": [
              "Find logs at: <code>./wandb/run-20250705_153924-awdyqgh8/logs</code>"
            ]
          },
          "metadata": {}
        }
      ]
    }
  ],
  "metadata": {
    "kernelspec": {
      "display_name": "Python 3",
      "language": "python",
      "name": "python3"
    },
    "language_info": {
      "codemirror_mode": {
        "name": "ipython",
        "version": 2
      },
      "file_extension": ".py",
      "mimetype": "text/x-python",
      "name": "python",
      "nbconvert_exporter": "python",
      "pygments_lexer": "ipython2",
      "version": "2.7.6"
    },
    "colab": {
      "provenance": []
    }
  },
  "nbformat": 4,
  "nbformat_minor": 5
}