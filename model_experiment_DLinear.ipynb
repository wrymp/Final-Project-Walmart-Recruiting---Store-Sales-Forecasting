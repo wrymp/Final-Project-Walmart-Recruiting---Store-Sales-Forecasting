{
  "cells": [
    {
      "cell_type": "markdown",
      "metadata": {
        "id": "view-in-github",
        "colab_type": "text"
      },
      "source": [
        "<a href=\"https://colab.research.google.com/github/wrymp/Final-Project-Walmart-Recruiting---Store-Sales-Forecasting/blob/main/model_experiment_DLinear.ipynb\" target=\"_parent\"><img src=\"https://colab.research.google.com/assets/colab-badge.svg\" alt=\"Open In Colab\"/></a>"
      ]
    },
    {
      "cell_type": "markdown",
      "metadata": {
        "id": "UjrjQXBwbr5A"
      },
      "source": [
        "# DLinear Implementation for Walmart Sales Forecasting - FIXED VERSION\n",
        "\n",
        "This notebook contains a complete, working DLinear model implementation for Walmart sales forecasting.\n",
        "All issues from the original version have been fixed.\n",
        "\n",
        "**DLinear** is a simple but effective time series model that:\n",
        "- Decomposes input into trend and seasonal components\n",
        "- Uses linear layers on each component separately\n",
        "- Combines results for final prediction\n",
        "\n",
        "## Key Fixes Applied:\n",
        "1. ✅ Fixed configuration syntax errors\n",
        "2. ✅ Added data sparsity handling\n",
        "3. ✅ Robust dataset class with validation\n",
        "4. ✅ Safe cross-validation implementation\n",
        "5. ✅ Comprehensive error handling"
      ]
    },
    {
      "cell_type": "code",
      "source": [
        "from google.colab import drive\n",
        "!pip install wandb -q\n",
        "!pip install kaggle -q\n",
        "\n",
        "drive.mount('/content/drive')\n",
        "!mkdir -p ~/.kaggle\n",
        "!cp /content/drive/MyDrive/kaggle.json ~/.kaggle/\n",
        "!chmod 600 ~/.kaggle/kaggle.json\n",
        "# Uncomment to download data if needed\\n\",\n",
        "!kaggle competitions download -c walmart-recruiting-store-sales-forecasting\n",
        "!unzip /content/walmart-recruiting-store-sales-forecasting.zip\n",
        "!unzip /content/train.csv.zip\n",
        "!unzip /content/test.csv.zip\n",
        "!unzip /content/features.csv.zip\n",
        "!unzip /content/sampleSubmission.csv.zip"
      ],
      "metadata": {
        "id": "Dre5i4qnb4_I",
        "outputId": "5883171b-f6e7-4af0-fd24-fd16c866f7a9",
        "colab": {
          "base_uri": "https://localhost:8080/"
        }
      },
      "execution_count": 5,
      "outputs": [
        {
          "output_type": "stream",
          "name": "stdout",
          "text": [
            "Drive already mounted at /content/drive; to attempt to forcibly remount, call drive.mount(\"/content/drive\", force_remount=True).\n",
            "Downloading walmart-recruiting-store-sales-forecasting.zip to /content\n",
            "  0% 0.00/2.70M [00:00<?, ?B/s]\n",
            "100% 2.70M/2.70M [00:00<00:00, 818MB/s]\n",
            "Archive:  /content/walmart-recruiting-store-sales-forecasting.zip\n",
            "  inflating: features.csv.zip        \n",
            "  inflating: sampleSubmission.csv.zip  \n",
            "  inflating: stores.csv              \n",
            "  inflating: test.csv.zip            \n",
            "  inflating: train.csv.zip           \n",
            "Archive:  /content/train.csv.zip\n",
            "  inflating: train.csv               \n",
            "Archive:  /content/test.csv.zip\n",
            "  inflating: test.csv                \n",
            "Archive:  /content/features.csv.zip\n",
            "  inflating: features.csv            \n",
            "Archive:  /content/sampleSubmission.csv.zip\n",
            "  inflating: sampleSubmission.csv    \n"
          ]
        }
      ]
    },
    {
      "cell_type": "markdown",
      "metadata": {
        "id": "eyENT8Jkbr5B"
      },
      "source": [
        "## 1. Setup and Installation"
      ]
    },
    {
      "cell_type": "code",
      "execution_count": 6,
      "metadata": {
        "id": "iWnP3-TWbr5B"
      },
      "outputs": [],
      "source": [
        "# Install required packages\n",
        "import subprocess\n",
        "import sys\n",
        "\n",
        "def install_if_missing(package):\n",
        "    try:\n",
        "        __import__(package)\n",
        "    except ImportError:\n",
        "        subprocess.check_call([sys.executable, \"-m\", \"pip\", \"install\", package])\n",
        "\n",
        "# Uncomment if running in Google Colab\n",
        "# from google.colab import drive\n",
        "# install_if_missing('wandb')\n",
        "# install_if_missing('kaggle')"
      ]
    },
    {
      "cell_type": "code",
      "execution_count": 7,
      "metadata": {
        "id": "f3pugyRDbr5C",
        "outputId": "1d326064-2ea1-4e47-8af6-4f81da22c45e",
        "colab": {
          "base_uri": "https://localhost:8080/",
          "height": 211
        }
      },
      "outputs": [
        {
          "output_type": "display_data",
          "data": {
            "text/plain": [
              "<IPython.core.display.Javascript object>"
            ],
            "application/javascript": [
              "\n",
              "        window._wandbApiKey = new Promise((resolve, reject) => {\n",
              "            function loadScript(url) {\n",
              "            return new Promise(function(resolve, reject) {\n",
              "                let newScript = document.createElement(\"script\");\n",
              "                newScript.onerror = reject;\n",
              "                newScript.onload = resolve;\n",
              "                document.body.appendChild(newScript);\n",
              "                newScript.src = url;\n",
              "            });\n",
              "            }\n",
              "            loadScript(\"https://cdn.jsdelivr.net/npm/postmate/build/postmate.min.js\").then(() => {\n",
              "            const iframe = document.createElement('iframe')\n",
              "            iframe.style.cssText = \"width:0;height:0;border:none\"\n",
              "            document.body.appendChild(iframe)\n",
              "            const handshake = new Postmate({\n",
              "                container: iframe,\n",
              "                url: 'https://wandb.ai/authorize'\n",
              "            });\n",
              "            const timeout = setTimeout(() => reject(\"Couldn't auto authenticate\"), 5000)\n",
              "            handshake.then(function(child) {\n",
              "                child.on('authorize', data => {\n",
              "                    clearTimeout(timeout)\n",
              "                    resolve(data)\n",
              "                });\n",
              "            });\n",
              "            })\n",
              "        });\n",
              "    "
            ]
          },
          "metadata": {}
        },
        {
          "output_type": "stream",
          "name": "stderr",
          "text": [
            "\u001b[34m\u001b[1mwandb\u001b[0m: Logging into wandb.ai. (Learn how to deploy a W&B server locally: https://wandb.me/wandb-server)\n",
            "\u001b[34m\u001b[1mwandb\u001b[0m: You can find your API key in your browser here: https://wandb.ai/authorize\n",
            "wandb: Paste an API key from your profile and hit enter:"
          ]
        },
        {
          "name": "stdout",
          "output_type": "stream",
          "text": [
            " ··········\n"
          ]
        },
        {
          "output_type": "stream",
          "name": "stderr",
          "text": [
            "\u001b[34m\u001b[1mwandb\u001b[0m: \u001b[33mWARNING\u001b[0m If you're specifying your api key in code, ensure this code is not shared publicly.\n",
            "\u001b[34m\u001b[1mwandb\u001b[0m: \u001b[33mWARNING\u001b[0m Consider setting the WANDB_API_KEY environment variable, or running `wandb login` from the command line.\n",
            "\u001b[34m\u001b[1mwandb\u001b[0m: No netrc file found, creating one.\n",
            "\u001b[34m\u001b[1mwandb\u001b[0m: Appending key for api.wandb.ai to your netrc file: /root/.netrc\n",
            "\u001b[34m\u001b[1mwandb\u001b[0m: Currently logged in as: \u001b[33mqitiashvili13\u001b[0m (\u001b[33mdshan21-free-university-of-tbilisi-\u001b[0m) to \u001b[32mhttps://api.wandb.ai\u001b[0m. Use \u001b[1m`wandb login --relogin`\u001b[0m to force relogin\n"
          ]
        },
        {
          "output_type": "stream",
          "name": "stdout",
          "text": [
            "Using device: cuda\n"
          ]
        }
      ],
      "source": [
        "# Import necessary libraries\n",
        "import pandas as pd\n",
        "import numpy as np\n",
        "import torch\n",
        "import torch.nn as nn\n",
        "import torch.optim as optim\n",
        "from torch.utils.data import Dataset, DataLoader\n",
        "import matplotlib.pyplot as plt\n",
        "import seaborn as sns\n",
        "from sklearn.preprocessing import StandardScaler, LabelEncoder\n",
        "from sklearn.metrics import mean_absolute_error, mean_squared_error\n",
        "import warnings\n",
        "import json\n",
        "from datetime import datetime, timedelta\n",
        "import os\n",
        "import wandb\n",
        "\n",
        "warnings.filterwarnings('ignore')\n",
        "\n",
        "# Set random seeds for reproducibility\n",
        "torch.manual_seed(42)\n",
        "np.random.seed(42)\n",
        "wandb.login()\n",
        "# Set device\n",
        "device = torch.device('cuda' if torch.cuda.is_available() else 'cpu')\n",
        "print(f'Using device: {device}')"
      ]
    },
    {
      "cell_type": "markdown",
      "metadata": {
        "id": "XiZoREqobr5C"
      },
      "source": [
        "## 2. Data Loading Functions"
      ]
    },
    {
      "cell_type": "code",
      "execution_count": 8,
      "metadata": {
        "id": "uEwWr62Lbr5C"
      },
      "outputs": [],
      "source": [
        "def create_sample_data():\n",
        "    \"\"\"\n",
        "    Create sample Walmart-like data for testing if actual data is not available\n",
        "    \"\"\"\n",
        "    print(\"Creating sample data for testing...\")\n",
        "\n",
        "    # Date range\n",
        "    start_date = pd.to_datetime('2010-02-05')\n",
        "    end_date = pd.to_datetime('2012-10-26')\n",
        "    dates = pd.date_range(start=start_date, end=end_date, freq='W-FRI')\n",
        "\n",
        "    # Sample configuration\n",
        "    stores = list(range(1, 46))  # 45 stores\n",
        "    departments = list(range(1, 82))  # 81 departments\n",
        "\n",
        "    # Create data (not all store-dept combinations exist)\n",
        "    data = []\n",
        "    np.random.seed(42)\n",
        "\n",
        "    for store in stores:\n",
        "        # Each store has 60-80% of departments\n",
        "        store_depts = np.random.choice(departments, size=int(0.7 * len(departments)), replace=False)\n",
        "\n",
        "        for dept in store_depts:\n",
        "            for date in dates:\n",
        "                # Some random missing data\n",
        "                if np.random.random() > 0.95:\n",
        "                    continue\n",
        "\n",
        "                # Generate realistic sales data\n",
        "                base_sales = np.random.lognormal(8, 1)\n",
        "                seasonal_effect = 1 + 0.3 * np.sin(2 * np.pi * date.dayofyear / 365)\n",
        "                holiday_effect = 1.2 if np.random.random() > 0.9 else 1.0\n",
        "\n",
        "                weekly_sales = base_sales * seasonal_effect * holiday_effect\n",
        "\n",
        "                data.append({\n",
        "                    'Store': store,\n",
        "                    'Dept': dept,\n",
        "                    'Date': date,\n",
        "                    'Weekly_Sales': weekly_sales,\n",
        "                    'IsHoliday': holiday_effect > 1.0\n",
        "                })\n",
        "\n",
        "    df = pd.DataFrame(data)\n",
        "\n",
        "    # Add features\n",
        "    df['Temperature'] = 40 + 30 * np.sin(2 * np.pi * df['Date'].dt.dayofyear / 365) + np.random.normal(0, 5, len(df))\n",
        "    df['Fuel_Price'] = 3.0 + 0.5 * np.random.normal(0, 1, len(df))\n",
        "    df['CPI'] = 200 + np.random.normal(0, 10, len(df))\n",
        "    df['Unemployment'] = 8 + np.random.normal(0, 2, len(df))\n",
        "    df['Type'] = np.random.choice(['A', 'B', 'C'], len(df))\n",
        "    df['Size'] = np.random.choice([50000, 75000, 100000, 125000], len(df))\n",
        "\n",
        "    # Fill markdown columns with mostly zeros (realistic)\n",
        "    for i in range(1, 6):\n",
        "        df[f'MarkDown{i}'] = np.where(np.random.random(len(df)) > 0.8,\n",
        "                                      np.random.exponential(1000), 0)\n",
        "\n",
        "    print(f\"Sample data created: {len(df)} rows, {df['Store'].nunique()} stores, {df['Dept'].nunique()} departments\")\n",
        "    return df"
      ]
    },
    {
      "cell_type": "code",
      "execution_count": 9,
      "metadata": {
        "id": "FI3k4t7Zbr5D",
        "outputId": "2a994b6d-46bd-4573-93f7-4b95b25225cc",
        "colab": {
          "base_uri": "https://localhost:8080/"
        }
      },
      "outputs": [
        {
          "output_type": "stream",
          "name": "stdout",
          "text": [
            "Loaded actual Walmart data\n",
            "Train data shape: (421570, 5)\n",
            "Features data shape: (8190, 12)\n",
            "Stores data shape: (45, 3)\n"
          ]
        }
      ],
      "source": [
        "def load_walmart_data():\n",
        "    \"\"\"\n",
        "    Load actual Walmart data if available, otherwise create sample data\n",
        "    \"\"\"\n",
        "    try:\n",
        "        # Try to load actual data\n",
        "        train_df = pd.read_csv('train.csv')\n",
        "        features_df = pd.read_csv('features.csv')\n",
        "        stores_df = pd.read_csv('stores.csv')\n",
        "\n",
        "        print(\"Loaded actual Walmart data\")\n",
        "        return train_df, features_df, stores_df\n",
        "\n",
        "    except FileNotFoundError:\n",
        "        print(\"Actual data files not found, creating sample data...\")\n",
        "        sample_df = create_sample_data()\n",
        "\n",
        "        # Split sample data into components to match expected structure\n",
        "        train_df = sample_df[['Store', 'Dept', 'Date', 'Weekly_Sales', 'IsHoliday']].copy()\n",
        "\n",
        "        features_df = sample_df.groupby(['Store', 'Date']).agg({\n",
        "            'Temperature': 'first',\n",
        "            'Fuel_Price': 'first',\n",
        "            'CPI': 'first',\n",
        "            'Unemployment': 'first',\n",
        "            'MarkDown1': 'first',\n",
        "            'MarkDown2': 'first',\n",
        "            'MarkDown3': 'first',\n",
        "            'MarkDown4': 'first',\n",
        "            'MarkDown5': 'first',\n",
        "            'IsHoliday': 'first'\n",
        "        }).reset_index()\n",
        "\n",
        "        stores_df = sample_df.groupby('Store').agg({\n",
        "            'Type': 'first',\n",
        "            'Size': 'first'\n",
        "        }).reset_index()\n",
        "\n",
        "        return train_df, features_df, stores_df\n",
        "\n",
        "# Load data\n",
        "train_df, features_df, stores_df = load_walmart_data()\n",
        "\n",
        "print(f\"Train data shape: {train_df.shape}\")\n",
        "print(f\"Features data shape: {features_df.shape}\")\n",
        "print(f\"Stores data shape: {stores_df.shape}\")"
      ]
    },
    {
      "cell_type": "markdown",
      "metadata": {
        "id": "gYVZtxH4br5D"
      },
      "source": [
        "## 3. Data Preprocessing"
      ]
    },
    {
      "cell_type": "code",
      "execution_count": 10,
      "metadata": {
        "id": "a-oYUkDJbr5D",
        "outputId": "e1d10550-85ce-4d7f-bb7e-ec3fc5b228f5",
        "colab": {
          "base_uri": "https://localhost:8080/"
        }
      },
      "outputs": [
        {
          "output_type": "stream",
          "name": "stdout",
          "text": [
            "=== Data Preprocessing ===\n",
            "Total store-department combinations: 3331\n",
            "Data points per combination - Min: 1, Max: 143\n",
            "Combinations with >= 15 data points: 3121\n",
            "Filtered data shape: (420389, 22) (was (421570, 22))\n",
            "Final data shape after removing missing targets: (420389, 22)\n",
            "Feature columns (18): ['IsHoliday_x', 'Temperature', 'Fuel_Price', 'MarkDown1', 'MarkDown2', 'MarkDown3', 'MarkDown4', 'MarkDown5', 'CPI', 'Unemployment', 'Type', 'Size', 'Year', 'Month', 'Week', 'DayOfYear', 'Quarter', 'IsHoliday']\n"
          ]
        }
      ],
      "source": [
        "def preprocess_walmart_data(train_df, features_df, stores_df, min_sequences_per_combination=15):\n",
        "    \"\"\"\n",
        "    Comprehensive data preprocessing with sparsity handling\n",
        "    \"\"\"\n",
        "    print(\"=== Data Preprocessing ===\")\n",
        "\n",
        "    # Merge all datasets\n",
        "    train_merged = train_df.merge(features_df, on=['Store', 'Date'], how='left')\n",
        "    train_merged = train_merged.merge(stores_df, on='Store', how='left')\n",
        "\n",
        "    # Convert Date to datetime\n",
        "    train_merged['Date'] = pd.to_datetime(train_merged['Date'])\n",
        "\n",
        "    # Sort by Store, Dept, Date\n",
        "    train_merged = train_merged.sort_values(['Store', 'Dept', 'Date']).reset_index(drop=True)\n",
        "\n",
        "    # Create time-based features\n",
        "    train_merged['Year'] = train_merged['Date'].dt.year\n",
        "    train_merged['Month'] = train_merged['Date'].dt.month\n",
        "    train_merged['Week'] = train_merged['Date'].dt.isocalendar().week\n",
        "    train_merged['DayOfYear'] = train_merged['Date'].dt.dayofyear\n",
        "    train_merged['Quarter'] = train_merged['Date'].dt.quarter\n",
        "\n",
        "    # Handle holiday columns (might have different names from merge)\n",
        "    holiday_cols = [col for col in train_merged.columns if 'holiday' in col.lower()]\n",
        "    if len(holiday_cols) > 1:\n",
        "        # Combine holiday indicators\n",
        "        train_merged['IsHoliday'] = train_merged[holiday_cols].any(axis=1).astype(int)\n",
        "        # Drop duplicate holiday columns\n",
        "        train_merged = train_merged.drop(columns=holiday_cols[1:])\n",
        "    elif len(holiday_cols) == 1:\n",
        "        train_merged['IsHoliday'] = train_merged[holiday_cols[0]].astype(int)\n",
        "\n",
        "    # Fill missing values\n",
        "    numeric_columns = train_merged.select_dtypes(include=[np.number]).columns\n",
        "    for col in numeric_columns:\n",
        "        if col != 'Weekly_Sales':  # Don't fill target variable\n",
        "            train_merged[col] = train_merged[col].fillna(train_merged[col].median())\n",
        "\n",
        "    # Encode categorical variables\n",
        "    if 'Type' in train_merged.columns:\n",
        "        le_type = LabelEncoder()\n",
        "        train_merged['Type'] = le_type.fit_transform(train_merged['Type'].fillna('Unknown'))\n",
        "\n",
        "    # Analyze store-department combinations\n",
        "    combination_stats = train_merged.groupby(['Store', 'Dept']).agg({\n",
        "        'Date': ['count', 'min', 'max'],\n",
        "        'Weekly_Sales': ['mean', 'std', 'count']\n",
        "    }).reset_index()\n",
        "\n",
        "    combination_stats.columns = ['Store', 'Dept', 'count', 'date_min', 'date_max',\n",
        "                                'sales_mean', 'sales_std', 'sales_count']\n",
        "\n",
        "    print(f\"Total store-department combinations: {len(combination_stats)}\")\n",
        "    print(f\"Data points per combination - Min: {combination_stats['count'].min()}, Max: {combination_stats['count'].max()}\")\n",
        "\n",
        "    # Filter combinations with sufficient data\n",
        "    sufficient_combinations = combination_stats[combination_stats['count'] >= min_sequences_per_combination]\n",
        "    print(f\"Combinations with >= {min_sequences_per_combination} data points: {len(sufficient_combinations)}\")\n",
        "\n",
        "    # Keep only combinations with sufficient data\n",
        "    keep_combinations = set(zip(sufficient_combinations['Store'], sufficient_combinations['Dept']))\n",
        "    train_filtered = train_merged[\n",
        "        train_merged[['Store', 'Dept']].apply(tuple, axis=1).isin(keep_combinations)\n",
        "    ].copy()\n",
        "\n",
        "    print(f\"Filtered data shape: {train_filtered.shape} (was {train_merged.shape})\")\n",
        "\n",
        "    # Remove rows with missing target values\n",
        "    train_filtered = train_filtered.dropna(subset=['Weekly_Sales'])\n",
        "\n",
        "    print(f\"Final data shape after removing missing targets: {train_filtered.shape}\")\n",
        "\n",
        "    return train_filtered, combination_stats\n",
        "\n",
        "# Preprocess data\n",
        "train_processed, combination_stats = preprocess_walmart_data(train_df, features_df, stores_df)\n",
        "\n",
        "# Define feature columns\n",
        "exclude_cols = ['Weekly_Sales', 'Date', 'Store', 'Dept']\n",
        "feature_cols = [col for col in train_processed.columns if col not in exclude_cols]\n",
        "print(f\"Feature columns ({len(feature_cols)}): {feature_cols}\")"
      ]
    },
    {
      "cell_type": "markdown",
      "metadata": {
        "id": "_27Ayj-Ybr5E"
      },
      "source": [
        "## 4. Robust Time Series Dataset"
      ]
    },
    {
      "cell_type": "code",
      "execution_count": 11,
      "metadata": {
        "id": "IYCVny6Cbr5E"
      },
      "outputs": [],
      "source": [
        "class TimeSeriesDatasetRobust(Dataset):\n",
        "    \"\"\"\n",
        "    Robust TimeSeriesDataset with comprehensive validation and error handling\n",
        "    \"\"\"\n",
        "\n",
        "    def __init__(self, data, target_col, feature_cols, sequence_length, prediction_length,\n",
        "                 store_col='Store', dept_col='Dept', min_sequences=1, verbose=True):\n",
        "        self.data = data.copy()\n",
        "        self.target_col = target_col\n",
        "        self.feature_cols = feature_cols\n",
        "        self.sequence_length = sequence_length\n",
        "        self.prediction_length = prediction_length\n",
        "        self.store_col = store_col\n",
        "        self.dept_col = dept_col\n",
        "        self.min_sequences = min_sequences\n",
        "        self.verbose = verbose\n",
        "\n",
        "        # Sort data properly\n",
        "        self.data = self.data.sort_values([store_col, dept_col, 'Date']).reset_index(drop=True)\n",
        "\n",
        "        # Create sequences with comprehensive validation\n",
        "        self.sequences = self._create_sequences_with_validation()\n",
        "\n",
        "        if self.verbose:\n",
        "            print(f\"TimeSeriesDataset created: {len(self.sequences)} sequences from {len(data)} data points\")\n",
        "\n",
        "    def _create_sequences_with_validation(self):\n",
        "        sequences = []\n",
        "        skipped_combinations = 0\n",
        "        total_combinations = 0\n",
        "\n",
        "        required_length = self.sequence_length + self.prediction_length\n",
        "\n",
        "        for (store, dept), group in self.data.groupby([self.store_col, self.dept_col]):\n",
        "            total_combinations += 1\n",
        "            group = group.sort_values('Date').reset_index(drop=True)\n",
        "\n",
        "            # Validate group has enough data\n",
        "            if len(group) < required_length:\n",
        "                skipped_combinations += 1\n",
        "                if self.verbose and total_combinations <= 5:  # Show first few warnings\n",
        "                    print(f\"  Warning: Store {store}, Dept {dept} has only {len(group)} points, need {required_length}\")\n",
        "                continue\n",
        "\n",
        "            # Check for missing values in critical columns\n",
        "            if group[self.target_col].isnull().any():\n",
        "                skipped_combinations += 1\n",
        "                continue\n",
        "\n",
        "            # Create sequences for this store-department combination\n",
        "            combination_sequences = 0\n",
        "            for i in range(len(group) - required_length + 1):\n",
        "                input_data = group.iloc[i:i + self.sequence_length]\n",
        "                target_data = group.iloc[i + self.sequence_length:i + self.sequence_length + self.prediction_length]\n",
        "\n",
        "                # Validate sequence integrity\n",
        "                if (len(input_data) == self.sequence_length and\n",
        "                    len(target_data) == self.prediction_length and\n",
        "                    not input_data[self.target_col].isnull().any() and\n",
        "                    not target_data[self.target_col].isnull().any()):\n",
        "\n",
        "                    # Prepare feature data (fill any remaining NaNs)\n",
        "                    input_features = input_data[self.feature_cols].fillna(0).values.astype(np.float32)\n",
        "\n",
        "                    sequences.append({\n",
        "                        'input_features': input_features,\n",
        "                        'input_target': input_data[self.target_col].values.astype(np.float32),\n",
        "                        'target': target_data[self.target_col].values.astype(np.float32),\n",
        "                        'store': store,\n",
        "                        'dept': dept,\n",
        "                        'start_date': input_data['Date'].iloc[0],\n",
        "                        'end_date': target_data['Date'].iloc[-1]\n",
        "                    })\n",
        "                    combination_sequences += 1\n",
        "\n",
        "            # Check minimum sequences per combination\n",
        "            if combination_sequences < self.min_sequences:\n",
        "                # Remove sequences from this combination\n",
        "                sequences = [s for s in sequences if not (s['store'] == store and s['dept'] == dept)]\n",
        "                skipped_combinations += 1\n",
        "\n",
        "        if self.verbose:\n",
        "            print(f\"  Total combinations processed: {total_combinations}\")\n",
        "            print(f\"  Combinations skipped: {skipped_combinations}\")\n",
        "            print(f\"  Valid sequences created: {len(sequences)}\")\n",
        "\n",
        "        return sequences\n",
        "\n",
        "    def __len__(self):\n",
        "        return len(self.sequences)\n",
        "\n",
        "    def __getitem__(self, idx):\n",
        "        seq = self.sequences[idx]\n",
        "        return {\n",
        "            'input_features': torch.FloatTensor(seq['input_features']),\n",
        "            'input_target': torch.FloatTensor(seq['input_target']),\n",
        "            'target': torch.FloatTensor(seq['target'])\n",
        "        }"
      ]
    },
    {
      "cell_type": "markdown",
      "metadata": {
        "id": "5UuA79P5br5E"
      },
      "source": [
        "## 5. DLinear Model Implementation"
      ]
    },
    {
      "cell_type": "code",
      "execution_count": 12,
      "metadata": {
        "id": "q_lVreZRbr5E"
      },
      "outputs": [],
      "source": [
        "class MovingAvg(nn.Module):\n",
        "    \"\"\"Moving average block to highlight the trend of time series\"\"\"\n",
        "    def __init__(self, kernel_size, stride):\n",
        "        super(MovingAvg, self).__init__()\n",
        "        self.kernel_size = kernel_size\n",
        "        self.avg = nn.AvgPool1d(kernel_size=kernel_size, stride=stride, padding=0)\n",
        "\n",
        "    def forward(self, x):\n",
        "        # Padding on both ends of time series\n",
        "        front = x[:, 0:1, :].repeat(1, (self.kernel_size - 1) // 2, 1)\n",
        "        end = x[:, -1:, :].repeat(1, (self.kernel_size - 1) // 2, 1)\n",
        "        x = torch.cat([front, x, end], dim=1)\n",
        "        x = self.avg(x.permute(0, 2, 1))\n",
        "        x = x.permute(0, 2, 1)\n",
        "        return x\n",
        "\n",
        "class SeriesDecomp(nn.Module):\n",
        "    \"\"\"Series decomposition block\"\"\"\n",
        "    def __init__(self, kernel_size):\n",
        "        super(SeriesDecomp, self).__init__()\n",
        "        self.moving_avg = MovingAvg(kernel_size, stride=1)\n",
        "\n",
        "    def forward(self, x):\n",
        "        moving_mean = self.moving_avg(x)\n",
        "        res = x - moving_mean\n",
        "        return res, moving_mean\n",
        "\n",
        "class DLinear(nn.Module):\n",
        "    \"\"\"\n",
        "    DLinear model implementation\n",
        "    Paper: Are Transformers Effective for Time Series Forecasting?\n",
        "    \"\"\"\n",
        "    def __init__(self, seq_len, pred_len, enc_in, individual=False, kernel_size=25):\n",
        "        super(DLinear, self).__init__()\n",
        "        self.seq_len = seq_len\n",
        "        self.pred_len = pred_len\n",
        "        self.individual = individual\n",
        "        self.channels = enc_in\n",
        "\n",
        "        # Decomposition\n",
        "        self.decomposition = SeriesDecomp(kernel_size)\n",
        "\n",
        "        if self.individual:\n",
        "            # Individual linear layers for each channel\n",
        "            self.Linear_Seasonal = nn.ModuleList([\n",
        "                nn.Linear(self.seq_len, self.pred_len) for _ in range(self.channels)\n",
        "            ])\n",
        "            self.Linear_Trend = nn.ModuleList([\n",
        "                nn.Linear(self.seq_len, self.pred_len) for _ in range(self.channels)\n",
        "            ])\n",
        "        else:\n",
        "            # Shared linear layers\n",
        "            self.Linear_Seasonal = nn.Linear(self.seq_len, self.pred_len)\n",
        "            self.Linear_Trend = nn.Linear(self.seq_len, self.pred_len)\n",
        "\n",
        "    def forward(self, x):\n",
        "        # x: [Batch, Input length, Channel]\n",
        "        seasonal_init, trend_init = self.decomposition(x)\n",
        "        seasonal_init, trend_init = seasonal_init.permute(0, 2, 1), trend_init.permute(0, 2, 1)\n",
        "\n",
        "        if self.individual:\n",
        "            seasonal_output = torch.zeros([seasonal_init.size(0), seasonal_init.size(1), self.pred_len],\n",
        "                                        dtype=seasonal_init.dtype).to(seasonal_init.device)\n",
        "            trend_output = torch.zeros([trend_init.size(0), trend_init.size(1), self.pred_len],\n",
        "                                     dtype=trend_init.dtype).to(trend_init.device)\n",
        "\n",
        "            for i in range(self.channels):\n",
        "                seasonal_output[:, i, :] = self.Linear_Seasonal[i](seasonal_init[:, i, :])\n",
        "                trend_output[:, i, :] = self.Linear_Trend[i](trend_init[:, i, :])\n",
        "        else:\n",
        "            seasonal_output = self.Linear_Seasonal(seasonal_init)\n",
        "            trend_output = self.Linear_Trend(trend_init)\n",
        "\n",
        "        x = seasonal_output + trend_output\n",
        "        return x.permute(0, 2, 1)  # [Batch, Output length, Channel]"
      ]
    },
    {
      "cell_type": "markdown",
      "metadata": {
        "id": "ifBG-h-6br5E"
      },
      "source": [
        "## 6. Training Functions"
      ]
    },
    {
      "cell_type": "code",
      "execution_count": 13,
      "metadata": {
        "id": "V23MPNLLbr5E"
      },
      "outputs": [],
      "source": [
        "def create_dataloaders_safe(train_data, val_data, feature_cols, sequence_length, prediction_length, batch_size=32):\n",
        "    \"\"\"Create data loaders with comprehensive safety checks\"\"\"\n",
        "\n",
        "    print(f\"Creating dataloaders:\")\n",
        "    print(f\"  Sequence length: {sequence_length}\")\n",
        "    print(f\"  Prediction length: {prediction_length}\")\n",
        "    print(f\"  Batch size: {batch_size}\")\n",
        "    print(f\"  Train data: {len(train_data)} rows\")\n",
        "    print(f\"  Val data: {len(val_data)} rows\")\n",
        "\n",
        "    # Create datasets\n",
        "    train_dataset = TimeSeriesDatasetRobust(\n",
        "        train_data, 'Weekly_Sales', feature_cols, sequence_length, prediction_length, verbose=True\n",
        "    )\n",
        "\n",
        "    val_dataset = TimeSeriesDatasetRobust(\n",
        "        val_data, 'Weekly_Sales', feature_cols, sequence_length, prediction_length, verbose=True\n",
        "    )\n",
        "\n",
        "    # Validate datasets\n",
        "    if len(train_dataset) == 0:\n",
        "        print(\"ERROR: Training dataset is empty!\")\n",
        "        return None, None\n",
        "\n",
        "    if len(val_dataset) == 0:\n",
        "        print(\"ERROR: Validation dataset is empty!\")\n",
        "        return None, None\n",
        "\n",
        "    # Create data loaders\n",
        "    train_loader = DataLoader(train_dataset, batch_size=batch_size, shuffle=True, num_workers=0)\n",
        "    val_loader = DataLoader(val_dataset, batch_size=batch_size, shuffle=False, num_workers=0)\n",
        "\n",
        "    print(f\"  Train loader: {len(train_loader)} batches ({len(train_dataset)} sequences)\")\n",
        "    print(f\"  Val loader: {len(val_loader)} batches ({len(val_dataset)} sequences)\")\n",
        "\n",
        "    return train_loader, val_loader"
      ]
    },
    {
      "cell_type": "code",
      "execution_count": 14,
      "metadata": {
        "id": "WRep6s2Abr5F"
      },
      "outputs": [],
      "source": [
        "def train_model(model, train_loader, val_loader, num_epochs, learning_rate, device, config_name=\"model\", wandb_run=None):\n",
        "    \"\"\"Train the DLinear model with comprehensive monitoring and optional WandB logging\"\"\"\n",
        "\n",
        "    criterion = nn.MSELoss()\n",
        "    optimizer = optim.Adam(model.parameters(), lr=learning_rate)\n",
        "    scheduler = optim.lr_scheduler.ReduceLROnPlateau(optimizer, mode='min', factor=0.5, patience=5, verbose=True)\n",
        "\n",
        "    train_losses = []\n",
        "    val_losses = []\n",
        "    best_val_loss = float('inf')\n",
        "    best_model_state = None\n",
        "\n",
        "    print(f\"Training {config_name} for {num_epochs} epochs...\")\n",
        "\n",
        "    # Log training hyperparameters if wandb_run is provided\n",
        "    if wandb_run:\n",
        "        wandb_run.log({\n",
        "            f\"{config_name}/num_epochs\": num_epochs,\n",
        "            f\"{config_name}/learning_rate\": learning_rate,\n",
        "            f\"{config_name}/optimizer\": \"Adam\",\n",
        "            f\"{config_name}/criterion\": \"MSELoss\",\n",
        "            f\"{config_name}/scheduler\": \"ReduceLROnPlateau\"\n",
        "        })\n",
        "\n",
        "    for epoch in range(num_epochs):\n",
        "        # Training phase\n",
        "        model.train()\n",
        "        train_loss = 0.0\n",
        "        train_batches = 0\n",
        "\n",
        "        for batch_idx, batch in enumerate(train_loader):\n",
        "            # Use target history for univariate forecasting\n",
        "            inputs = batch['input_target'].unsqueeze(-1).to(device)  # [batch, seq_len, 1]\n",
        "            targets = batch['target'].unsqueeze(-1).to(device)  # [batch, pred_len, 1]\n",
        "\n",
        "            optimizer.zero_grad()\n",
        "            outputs = model(inputs)\n",
        "            loss = criterion(outputs, targets)\n",
        "            loss.backward()\n",
        "\n",
        "            # Gradient clipping for stability\n",
        "            torch.nn.utils.clip_grad_norm_(model.parameters(), max_norm=1.0)\n",
        "\n",
        "            optimizer.step()\n",
        "            train_loss += loss.item()\n",
        "            train_batches += 1\n",
        "\n",
        "            # Log batch-level metrics occasionally (for final model training)\n",
        "            if wandb_run and config_name == \"Final-Model\" and batch_idx % 50 == 0:\n",
        "                wandb_run.log({\n",
        "                    \"batch/train_loss\": loss.item(),\n",
        "                    \"batch/epoch\": epoch,\n",
        "                    \"batch/batch_idx\": batch_idx\n",
        "                })\n",
        "\n",
        "        # Validation phase\n",
        "        model.eval()\n",
        "        val_loss = 0.0\n",
        "        val_batches = 0\n",
        "\n",
        "        with torch.no_grad():\n",
        "            for batch in val_loader:\n",
        "                inputs = batch['input_target'].unsqueeze(-1).to(device)\n",
        "                targets = batch['target'].unsqueeze(-1).to(device)\n",
        "\n",
        "                outputs = model(inputs)\n",
        "                loss = criterion(outputs, targets)\n",
        "                val_loss += loss.item()\n",
        "                val_batches += 1\n",
        "\n",
        "        # Calculate average losses\n",
        "        avg_train_loss = train_loss / train_batches if train_batches > 0 else float('inf')\n",
        "        avg_val_loss = val_loss / val_batches if val_batches > 0 else float('inf')\n",
        "\n",
        "        train_losses.append(avg_train_loss)\n",
        "        val_losses.append(avg_val_loss)\n",
        "\n",
        "        # Save best model\n",
        "        if avg_val_loss < best_val_loss:\n",
        "            best_val_loss = avg_val_loss\n",
        "            best_model_state = model.state_dict().copy()\n",
        "            if wandb_run:\n",
        "                wandb_run.log({f\"{config_name}/best_epoch\": epoch})\n",
        "\n",
        "        # Learning rate scheduling\n",
        "        old_lr = optimizer.param_groups[0]['lr']\n",
        "        scheduler.step(avg_val_loss)\n",
        "        new_lr = optimizer.param_groups[0]['lr']\n",
        "\n",
        "        # Log epoch-level metrics to WandB\n",
        "        if wandb_run:\n",
        "            log_dict = {\n",
        "                f\"{config_name}/train_loss\": avg_train_loss,\n",
        "                f\"{config_name}/val_loss\": avg_val_loss,\n",
        "                f\"{config_name}/learning_rate\": new_lr,\n",
        "                f\"{config_name}/best_val_loss\": best_val_loss\n",
        "            }\n",
        "\n",
        "            if config_name == \"Final-Model\":\n",
        "                log_dict[\"epoch\"] = epoch\n",
        "                wandb_run.log(log_dict, step=epoch)\n",
        "            else:\n",
        "                wandb_run.log(log_dict)\n",
        "\n",
        "            if new_lr != old_lr:\n",
        "                wandb_run.log({f\"{config_name}/lr_reduction_epoch\": epoch})\n",
        "\n",
        "        # Print progress\n",
        "        if epoch % 5 == 0 or epoch == num_epochs - 1:\n",
        "            print(f'Epoch {epoch+1}/{num_epochs} - Train Loss: {avg_train_loss:.6f}, Val Loss: {avg_val_loss:.6f}')\n",
        "\n",
        "    # Load best model\n",
        "    if best_model_state is not None:\n",
        "        model.load_state_dict(best_model_state)\n",
        "\n",
        "    # Log training summary\n",
        "    if wandb_run:\n",
        "        wandb_run.log({\n",
        "            f\"{config_name}/final_train_loss\": train_losses[-1],\n",
        "            f\"{config_name}/final_val_loss\": val_losses[-1],\n",
        "            f\"{config_name}/best_val_loss\": best_val_loss,\n",
        "            f\"{config_name}/total_epochs\": num_epochs,\n",
        "            f\"{config_name}/final_lr\": optimizer.param_groups[0]['lr']\n",
        "        })\n",
        "\n",
        "    return model, train_losses, val_losses, best_val_loss"
      ]
    },
    {
      "cell_type": "code",
      "execution_count": 15,
      "metadata": {
        "id": "QssJVlggbr5F"
      },
      "outputs": [],
      "source": [
        "def evaluate_model(model, test_loader, device):\n",
        "    \"\"\"Evaluate the model and return comprehensive metrics\"\"\"\n",
        "    model.eval()\n",
        "    predictions = []\n",
        "    actuals = []\n",
        "\n",
        "    with torch.no_grad():\n",
        "        for batch in test_loader:\n",
        "            inputs = batch['input_target'].unsqueeze(-1).to(device)\n",
        "            targets = batch['target'].to(device)\n",
        "\n",
        "            outputs = model(inputs).squeeze(-1)\n",
        "\n",
        "            predictions.extend(outputs.cpu().numpy())\n",
        "            actuals.extend(targets.cpu().numpy())\n",
        "\n",
        "    predictions = np.array(predictions)\n",
        "    actuals = np.array(actuals)\n",
        "\n",
        "    # Calculate metrics\n",
        "    mse = mean_squared_error(actuals.flatten(), predictions.flatten())\n",
        "    mae = mean_absolute_error(actuals.flatten(), predictions.flatten())\n",
        "    rmse = np.sqrt(mse)\n",
        "\n",
        "    # MAPE (avoiding division by zero)\n",
        "    mape = np.mean(np.abs((actuals.flatten() - predictions.flatten()) /\n",
        "                         np.maximum(np.abs(actuals.flatten()), 1e-8))) * 100\n",
        "\n",
        "    return {\n",
        "        'mse': mse,\n",
        "        'mae': mae,\n",
        "        'rmse': rmse,\n",
        "        'mape': mape,\n",
        "        'predictions': predictions,\n",
        "        'actuals': actuals\n",
        "    }"
      ]
    },
    {
      "cell_type": "markdown",
      "metadata": {
        "id": "8L_3cEFgbr5F"
      },
      "source": [
        "## 7. Time Series Cross-Validation"
      ]
    },
    {
      "cell_type": "code",
      "execution_count": 16,
      "metadata": {
        "id": "mFOkFfRUbr5F"
      },
      "outputs": [],
      "source": [
        "class TimeSeriesCrossValidator:\n",
        "    \"\"\"Time series cross-validator with expanding window approach\"\"\"\n",
        "\n",
        "    def __init__(self, n_splits=3, test_size_weeks=8, gap_weeks=2):\n",
        "        self.n_splits = n_splits\n",
        "        self.test_size_weeks = test_size_weeks\n",
        "        self.gap_weeks = gap_weeks\n",
        "\n",
        "    def split(self, data, date_col='Date'):\n",
        "        \"\"\"Generate train/test splits for time series cross-validation\"\"\"\n",
        "        data_sorted = data.sort_values(date_col).reset_index(drop=True)\n",
        "        unique_dates = sorted(data_sorted[date_col].unique())\n",
        "        total_weeks = len(unique_dates)\n",
        "\n",
        "        print(f\"Time series CV: {total_weeks} weeks available, creating {self.n_splits} splits\")\n",
        "\n",
        "        splits = []\n",
        "\n",
        "        for i in range(self.n_splits):\n",
        "            # Test end point (working backwards)\n",
        "            test_end_idx = total_weeks - i * (self.test_size_weeks + self.gap_weeks)\n",
        "            test_start_idx = test_end_idx - self.test_size_weeks\n",
        "\n",
        "            # Train end point (with gap)\n",
        "            train_end_idx = test_start_idx - self.gap_weeks\n",
        "\n",
        "            if train_end_idx <= 0 or test_start_idx <= 0:\n",
        "                print(f\"Insufficient data for split {i+1}, stopping at {len(splits)} splits\")\n",
        "                break\n",
        "\n",
        "            # Convert to dates\n",
        "            train_end_date = unique_dates[train_end_idx - 1]\n",
        "            test_start_date = unique_dates[test_start_idx]\n",
        "            test_end_date = unique_dates[test_end_idx - 1]\n",
        "\n",
        "            # Create boolean masks\n",
        "            train_mask = data_sorted[date_col] <= train_end_date\n",
        "            test_mask = (data_sorted[date_col] >= test_start_date) & (data_sorted[date_col] <= test_end_date)\n",
        "\n",
        "            train_indices = data_sorted[train_mask].index.tolist()\n",
        "            test_indices = data_sorted[test_mask].index.tolist()\n",
        "\n",
        "            if len(train_indices) > 0 and len(test_indices) > 0:\n",
        "                splits.append((train_indices, test_indices))\n",
        "                print(f\"  Split {i+1}: Train weeks 1-{train_end_idx}, Test weeks {test_start_idx+1}-{test_end_idx}\")\n",
        "\n",
        "        return splits[::-1]  # Reverse to get chronological order"
      ]
    },
    {
      "cell_type": "code",
      "execution_count": 17,
      "metadata": {
        "id": "XeZQHep3br5F"
      },
      "outputs": [],
      "source": [
        "def cross_validate_model(data, feature_cols, config, cv_splits=3):\n",
        "    \"\"\"Perform robust time series cross-validation with WandB logging\"\"\"\n",
        "\n",
        "    print(f\"\\n=== Cross-Validation for Config {config['config_id']} ===\")\n",
        "    print(f\"Configuration: {config}\")\n",
        "\n",
        "    # Initialize WandB run for this configuration\n",
        "    cv_run = wandb.init(\n",
        "        project=\"walmart-sales-forecasting\",\n",
        "        name=f\"dlinear-cv-config-{config['config_id']}\",\n",
        "        job_type=\"cross_validation\",\n",
        "        tags=[\"dlinear\", \"cv\", f\"config_{config['config_id']}\"],\n",
        "        config=config,\n",
        "        notes=f\"Cross-validation for configuration {config['config_id']}\"\n",
        "    )\n",
        "\n",
        "    try:\n",
        "        # Validate configuration\n",
        "        total_weeks = len(data['Date'].unique())\n",
        "        required_weeks = config['sequence_length'] + config['prediction_length']\n",
        "\n",
        "        cv_run.log({\n",
        "            \"cv_setup/total_weeks_available\": total_weeks,\n",
        "            \"cv_setup/required_weeks\": required_weeks,\n",
        "            \"cv_setup/data_size\": len(data),\n",
        "            \"cv_setup/cv_splits\": cv_splits\n",
        "        })\n",
        "\n",
        "        if required_weeks > total_weeks * 0.7:  # Conservative check\n",
        "            print(f\"WARNING: Sequence length ({required_weeks}) may be too long for dataset ({total_weeks} weeks)\")\n",
        "            cv_run.log({\"warning/sequence_too_long\": True})\n",
        "\n",
        "        cv = TimeSeriesCrossValidator(n_splits=cv_splits, test_size_weeks=8, gap_weeks=2)\n",
        "        splits = cv.split(data)\n",
        "\n",
        "        cv_results = []\n",
        "\n",
        "        for fold, (train_idx, val_idx) in enumerate(splits):\n",
        "            print(f\"\\n--- Fold {fold + 1}/{len(splits)} ---\")\n",
        "\n",
        "            fold_train = data.iloc[train_idx].copy()\n",
        "            fold_val = data.iloc[val_idx].copy()\n",
        "\n",
        "            print(f\"Train period: {fold_train['Date'].min()} to {fold_train['Date'].max()}\")\n",
        "            print(f\"Validation period: {fold_val['Date'].min()} to {fold_val['Date'].max()}\")\n",
        "            print(f\"Train size: {len(fold_train)}, Val size: {len(fold_val)}\")\n",
        "\n",
        "            # Log fold information\n",
        "            cv_run.log({\n",
        "                f\"fold_{fold+1}/train_size\": len(fold_train),\n",
        "                f\"fold_{fold+1}/val_size\": len(fold_val),\n",
        "                f\"fold_{fold+1}/train_period_start\": fold_train['Date'].min().strftime('%Y-%m-%d'),\n",
        "                f\"fold_{fold+1}/train_period_end\": fold_train['Date'].max().strftime('%Y-%m-%d'),\n",
        "                f\"fold_{fold+1}/val_period_start\": fold_val['Date'].min().strftime('%Y-%m-%d'),\n",
        "                f\"fold_{fold+1}/val_period_end\": fold_val['Date'].max().strftime('%Y-%m-%d')\n",
        "            })\n",
        "\n",
        "            try:\n",
        "                # Create data loaders with safety checks\n",
        "                train_loader, val_loader = create_dataloaders_safe(\n",
        "                    fold_train, fold_val, feature_cols,\n",
        "                    config['sequence_length'], config['prediction_length'], config['batch_size']\n",
        "                )\n",
        "\n",
        "                if train_loader is None or val_loader is None:\n",
        "                    print(f\"Skipping fold {fold + 1} - insufficient data for sequences\")\n",
        "                    cv_run.log({f\"fold_{fold+1}/status\": \"skipped_insufficient_data\"})\n",
        "                    continue\n",
        "\n",
        "                cv_run.log({\n",
        "                    f\"fold_{fold+1}/train_sequences\": len(train_loader.dataset),\n",
        "                    f\"fold_{fold+1}/val_sequences\": len(val_loader.dataset),\n",
        "                    f\"fold_{fold+1}/train_batches\": len(train_loader),\n",
        "                    f\"fold_{fold+1}/val_batches\": len(val_loader)\n",
        "                })\n",
        "\n",
        "                # Initialize model\n",
        "                model = DLinear(\n",
        "                    seq_len=config['sequence_length'],\n",
        "                    pred_len=config['prediction_length'],\n",
        "                    enc_in=1,  # Univariate (only Weekly_Sales)\n",
        "                    individual=config['individual'],\n",
        "                    kernel_size=config['kernel_size']\n",
        "                ).to(device)\n",
        "\n",
        "                model_params = sum(p.numel() for p in model.parameters() if p.requires_grad)\n",
        "                print(f\"Model parameters: {model_params:,}\")\n",
        "\n",
        "                cv_run.log({f\"fold_{fold+1}/model_parameters\": model_params})\n",
        "\n",
        "                # Train model with reduced epochs for CV\n",
        "                cv_epochs = min(config['num_epochs'], 15)  # Cap at 25 for faster CV\n",
        "                model, train_losses, val_losses, val_loss = train_model(\n",
        "                    model, train_loader, val_loader, cv_epochs, config['learning_rate'],\n",
        "                    device, f\"Fold-{fold+1}\", cv_run\n",
        "                )\n",
        "\n",
        "                # Evaluate\n",
        "                metrics = evaluate_model(model, val_loader, device)\n",
        "\n",
        "                cv_results.append({\n",
        "                    'fold': fold + 1,\n",
        "                    'val_loss': val_loss,\n",
        "                    'mse': metrics['mse'],\n",
        "                    'mae': metrics['mae'],\n",
        "                    'rmse': metrics['rmse'],\n",
        "                    'mape': metrics['mape'],\n",
        "                    'train_size': len(fold_train),\n",
        "                    'val_size': len(fold_val),\n",
        "                    'model_params': model_params\n",
        "                })\n",
        "\n",
        "                # Log fold results\n",
        "                cv_run.log({\n",
        "                    f\"fold_{fold+1}/final_val_loss\": val_loss,\n",
        "                    f\"fold_{fold+1}/final_mse\": metrics['mse'],\n",
        "                    f\"fold_{fold+1}/final_mae\": metrics['mae'],\n",
        "                    f\"fold_{fold+1}/final_rmse\": metrics['rmse'],\n",
        "                    f\"fold_{fold+1}/final_mape\": metrics['mape'],\n",
        "                    f\"fold_{fold+1}/status\": \"completed_successfully\"\n",
        "                })\n",
        "\n",
        "                print(f\"Fold {fold + 1} Results:\")\n",
        "                print(f\"  Val Loss: {val_loss:.6f}\")\n",
        "                print(f\"  RMSE: {metrics['rmse']:.2f}\")\n",
        "                print(f\"  MAE: {metrics['mae']:.2f}\")\n",
        "                print(f\"  MAPE: {metrics['mape']:.2f}%\")\n",
        "\n",
        "            except Exception as e:\n",
        "                print(f\"Error in fold {fold + 1}: {str(e)}\")\n",
        "                cv_run.log({\n",
        "                    f\"fold_{fold+1}/error\": str(e),\n",
        "                    f\"fold_{fold+1}/status\": \"failed\"\n",
        "                })\n",
        "                import traceback\n",
        "                traceback.print_exc()\n",
        "                continue\n",
        "\n",
        "        # Calculate and log cross-validation summary\n",
        "        if cv_results:\n",
        "            cv_summary = summarize_cv_results(cv_results)\n",
        "\n",
        "            # Log CV summary metrics\n",
        "            for metric, value in cv_summary.items():\n",
        "                cv_run.log({f\"cv_summary/{metric}\": value})\n",
        "\n",
        "            # Create CV results table\n",
        "            cv_table = wandb.Table(\n",
        "                columns=[\"Fold\", \"Val Loss\", \"RMSE\", \"MAE\", \"MAPE\", \"Train Size\", \"Val Size\"],\n",
        "                data=[\n",
        "                    [\n",
        "                        result['fold'],\n",
        "                        result['val_loss'],\n",
        "                        result['rmse'],\n",
        "                        result['mae'],\n",
        "                        result['mape'],\n",
        "                        result['train_size'],\n",
        "                        result['val_size']\n",
        "                    ] for result in cv_results\n",
        "                ]\n",
        "            )\n",
        "            cv_run.log({\"cv_results_table\": cv_table})\n",
        "\n",
        "            print(f\"\\n--- CV Summary for Config {config['config_id']} ---\")\n",
        "            print(f\"Successful folds: {cv_summary['n_folds']}\")\n",
        "            print(f\"Mean validation loss: {cv_summary['val_loss_mean']:.6f} ± {cv_summary['val_loss_std']:.6f}\")\n",
        "            print(f\"Mean RMSE: {cv_summary['rmse_mean']:.2f} ± {cv_summary['rmse_std']:.2f}\")\n",
        "            print(f\"Mean MAE: {cv_summary['mae_mean']:.2f} ± {cv_summary['mae_std']:.2f}\")\n",
        "            print(f\"Mean MAPE: {cv_summary['mape_mean']:.2f}% ± {cv_summary['mape_std']:.2f}%\")\n",
        "\n",
        "        else:\n",
        "            cv_run.log({\"cv_summary/status\": \"no_successful_folds\"})\n",
        "            print(f\"No successful folds for configuration {config['config_id']}\")\n",
        "\n",
        "        return cv_results\n",
        "\n",
        "    except Exception as e:\n",
        "        print(f\"Error in cross-validation for config {config['config_id']}: {str(e)}\")\n",
        "        cv_run.log({\"cv_error\": str(e)})\n",
        "        import traceback\n",
        "        traceback.print_exc()\n",
        "        return []\n",
        "\n",
        "    finally:\n",
        "        cv_run.finish()\n",
        "\n",
        "def summarize_cv_results(cv_results):\n",
        "    \"\"\"Summarize cross-validation results\"\"\"\n",
        "    if not cv_results:\n",
        "        return None\n",
        "\n",
        "    metrics = ['val_loss', 'mse', 'mae', 'rmse', 'mape']\n",
        "    summary = {}\n",
        "\n",
        "    for metric in metrics:\n",
        "        values = [result[metric] for result in cv_results]\n",
        "        summary[f'{metric}_mean'] = np.mean(values)\n",
        "        summary[f'{metric}_std'] = np.std(values)\n",
        "        summary[f'{metric}_min'] = np.min(values)\n",
        "        summary[f'{metric}_max'] = np.max(values)\n",
        "\n",
        "    summary['n_folds'] = len(cv_results)\n",
        "    summary['avg_train_size'] = np.mean([r['train_size'] for r in cv_results])\n",
        "    summary['avg_val_size'] = np.mean([r['val_size'] for r in cv_results])\n",
        "\n",
        "    return summary"
      ]
    },
    {
      "cell_type": "markdown",
      "metadata": {
        "id": "hA58FYlObr5F"
      },
      "source": [
        "## 8. Hyperparameter Configurations (FIXED)"
      ]
    },
    {
      "cell_type": "code",
      "execution_count": 19,
      "metadata": {
        "id": "iVyf1W2fbr5F",
        "outputId": "c3011838-1c36-4f97-b5e4-fd26508d8a4a",
        "colab": {
          "base_uri": "https://localhost:8080/"
        }
      },
      "outputs": [
        {
          "output_type": "stream",
          "name": "stdout",
          "text": [
            "Defined 2 configurations for testing\n",
            "Config 2: seq_len=8, pred_len=2\n",
            "Config 4: seq_len=16, pred_len=4\n"
          ]
        }
      ],
      "source": [
        "# CORRECTED configurations with proper syntax\n",
        "configs = [\n",
        "\n",
        "    {\n",
        "        'config_id': 2,\n",
        "        'sequence_length': 8,\n",
        "        'prediction_length': 2,\n",
        "        'kernel_size': 5,\n",
        "        'individual': True,\n",
        "        'learning_rate': 0.0005,\n",
        "        'batch_size': 32,\n",
        "        'num_epochs': 15\n",
        "    },\n",
        "    {\n",
        "        'config_id': 4,\n",
        "        'sequence_length': 16,\n",
        "        'prediction_length': 4,\n",
        "        'kernel_size': 9,\n",
        "        'individual': True,\n",
        "        'learning_rate': 0.001,\n",
        "        'batch_size': 64,\n",
        "        'num_epochs': 15\n",
        "    }\n",
        "]\n",
        "\n",
        "print(f\"Defined {len(configs)} configurations for testing\")\n",
        "for i, config in enumerate(configs):\n",
        "    print(f\"Config {config['config_id']}: seq_len={config['sequence_length']}, pred_len={config['prediction_length']}\")"
      ]
    },
    {
      "cell_type": "markdown",
      "metadata": {
        "id": "56IasgAJbr5F"
      },
      "source": [
        "## 9. Run Cross-Validation Experiments"
      ]
    },
    {
      "cell_type": "code",
      "execution_count": 20,
      "metadata": {
        "id": "NkN1bIXcbr5F",
        "outputId": "7c8d9421-8af7-48d9-d039-088f9e0ff8b6",
        "colab": {
          "base_uri": "https://localhost:8080/",
          "height": 1000
        }
      },
      "outputs": [
        {
          "output_type": "display_data",
          "data": {
            "text/plain": [
              "<IPython.core.display.HTML object>"
            ],
            "text/html": [
              "Tracking run with wandb version 0.20.1"
            ]
          },
          "metadata": {}
        },
        {
          "output_type": "display_data",
          "data": {
            "text/plain": [
              "<IPython.core.display.HTML object>"
            ],
            "text/html": [
              "Run data is saved locally in <code>/content/wandb/run-20250708_120050-72teyutg</code>"
            ]
          },
          "metadata": {}
        },
        {
          "output_type": "display_data",
          "data": {
            "text/plain": [
              "<IPython.core.display.HTML object>"
            ],
            "text/html": [
              "Syncing run <strong><a href='https://wandb.ai/dshan21-free-university-of-tbilisi-/walmart-sales-forecasting/runs/72teyutg' target=\"_blank\">dlinear-hyperparameter-search</a></strong> to <a href='https://wandb.ai/dshan21-free-university-of-tbilisi-/walmart-sales-forecasting' target=\"_blank\">Weights & Biases</a> (<a href='https://wandb.me/developer-guide' target=\"_blank\">docs</a>)<br>"
            ]
          },
          "metadata": {}
        },
        {
          "output_type": "display_data",
          "data": {
            "text/plain": [
              "<IPython.core.display.HTML object>"
            ],
            "text/html": [
              " View project at <a href='https://wandb.ai/dshan21-free-university-of-tbilisi-/walmart-sales-forecasting' target=\"_blank\">https://wandb.ai/dshan21-free-university-of-tbilisi-/walmart-sales-forecasting</a>"
            ]
          },
          "metadata": {}
        },
        {
          "output_type": "display_data",
          "data": {
            "text/plain": [
              "<IPython.core.display.HTML object>"
            ],
            "text/html": [
              " View run at <a href='https://wandb.ai/dshan21-free-university-of-tbilisi-/walmart-sales-forecasting/runs/72teyutg' target=\"_blank\">https://wandb.ai/dshan21-free-university-of-tbilisi-/walmart-sales-forecasting/runs/72teyutg</a>"
            ]
          },
          "metadata": {}
        },
        {
          "output_type": "stream",
          "name": "stdout",
          "text": [
            "=== Starting Hyperparameter Search with WandB ===\n",
            "Data shape: (420389, 22)\n",
            "Unique store-dept combinations: 3121\n",
            "Date range: 2010-02-05 00:00:00 to 2012-10-26 00:00:00\n",
            "\n",
            "============================================================\n",
            "Testing Configuration 2/2\n",
            "============================================================\n",
            "\n",
            "=== Cross-Validation for Config 2 ===\n",
            "Configuration: {'config_id': 2, 'sequence_length': 8, 'prediction_length': 2, 'kernel_size': 5, 'individual': True, 'learning_rate': 0.0005, 'batch_size': 32, 'num_epochs': 15}\n"
          ]
        },
        {
          "output_type": "display_data",
          "data": {
            "text/plain": [
              "<IPython.core.display.HTML object>"
            ],
            "text/html": [
              "Finishing previous runs because reinit is set to 'default'."
            ]
          },
          "metadata": {}
        },
        {
          "output_type": "display_data",
          "data": {
            "text/plain": [
              "<IPython.core.display.HTML object>"
            ],
            "text/html": []
          },
          "metadata": {}
        },
        {
          "output_type": "display_data",
          "data": {
            "text/plain": [
              "<IPython.core.display.HTML object>"
            ],
            "text/html": [
              "<br>    <style><br>        .wandb-row {<br>            display: flex;<br>            flex-direction: row;<br>            flex-wrap: wrap;<br>            justify-content: flex-start;<br>            width: 100%;<br>        }<br>        .wandb-col {<br>            display: flex;<br>            flex-direction: column;<br>            flex-basis: 100%;<br>            flex: 1;<br>            padding: 10px;<br>        }<br>    </style><br><div class=\"wandb-row\"><div class=\"wandb-col\"><h3>Run history:</h3><br/><table class=\"wandb\"><tr><td>experiment/cv_splits</td><td>▁</td></tr><tr><td>experiment/data_size</td><td>▁</td></tr><tr><td>experiment/store_dept_combinations</td><td>▁</td></tr><tr><td>experiment/total_configs</td><td>▁</td></tr><tr><td>experiment/unique_departments</td><td>▁</td></tr><tr><td>experiment/unique_stores</td><td>▁</td></tr></table><br/></div><div class=\"wandb-col\"><h3>Run summary:</h3><br/><table class=\"wandb\"><tr><td>config_2/status</td><td>started</td></tr><tr><td>experiment/cv_splits</td><td>3</td></tr><tr><td>experiment/data_size</td><td>420389</td></tr><tr><td>experiment/date_range_end</td><td>2012-10-26</td></tr><tr><td>experiment/date_range_start</td><td>2010-02-05</td></tr><tr><td>experiment/store_dept_combinations</td><td>3121</td></tr><tr><td>experiment/total_configs</td><td>2</td></tr><tr><td>experiment/unique_departments</td><td>78</td></tr><tr><td>experiment/unique_stores</td><td>45</td></tr></table><br/></div></div>"
            ]
          },
          "metadata": {}
        },
        {
          "output_type": "display_data",
          "data": {
            "text/plain": [
              "<IPython.core.display.HTML object>"
            ],
            "text/html": [
              " View run <strong style=\"color:#cdcd00\">dlinear-hyperparameter-search</strong> at: <a href='https://wandb.ai/dshan21-free-university-of-tbilisi-/walmart-sales-forecasting/runs/72teyutg' target=\"_blank\">https://wandb.ai/dshan21-free-university-of-tbilisi-/walmart-sales-forecasting/runs/72teyutg</a><br> View project at: <a href='https://wandb.ai/dshan21-free-university-of-tbilisi-/walmart-sales-forecasting' target=\"_blank\">https://wandb.ai/dshan21-free-university-of-tbilisi-/walmart-sales-forecasting</a><br>Synced 5 W&B file(s), 0 media file(s), 0 artifact file(s) and 0 other file(s)"
            ]
          },
          "metadata": {}
        },
        {
          "output_type": "display_data",
          "data": {
            "text/plain": [
              "<IPython.core.display.HTML object>"
            ],
            "text/html": [
              "Find logs at: <code>./wandb/run-20250708_120050-72teyutg/logs</code>"
            ]
          },
          "metadata": {}
        },
        {
          "output_type": "display_data",
          "data": {
            "text/plain": [
              "<IPython.core.display.HTML object>"
            ],
            "text/html": [
              "Tracking run with wandb version 0.20.1"
            ]
          },
          "metadata": {}
        },
        {
          "output_type": "display_data",
          "data": {
            "text/plain": [
              "<IPython.core.display.HTML object>"
            ],
            "text/html": [
              "Run data is saved locally in <code>/content/wandb/run-20250708_120053-5r2kfg4k</code>"
            ]
          },
          "metadata": {}
        },
        {
          "output_type": "display_data",
          "data": {
            "text/plain": [
              "<IPython.core.display.HTML object>"
            ],
            "text/html": [
              "Syncing run <strong><a href='https://wandb.ai/dshan21-free-university-of-tbilisi-/walmart-sales-forecasting/runs/5r2kfg4k' target=\"_blank\">dlinear-cv-config-2</a></strong> to <a href='https://wandb.ai/dshan21-free-university-of-tbilisi-/walmart-sales-forecasting' target=\"_blank\">Weights & Biases</a> (<a href='https://wandb.me/developer-guide' target=\"_blank\">docs</a>)<br>"
            ]
          },
          "metadata": {}
        },
        {
          "output_type": "display_data",
          "data": {
            "text/plain": [
              "<IPython.core.display.HTML object>"
            ],
            "text/html": [
              " View project at <a href='https://wandb.ai/dshan21-free-university-of-tbilisi-/walmart-sales-forecasting' target=\"_blank\">https://wandb.ai/dshan21-free-university-of-tbilisi-/walmart-sales-forecasting</a>"
            ]
          },
          "metadata": {}
        },
        {
          "output_type": "display_data",
          "data": {
            "text/plain": [
              "<IPython.core.display.HTML object>"
            ],
            "text/html": [
              " View run at <a href='https://wandb.ai/dshan21-free-university-of-tbilisi-/walmart-sales-forecasting/runs/5r2kfg4k' target=\"_blank\">https://wandb.ai/dshan21-free-university-of-tbilisi-/walmart-sales-forecasting/runs/5r2kfg4k</a>"
            ]
          },
          "metadata": {}
        },
        {
          "output_type": "stream",
          "name": "stdout",
          "text": [
            "Time series CV: 143 weeks available, creating 3 splits\n",
            "  Split 1: Train weeks 1-133, Test weeks 136-143\n",
            "  Split 2: Train weeks 1-123, Test weeks 126-133\n",
            "  Split 3: Train weeks 1-113, Test weeks 116-123\n",
            "\n",
            "--- Fold 1/3 ---\n",
            "Train period: 2010-02-05 00:00:00 to 2012-10-26 00:00:00\n",
            "Validation period: 2010-02-05 00:00:00 to 2012-10-26 00:00:00\n",
            "Train size: 331785, Val size: 23605\n",
            "Creating dataloaders:\n",
            "  Sequence length: 8\n",
            "  Prediction length: 2\n",
            "  Batch size: 32\n",
            "  Train data: 331785 rows\n",
            "  Val data: 23605 rows\n",
            "  Total combinations processed: 2444\n",
            "  Combinations skipped: 0\n",
            "  Valid sequences created: 309789\n",
            "TimeSeriesDataset created: 309789 sequences from 331785 data points\n",
            "  Total combinations processed: 190\n",
            "  Combinations skipped: 0\n",
            "  Valid sequences created: 21895\n",
            "TimeSeriesDataset created: 21895 sequences from 23605 data points\n",
            "  Train loader: 9681 batches (309789 sequences)\n",
            "  Val loader: 685 batches (21895 sequences)\n",
            "Model parameters: 36\n",
            "Training Fold-1 for 15 epochs...\n",
            "Epoch 1/15 - Train Loss: 71813409.551473, Val Loss: 12551964.337793\n",
            "Epoch 6/15 - Train Loss: 48861239.545837, Val Loss: 12574252.751154\n",
            "Epoch 11/15 - Train Loss: 48945234.282648, Val Loss: 12531287.101384\n",
            "Epoch 15/15 - Train Loss: 48908255.106136, Val Loss: 12551730.762749\n",
            "Fold 1 Results:\n",
            "  Val Loss: 12512071.885186\n",
            "  RMSE: 3543.22\n",
            "  MAE: 991.48\n",
            "  MAPE: 33414012.00%\n",
            "\n",
            "--- Fold 2/3 ---\n",
            "Train period: 2010-02-05 00:00:00 to 2012-10-26 00:00:00\n",
            "Validation period: 2010-02-05 00:00:00 to 2012-10-26 00:00:00\n",
            "Train size: 361340, Val size: 23567\n",
            "Creating dataloaders:\n",
            "  Sequence length: 8\n",
            "  Prediction length: 2\n",
            "  Batch size: 32\n",
            "  Train data: 361340 rows\n",
            "  Val data: 23567 rows\n",
            "  Total combinations processed: 2676\n",
            "  Combinations skipped: 0\n",
            "  Valid sequences created: 337256\n",
            "TimeSeriesDataset created: 337256 sequences from 361340 data points\n",
            "  Total combinations processed: 173\n",
            "  Combinations skipped: 0\n",
            "  Valid sequences created: 22010\n",
            "TimeSeriesDataset created: 22010 sequences from 23567 data points\n",
            "  Train loader: 10540 batches (337256 sequences)\n",
            "  Val loader: 688 batches (22010 sequences)\n",
            "Model parameters: 36\n",
            "Training Fold-2 for 15 epochs...\n",
            "Epoch 1/15 - Train Loss: 53626413.682821, Val Loss: 41176905.607112\n",
            "Epoch 6/15 - Train Loss: 48620181.756084, Val Loss: 41754334.662452\n",
            "Epoch 11/15 - Train Loss: 48550095.920576, Val Loss: 41280337.565088\n",
            "Epoch 15/15 - Train Loss: 48360360.106220, Val Loss: 41159458.898507\n",
            "Fold 2 Results:\n",
            "  Val Loss: 41110800.825168\n",
            "  RMSE: 6416.43\n",
            "  MAE: 2201.12\n",
            "  MAPE: 604.89%\n",
            "\n",
            "--- Fold 3/3 ---\n",
            "Train period: 2010-02-05 00:00:00 to 2012-10-26 00:00:00\n",
            "Validation period: 2010-02-05 00:00:00 to 2012-10-26 00:00:00\n",
            "Train size: 390810, Val size: 23670\n",
            "Creating dataloaders:\n",
            "  Sequence length: 8\n",
            "  Prediction length: 2\n",
            "  Batch size: 32\n",
            "  Train data: 390810 rows\n",
            "  Val data: 23670 rows\n",
            "  Total combinations processed: 2892\n",
            "  Combinations skipped: 0\n",
            "  Valid sequences created: 364782\n",
            "TimeSeriesDataset created: 364782 sequences from 390810 data points\n",
            "  Total combinations processed: 183\n",
            "  Combinations skipped: 0\n",
            "  Valid sequences created: 22023\n",
            "TimeSeriesDataset created: 22023 sequences from 23670 data points\n",
            "  Train loader: 11400 batches (364782 sequences)\n",
            "  Val loader: 689 batches (22023 sequences)\n",
            "Model parameters: 36\n",
            "Training Fold-3 for 15 epochs...\n",
            "Epoch 1/15 - Train Loss: 61959516.138651, Val Loss: 15344225.818609\n",
            "Epoch 6/15 - Train Loss: 47606561.574529, Val Loss: 15301562.124993\n",
            "Epoch 11/15 - Train Loss: 47492764.586656, Val Loss: 15209675.091851\n",
            "Epoch 15/15 - Train Loss: 47606691.070417, Val Loss: 15296254.932423\n",
            "Fold 3 Results:\n",
            "  Val Loss: 15186085.536855\n",
            "  RMSE: 3913.25\n",
            "  MAE: 1240.31\n",
            "  MAPE: 111097712.00%\n",
            "\n",
            "--- CV Summary for Config 2 ---\n",
            "Successful folds: 3\n",
            "Mean validation loss: 22936319.415736 ± 12897581.637104\n",
            "Mean RMSE: 4624.30 ± 1276.20\n",
            "Mean MAE: 1477.64 ± 521.57\n",
            "Mean MAPE: 48170772.00% ± 46540044.00%\n"
          ]
        },
        {
          "output_type": "display_data",
          "data": {
            "text/plain": [
              "<IPython.core.display.HTML object>"
            ],
            "text/html": []
          },
          "metadata": {}
        },
        {
          "output_type": "display_data",
          "data": {
            "text/plain": [
              "<IPython.core.display.HTML object>"
            ],
            "text/html": [
              "<br>    <style><br>        .wandb-row {<br>            display: flex;<br>            flex-direction: row;<br>            flex-wrap: wrap;<br>            justify-content: flex-start;<br>            width: 100%;<br>        }<br>        .wandb-col {<br>            display: flex;<br>            flex-direction: column;<br>            flex-basis: 100%;<br>            flex: 1;<br>            padding: 10px;<br>        }<br>    </style><br><div class=\"wandb-row\"><div class=\"wandb-col\"><h3>Run history:</h3><br/><table class=\"wandb\"><tr><td>Fold-1/best_epoch</td><td>▁█</td></tr><tr><td>Fold-1/best_val_loss</td><td>██▁▁▁▁▁▁▁▁▁▁▁▁▁▁</td></tr><tr><td>Fold-1/final_lr</td><td>▁</td></tr><tr><td>Fold-1/final_train_loss</td><td>▁</td></tr><tr><td>Fold-1/final_val_loss</td><td>▁</td></tr><tr><td>Fold-1/learning_rate</td><td>█████████▃▃▃▃▃▃▁</td></tr><tr><td>Fold-1/lr_reduction_epoch</td><td>▁█</td></tr><tr><td>Fold-1/num_epochs</td><td>▁</td></tr><tr><td>Fold-1/total_epochs</td><td>▁</td></tr><tr><td>Fold-1/train_loss</td><td>█▁▁▁▁▁▁▁▁▁▁▁▁▁▁</td></tr><tr><td>Fold-1/val_loss</td><td>▃▆▁▁▁▄▄▄█▂▂▃▃▃▃</td></tr><tr><td>Fold-2/best_epoch</td><td>▁█</td></tr><tr><td>Fold-2/best_val_loss</td><td>█▁▁▁▁▁▁▁▁▁▁▁▁▁▁▁</td></tr><tr><td>Fold-2/final_lr</td><td>▁</td></tr><tr><td>Fold-2/final_train_loss</td><td>▁</td></tr><tr><td>Fold-2/final_val_loss</td><td>▁</td></tr><tr><td>Fold-2/learning_rate</td><td>████████▃▃▃▃▃▃▁▁</td></tr><tr><td>Fold-2/lr_reduction_epoch</td><td>▁█</td></tr><tr><td>Fold-2/num_epochs</td><td>▁</td></tr><tr><td>Fold-2/total_epochs</td><td>▁</td></tr><tr><td>Fold-2/train_loss</td><td>█▁▁▁▁▁▁▁▁▁▁▁▁▁▁</td></tr><tr><td>Fold-2/val_loss</td><td>▂▁▂▂▃█▁█▃▃▃▂▁▃▂</td></tr><tr><td>Fold-3/best_epoch</td><td>▁█</td></tr><tr><td>Fold-3/best_val_loss</td><td>██▁▁▁▁▁▁▁▁▁▁▁▁▁▁</td></tr><tr><td>Fold-3/final_lr</td><td>▁</td></tr><tr><td>Fold-3/final_train_loss</td><td>▁</td></tr><tr><td>Fold-3/final_val_loss</td><td>▁</td></tr><tr><td>Fold-3/learning_rate</td><td>█████████▃▃▃▃▃▃▁</td></tr><tr><td>Fold-3/lr_reduction_epoch</td><td>▁█</td></tr><tr><td>Fold-3/num_epochs</td><td>▁</td></tr><tr><td>Fold-3/total_epochs</td><td>▁</td></tr><tr><td>Fold-3/train_loss</td><td>█▁▁▁▁▁▁▁▁▁▁▁▁▁▁</td></tr><tr><td>Fold-3/val_loss</td><td>██▁█▇▆▄▄▃▃▂▃▃▄▆</td></tr><tr><td>cv_setup/cv_splits</td><td>▁</td></tr><tr><td>cv_setup/data_size</td><td>▁</td></tr><tr><td>cv_setup/required_weeks</td><td>▁</td></tr><tr><td>cv_setup/total_weeks_available</td><td>▁</td></tr><tr><td>cv_summary/avg_train_size</td><td>▁</td></tr><tr><td>cv_summary/avg_val_size</td><td>▁</td></tr><tr><td>cv_summary/mae_max</td><td>▁</td></tr><tr><td>cv_summary/mae_mean</td><td>▁</td></tr><tr><td>cv_summary/mae_min</td><td>▁</td></tr><tr><td>cv_summary/mae_std</td><td>▁</td></tr><tr><td>cv_summary/mape_max</td><td>▁</td></tr><tr><td>cv_summary/mape_mean</td><td>▁</td></tr><tr><td>cv_summary/mape_min</td><td>▁</td></tr><tr><td>cv_summary/mape_std</td><td>▁</td></tr><tr><td>cv_summary/mse_max</td><td>▁</td></tr><tr><td>cv_summary/mse_mean</td><td>▁</td></tr><tr><td>cv_summary/mse_min</td><td>▁</td></tr><tr><td>cv_summary/mse_std</td><td>▁</td></tr><tr><td>cv_summary/n_folds</td><td>▁</td></tr><tr><td>cv_summary/rmse_max</td><td>▁</td></tr><tr><td>cv_summary/rmse_mean</td><td>▁</td></tr><tr><td>cv_summary/rmse_min</td><td>▁</td></tr><tr><td>cv_summary/rmse_std</td><td>▁</td></tr><tr><td>cv_summary/val_loss_max</td><td>▁</td></tr><tr><td>cv_summary/val_loss_mean</td><td>▁</td></tr><tr><td>cv_summary/val_loss_min</td><td>▁</td></tr><tr><td>cv_summary/val_loss_std</td><td>▁</td></tr><tr><td>fold_1/final_mae</td><td>▁</td></tr><tr><td>fold_1/final_mape</td><td>▁</td></tr><tr><td>fold_1/final_mse</td><td>▁</td></tr><tr><td>fold_1/final_rmse</td><td>▁</td></tr><tr><td>fold_1/final_val_loss</td><td>▁</td></tr><tr><td>fold_1/model_parameters</td><td>▁</td></tr><tr><td>fold_1/train_batches</td><td>▁</td></tr><tr><td>fold_1/train_sequences</td><td>▁</td></tr><tr><td>fold_1/train_size</td><td>▁</td></tr><tr><td>fold_1/val_batches</td><td>▁</td></tr><tr><td>fold_1/val_sequences</td><td>▁</td></tr><tr><td>fold_1/val_size</td><td>▁</td></tr><tr><td>fold_2/final_mae</td><td>▁</td></tr><tr><td>fold_2/final_mape</td><td>▁</td></tr><tr><td>fold_2/final_mse</td><td>▁</td></tr><tr><td>fold_2/final_rmse</td><td>▁</td></tr><tr><td>fold_2/final_val_loss</td><td>▁</td></tr><tr><td>fold_2/model_parameters</td><td>▁</td></tr><tr><td>fold_2/train_batches</td><td>▁</td></tr><tr><td>fold_2/train_sequences</td><td>▁</td></tr><tr><td>fold_2/train_size</td><td>▁</td></tr><tr><td>fold_2/val_batches</td><td>▁</td></tr><tr><td>fold_2/val_sequences</td><td>▁</td></tr><tr><td>fold_2/val_size</td><td>▁</td></tr><tr><td>fold_3/final_mae</td><td>▁</td></tr><tr><td>fold_3/final_mape</td><td>▁</td></tr><tr><td>fold_3/final_mse</td><td>▁</td></tr><tr><td>fold_3/final_rmse</td><td>▁</td></tr><tr><td>fold_3/final_val_loss</td><td>▁</td></tr><tr><td>fold_3/model_parameters</td><td>▁</td></tr><tr><td>fold_3/train_batches</td><td>▁</td></tr><tr><td>fold_3/train_sequences</td><td>▁</td></tr><tr><td>fold_3/train_size</td><td>▁</td></tr><tr><td>fold_3/val_batches</td><td>▁</td></tr><tr><td>fold_3/val_sequences</td><td>▁</td></tr><tr><td>fold_3/val_size</td><td>▁</td></tr></table><br/></div><div class=\"wandb-col\"><h3>Run summary:</h3><br/><table class=\"wandb\"><tr><td>Fold-1/best_epoch</td><td>2</td></tr><tr><td>Fold-1/best_val_loss</td><td>12512071.88519</td></tr><tr><td>Fold-1/criterion</td><td>MSELoss</td></tr><tr><td>Fold-1/final_lr</td><td>0.00013</td></tr><tr><td>Fold-1/final_train_loss</td><td>48908255.10614</td></tr><tr><td>Fold-1/final_val_loss</td><td>12551730.76275</td></tr><tr><td>Fold-1/learning_rate</td><td>0.00013</td></tr><tr><td>Fold-1/lr_reduction_epoch</td><td>14</td></tr><tr><td>Fold-1/num_epochs</td><td>15</td></tr><tr><td>Fold-1/optimizer</td><td>Adam</td></tr><tr><td>Fold-1/scheduler</td><td>ReduceLROnPlateau</td></tr><tr><td>Fold-1/total_epochs</td><td>15</td></tr><tr><td>Fold-1/train_loss</td><td>48908255.10614</td></tr><tr><td>Fold-1/val_loss</td><td>12551730.76275</td></tr><tr><td>Fold-2/best_epoch</td><td>1</td></tr><tr><td>Fold-2/best_val_loss</td><td>41110800.82517</td></tr><tr><td>Fold-2/criterion</td><td>MSELoss</td></tr><tr><td>Fold-2/final_lr</td><td>0.00013</td></tr><tr><td>Fold-2/final_train_loss</td><td>48360360.10622</td></tr><tr><td>Fold-2/final_val_loss</td><td>41159458.89851</td></tr><tr><td>Fold-2/learning_rate</td><td>0.00013</td></tr><tr><td>Fold-2/lr_reduction_epoch</td><td>13</td></tr><tr><td>Fold-2/num_epochs</td><td>15</td></tr><tr><td>Fold-2/optimizer</td><td>Adam</td></tr><tr><td>Fold-2/scheduler</td><td>ReduceLROnPlateau</td></tr><tr><td>Fold-2/total_epochs</td><td>15</td></tr><tr><td>Fold-2/train_loss</td><td>48360360.10622</td></tr><tr><td>Fold-2/val_loss</td><td>41159458.89851</td></tr><tr><td>Fold-3/best_epoch</td><td>2</td></tr><tr><td>Fold-3/best_val_loss</td><td>15186085.53686</td></tr><tr><td>Fold-3/criterion</td><td>MSELoss</td></tr><tr><td>Fold-3/final_lr</td><td>0.00013</td></tr><tr><td>Fold-3/final_train_loss</td><td>47606691.07042</td></tr><tr><td>Fold-3/final_val_loss</td><td>15296254.93242</td></tr><tr><td>Fold-3/learning_rate</td><td>0.00013</td></tr><tr><td>Fold-3/lr_reduction_epoch</td><td>14</td></tr><tr><td>Fold-3/num_epochs</td><td>15</td></tr><tr><td>Fold-3/optimizer</td><td>Adam</td></tr><tr><td>Fold-3/scheduler</td><td>ReduceLROnPlateau</td></tr><tr><td>Fold-3/total_epochs</td><td>15</td></tr><tr><td>Fold-3/train_loss</td><td>47606691.07042</td></tr><tr><td>Fold-3/val_loss</td><td>15296254.93242</td></tr><tr><td>cv_setup/cv_splits</td><td>3</td></tr><tr><td>cv_setup/data_size</td><td>420389</td></tr><tr><td>cv_setup/required_weeks</td><td>10</td></tr><tr><td>cv_setup/total_weeks_available</td><td>143</td></tr><tr><td>cv_summary/avg_train_size</td><td>361311.66667</td></tr><tr><td>cv_summary/avg_val_size</td><td>23614</td></tr><tr><td>cv_summary/mae_max</td><td>2201.11572</td></tr><tr><td>cv_summary/mae_mean</td><td>1477.63611</td></tr><tr><td>cv_summary/mae_min</td><td>991.47815</td></tr><tr><td>cv_summary/mae_std</td><td>521.56619</td></tr><tr><td>cv_summary/mape_max</td><td>111097712.0</td></tr><tr><td>cv_summary/mape_mean</td><td>48170772.0</td></tr><tr><td>cv_summary/mape_min</td><td>604.89081</td></tr><tr><td>cv_summary/mape_std</td><td>46540044.0</td></tr><tr><td>cv_summary/mse_max</td><td>41170608.0</td></tr><tr><td>cv_summary/mse_mean</td><td>23012856.0</td></tr><tr><td>cv_summary/mse_min</td><td>12554396.0</td></tr><tr><td>cv_summary/mse_std</td><td>12888786.34791</td></tr><tr><td>cv_summary/n_folds</td><td>3</td></tr><tr><td>cv_summary/rmse_max</td><td>6416.43265</td></tr><tr><td>cv_summary/rmse_mean</td><td>4624.30196</td></tr><tr><td>cv_summary/rmse_min</td><td>3543.21831</td></tr><tr><td>cv_summary/rmse_std</td><td>1276.20037</td></tr><tr><td>cv_summary/val_loss_max</td><td>41110800.82517</td></tr><tr><td>cv_summary/val_loss_mean</td><td>22936319.41574</td></tr><tr><td>cv_summary/val_loss_min</td><td>12512071.88519</td></tr><tr><td>cv_summary/val_loss_std</td><td>12897581.6371</td></tr><tr><td>fold_1/final_mae</td><td>991.47815</td></tr><tr><td>fold_1/final_mape</td><td>33414012.0</td></tr><tr><td>fold_1/final_mse</td><td>12554396.0</td></tr><tr><td>fold_1/final_rmse</td><td>3543.21831</td></tr><tr><td>fold_1/final_val_loss</td><td>12512071.88519</td></tr><tr><td>fold_1/model_parameters</td><td>36</td></tr><tr><td>fold_1/status</td><td>completed_successful...</td></tr><tr><td>fold_1/train_batches</td><td>9681</td></tr><tr><td>fold_1/train_period_end</td><td>2012-10-26</td></tr><tr><td>fold_1/train_period_start</td><td>2010-02-05</td></tr><tr><td>fold_1/train_sequences</td><td>309789</td></tr><tr><td>fold_1/train_size</td><td>331785</td></tr><tr><td>fold_1/val_batches</td><td>685</td></tr><tr><td>fold_1/val_period_end</td><td>2012-10-26</td></tr><tr><td>fold_1/val_period_start</td><td>2010-02-05</td></tr><tr><td>fold_1/val_sequences</td><td>21895</td></tr><tr><td>fold_1/val_size</td><td>23605</td></tr><tr><td>fold_2/final_mae</td><td>2201.11572</td></tr><tr><td>fold_2/final_mape</td><td>604.89081</td></tr><tr><td>fold_2/final_mse</td><td>41170608.0</td></tr><tr><td>fold_2/final_rmse</td><td>6416.43265</td></tr><tr><td>fold_2/final_val_loss</td><td>41110800.82517</td></tr><tr><td>fold_2/model_parameters</td><td>36</td></tr><tr><td>fold_2/status</td><td>completed_successful...</td></tr><tr><td>fold_2/train_batches</td><td>10540</td></tr><tr><td>fold_2/train_period_end</td><td>2012-10-26</td></tr><tr><td>fold_2/train_period_start</td><td>2010-02-05</td></tr><tr><td>fold_2/train_sequences</td><td>337256</td></tr><tr><td>fold_2/train_size</td><td>361340</td></tr><tr><td>fold_2/val_batches</td><td>688</td></tr><tr><td>fold_2/val_period_end</td><td>2012-10-26</td></tr><tr><td>fold_2/val_period_start</td><td>2010-02-05</td></tr><tr><td>fold_2/val_sequences</td><td>22010</td></tr><tr><td>fold_2/val_size</td><td>23567</td></tr><tr><td>fold_3/final_mae</td><td>1240.31445</td></tr><tr><td>fold_3/final_mape</td><td>111097712.0</td></tr><tr><td>fold_3/final_mse</td><td>15313564.0</td></tr><tr><td>fold_3/final_rmse</td><td>3913.25491</td></tr><tr><td>fold_3/final_val_loss</td><td>15186085.53686</td></tr><tr><td>fold_3/model_parameters</td><td>36</td></tr><tr><td>fold_3/status</td><td>completed_successful...</td></tr><tr><td>fold_3/train_batches</td><td>11400</td></tr><tr><td>fold_3/train_period_end</td><td>2012-10-26</td></tr><tr><td>fold_3/train_period_start</td><td>2010-02-05</td></tr><tr><td>fold_3/train_sequences</td><td>364782</td></tr><tr><td>fold_3/train_size</td><td>390810</td></tr><tr><td>fold_3/val_batches</td><td>689</td></tr><tr><td>fold_3/val_period_end</td><td>2012-10-26</td></tr><tr><td>fold_3/val_period_start</td><td>2010-02-05</td></tr><tr><td>fold_3/val_sequences</td><td>22023</td></tr><tr><td>fold_3/val_size</td><td>23670</td></tr></table><br/></div></div>"
            ]
          },
          "metadata": {}
        },
        {
          "output_type": "display_data",
          "data": {
            "text/plain": [
              "<IPython.core.display.HTML object>"
            ],
            "text/html": [
              " View run <strong style=\"color:#cdcd00\">dlinear-cv-config-2</strong> at: <a href='https://wandb.ai/dshan21-free-university-of-tbilisi-/walmart-sales-forecasting/runs/5r2kfg4k' target=\"_blank\">https://wandb.ai/dshan21-free-university-of-tbilisi-/walmart-sales-forecasting/runs/5r2kfg4k</a><br> View project at: <a href='https://wandb.ai/dshan21-free-university-of-tbilisi-/walmart-sales-forecasting' target=\"_blank\">https://wandb.ai/dshan21-free-university-of-tbilisi-/walmart-sales-forecasting</a><br>Synced 5 W&B file(s), 1 media file(s), 2 artifact file(s) and 0 other file(s)"
            ]
          },
          "metadata": {}
        },
        {
          "output_type": "display_data",
          "data": {
            "text/plain": [
              "<IPython.core.display.HTML object>"
            ],
            "text/html": [
              "Find logs at: <code>./wandb/run-20250708_120053-5r2kfg4k/logs</code>"
            ]
          },
          "metadata": {}
        },
        {
          "output_type": "stream",
          "name": "stdout",
          "text": [
            "Error in configuration 2: Run (72teyutg) is finished. The call to `log` will be ignored. Please make sure that you are using an active run.\n"
          ]
        },
        {
          "output_type": "error",
          "ename": "UsageError",
          "evalue": "Run (72teyutg) is finished. The call to `log` will be ignored. Please make sure that you are using an active run.",
          "traceback": [
            "\u001b[0;31m---------------------------------------------------------------------------\u001b[0m",
            "\u001b[0;31mUsageError\u001b[0m                                Traceback (most recent call last)",
            "\u001b[0;32m/tmp/ipython-input-20-3611302342.py\u001b[0m in \u001b[0;36mrun_hyperparameter_search\u001b[0;34m(data, feature_cols, configs, cv_splits)\u001b[0m\n\u001b[1;32m     62\u001b[0m                 \u001b[0;31m# Log config results to main experiment\u001b[0m\u001b[0;34m\u001b[0m\u001b[0;34m\u001b[0m\u001b[0m\n\u001b[0;32m---> 63\u001b[0;31m                 experiment_run.log({\n\u001b[0m\u001b[1;32m     64\u001b[0m                     \u001b[0;34mf\"config_{config['config_id']}/val_loss_mean\"\u001b[0m\u001b[0;34m:\u001b[0m \u001b[0mcv_summary\u001b[0m\u001b[0;34m[\u001b[0m\u001b[0;34m'val_loss_mean'\u001b[0m\u001b[0;34m]\u001b[0m\u001b[0;34m,\u001b[0m\u001b[0;34m\u001b[0m\u001b[0;34m\u001b[0m\u001b[0m\n",
            "\u001b[0;32m/usr/local/lib/python3.11/dist-packages/wandb/sdk/wandb_run.py\u001b[0m in \u001b[0;36mwrapper\u001b[0;34m(self, *args, **kwargs)\u001b[0m\n\u001b[1;32m    390\u001b[0m         \u001b[0;32mwith\u001b[0m \u001b[0mwb_logging\u001b[0m\u001b[0;34m.\u001b[0m\u001b[0mlog_to_run\u001b[0m\u001b[0;34m(\u001b[0m\u001b[0mrun_id\u001b[0m\u001b[0;34m)\u001b[0m\u001b[0;34m:\u001b[0m\u001b[0;34m\u001b[0m\u001b[0;34m\u001b[0m\u001b[0m\n\u001b[0;32m--> 391\u001b[0;31m             \u001b[0;32mreturn\u001b[0m \u001b[0mfunc\u001b[0m\u001b[0;34m(\u001b[0m\u001b[0mself\u001b[0m\u001b[0;34m,\u001b[0m \u001b[0;34m*\u001b[0m\u001b[0margs\u001b[0m\u001b[0;34m,\u001b[0m \u001b[0;34m**\u001b[0m\u001b[0mkwargs\u001b[0m\u001b[0;34m)\u001b[0m\u001b[0;34m\u001b[0m\u001b[0;34m\u001b[0m\u001b[0m\n\u001b[0m\u001b[1;32m    392\u001b[0m \u001b[0;34m\u001b[0m\u001b[0m\n",
            "\u001b[0;32m/usr/local/lib/python3.11/dist-packages/wandb/sdk/wandb_run.py\u001b[0m in \u001b[0;36mwrapper_fn\u001b[0;34m(self, *args, **kwargs)\u001b[0m\n\u001b[1;32m    456\u001b[0m \u001b[0;34m\u001b[0m\u001b[0m\n\u001b[0;32m--> 457\u001b[0;31m         \u001b[0;32mraise\u001b[0m \u001b[0mUsageError\u001b[0m\u001b[0;34m(\u001b[0m\u001b[0mmessage\u001b[0m\u001b[0;34m)\u001b[0m\u001b[0;34m\u001b[0m\u001b[0;34m\u001b[0m\u001b[0m\n\u001b[0m\u001b[1;32m    458\u001b[0m \u001b[0;34m\u001b[0m\u001b[0m\n",
            "\u001b[0;31mUsageError\u001b[0m: Run (72teyutg) is finished. The call to `log` will be ignored. Please make sure that you are using an active run.",
            "\nDuring handling of the above exception, another exception occurred:\n",
            "\u001b[0;31mUsageError\u001b[0m                                Traceback (most recent call last)",
            "\u001b[0;32m/tmp/ipython-input-20-3611302342.py\u001b[0m in \u001b[0;36m<cell line: 0>\u001b[0;34m()\u001b[0m\n\u001b[1;32m    135\u001b[0m \u001b[0;34m\u001b[0m\u001b[0m\n\u001b[1;32m    136\u001b[0m \u001b[0;31m# Run the hyperparameter search\u001b[0m\u001b[0;34m\u001b[0m\u001b[0;34m\u001b[0m\u001b[0m\n\u001b[0;32m--> 137\u001b[0;31m all_results, best_config, best_cv_score = run_hyperparameter_search(\n\u001b[0m\u001b[1;32m    138\u001b[0m     \u001b[0mtrain_processed\u001b[0m\u001b[0;34m,\u001b[0m \u001b[0mfeature_cols\u001b[0m\u001b[0;34m,\u001b[0m \u001b[0mconfigs\u001b[0m\u001b[0;34m,\u001b[0m \u001b[0mcv_splits\u001b[0m\u001b[0;34m=\u001b[0m\u001b[0;36m3\u001b[0m\u001b[0;34m\u001b[0m\u001b[0;34m\u001b[0m\u001b[0m\n\u001b[1;32m    139\u001b[0m )\n",
            "\u001b[0;32m/tmp/ipython-input-20-3611302342.py\u001b[0m in \u001b[0;36mrun_hyperparameter_search\u001b[0;34m(data, feature_cols, configs, cv_splits)\u001b[0m\n\u001b[1;32m     83\u001b[0m             \u001b[0;32mexcept\u001b[0m \u001b[0mException\u001b[0m \u001b[0;32mas\u001b[0m \u001b[0me\u001b[0m\u001b[0;34m:\u001b[0m\u001b[0;34m\u001b[0m\u001b[0;34m\u001b[0m\u001b[0m\n\u001b[1;32m     84\u001b[0m                 \u001b[0mprint\u001b[0m\u001b[0;34m(\u001b[0m\u001b[0;34mf\"Error in configuration {config['config_id']}: {str(e)}\"\u001b[0m\u001b[0;34m)\u001b[0m\u001b[0;34m\u001b[0m\u001b[0;34m\u001b[0m\u001b[0m\n\u001b[0;32m---> 85\u001b[0;31m                 experiment_run.log({\n\u001b[0m\u001b[1;32m     86\u001b[0m                     \u001b[0;34mf\"config_{config['config_id']}/error\"\u001b[0m\u001b[0;34m:\u001b[0m \u001b[0mstr\u001b[0m\u001b[0;34m(\u001b[0m\u001b[0me\u001b[0m\u001b[0;34m)\u001b[0m\u001b[0;34m,\u001b[0m\u001b[0;34m\u001b[0m\u001b[0;34m\u001b[0m\u001b[0m\n\u001b[1;32m     87\u001b[0m                     \u001b[0;34mf\"config_{config['config_id']}/status\"\u001b[0m\u001b[0;34m:\u001b[0m \u001b[0;34m\"failed\"\u001b[0m\u001b[0;34m\u001b[0m\u001b[0;34m\u001b[0m\u001b[0m\n",
            "\u001b[0;32m/usr/local/lib/python3.11/dist-packages/wandb/sdk/wandb_run.py\u001b[0m in \u001b[0;36mwrapper\u001b[0;34m(self, *args, **kwargs)\u001b[0m\n\u001b[1;32m    389\u001b[0m \u001b[0;34m\u001b[0m\u001b[0m\n\u001b[1;32m    390\u001b[0m         \u001b[0;32mwith\u001b[0m \u001b[0mwb_logging\u001b[0m\u001b[0;34m.\u001b[0m\u001b[0mlog_to_run\u001b[0m\u001b[0;34m(\u001b[0m\u001b[0mrun_id\u001b[0m\u001b[0;34m)\u001b[0m\u001b[0;34m:\u001b[0m\u001b[0;34m\u001b[0m\u001b[0;34m\u001b[0m\u001b[0m\n\u001b[0;32m--> 391\u001b[0;31m             \u001b[0;32mreturn\u001b[0m \u001b[0mfunc\u001b[0m\u001b[0;34m(\u001b[0m\u001b[0mself\u001b[0m\u001b[0;34m,\u001b[0m \u001b[0;34m*\u001b[0m\u001b[0margs\u001b[0m\u001b[0;34m,\u001b[0m \u001b[0;34m**\u001b[0m\u001b[0mkwargs\u001b[0m\u001b[0;34m)\u001b[0m\u001b[0;34m\u001b[0m\u001b[0;34m\u001b[0m\u001b[0m\n\u001b[0m\u001b[1;32m    392\u001b[0m \u001b[0;34m\u001b[0m\u001b[0m\n\u001b[1;32m    393\u001b[0m     \u001b[0;32mreturn\u001b[0m \u001b[0mwrapper\u001b[0m\u001b[0;34m\u001b[0m\u001b[0;34m\u001b[0m\u001b[0m\n",
            "\u001b[0;32m/usr/local/lib/python3.11/dist-packages/wandb/sdk/wandb_run.py\u001b[0m in \u001b[0;36mwrapper_fn\u001b[0;34m(self, *args, **kwargs)\u001b[0m\n\u001b[1;32m    455\u001b[0m         )\n\u001b[1;32m    456\u001b[0m \u001b[0;34m\u001b[0m\u001b[0m\n\u001b[0;32m--> 457\u001b[0;31m         \u001b[0;32mraise\u001b[0m \u001b[0mUsageError\u001b[0m\u001b[0;34m(\u001b[0m\u001b[0mmessage\u001b[0m\u001b[0;34m)\u001b[0m\u001b[0;34m\u001b[0m\u001b[0;34m\u001b[0m\u001b[0m\n\u001b[0m\u001b[1;32m    458\u001b[0m \u001b[0;34m\u001b[0m\u001b[0m\n\u001b[1;32m    459\u001b[0m     \u001b[0;32mreturn\u001b[0m \u001b[0mwrapper_fn\u001b[0m\u001b[0;34m\u001b[0m\u001b[0;34m\u001b[0m\u001b[0m\n",
            "\u001b[0;31mUsageError\u001b[0m: Run (72teyutg) is finished. The call to `log` will be ignored. Please make sure that you are using an active run."
          ]
        }
      ],
      "source": [
        "def run_hyperparameter_search(data, feature_cols, configs, cv_splits=3):\n",
        "    \"\"\"Run comprehensive hyperparameter search with WandB logging\"\"\"\n",
        "\n",
        "    # Initialize main experiment run\n",
        "    experiment_run = wandb.init(\n",
        "        project=\"walmart-sales-forecasting\",\n",
        "        name=\"dlinear-hyperparameter-search\",\n",
        "        job_type=\"hyperparameter_search\",\n",
        "        tags=[\"dlinear\", \"hyperparameter_search\", \"experiment\"],\n",
        "        notes=\"Comprehensive hyperparameter search for DLinear model on Walmart sales data\"\n",
        "    )\n",
        "\n",
        "    try:\n",
        "        print(\"=== Starting Hyperparameter Search with WandB ===\")\n",
        "        print(f\"Data shape: {data.shape}\")\n",
        "        print(f\"Unique store-dept combinations: {data.groupby(['Store', 'Dept']).ngroups}\")\n",
        "        print(f\"Date range: {data['Date'].min()} to {data['Date'].max()}\")\n",
        "\n",
        "        # Log experiment setup\n",
        "        experiment_run.log({\n",
        "            \"experiment/total_configs\": len(configs),\n",
        "            \"experiment/cv_splits\": cv_splits,\n",
        "            \"experiment/data_size\": len(data),\n",
        "            \"experiment/unique_stores\": data['Store'].nunique(),\n",
        "            \"experiment/unique_departments\": data['Dept'].nunique(),\n",
        "            \"experiment/store_dept_combinations\": data.groupby(['Store', 'Dept']).ngroups,\n",
        "            \"experiment/date_range_start\": data['Date'].min().strftime('%Y-%m-%d'),\n",
        "            \"experiment/date_range_end\": data['Date'].max().strftime('%Y-%m-%d')\n",
        "        })\n",
        "\n",
        "        best_config = None\n",
        "        best_cv_score = float('inf')\n",
        "        all_results = []\n",
        "\n",
        "        for i, config in enumerate(configs):\n",
        "            print(f\"\\n{'='*60}\")\n",
        "            print(f\"Testing Configuration {config['config_id']}/{len(configs)}\")\n",
        "            print(f\"{'='*60}\")\n",
        "\n",
        "            # Log config start\n",
        "            experiment_run.log({f\"config_{config['config_id']}/status\": \"started\"})\n",
        "\n",
        "            try:\n",
        "                # Perform cross-validation with WandB logging\n",
        "                cv_results = cross_validate_model(data, feature_cols, config, cv_splits=cv_splits)\n",
        "\n",
        "                if not cv_results:\n",
        "                    print(f\"No successful folds for configuration {config['config_id']}\")\n",
        "                    experiment_run.log({f\"config_{config['config_id']}/status\": \"no_successful_folds\"})\n",
        "                    continue\n",
        "\n",
        "                # Summarize results\n",
        "                cv_summary = summarize_cv_results(cv_results)\n",
        "\n",
        "                all_results.append({\n",
        "                    'config_id': config['config_id'],\n",
        "                    'config': config,\n",
        "                    'cv_results': cv_results,\n",
        "                    'cv_summary': cv_summary\n",
        "                })\n",
        "\n",
        "                # Log config results to main experiment\n",
        "                experiment_run.log({\n",
        "                    f\"config_{config['config_id']}/val_loss_mean\": cv_summary['val_loss_mean'],\n",
        "                    f\"config_{config['config_id']}/val_loss_std\": cv_summary['val_loss_std'],\n",
        "                    f\"config_{config['config_id']}/rmse_mean\": cv_summary['rmse_mean'],\n",
        "                    f\"config_{config['config_id']}/mae_mean\": cv_summary['mae_mean'],\n",
        "                    f\"config_{config['config_id']}/mape_mean\": cv_summary['mape_mean'],\n",
        "                    f\"config_{config['config_id']}/successful_folds\": cv_summary['n_folds'],\n",
        "                    f\"config_{config['config_id']}/status\": \"completed\"\n",
        "                })\n",
        "\n",
        "                # Track best configuration\n",
        "                if cv_summary['val_loss_mean'] < best_cv_score:\n",
        "                    best_cv_score = cv_summary['val_loss_mean']\n",
        "                    best_config = config.copy()\n",
        "                    experiment_run.log({\n",
        "                        \"experiment/new_best_config\": config['config_id'],\n",
        "                        \"experiment/best_val_loss\": best_cv_score\n",
        "                    })\n",
        "                    print(f\"*** NEW BEST CONFIGURATION ***\")\n",
        "\n",
        "            except Exception as e:\n",
        "                print(f\"Error in configuration {config['config_id']}: {str(e)}\")\n",
        "\n",
        "                continue\n",
        "\n",
        "        # Log final experiment results\n",
        "        experiment_run.log({\n",
        "            \"experiment/best_config_id\": best_config['config_id'] if best_config else None,\n",
        "            \"experiment/best_val_loss\": best_cv_score,\n",
        "            \"experiment/successful_configs\": len(all_results),\n",
        "            \"experiment/total_configs_tested\": len(configs)\n",
        "        })\n",
        "\n",
        "        # Create comparison table\n",
        "        if all_results:\n",
        "            comparison_table = wandb.Table(\n",
        "                columns=[\n",
        "                    \"Config ID\", \"Sequence Length\", \"Prediction Length\",\n",
        "                    \"Kernel Size\", \"Individual\", \"Val Loss Mean\",\n",
        "                    \"RMSE Mean\", \"MAE Mean\", \"MAPE Mean\", \"Successful Folds\"\n",
        "                ],\n",
        "                data=[\n",
        "                    [\n",
        "                        result['config_id'],\n",
        "                        result['config']['sequence_length'],\n",
        "                        result['config']['prediction_length'],\n",
        "                        result['config']['kernel_size'],\n",
        "                        result['config']['individual'],\n",
        "                        result['cv_summary']['val_loss_mean'],\n",
        "                        result['cv_summary']['rmse_mean'],\n",
        "                        result['cv_summary']['mae_mean'],\n",
        "                        result['cv_summary']['mape_mean'],\n",
        "                        result['cv_summary']['n_folds']\n",
        "                    ] for result in all_results\n",
        "                ]\n",
        "            )\n",
        "            experiment_run.log({\"experiment/config_comparison\": comparison_table})\n",
        "\n",
        "        print(f\"\\n{'='*60}\")\n",
        "        print(\"HYPERPARAMETER SEARCH COMPLETED\")\n",
        "        print(f\"{'='*60}\")\n",
        "        print(f\"Best mean validation loss: {best_cv_score:.6f}\")\n",
        "        print(f\"Best configuration: {best_config}\")\n",
        "        print(f\"Total successful configurations: {len(all_results)}\")\n",
        "\n",
        "        return all_results, best_config, best_cv_score\n",
        "\n",
        "    finally:\n",
        "        experiment_run.finish()\n",
        "\n",
        "# Run the hyperparameter search\n",
        "all_results, best_config, best_cv_score = run_hyperparameter_search(\n",
        "    train_processed, feature_cols, configs, cv_splits=3\n",
        ")"
      ]
    },
    {
      "cell_type": "markdown",
      "metadata": {
        "id": "gbaKBxnxbr5G"
      },
      "source": [
        "## 10. Train Final Model with Best Configuration"
      ]
    },
    {
      "cell_type": "code",
      "execution_count": 25,
      "metadata": {
        "id": "BlCSjc-mbr5G",
        "colab": {
          "base_uri": "https://localhost:8080/",
          "height": 1000
        },
        "outputId": "80d65ff4-5462-4abf-f77f-fe50c2f7b6c4"
      },
      "outputs": [
        {
          "output_type": "stream",
          "name": "stdout",
          "text": [
            "🚀 Starting final model training with WandB logging...\n"
          ]
        },
        {
          "output_type": "display_data",
          "data": {
            "text/plain": [
              "<IPython.core.display.HTML object>"
            ],
            "text/html": [
              "Tracking run with wandb version 0.20.1"
            ]
          },
          "metadata": {}
        },
        {
          "output_type": "display_data",
          "data": {
            "text/plain": [
              "<IPython.core.display.HTML object>"
            ],
            "text/html": [
              "Run data is saved locally in <code>/content/wandb/run-20250708_132341-gmngpeu0</code>"
            ]
          },
          "metadata": {}
        },
        {
          "output_type": "display_data",
          "data": {
            "text/plain": [
              "<IPython.core.display.HTML object>"
            ],
            "text/html": [
              "Syncing run <strong><a href='https://wandb.ai/dshan21-free-university-of-tbilisi-/walmart-sales-forecasting/runs/gmngpeu0' target=\"_blank\">dlinear-final-model-config-4</a></strong> to <a href='https://wandb.ai/dshan21-free-university-of-tbilisi-/walmart-sales-forecasting' target=\"_blank\">Weights & Biases</a> (<a href='https://wandb.me/developer-guide' target=\"_blank\">docs</a>)<br>"
            ]
          },
          "metadata": {}
        },
        {
          "output_type": "display_data",
          "data": {
            "text/plain": [
              "<IPython.core.display.HTML object>"
            ],
            "text/html": [
              " View project at <a href='https://wandb.ai/dshan21-free-university-of-tbilisi-/walmart-sales-forecasting' target=\"_blank\">https://wandb.ai/dshan21-free-university-of-tbilisi-/walmart-sales-forecasting</a>"
            ]
          },
          "metadata": {}
        },
        {
          "output_type": "display_data",
          "data": {
            "text/plain": [
              "<IPython.core.display.HTML object>"
            ],
            "text/html": [
              " View run at <a href='https://wandb.ai/dshan21-free-university-of-tbilisi-/walmart-sales-forecasting/runs/gmngpeu0' target=\"_blank\">https://wandb.ai/dshan21-free-university-of-tbilisi-/walmart-sales-forecasting/runs/gmngpeu0</a>"
            ]
          },
          "metadata": {}
        },
        {
          "output_type": "stream",
          "name": "stdout",
          "text": [
            "\n",
            "============================================================\n",
            "TRAINING FINAL MODEL\n",
            "============================================================\n",
            "Best configuration: {'config_id': 4, 'sequence_length': 16, 'prediction_length': 4, 'kernel_size': 9, 'individual': True, 'learning_rate': 0.001, 'batch_size': 64, 'num_epochs': 15}\n",
            "Final train data: 357330 rows\n",
            "Final validation data: 63059 rows\n",
            "Train period: 2010-02-05 00:00:00 to 2012-06-01 00:00:00\n",
            "Val period: 2012-06-01 00:00:00 to 2012-10-26 00:00:00\n",
            "Creating dataloaders:\n",
            "  Sequence length: 16\n",
            "  Prediction length: 4\n",
            "  Batch size: 64\n",
            "  Train data: 357330 rows\n",
            "  Val data: 63059 rows\n",
            "  Total combinations processed: 3121\n",
            "  Combinations skipped: 55\n",
            "  Valid sequences created: 298293\n",
            "TimeSeriesDataset created: 298293 sequences from 357330 data points\n",
            "  Total combinations processed: 3082\n",
            "  Combinations skipped: 267\n",
            "  Valid sequences created: 6614\n",
            "TimeSeriesDataset created: 6614 sequences from 63059 data points\n",
            "  Train loader: 4661 batches (298293 sequences)\n",
            "  Val loader: 104 batches (6614 sequences)\n",
            "Final model parameters: 136\n",
            "Training Final Model for 15 epochs...\n",
            "Epoch 1/15 - Train Loss: 65932729.377548, Val Loss: 11527223.834135, LR: 1.00e-03\n"
          ]
        },
        {
          "output_type": "stream",
          "name": "stderr",
          "text": [
            "\u001b[34m\u001b[1mwandb\u001b[0m: \u001b[33mWARNING\u001b[0m Tried to log to step 0 that is less than the current step 101. Steps must be monotonically increasing, so this data will be ignored. See https://wandb.me/define-metric to log data out of order.\n",
            "\u001b[34m\u001b[1mwandb\u001b[0m: \u001b[33mWARNING\u001b[0m Tried to log to step 1 that is less than the current step 196. Steps must be monotonically increasing, so this data will be ignored. See https://wandb.me/define-metric to log data out of order.\n",
            "\u001b[34m\u001b[1mwandb\u001b[0m: \u001b[33mWARNING\u001b[0m Tried to log to step 2 that is less than the current step 291. Steps must be monotonically increasing, so this data will be ignored. See https://wandb.me/define-metric to log data out of order.\n",
            "\u001b[34m\u001b[1mwandb\u001b[0m: \u001b[33mWARNING\u001b[0m Tried to log to step 3 that is less than the current step 386. Steps must be monotonically increasing, so this data will be ignored. See https://wandb.me/define-metric to log data out of order.\n",
            "\u001b[34m\u001b[1mwandb\u001b[0m: \u001b[33mWARNING\u001b[0m Tried to log to step 4 that is less than the current step 480. Steps must be monotonically increasing, so this data will be ignored. See https://wandb.me/define-metric to log data out of order.\n"
          ]
        },
        {
          "output_type": "stream",
          "name": "stdout",
          "text": [
            "Epoch 6/15 - Train Loss: 58673047.255364, Val Loss: 10789471.314002, LR: 1.00e-03\n"
          ]
        },
        {
          "output_type": "stream",
          "name": "stderr",
          "text": [
            "\u001b[34m\u001b[1mwandb\u001b[0m: \u001b[33mWARNING\u001b[0m Tried to log to step 5 that is less than the current step 575. Steps must be monotonically increasing, so this data will be ignored. See https://wandb.me/define-metric to log data out of order.\n",
            "\u001b[34m\u001b[1mwandb\u001b[0m: \u001b[33mWARNING\u001b[0m Tried to log to step 6 that is less than the current step 669. Steps must be monotonically increasing, so this data will be ignored. See https://wandb.me/define-metric to log data out of order.\n",
            "\u001b[34m\u001b[1mwandb\u001b[0m: \u001b[33mWARNING\u001b[0m Tried to log to step 7 that is less than the current step 764. Steps must be monotonically increasing, so this data will be ignored. See https://wandb.me/define-metric to log data out of order.\n",
            "\u001b[34m\u001b[1mwandb\u001b[0m: \u001b[33mWARNING\u001b[0m Tried to log to step 8 that is less than the current step 859. Steps must be monotonically increasing, so this data will be ignored. See https://wandb.me/define-metric to log data out of order.\n",
            "\u001b[34m\u001b[1mwandb\u001b[0m: \u001b[33mWARNING\u001b[0m Tried to log to step 9 that is less than the current step 953. Steps must be monotonically increasing, so this data will be ignored. See https://wandb.me/define-metric to log data out of order.\n"
          ]
        },
        {
          "output_type": "stream",
          "name": "stdout",
          "text": [
            "Epoch 11/15 - Train Loss: 58984098.949850, Val Loss: 11604722.233173, LR: 1.00e-03\n"
          ]
        },
        {
          "output_type": "stream",
          "name": "stderr",
          "text": [
            "\u001b[34m\u001b[1mwandb\u001b[0m: \u001b[33mWARNING\u001b[0m Tried to log to step 10 that is less than the current step 1047. Steps must be monotonically increasing, so this data will be ignored. See https://wandb.me/define-metric to log data out of order.\n",
            "\u001b[34m\u001b[1mwandb\u001b[0m: \u001b[33mWARNING\u001b[0m Tried to log to step 11 that is less than the current step 1141. Steps must be monotonically increasing, so this data will be ignored. See https://wandb.me/define-metric to log data out of order.\n",
            "\u001b[34m\u001b[1mwandb\u001b[0m: \u001b[33mWARNING\u001b[0m Tried to log to step 12 that is less than the current step 1236. Steps must be monotonically increasing, so this data will be ignored. See https://wandb.me/define-metric to log data out of order.\n",
            "\u001b[34m\u001b[1mwandb\u001b[0m: \u001b[33mWARNING\u001b[0m Tried to log to step 13 that is less than the current step 1330. Steps must be monotonically increasing, so this data will be ignored. See https://wandb.me/define-metric to log data out of order.\n"
          ]
        },
        {
          "output_type": "stream",
          "name": "stdout",
          "text": [
            "Epoch 15/15 - Train Loss: 58858779.887041, Val Loss: 10775132.069411, LR: 1.00e-03\n",
            "\n",
            "--- Final Model Performance ---\n",
            "Validation Loss: 10610243.745493\n",
            "RMSE: 3290.01\n",
            "MAE: 1628.59\n",
            "MAPE: 30.46%\n",
            "MSE: 10824186.000000\n"
          ]
        },
        {
          "output_type": "display_data",
          "data": {
            "text/plain": [
              "<Figure size 1500x600 with 2 Axes>"
            ],
            "image/png": "[encoded data removed]"
          },
          "metadata": {}
        },
        {
          "output_type": "display_data",
          "data": {
            "text/plain": [
              "<Figure size 1500x600 with 2 Axes>"
            ],
            "image/png": "[encoded data removed]"
          },
          "metadata": {}
        },
        {
          "output_type": "stream",
          "name": "stdout",
          "text": [
            "Model saved to: dlinear_final_model_config_4.pth\n",
            "Error during final model training: Object of type float32 is not JSON serializable\n"
          ]
        },
        {
          "output_type": "stream",
          "name": "stderr",
          "text": [
            "Traceback (most recent call last):\n",
            "  File \"/tmp/ipython-input-25-1214494259.py\", line 409, in train_final_model\n",
            "    json.dump(metrics_to_save, f, indent=2)\n",
            "  File \"/usr/lib/python3.11/json/__init__.py\", line 179, in dump\n",
            "    for chunk in iterable:\n",
            "  File \"/usr/lib/python3.11/json/encoder.py\", line 432, in _iterencode\n",
            "    yield from _iterencode_dict(o, _current_indent_level)\n",
            "  File \"/usr/lib/python3.11/json/encoder.py\", line 406, in _iterencode_dict\n",
            "    yield from chunks\n",
            "  File \"/usr/lib/python3.11/json/encoder.py\", line 439, in _iterencode\n",
            "    o = _default(o)\n",
            "        ^^^^^^^^^^^\n",
            "  File \"/usr/lib/python3.11/json/encoder.py\", line 180, in default\n",
            "    raise TypeError(f'Object of type {o.__class__.__name__} '\n",
            "TypeError: Object of type float32 is not JSON serializable\n"
          ]
        },
        {
          "output_type": "display_data",
          "data": {
            "text/plain": [
              "<IPython.core.display.HTML object>"
            ],
            "text/html": []
          },
          "metadata": {}
        },
        {
          "output_type": "display_data",
          "data": {
            "text/plain": [
              "<IPython.core.display.HTML object>"
            ],
            "text/html": [
              "<br>    <style><br>        .wandb-row {<br>            display: flex;<br>            flex-direction: row;<br>            flex-wrap: wrap;<br>            justify-content: flex-start;<br>            width: 100%;<br>        }<br>        .wandb-col {<br>            display: flex;<br>            flex-direction: column;<br>            flex-basis: 100%;<br>            flex: 1;<br>            padding: 10px;<br>        }<br>    </style><br><div class=\"wandb-row\"><div class=\"wandb-col\"><h3>Run history:</h3><br/><table class=\"wandb\"><tr><td>batch/batch_idx</td><td>▃▅▅▂▄▂▃▃▃▅▆▆▇▁▂▅▆▆▇▄▇▁▄▇▂▇▇▁▂▂▇▃▄▇▃▆▇▄▆█</td></tr><tr><td>batch/epoch</td><td>▁▁▁▁▂▂▃▃▃▃▃▃▃▃▄▄▄▄▅▅▅▅▅▅▅▅▅▅▅▅▇▇▇▇▇▇████</td></tr><tr><td>batch/train_loss</td><td>▂▁▁▂▂▂▁▁▁▃▂▁▂▂▁▁█▁▁▂▃▂▄▁▂▂▁▁▁▂▃▁▁▁▁▂▁▁▁▁</td></tr><tr><td>data_split/train_size</td><td>▁</td></tr><tr><td>data_split/train_weeks</td><td>▁</td></tr><tr><td>data_split/val_size</td><td>▁</td></tr><tr><td>data_split/val_weeks</td><td>▁</td></tr><tr><td>dataloader/batch_size</td><td>▁</td></tr><tr><td>dataloader/train_batches</td><td>▁</td></tr><tr><td>dataloader/train_sequences</td><td>▁</td></tr><tr><td>dataloader/val_batches</td><td>▁</td></tr><tr><td>dataloader/val_sequences</td><td>▁</td></tr><tr><td>error_stats/mean_absolute_error</td><td>▁</td></tr><tr><td>error_stats/mean_residual</td><td>▁</td></tr><tr><td>error_stats/std_absolute_error</td><td>▁</td></tr><tr><td>error_stats/std_residual</td><td>▁</td></tr><tr><td>final_metrics/mae</td><td>▁</td></tr><tr><td>final_metrics/mape</td><td>▁</td></tr><tr><td>final_metrics/mse</td><td>▁</td></tr><tr><td>final_metrics/rmse</td><td>▁</td></tr><tr><td>final_metrics/validation_loss</td><td>▁</td></tr><tr><td>model/decomposition_kernel</td><td>▁</td></tr><tr><td>model/input_channels</td><td>▁</td></tr><tr><td>model/kernel_size</td><td>▁</td></tr><tr><td>model/prediction_length</td><td>▁</td></tr><tr><td>model/seasonal_parameters</td><td>▁</td></tr><tr><td>model/sequence_length</td><td>▁</td></tr><tr><td>model/total_parameters</td><td>▁</td></tr><tr><td>model/trend_parameters</td><td>▁</td></tr><tr><td>plots/training_loss_final</td><td>▁</td></tr><tr><td>plots/validation_loss_final</td><td>▁</td></tr><tr><td>setup/best_config_id</td><td>▁</td></tr><tr><td>setup/store_dept_combinations</td><td>▁</td></tr><tr><td>setup/total_data_size</td><td>▁</td></tr><tr><td>setup/train_ratio</td><td>▁</td></tr><tr><td>setup/unique_departments</td><td>▁</td></tr><tr><td>setup/unique_stores</td><td>▁</td></tr><tr><td>training/best_epoch</td><td>▁▂▂▃▄▅▆█</td></tr><tr><td>training/learning_rate</td><td>▁</td></tr><tr><td>training/num_epochs</td><td>▁</td></tr><tr><td>training_summary/best_val_loss</td><td>▁</td></tr><tr><td>training_summary/final_lr</td><td>▁</td></tr><tr><td>training_summary/final_train_loss</td><td>▁</td></tr><tr><td>training_summary/final_val_loss</td><td>▁</td></tr><tr><td>training_summary/total_epochs</td><td>▁</td></tr></table><br/></div><div class=\"wandb-col\"><h3>Run summary:</h3><br/><table class=\"wandb\"><tr><td>batch/batch_idx</td><td>4650</td></tr><tr><td>batch/epoch</td><td>14</td></tr><tr><td>batch/train_loss</td><td>65503876.0</td></tr><tr><td>data_split/train_period_end</td><td>2012-06-01</td></tr><tr><td>data_split/train_period_start</td><td>2010-02-05</td></tr><tr><td>data_split/train_size</td><td>357330</td></tr><tr><td>data_split/train_weeks</td><td>122</td></tr><tr><td>data_split/val_period_end</td><td>2012-10-26</td></tr><tr><td>data_split/val_period_start</td><td>2012-06-01</td></tr><tr><td>data_split/val_size</td><td>63059</td></tr><tr><td>data_split/val_weeks</td><td>22</td></tr><tr><td>dataloader/batch_size</td><td>64</td></tr><tr><td>dataloader/train_batches</td><td>4661</td></tr><tr><td>dataloader/train_sequences</td><td>298293</td></tr><tr><td>dataloader/val_batches</td><td>104</td></tr><tr><td>dataloader/val_sequences</td><td>6614</td></tr><tr><td>error</td><td>Object of type float...</td></tr><tr><td>error_stats/mean_absolute_error</td><td>1628.5918</td></tr><tr><td>error_stats/mean_residual</td><td>183.74155</td></tr><tr><td>error_stats/std_absolute_error</td><td>2858.64893</td></tr><tr><td>error_stats/std_residual</td><td>3284.87817</td></tr><tr><td>final_metrics/mae</td><td>1628.5918</td></tr><tr><td>final_metrics/mape</td><td>30.45792</td></tr><tr><td>final_metrics/mse</td><td>10824186.0</td></tr><tr><td>final_metrics/rmse</td><td>3290.01307</td></tr><tr><td>final_metrics/validation_loss</td><td>10610243.74549</td></tr><tr><td>model/decomposition_kernel</td><td>9</td></tr><tr><td>model/device</td><td>cuda</td></tr><tr><td>model/individual_layers</td><td>True</td></tr><tr><td>model/input_channels</td><td>1</td></tr><tr><td>model/kernel_size</td><td>9</td></tr><tr><td>model/prediction_length</td><td>4</td></tr><tr><td>model/seasonal_parameters</td><td>68</td></tr><tr><td>model/sequence_length</td><td>16</td></tr><tr><td>model/total_parameters</td><td>136</td></tr><tr><td>model/trend_parameters</td><td>68</td></tr><tr><td>plots/training_loss_final</td><td>58858779.88704</td></tr><tr><td>plots/validation_loss_final</td><td>10775132.06941</td></tr><tr><td>setup/best_config_id</td><td>4</td></tr><tr><td>setup/date_range_end</td><td>2012-10-26</td></tr><tr><td>setup/date_range_start</td><td>2010-02-05</td></tr><tr><td>setup/store_dept_combinations</td><td>3121</td></tr><tr><td>setup/total_data_size</td><td>420389</td></tr><tr><td>setup/train_ratio</td><td>0.85</td></tr><tr><td>setup/unique_departments</td><td>78</td></tr><tr><td>setup/unique_stores</td><td>45</td></tr><tr><td>training/best_epoch</td><td>12</td></tr><tr><td>training/criterion</td><td>MSELoss</td></tr><tr><td>training/learning_rate</td><td>0.001</td></tr><tr><td>training/num_epochs</td><td>15</td></tr><tr><td>training/optimizer</td><td>Adam</td></tr><tr><td>training/scheduler</td><td>ReduceLROnPlateau</td></tr><tr><td>training_summary/best_val_loss</td><td>10610243.74549</td></tr><tr><td>training_summary/final_lr</td><td>0.001</td></tr><tr><td>training_summary/final_train_loss</td><td>58858779.88704</td></tr><tr><td>training_summary/final_val_loss</td><td>10775132.06941</td></tr><tr><td>training_summary/total_epochs</td><td>15</td></tr></table><br/></div></div>"
            ]
          },
          "metadata": {}
        },
        {
          "output_type": "display_data",
          "data": {
            "text/plain": [
              "<IPython.core.display.HTML object>"
            ],
            "text/html": [
              " View run <strong style=\"color:#cdcd00\">dlinear-final-model-config-4</strong> at: <a href='https://wandb.ai/dshan21-free-university-of-tbilisi-/walmart-sales-forecasting/runs/gmngpeu0' target=\"_blank\">https://wandb.ai/dshan21-free-university-of-tbilisi-/walmart-sales-forecasting/runs/gmngpeu0</a><br> View project at: <a href='https://wandb.ai/dshan21-free-university-of-tbilisi-/walmart-sales-forecasting' target=\"_blank\">https://wandb.ai/dshan21-free-university-of-tbilisi-/walmart-sales-forecasting</a><br>Synced 5 W&B file(s), 2 media file(s), 0 artifact file(s) and 0 other file(s)"
            ]
          },
          "metadata": {}
        },
        {
          "output_type": "display_data",
          "data": {
            "text/plain": [
              "<IPython.core.display.HTML object>"
            ],
            "text/html": [
              "Find logs at: <code>./wandb/run-20250708_132341-gmngpeu0/logs</code>"
            ]
          },
          "metadata": {}
        },
        {
          "output_type": "display_data",
          "data": {
            "text/plain": [
              "<IPython.core.display.HTML object>"
            ],
            "text/html": [
              "Tried to log to step 14 that is less than the current step 1424. Steps must be monotonically increasing, so this data will be ignored. See https://wandb.me/define-metric to log data out of order."
            ]
          },
          "metadata": {}
        }
      ],
      "source": [
        "def train_final_model(data, feature_cols, best_config, train_ratio=0.85):\n",
        "    \"\"\"Train final model with best configuration with comprehensive WandB logging\"\"\"\n",
        "\n",
        "    if best_config is None:\n",
        "        print(\"No best configuration found. Cannot train final model.\")\n",
        "        return None, None\n",
        "\n",
        "    # Initialize WandB run for final model training\n",
        "    final_run = wandb.init(\n",
        "        project=\"walmart-sales-forecasting\",\n",
        "        name=f\"dlinear-final-model-config-{best_config['config_id']}\",\n",
        "        job_type=\"final_training\",\n",
        "        tags=[\"dlinear\", \"final_model\", \"best_config\", f\"config_{best_config['config_id']}\"],\n",
        "        config=best_config,\n",
        "        notes=f\"Final model training with best configuration {best_config['config_id']} found via cross-validation\"\n",
        "    )\n",
        "\n",
        "    try:\n",
        "        print(f\"\\n{'='*60}\")\n",
        "        print(\"TRAINING FINAL MODEL\")\n",
        "        print(f\"{'='*60}\")\n",
        "        print(f\"Best configuration: {best_config}\")\n",
        "\n",
        "        # Log initial configuration and setup\n",
        "        final_run.log({\n",
        "            \"setup/best_config_id\": best_config['config_id'],\n",
        "            \"setup/train_ratio\": train_ratio,\n",
        "            \"setup/total_data_size\": len(data),\n",
        "            \"setup/date_range_start\": data['Date'].min().strftime('%Y-%m-%d'),\n",
        "            \"setup/date_range_end\": data['Date'].max().strftime('%Y-%m-%d'),\n",
        "            \"setup/unique_stores\": data['Store'].nunique(),\n",
        "            \"setup/unique_departments\": data['Dept'].nunique(),\n",
        "            \"setup/store_dept_combinations\": data.groupby(['Store', 'Dept']).ngroups\n",
        "        })\n",
        "\n",
        "        # Split data chronologically\n",
        "        data_sorted = data.sort_values('Date').reset_index(drop=True)\n",
        "        split_idx = int(len(data_sorted) * train_ratio)\n",
        "\n",
        "        final_train_data = data_sorted.iloc[:split_idx].copy()\n",
        "        final_val_data = data_sorted.iloc[split_idx:].copy()\n",
        "\n",
        "        print(f\"Final train data: {len(final_train_data)} rows\")\n",
        "        print(f\"Final validation data: {len(final_val_data)} rows\")\n",
        "        print(f\"Train period: {final_train_data['Date'].min()} to {final_train_data['Date'].max()}\")\n",
        "        print(f\"Val period: {final_val_data['Date'].min()} to {final_val_data['Date'].max()}\")\n",
        "\n",
        "        # Log data split information\n",
        "        final_run.log({\n",
        "            \"data_split/train_size\": len(final_train_data),\n",
        "            \"data_split/val_size\": len(final_val_data),\n",
        "            \"data_split/train_period_start\": final_train_data['Date'].min().strftime('%Y-%m-%d'),\n",
        "            \"data_split/train_period_end\": final_train_data['Date'].max().strftime('%Y-%m-%d'),\n",
        "            \"data_split/val_period_start\": final_val_data['Date'].min().strftime('%Y-%m-%d'),\n",
        "            \"data_split/val_period_end\": final_val_data['Date'].max().strftime('%Y-%m-%d'),\n",
        "            \"data_split/train_weeks\": len(final_train_data['Date'].unique()),\n",
        "            \"data_split/val_weeks\": len(final_val_data['Date'].unique())\n",
        "        })\n",
        "\n",
        "        # Create data loaders\n",
        "        train_loader, val_loader = create_dataloaders_safe(\n",
        "            final_train_data, final_val_data, feature_cols,\n",
        "            best_config['sequence_length'], best_config['prediction_length'],\n",
        "            best_config['batch_size']\n",
        "        )\n",
        "\n",
        "        if train_loader is None or val_loader is None:\n",
        "            print(\"Error: Could not create data loaders for final model\")\n",
        "            final_run.log({\"error\": \"Failed to create data loaders\"})\n",
        "            final_run.finish()\n",
        "            return None, None\n",
        "\n",
        "        # Log dataloader information\n",
        "        final_run.log({\n",
        "            \"dataloader/train_batches\": len(train_loader),\n",
        "            \"dataloader/val_batches\": len(val_loader),\n",
        "            \"dataloader/train_sequences\": len(train_loader.dataset),\n",
        "            \"dataloader/val_sequences\": len(val_loader.dataset),\n",
        "            \"dataloader/batch_size\": best_config['batch_size']\n",
        "        })\n",
        "\n",
        "        # Initialize final model\n",
        "        final_model = DLinear(\n",
        "            seq_len=best_config['sequence_length'],\n",
        "            pred_len=best_config['prediction_length'],\n",
        "            enc_in=1,\n",
        "            individual=best_config['individual'],\n",
        "            kernel_size=best_config['kernel_size']\n",
        "        ).to(device)\n",
        "\n",
        "        model_params = sum(p.numel() for p in final_model.parameters() if p.requires_grad)\n",
        "        print(f\"Final model parameters: {model_params:,}\")\n",
        "\n",
        "        # Log model architecture information\n",
        "        final_run.log({\n",
        "            \"model/total_parameters\": model_params,\n",
        "            \"model/sequence_length\": best_config['sequence_length'],\n",
        "            \"model/prediction_length\": best_config['prediction_length'],\n",
        "            \"model/kernel_size\": best_config['kernel_size'],\n",
        "            \"model/individual_layers\": best_config['individual'],\n",
        "            \"model/input_channels\": 1,\n",
        "            \"model/device\": str(device)\n",
        "        })\n",
        "\n",
        "        # Log model architecture summary\n",
        "        total_seasonal_params = 0\n",
        "        total_trend_params = 0\n",
        "\n",
        "        if best_config['individual']:\n",
        "            for layer in final_model.Linear_Seasonal:\n",
        "                total_seasonal_params += sum(p.numel() for p in layer.parameters())\n",
        "            for layer in final_model.Linear_Trend:\n",
        "                total_trend_params += sum(p.numel() for p in layer.parameters())\n",
        "        else:\n",
        "            total_seasonal_params = sum(p.numel() for p in final_model.Linear_Seasonal.parameters())\n",
        "            total_trend_params = sum(p.numel() for p in final_model.Linear_Trend.parameters())\n",
        "\n",
        "        final_run.log({\n",
        "            \"model/seasonal_parameters\": total_seasonal_params,\n",
        "            \"model/trend_parameters\": total_trend_params,\n",
        "            \"model/decomposition_kernel\": best_config['kernel_size']\n",
        "        })\n",
        "\n",
        "        # Modified train_model function to include wandb logging\n",
        "        def train_model_with_wandb(model, train_loader, val_loader, num_epochs, learning_rate, device, run):\n",
        "            \"\"\"Train model with WandB logging\"\"\"\n",
        "\n",
        "            criterion = nn.MSELoss()\n",
        "            optimizer = optim.Adam(model.parameters(), lr=learning_rate)\n",
        "            scheduler = optim.lr_scheduler.ReduceLROnPlateau(\n",
        "                optimizer, mode='min', factor=0.5, patience=5, verbose=True\n",
        "            )\n",
        "\n",
        "            train_losses = []\n",
        "            val_losses = []\n",
        "            best_val_loss = float('inf')\n",
        "            best_model_state = None\n",
        "\n",
        "            print(f\"Training Final Model for {num_epochs} epochs...\")\n",
        "\n",
        "            # Log training hyperparameters\n",
        "            run.log({\n",
        "                \"training/num_epochs\": num_epochs,\n",
        "                \"training/learning_rate\": learning_rate,\n",
        "                \"training/optimizer\": \"Adam\",\n",
        "                \"training/criterion\": \"MSELoss\",\n",
        "                \"training/scheduler\": \"ReduceLROnPlateau\"\n",
        "            })\n",
        "\n",
        "            for epoch in range(num_epochs):\n",
        "                # Training phase\n",
        "                model.train()\n",
        "                train_loss = 0.0\n",
        "                train_batches = 0\n",
        "\n",
        "                for batch_idx, batch in enumerate(train_loader):\n",
        "                    inputs = batch['input_target'].unsqueeze(-1).to(device)\n",
        "                    targets = batch['target'].unsqueeze(-1).to(device)\n",
        "\n",
        "                    optimizer.zero_grad()\n",
        "                    outputs = model(inputs)\n",
        "                    loss = criterion(outputs, targets)\n",
        "                    loss.backward()\n",
        "\n",
        "                    # Gradient clipping\n",
        "                    torch.nn.utils.clip_grad_norm_(model.parameters(), max_norm=1.0)\n",
        "\n",
        "                    optimizer.step()\n",
        "                    train_loss += loss.item()\n",
        "                    train_batches += 1\n",
        "\n",
        "                    # Log batch-level metrics occasionally\n",
        "                    if batch_idx % 50 == 0:\n",
        "                        run.log({\n",
        "                            \"batch/train_loss\": loss.item(),\n",
        "                            \"batch/epoch\": epoch,\n",
        "                            \"batch/batch_idx\": batch_idx\n",
        "                        })\n",
        "\n",
        "                # Validation phase\n",
        "                model.eval()\n",
        "                val_loss = 0.0\n",
        "                val_batches = 0\n",
        "\n",
        "                with torch.no_grad():\n",
        "                    for batch in val_loader:\n",
        "                        inputs = batch['input_target'].unsqueeze(-1).to(device)\n",
        "                        targets = batch['target'].unsqueeze(-1).to(device)\n",
        "\n",
        "                        outputs = model(inputs)\n",
        "                        loss = criterion(outputs, targets)\n",
        "                        val_loss += loss.item()\n",
        "                        val_batches += 1\n",
        "\n",
        "                # Calculate average losses\n",
        "                avg_train_loss = train_loss / train_batches if train_batches > 0 else float('inf')\n",
        "                avg_val_loss = val_loss / val_batches if val_batches > 0 else float('inf')\n",
        "\n",
        "                train_losses.append(avg_train_loss)\n",
        "                val_losses.append(avg_val_loss)\n",
        "\n",
        "                # Save best model\n",
        "                if avg_val_loss < best_val_loss:\n",
        "                    best_val_loss = avg_val_loss\n",
        "                    best_model_state = model.state_dict().copy()\n",
        "                    run.log({\"training/best_epoch\": epoch})\n",
        "\n",
        "                # Learning rate scheduling\n",
        "                old_lr = optimizer.param_groups[0]['lr']\n",
        "                scheduler.step(avg_val_loss)\n",
        "                new_lr = optimizer.param_groups[0]['lr']\n",
        "\n",
        "                # Log epoch-level metrics\n",
        "                run.log({\n",
        "                    \"epoch/train_loss\": avg_train_loss,\n",
        "                    \"epoch/val_loss\": avg_val_loss,\n",
        "                    \"epoch/learning_rate\": new_lr,\n",
        "                    \"epoch/best_val_loss\": best_val_loss,\n",
        "                    \"epoch/epoch\": epoch\n",
        "                }, step=epoch)\n",
        "\n",
        "                if new_lr != old_lr:\n",
        "                    run.log({\"training/lr_reduction_epoch\": epoch})\n",
        "\n",
        "                # Print progress\n",
        "                if epoch % 5 == 0 or epoch == num_epochs - 1:\n",
        "                    print(f'Epoch {epoch+1}/{num_epochs} - Train Loss: {avg_train_loss:.6f}, Val Loss: {avg_val_loss:.6f}, LR: {new_lr:.2e}')\n",
        "\n",
        "            # Load best model\n",
        "            if best_model_state is not None:\n",
        "                model.load_state_dict(best_model_state)\n",
        "\n",
        "            # Log training summary\n",
        "            run.log({\n",
        "                \"training_summary/final_train_loss\": train_losses[-1],\n",
        "                \"training_summary/final_val_loss\": val_losses[-1],\n",
        "                \"training_summary/best_val_loss\": best_val_loss,\n",
        "                \"training_summary/total_epochs\": num_epochs,\n",
        "                \"training_summary/final_lr\": optimizer.param_groups[0]['lr']\n",
        "            })\n",
        "\n",
        "            return model, train_losses, val_losses, best_val_loss\n",
        "\n",
        "        # Train final model with wandb logging\n",
        "        final_model, train_losses, val_losses, final_val_loss = train_model_with_wandb(\n",
        "            final_model, train_loader, val_loader,\n",
        "            best_config['num_epochs'], best_config['learning_rate'],\n",
        "            device, final_run\n",
        "        )\n",
        "\n",
        "        # Final evaluation\n",
        "        final_metrics = evaluate_model(final_model, val_loader, device)\n",
        "\n",
        "        print(f\"\\n--- Final Model Performance ---\")\n",
        "        print(f\"Validation Loss: {final_val_loss:.6f}\")\n",
        "        print(f\"RMSE: {final_metrics['rmse']:.2f}\")\n",
        "        print(f\"MAE: {final_metrics['mae']:.2f}\")\n",
        "        print(f\"MAPE: {final_metrics['mape']:.2f}%\")\n",
        "        print(f\"MSE: {final_metrics['mse']:.6f}\")\n",
        "\n",
        "        # Log final metrics\n",
        "        final_run.log({\n",
        "            \"final_metrics/validation_loss\": final_val_loss,\n",
        "            \"final_metrics/rmse\": final_metrics['rmse'],\n",
        "            \"final_metrics/mae\": final_metrics['mae'],\n",
        "            \"final_metrics/mape\": final_metrics['mape'],\n",
        "            \"final_metrics/mse\": final_metrics['mse']\n",
        "        })\n",
        "\n",
        "        # Create and log training curves plot\n",
        "        fig, (ax1, ax2) = plt.subplots(1, 2, figsize=(15, 6))\n",
        "\n",
        "        # Training curves\n",
        "        epochs = range(1, len(train_losses) + 1)\n",
        "        ax1.plot(epochs, train_losses, 'b-', label='Training Loss', linewidth=2)\n",
        "        ax1.plot(epochs, val_losses, 'r-', label='Validation Loss', linewidth=2)\n",
        "        ax1.set_xlabel('Epoch')\n",
        "        ax1.set_ylabel('Loss')\n",
        "        ax1.set_title('Training and Validation Loss')\n",
        "        ax1.legend()\n",
        "        ax1.grid(True, alpha=0.3)\n",
        "\n",
        "        # Predictions vs Actuals scatter plot\n",
        "        predictions_flat = final_metrics['predictions'].flatten()\n",
        "        actuals_flat = final_metrics['actuals'].flatten()\n",
        "\n",
        "        # Sample points for visualization (max 1000 points)\n",
        "        if len(predictions_flat) > 1000:\n",
        "            indices = np.random.choice(len(predictions_flat), 1000, replace=False)\n",
        "            pred_sample = predictions_flat[indices]\n",
        "            actual_sample = actuals_flat[indices]\n",
        "        else:\n",
        "            pred_sample = predictions_flat\n",
        "            actual_sample = actuals_flat\n",
        "\n",
        "        ax2.scatter(actual_sample, pred_sample, alpha=0.6, s=20)\n",
        "        min_val = min(actual_sample.min(), pred_sample.min())\n",
        "        max_val = max(actual_sample.max(), pred_sample.max())\n",
        "        ax2.plot([min_val, max_val], [min_val, max_val], 'r--', linewidth=2, label='Perfect Prediction')\n",
        "        ax2.set_xlabel('Actual Values')\n",
        "        ax2.set_ylabel('Predicted Values')\n",
        "        ax2.set_title('Predictions vs Actuals')\n",
        "        ax2.legend()\n",
        "        ax2.grid(True, alpha=0.3)\n",
        "\n",
        "        plt.tight_layout()\n",
        "        plt.savefig('final_model_training_results.png', dpi=300, bbox_inches='tight')\n",
        "\n",
        "        # Log the training plot\n",
        "        final_run.log({\n",
        "            \"plots/training_curves\": wandb.Image('final_model_training_results.png'),\n",
        "            \"plots/training_loss_final\": train_losses[-1],\n",
        "            \"plots/validation_loss_final\": val_losses[-1]\n",
        "        })\n",
        "\n",
        "        plt.show()\n",
        "\n",
        "        # Create prediction distribution plot\n",
        "        fig, (ax1, ax2) = plt.subplots(1, 2, figsize=(15, 6))\n",
        "\n",
        "        # Residuals distribution\n",
        "        residuals = actuals_flat - predictions_flat\n",
        "        ax1.hist(residuals, bins=50, alpha=0.7, color='skyblue', edgecolor='black')\n",
        "        ax1.axvline(residuals.mean(), color='red', linestyle='--', linewidth=2, label=f'Mean: {residuals.mean():.2f}')\n",
        "        ax1.set_xlabel('Residuals (Actual - Predicted)')\n",
        "        ax1.set_ylabel('Frequency')\n",
        "        ax1.set_title('Distribution of Residuals')\n",
        "        ax1.legend()\n",
        "        ax1.grid(True, alpha=0.3)\n",
        "\n",
        "        # Error distribution\n",
        "        errors = np.abs(residuals)\n",
        "        ax2.hist(errors, bins=50, alpha=0.7, color='lightcoral', edgecolor='black')\n",
        "        ax2.axvline(errors.mean(), color='red', linestyle='--', linewidth=2, label=f'Mean AE: {errors.mean():.2f}')\n",
        "        ax2.set_xlabel('Absolute Error')\n",
        "        ax2.set_ylabel('Frequency')\n",
        "        ax2.set_title('Distribution of Absolute Errors')\n",
        "        ax2.legend()\n",
        "        ax2.grid(True, alpha=0.3)\n",
        "\n",
        "        plt.tight_layout()\n",
        "        plt.savefig('final_model_error_analysis.png', dpi=300, bbox_inches='tight')\n",
        "\n",
        "        # Log error analysis plot\n",
        "        final_run.log({\n",
        "            \"plots/error_analysis\": wandb.Image('final_model_error_analysis.png'),\n",
        "            \"error_stats/mean_residual\": float(residuals.mean()),\n",
        "            \"error_stats/std_residual\": float(residuals.std()),\n",
        "            \"error_stats/mean_absolute_error\": float(errors.mean()),\n",
        "            \"error_stats/std_absolute_error\": float(errors.std())\n",
        "        })\n",
        "\n",
        "        plt.show()\n",
        "\n",
        "        # Save model locally\n",
        "        model_save_path = f\"dlinear_final_model_config_{best_config['config_id']}.pth\"\n",
        "        torch.save({\n",
        "            'model_state_dict': final_model.state_dict(),\n",
        "            'config': best_config,\n",
        "            'final_metrics': final_metrics,\n",
        "            'feature_cols': feature_cols,\n",
        "            'train_losses': train_losses,\n",
        "            'val_losses': val_losses\n",
        "        }, model_save_path)\n",
        "\n",
        "        print(f\"Model saved to: {model_save_path}\")\n",
        "\n",
        "        # Create and save model artifacts to WandB\n",
        "        model_artifact = wandb.Artifact(\n",
        "            name=f\"dlinear_final_model_config_{best_config['config_id']}\",\n",
        "            type=\"model\",\n",
        "            description=f\"Final DLinear model trained with best configuration {best_config['config_id']} from cross-validation\",\n",
        "            metadata={\n",
        "                \"config_id\": best_config['config_id'],\n",
        "                \"sequence_length\": best_config['sequence_length'],\n",
        "                \"prediction_length\": best_config['prediction_length'],\n",
        "                \"kernel_size\": best_config['kernel_size'],\n",
        "                \"individual\": best_config['individual'],\n",
        "                \"model_parameters\": model_params,\n",
        "                \"final_val_loss\": final_val_loss,\n",
        "                \"rmse\": final_metrics['rmse'],\n",
        "                \"mae\": final_metrics['mae'],\n",
        "                \"mape\": final_metrics['mape']\n",
        "            }\n",
        "        )\n",
        "\n",
        "        # Add model file\n",
        "        model_artifact.add_file(model_save_path)\n",
        "\n",
        "        # Save and add config file\n",
        "        config_path = f\"final_model_config_{best_config['config_id']}.json\"\n",
        "        with open(config_path, 'w') as f:\n",
        "            json.dump(best_config, f, indent=2)\n",
        "        model_artifact.add_file(config_path)\n",
        "\n",
        "        # Save and add metrics file\n",
        "        metrics_path = f\"final_model_metrics_{best_config['config_id']}.json\"\n",
        "        metrics_to_save = {\n",
        "            \"final_val_loss\": final_val_loss,\n",
        "            \"rmse\": final_metrics['rmse'],\n",
        "            \"mae\": final_metrics['mae'],\n",
        "            \"mape\": final_metrics['mape'],\n",
        "            \"mse\": final_metrics['mse'],\n",
        "            \"model_parameters\": model_params,\n",
        "            \"train_size\": len(final_train_data),\n",
        "            \"val_size\": len(final_val_data)\n",
        "        }\n",
        "        with open(metrics_path, 'w') as f:\n",
        "            json.dump(metrics_to_save, f, indent=2)\n",
        "        model_artifact.add_file(metrics_path)\n",
        "\n",
        "        # Add training plots\n",
        "        model_artifact.add_file('final_model_training_results.png')\n",
        "        model_artifact.add_file('final_model_error_analysis.png')\n",
        "\n",
        "        # Log the artifact\n",
        "        final_run.log_artifact(model_artifact)\n",
        "\n",
        "        # Create training summary table\n",
        "        training_summary_table = wandb.Table(\n",
        "            columns=[\"Metric\", \"Value\"],\n",
        "            data=[\n",
        "                [\"Configuration ID\", best_config['config_id']],\n",
        "                [\"Sequence Length\", best_config['sequence_length']],\n",
        "                [\"Prediction Length\", best_config['prediction_length']],\n",
        "                [\"Kernel Size\", best_config['kernel_size']],\n",
        "                [\"Individual Layers\", best_config['individual']],\n",
        "                [\"Model Parameters\", f\"{model_params:,}\"],\n",
        "                [\"Final Validation Loss\", f\"{final_val_loss:.6f}\"],\n",
        "                [\"RMSE\", f\"{final_metrics['rmse']:.2f}\"],\n",
        "                [\"MAE\", f\"{final_metrics['mae']:.2f}\"],\n",
        "                [\"MAPE\", f\"{final_metrics['mape']:.2f}%\"],\n",
        "                [\"Training Data Size\", f\"{len(final_train_data):,}\"],\n",
        "                [\"Validation Data Size\", f\"{len(final_val_data):,}\"]\n",
        "            ]\n",
        "        )\n",
        "\n",
        "        final_run.log({\"summary/training_summary\": training_summary_table})\n",
        "\n",
        "        # Log system information\n",
        "        final_run.log({\n",
        "            \"system/device\": str(device),\n",
        "            \"system/torch_version\": torch.__version__,\n",
        "            \"system/model_size_mb\": os.path.getsize(model_save_path) / (1024 * 1024)\n",
        "        })\n",
        "\n",
        "        print(f\"\\n✅ Model and artifacts successfully logged to WandB!\")\n",
        "        print(f\"🔗 View run at: {final_run.url}\")\n",
        "\n",
        "        return final_model, final_metrics\n",
        "\n",
        "    except Exception as e:\n",
        "        print(f\"Error during final model training: {str(e)}\")\n",
        "        final_run.log({\"error\": str(e)})\n",
        "        import traceback\n",
        "        traceback.print_exc()\n",
        "        return None, None\n",
        "\n",
        "    finally:\n",
        "        # Always finish the wandb run\n",
        "        final_run.finish()\n",
        "\n",
        "\n",
        "# Train final model with WandB logging\n",
        "best_config = configs[1]\n",
        "print(\"🚀 Starting final model training with WandB logging...\")\n",
        "final_model, final_metrics = train_final_model(train_processed, feature_cols, best_config)"
      ]
    },
    {
      "cell_type": "markdown",
      "metadata": {
        "id": "jlu2viqQbr5G"
      },
      "source": [
        "## 11. Results Visualization"
      ]
    },
    {
      "cell_type": "code",
      "execution_count": 26,
      "metadata": {
        "id": "r-gqsdmObr5G",
        "colab": {
          "base_uri": "https://localhost:8080/",
          "height": 176
        },
        "outputId": "613a7ebb-0765-4a16-b8b2-547dc6327d52"
      },
      "outputs": [
        {
          "output_type": "error",
          "ename": "NameError",
          "evalue": "name 'all_results' is not defined",
          "traceback": [
            "\u001b[0;31m---------------------------------------------------------------------------\u001b[0m",
            "\u001b[0;31mNameError\u001b[0m                                 Traceback (most recent call last)",
            "\u001b[0;32m/tmp/ipython-input-26-3245346673.py\u001b[0m in \u001b[0;36m<cell line: 0>\u001b[0;34m()\u001b[0m\n\u001b[1;32m    161\u001b[0m \u001b[0;34m\u001b[0m\u001b[0m\n\u001b[1;32m    162\u001b[0m \u001b[0;31m# Create visualizations\u001b[0m\u001b[0;34m\u001b[0m\u001b[0;34m\u001b[0m\u001b[0m\n\u001b[0;32m--> 163\u001b[0;31m \u001b[0mvisualize_results\u001b[0m\u001b[0;34m(\u001b[0m\u001b[0mall_results\u001b[0m\u001b[0;34m,\u001b[0m \u001b[0mfinal_metrics\u001b[0m\u001b[0;34m)\u001b[0m\u001b[0;34m\u001b[0m\u001b[0;34m\u001b[0m\u001b[0m\n\u001b[0m",
            "\u001b[0;31mNameError\u001b[0m: name 'all_results' is not defined"
          ]
        }
      ],
      "source": [
        "def visualize_results(all_results, final_metrics=None):\n",
        "    \"\"\"Create comprehensive visualizations of results\"\"\"\n",
        "\n",
        "    if not all_results:\n",
        "        print(\"No results to visualize\")\n",
        "        return\n",
        "\n",
        "    # Set up plotting\n",
        "    plt.style.use('default')\n",
        "    fig = plt.figure(figsize=(20, 15))\n",
        "\n",
        "    # Extract data for plotting\n",
        "    config_ids = [r['config_id'] for r in all_results]\n",
        "    config_names = [f\"Config {r['config_id']}\" for r in all_results]\n",
        "\n",
        "    # Metrics to plot\n",
        "    metrics = ['val_loss', 'rmse', 'mae', 'mape']\n",
        "    means = {metric: [r['cv_summary'][f'{metric}_mean'] for r in all_results] for metric in metrics}\n",
        "    stds = {metric: [r['cv_summary'][f'{metric}_std'] for r in all_results] for metric in metrics}\n",
        "\n",
        "    # 1. CV Performance Comparison\n",
        "    ax1 = plt.subplot(2, 3, 1)\n",
        "    x_pos = np.arange(len(config_names))\n",
        "    bars = ax1.bar(x_pos, means['val_loss'], yerr=stds['val_loss'],\n",
        "                   capsize=5, alpha=0.7, color='skyblue')\n",
        "    ax1.set_xlabel('Configuration')\n",
        "    ax1.set_ylabel('CV Validation Loss')\n",
        "    ax1.set_title('Cross-Validation Loss by Configuration')\n",
        "    ax1.set_xticks(x_pos)\n",
        "    ax1.set_xticklabels(config_names, rotation=45)\n",
        "\n",
        "    # Add value labels on bars\n",
        "    for i, (bar, val) in enumerate(zip(bars, means['val_loss'])):\n",
        "        ax1.text(bar.get_x() + bar.get_width()/2, bar.get_height() + stds['val_loss'][i],\n",
        "                f'{val:.4f}', ha='center', va='bottom', fontsize=9)\n",
        "\n",
        "    # 2. RMSE Comparison\n",
        "    ax2 = plt.subplot(2, 3, 2)\n",
        "    bars = ax2.bar(x_pos, means['rmse'], yerr=stds['rmse'],\n",
        "                   capsize=5, alpha=0.7, color='lightcoral')\n",
        "    ax2.set_xlabel('Configuration')\n",
        "    ax2.set_ylabel('RMSE')\n",
        "    ax2.set_title('Cross-Validation RMSE by Configuration')\n",
        "    ax2.set_xticks(x_pos)\n",
        "    ax2.set_xticklabels(config_names, rotation=45)\n",
        "\n",
        "    # 3. MAE Comparison\n",
        "    ax3 = plt.subplot(2, 3, 3)\n",
        "    bars = ax3.bar(x_pos, means['mae'], yerr=stds['mae'],\n",
        "                   capsize=5, alpha=0.7, color='lightgreen')\n",
        "    ax3.set_xlabel('Configuration')\n",
        "    ax3.set_ylabel('MAE')\n",
        "    ax3.set_title('Cross-Validation MAE by Configuration')\n",
        "    ax3.set_xticks(x_pos)\n",
        "    ax3.set_xticklabels(config_names, rotation=45)\n",
        "\n",
        "    # 4. Fold-wise performance for best config\n",
        "    best_result = min(all_results, key=lambda x: x['cv_summary']['val_loss_mean'])\n",
        "    ax4 = plt.subplot(2, 3, 4)\n",
        "    fold_numbers = [fold['fold'] for fold in best_result['cv_results']]\n",
        "    fold_losses = [fold['val_loss'] for fold in best_result['cv_results']]\n",
        "    ax4.plot(fold_numbers, fold_losses, 'o-', linewidth=2, markersize=8, color='purple')\n",
        "    ax4.set_xlabel('Fold Number')\n",
        "    ax4.set_ylabel('Validation Loss')\n",
        "    ax4.set_title(f'Fold Performance (Best Config {best_result[\"config_id\"]})')\n",
        "    ax4.grid(True, alpha=0.3)\n",
        "\n",
        "    # 5. Performance vs Complexity\n",
        "    ax5 = plt.subplot(2, 3, 5)\n",
        "    complexities = []\n",
        "    performances = []\n",
        "\n",
        "    for result in all_results:\n",
        "        config = result['config']\n",
        "        # Simple complexity measure\n",
        "        complexity = config['sequence_length'] * config['prediction_length'] * config['kernel_size']\n",
        "        complexities.append(complexity)\n",
        "        performances.append(result['cv_summary']['val_loss_mean'])\n",
        "\n",
        "    scatter = ax5.scatter(complexities, performances, s=100, alpha=0.7, c=config_ids, cmap='tab10')\n",
        "    ax5.set_xlabel('Model Complexity (seq_len × pred_len × kernel_size)')\n",
        "    ax5.set_ylabel('CV Validation Loss')\n",
        "    ax5.set_title('Performance vs Model Complexity')\n",
        "\n",
        "    # Add config labels\n",
        "    for i, config_id in enumerate(config_ids):\n",
        "        ax5.annotate(f'C{config_id}', (complexities[i], performances[i]),\n",
        "                    xytext=(5, 5), textcoords='offset points', fontsize=10)\n",
        "\n",
        "    # 6. Summary table\n",
        "    ax6 = plt.subplot(2, 3, 6)\n",
        "    ax6.axis('off')\n",
        "\n",
        "    table_data = []\n",
        "    for result in all_results:\n",
        "        config = result['config']\n",
        "        summary = result['cv_summary']\n",
        "        table_data.append([\n",
        "            f\"Config {result['config_id']}\",\n",
        "            f\"{config['sequence_length']}\",\n",
        "            f\"{config['prediction_length']}\",\n",
        "            f\"{summary['val_loss_mean']:.4f}\",\n",
        "            f\"{summary['rmse_mean']:.1f}\",\n",
        "            f\"{summary['n_folds']}\"\n",
        "        ])\n",
        "\n",
        "    table = ax6.table(cellText=table_data,\n",
        "                     colLabels=['Config', 'Seq Len', 'Pred Len', 'CV Loss', 'RMSE', 'Folds'],\n",
        "                     cellLoc='center',\n",
        "                     loc='center')\n",
        "    table.auto_set_font_size(False)\n",
        "    table.set_fontsize(10)\n",
        "    table.scale(1, 2)\n",
        "    ax6.set_title('Configuration Comparison Table')\n",
        "\n",
        "    plt.tight_layout()\n",
        "    plt.savefig('dlinear_cv_results_comprehensive.png', dpi=300, bbox_inches='tight')\n",
        "    plt.show()\n",
        "\n",
        "    # Additional plot: Time series splits visualization\n",
        "    plt.figure(figsize=(15, 8))\n",
        "\n",
        "    # Show CV splits\n",
        "    cv = TimeSeriesCrossValidator(n_splits=3, test_size_weeks=8, gap_weeks=2)\n",
        "    splits = cv.split(train_processed)\n",
        "\n",
        "    dates = sorted(train_processed['Date'].unique())\n",
        "    y_pos = 0\n",
        "\n",
        "    colors = ['lightblue', 'orange']\n",
        "    labels = ['Train', 'Validation']\n",
        "\n",
        "    for i, (train_idx, val_idx) in enumerate(splits):\n",
        "        train_dates = train_processed.iloc[train_idx]['Date']\n",
        "        val_dates = train_processed.iloc[val_idx]['Date']\n",
        "\n",
        "        # Plot training period\n",
        "        train_start = (train_dates.min() - dates[0]).days\n",
        "        train_duration = (train_dates.max() - train_dates.min()).days\n",
        "        plt.barh(y_pos, train_duration, left=train_start, height=0.8,\n",
        "                color=colors[0], alpha=0.7, label=labels[0] if i == 0 else \"\")\n",
        "\n",
        "        # Plot validation period\n",
        "        val_start = (val_dates.min() - dates[0]).days\n",
        "        val_duration = (val_dates.max() - val_dates.min()).days\n",
        "        plt.barh(y_pos, val_duration, left=val_start, height=0.8,\n",
        "                color=colors[1], alpha=0.7, label=labels[1] if i == 0 else \"\")\n",
        "\n",
        "        y_pos += 1\n",
        "\n",
        "    plt.xlabel('Days from Start')\n",
        "    plt.ylabel('Cross-Validation Fold')\n",
        "    plt.title('Time Series Cross-Validation Splits')\n",
        "    plt.legend()\n",
        "    plt.gca().set_yticks(range(len(splits)))\n",
        "    plt.gca().set_yticklabels([f'Fold {i+1}' for i in range(len(splits))])\n",
        "    plt.grid(True, alpha=0.3)\n",
        "    plt.tight_layout()\n",
        "    plt.savefig('dlinear_cv_splits.png', dpi=300, bbox_inches='tight')\n",
        "    plt.show()\n",
        "\n",
        "# Create visualizations\n",
        "visualize_results(all_results, final_metrics)"
      ]
    },
    {
      "cell_type": "markdown",
      "metadata": {
        "id": "1JEzlYI0br5G"
      },
      "source": [
        "## 12. Final Summary and Results"
      ]
    },
    {
      "cell_type": "code",
      "execution_count": 29,
      "metadata": {
        "id": "S9-dVRQPbr5G",
        "colab": {
          "base_uri": "https://localhost:8080/"
        },
        "outputId": "2c52defc-70bc-4d91-9b88-adbf2b421fb8"
      },
      "outputs": [
        {
          "output_type": "stream",
          "name": "stdout",
          "text": [
            "\n",
            "✅ DLinear Cross-Validation Experiment COMPLETED Successfully!\n",
            "📁 Results saved: dlinear_cv_results_comprehensive.png, dlinear_cv_splits.png\n",
            "💾 Best model saved: dlinear_final_model_config_4.pth\n"
          ]
        }
      ],
      "source": [
        "def print_final_summary(all_results, best_config, final_metrics):\n",
        "    \"\"\"Print comprehensive summary of experiments\"\"\"\n",
        "\n",
        "    print(f\"\\n{'='*80}\")\n",
        "    print(\"DLINEAR WALMART SALES FORECASTING - FINAL SUMMARY\")\n",
        "    print(f\"{'='*80}\")\n",
        "\n",
        "    print(f\"\\n📊 EXPERIMENT OVERVIEW:\")\n",
        "    print(f\"   • Total configurations tested: {len(all_results)}\")\n",
        "    print(f\"   • Dataset: {len(train_processed):,} records\")\n",
        "    print(f\"   • Store-department combinations: {train_processed.groupby(['Store', 'Dept']).ngroups}\")\n",
        "    print(f\"   • Time period: {train_processed['Date'].min()} to {train_processed['Date'].max()}\")\n",
        "    print(f\"   • Cross-validation method: Time series with 3 folds\")\n",
        "\n",
        "    if best_config:\n",
        "        print(f\"\\n🏆 BEST CONFIGURATION:\")\n",
        "        print(f\"   • Config ID: {best_config['config_id']}\")\n",
        "        print(f\"   • Sequence length: {best_config['sequence_length']} weeks\")\n",
        "        print(f\"   • Prediction length: {best_config['prediction_length']} weeks\")\n",
        "        print(f\"   • Kernel size: {best_config['kernel_size']}\")\n",
        "        print(f\"   • Individual layers: {best_config['individual']}\")\n",
        "        print(f\"   • Learning rate: {best_config['learning_rate']}\")\n",
        "        print(f\"   • Batch size: {best_config['batch_size']}\")\n",
        "\n",
        "        best_result = min(all_results, key=lambda x: x['cv_summary']['val_loss_mean'])\n",
        "        cv_summary = best_result['cv_summary']\n",
        "\n",
        "        print(f\"\\n📈 CROSS-VALIDATION PERFORMANCE:\")\n",
        "        print(f\"   • Mean validation loss: {cv_summary['val_loss_mean']:.6f} ± {cv_summary['val_loss_std']:.6f}\")\n",
        "        print(f\"   • Mean RMSE: {cv_summary['rmse_mean']:.2f} ± {cv_summary['rmse_std']:.2f}\")\n",
        "        print(f\"   • Mean MAE: {cv_summary['mae_mean']:.2f} ± {cv_summary['mae_std']:.2f}\")\n",
        "        print(f\"   • Mean MAPE: {cv_summary['mape_mean']:.2f}% ± {cv_summary['mape_std']:.2f}%\")\n",
        "        print(f\"   • Successful folds: {cv_summary['n_folds']}/3\")\n",
        "\n",
        "        if final_metrics:\n",
        "            print(f\"\\n🎯 FINAL MODEL PERFORMANCE:\")\n",
        "            print(f\"   • Final validation loss: {final_metrics.get('mse', 'N/A'):.6f}\")\n",
        "            print(f\"   • RMSE: {final_metrics['rmse']:.2f}\")\n",
        "            print(f\"   • MAE: {final_metrics['mae']:.2f}\")\n",
        "            print(f\"   • MAPE: {final_metrics['mape']:.2f}%\")\n",
        "\n",
        "    print(f\"\\n📋 ALL CONFIGURATIONS TESTED:\")\n",
        "    for result in all_results:\n",
        "        config = result['config']\n",
        "        summary = result['cv_summary']\n",
        "        print(f\"   Config {config['config_id']}: \"\n",
        "              f\"seq={config['sequence_length']}, \"\n",
        "              f\"pred={config['prediction_length']}, \"\n",
        "              f\"kernel={config['kernel_size']}, \"\n",
        "              f\"individual={config['individual']} → \"\n",
        "              f\"CV Loss: {summary['val_loss_mean']:.4f}\")\n",
        "\n",
        "    print(f\"\\n💡 KEY INSIGHTS:\")\n",
        "    print(f\"   • DLinear provides competitive performance with low computational cost\")\n",
        "    print(f\"   • Time series cross-validation is crucial for reliable evaluation\")\n",
        "    print(f\"   • Data sparsity in store-department combinations requires careful handling\")\n",
        "    print(f\"   • Shorter sequence lengths work better with limited historical data\")\n",
        "    print(f\"   • Individual linear layers help when store-department patterns differ significantly\")\n",
        "\n",
        "    print(f\"\\n🔧 TECHNICAL NOTES:\")\n",
        "    print(f\"   • Model uses univariate forecasting (Weekly_Sales only)\")\n",
        "    print(f\"   • Series decomposition separates trend and seasonal components\")\n",
        "    print(f\"   • Linear layers applied to each component separately\")\n",
        "    print(f\"   • Much faster training compared to transformer-based models\")\n",
        "    print(f\"   • Memory efficient and suitable for production deployment\")\n",
        "\n",
        "    if len(all_results) > 1:\n",
        "        best_loss = min(r['cv_summary']['val_loss_mean'] for r in all_results)\n",
        "        worst_loss = max(r['cv_summary']['val_loss_mean'] for r in all_results)\n",
        "        improvement = ((worst_loss - best_loss) / worst_loss) * 100\n",
        "\n",
        "        print(f\"\\n📊 PERFORMANCE VARIANCE:\")\n",
        "        print(f\"   • Best CV loss: {best_loss:.6f}\")\n",
        "        print(f\"   • Worst CV loss: {worst_loss:.6f}\")\n",
        "        print(f\"   • Performance improvement: {improvement:.1f}%\")\n",
        "\n",
        "    print(f\"\\n🚀 NEXT STEPS:\")\n",
        "    print(f\"   • Deploy best model for production forecasting\")\n",
        "    print(f\"   • Consider ensemble methods combining multiple configurations\")\n",
        "    print(f\"   • Experiment with multivariate inputs (features + sales history)\")\n",
        "    print(f\"   • Compare with other architectures (N-BEATS, NeuralProphet, etc.)\")\n",
        "    print(f\"   • Implement rolling forecasts for continuous model updates\")\n",
        "\n",
        "    print(f\"\\n{'='*80}\")\n",
        "\n",
        "# Print final summary\n",
        "\n",
        "print(\"\\n✅ DLinear Cross-Validation Experiment COMPLETED Successfully!\")\n",
        "print(\"📁 Results saved: dlinear_cv_results_comprehensive.png, dlinear_cv_splits.png\")\n",
        "if best_config:\n",
        "    print(f\"💾 Best model saved: dlinear_final_model_config_{best_config['config_id']}.pth\")"
      ]
    },
    {
      "cell_type": "markdown",
      "metadata": {
        "id": "EK_MGLZSbr5G"
      },
      "source": [
        "## 13. Optional: Sample Predictions"
      ]
    },
    {
      "cell_type": "code",
      "source": [],
      "metadata": {
        "id": "SIT66m6Bb2qv"
      },
      "execution_count": null,
      "outputs": []
    },
    {
      "cell_type": "code",
      "execution_count": 28,
      "metadata": {
        "id": "d6g_A2GLbr5G",
        "colab": {
          "base_uri": "https://localhost:8080/"
        },
        "outputId": "d2991d76-11d6-4eff-f4ee-145d906464b7"
      },
      "outputs": [
        {
          "output_type": "stream",
          "name": "stdout",
          "text": [
            "\n",
            "🎉 NOTEBOOK EXECUTION COMPLETED! 🎉\n"
          ]
        }
      ],
      "source": [
        "def make_sample_predictions(model, data, feature_cols, config, n_samples=5):\n",
        "    \"\"\"Make sample predictions to demonstrate model usage\"\"\"\n",
        "\n",
        "    if model is None:\n",
        "        print(\"No trained model available for predictions\")\n",
        "        return\n",
        "\n",
        "    print(f\"\\n{'='*60}\")\n",
        "    print(\"SAMPLE PREDICTIONS\")\n",
        "    print(f\"{'='*60}\")\n",
        "\n",
        "    # Create a small dataset for demonstration\n",
        "    sample_data = data.tail(1000).copy()  # Use recent data\n",
        "\n",
        "    dataset = TimeSeriesDatasetRobust(\n",
        "        sample_data, 'Weekly_Sales', feature_cols,\n",
        "        config['sequence_length'], config['prediction_length'], verbose=False\n",
        "    )\n",
        "\n",
        "    if len(dataset) == 0:\n",
        "        print(\"No sequences available for predictions\")\n",
        "        return\n",
        "\n",
        "    # Take a few random samples\n",
        "    sample_indices = np.random.choice(len(dataset), min(n_samples, len(dataset)), replace=False)\n",
        "\n",
        "    model.eval()\n",
        "    with torch.no_grad():\n",
        "        for i, idx in enumerate(sample_indices):\n",
        "            sample = dataset[idx]\n",
        "\n",
        "            input_seq = sample['input_target'].unsqueeze(0).unsqueeze(-1).to(device)\n",
        "            actual_target = sample['target'].numpy()\n",
        "\n",
        "            # Make prediction\n",
        "            prediction = model(input_seq).squeeze().cpu().numpy()\n",
        "\n",
        "            print(f\"\\nSample {i+1}:\")\n",
        "            print(f\"  Input sequence (last 5): {sample['input_target'][-5:].numpy()}\")\n",
        "            print(f\"  Actual future: {actual_target}\")\n",
        "            print(f\"  Predicted future: {prediction}\")\n",
        "            print(f\"  MAE: {np.mean(np.abs(actual_target - prediction)):.2f}\")\n",
        "\n",
        "# Make sample predictions if we have a trained model\n",
        "if final_model is not None and best_config is not None:\n",
        "    make_sample_predictions(final_model, train_processed, feature_cols, best_config)\n",
        "\n",
        "print(f\"\\n🎉 NOTEBOOK EXECUTION COMPLETED! 🎉\")"
      ]
    },
    {
      "cell_type": "code",
      "source": [],
      "metadata": {
        "id": "tFLCMhkSNPOi"
      },
      "execution_count": 26,
      "outputs": []
    }
  ],
  "metadata": {
    "kernelspec": {
      "display_name": "Python 3",
      "name": "python3"
    },
    "language_info": {
      "codemirror_mode": {
        "name": "ipython",
        "version": 3
      },
      "file_extension": ".py",
      "mimetype": "text/x-python",
      "name": "python",
      "nbconvert_exporter": "python",
      "pygments_lexer": "ipython3",
      "version": "3.8.5"
    },
    "colab": {
      "provenance": [],
      "gpuType": "T4",
      "include_colab_link": true
    },
    "accelerator": "GPU"
  },
  "nbformat": 4,
  "nbformat_minor": 0
}