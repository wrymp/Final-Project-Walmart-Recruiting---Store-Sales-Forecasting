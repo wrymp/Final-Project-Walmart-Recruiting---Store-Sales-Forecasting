{
  "cells": [
    {
      "cell_type": "code",
      "source": [
        "!pip install kaggle wandb onnx -Uq\n",
        "from google.colab import drive\n",
        "drive.mount('/content/drive')"
      ],
      "metadata": {
        "colab": {
          "base_uri": "https://localhost:8080/"
        },
        "id": "0xc_xtTn6ECN",
        "outputId": "3bca58ac-74b4-450e-adc5-1662ec33969a"
      },
      "id": "0xc_xtTn6ECN",
      "execution_count": 1,
      "outputs": [
        {
          "output_type": "stream",
          "name": "stdout",
          "text": [
            "\u001b[2K   \u001b[90m━━━━━━━━━━━━━━━━━━━━━━━━━━━━━━━━━━━━━━━━\u001b[0m \u001b[32m22.2/22.2 MB\u001b[0m \u001b[31m40.6 MB/s\u001b[0m eta \u001b[36m0:00:00\u001b[0m\n",
            "\u001b[2K   \u001b[90m━━━━━━━━━━━━━━━━━━━━━━━━━━━━━━━━━━━━━━━━\u001b[0m \u001b[32m17.6/17.6 MB\u001b[0m \u001b[31m69.7 MB/s\u001b[0m eta \u001b[36m0:00:00\u001b[0m\n",
            "\u001b[?25hMounted at /content/drive\n"
          ]
        }
      ]
    },
    {
      "cell_type": "code",
      "source": [
        "! mkdir ~/.kaggle"
      ],
      "metadata": {
        "id": "3Q92W4PQ6EaA"
      },
      "id": "3Q92W4PQ6EaA",
      "execution_count": 2,
      "outputs": []
    },
    {
      "cell_type": "code",
      "source": [
        "!cp /content/drive/MyDrive/Kaggle_credentials/kaggle.json ~/.kaggle/kaggle.json"
      ],
      "metadata": {
        "id": "cDQaBGLX6FfU"
      },
      "id": "cDQaBGLX6FfU",
      "execution_count": 3,
      "outputs": []
    },
    {
      "cell_type": "code",
      "source": [
        "! chmod 600 ~/.kaggle/kaggle.json"
      ],
      "metadata": {
        "id": "HkcOB55i6G8d"
      },
      "id": "HkcOB55i6G8d",
      "execution_count": 4,
      "outputs": []
    },
    {
      "cell_type": "code",
      "source": [
        "! kaggle competitions download -c walmart-recruiting-store-sales-forecasting"
      ],
      "metadata": {
        "colab": {
          "base_uri": "https://localhost:8080/"
        },
        "id": "MPwqMv2z6H6S",
        "outputId": "db0b5c33-0294-4980-fdfd-dc5fed342a88"
      },
      "id": "MPwqMv2z6H6S",
      "execution_count": 5,
      "outputs": [
        {
          "output_type": "stream",
          "name": "stdout",
          "text": [
            "Downloading walmart-recruiting-store-sales-forecasting.zip to /content\n",
            "\r  0% 0.00/2.70M [00:00<?, ?B/s]\n",
            "\r100% 2.70M/2.70M [00:00<00:00, 621MB/s]\n"
          ]
        }
      ]
    },
    {
      "cell_type": "code",
      "source": [
        "! unzip /content/walmart-recruiting-store-sales-forecasting.zip\n",
        "! unzip /content/train.csv.zip\n",
        "! unzip /content/test.csv.zip\n",
        "! unzip /content/features.csv.zip\n",
        "! unzip /content/sampleSubmission.csv.zip"
      ],
      "metadata": {
        "colab": {
          "base_uri": "https://localhost:8080/"
        },
        "id": "jQr6E5zG6KBU",
        "outputId": "e8f85a6f-84da-4dba-eacf-29b39f4d7d33"
      },
      "id": "jQr6E5zG6KBU",
      "execution_count": 6,
      "outputs": [
        {
          "output_type": "stream",
          "name": "stdout",
          "text": [
            "Archive:  /content/walmart-recruiting-store-sales-forecasting.zip\n",
            "  inflating: features.csv.zip        \n",
            "  inflating: sampleSubmission.csv.zip  \n",
            "  inflating: stores.csv              \n",
            "  inflating: test.csv.zip            \n",
            "  inflating: train.csv.zip           \n",
            "Archive:  /content/train.csv.zip\n",
            "  inflating: train.csv               \n",
            "Archive:  /content/test.csv.zip\n",
            "  inflating: test.csv                \n",
            "Archive:  /content/features.csv.zip\n",
            "  inflating: features.csv            \n",
            "Archive:  /content/sampleSubmission.csv.zip\n",
            "  inflating: sampleSubmission.csv    \n"
          ]
        }
      ]
    },
    {
      "cell_type": "code",
      "source": [
        "!pip install wandb -qU"
      ],
      "metadata": {
        "id": "myvAj7pC7CyH"
      },
      "id": "myvAj7pC7CyH",
      "execution_count": 7,
      "outputs": []
    },
    {
      "cell_type": "code",
      "source": [
        "import wandb\n",
        "import random\n",
        "import math"
      ],
      "metadata": {
        "id": "c5Vm5Z5I7DRW"
      },
      "id": "c5Vm5Z5I7DRW",
      "execution_count": 8,
      "outputs": []
    },
    {
      "cell_type": "code",
      "source": [
        "wandb.login()"
      ],
      "metadata": {
        "colab": {
          "base_uri": "https://localhost:8080/",
          "height": 191
        },
        "id": "mR9ELoN67Ef_",
        "outputId": "0f38fc1c-280e-4d5f-d802-aeac8c9f0456"
      },
      "id": "mR9ELoN67Ef_",
      "execution_count": 9,
      "outputs": [
        {
          "output_type": "display_data",
          "data": {
            "text/plain": [
              "<IPython.core.display.Javascript object>"
            ],
            "application/javascript": [
              "\n",
              "        window._wandbApiKey = new Promise((resolve, reject) => {\n",
              "            function loadScript(url) {\n",
              "            return new Promise(function(resolve, reject) {\n",
              "                let newScript = document.createElement(\"script\");\n",
              "                newScript.onerror = reject;\n",
              "                newScript.onload = resolve;\n",
              "                document.body.appendChild(newScript);\n",
              "                newScript.src = url;\n",
              "            });\n",
              "            }\n",
              "            loadScript(\"https://cdn.jsdelivr.net/npm/postmate/build/postmate.min.js\").then(() => {\n",
              "            const iframe = document.createElement('iframe')\n",
              "            iframe.style.cssText = \"width:0;height:0;border:none\"\n",
              "            document.body.appendChild(iframe)\n",
              "            const handshake = new Postmate({\n",
              "                container: iframe,\n",
              "                url: 'https://wandb.ai/authorize'\n",
              "            });\n",
              "            const timeout = setTimeout(() => reject(\"Couldn't auto authenticate\"), 5000)\n",
              "            handshake.then(function(child) {\n",
              "                child.on('authorize', data => {\n",
              "                    clearTimeout(timeout)\n",
              "                    resolve(data)\n",
              "                });\n",
              "            });\n",
              "            })\n",
              "        });\n",
              "    "
            ]
          },
          "metadata": {}
        },
        {
          "output_type": "stream",
          "name": "stderr",
          "text": [
            "\u001b[34m\u001b[1mwandb\u001b[0m: Logging into wandb.ai. (Learn how to deploy a W&B server locally: https://wandb.me/wandb-server)\n",
            "\u001b[34m\u001b[1mwandb\u001b[0m: You can find your API key in your browser here: https://wandb.ai/authorize\n",
            "wandb: Paste an API key from your profile and hit enter:"
          ]
        },
        {
          "name": "stdout",
          "output_type": "stream",
          "text": [
            " ··········\n"
          ]
        },
        {
          "output_type": "stream",
          "name": "stderr",
          "text": [
            "\u001b[34m\u001b[1mwandb\u001b[0m: \u001b[33mWARNING\u001b[0m If you're specifying your api key in code, ensure this code is not shared publicly.\n",
            "\u001b[34m\u001b[1mwandb\u001b[0m: \u001b[33mWARNING\u001b[0m Consider setting the WANDB_API_KEY environment variable, or running `wandb login` from the command line.\n",
            "\u001b[34m\u001b[1mwandb\u001b[0m: No netrc file found, creating one.\n",
            "\u001b[34m\u001b[1mwandb\u001b[0m: Appending key for api.wandb.ai to your netrc file: /root/.netrc\n",
            "\u001b[34m\u001b[1mwandb\u001b[0m: Currently logged in as: \u001b[33mdshan21\u001b[0m (\u001b[33mdshan21-free-university-of-tbilisi-\u001b[0m) to \u001b[32mhttps://api.wandb.ai\u001b[0m. Use \u001b[1m`wandb login --relogin`\u001b[0m to force relogin\n"
          ]
        },
        {
          "output_type": "execute_result",
          "data": {
            "text/plain": [
              "True"
            ]
          },
          "metadata": {},
          "execution_count": 9
        }
      ]
    },
    {
      "cell_type": "code",
      "execution_count": 12,
      "id": "initial_id",
      "metadata": {
        "collapsed": true,
        "colab": {
          "base_uri": "https://localhost:8080/",
          "height": 1000
        },
        "id": "initial_id",
        "outputId": "84dbad77-598b-4c74-8b8d-5a689ff3d674"
      },
      "outputs": [
        {
          "output_type": "stream",
          "name": "stdout",
          "text": [
            "Starting Walmart Sales Forecasting with XGBoost...\n",
            "Dataset shapes:\n",
            "Train: (421570, 5)\n",
            "Features: (8190, 12)\n",
            "Stores: (45, 3)\n",
            "Test: (115064, 4)\n",
            "\n",
            "Performing hyperparameter tuning...\n"
          ]
        },
        {
          "output_type": "display_data",
          "data": {
            "text/plain": [
              "<IPython.core.display.HTML object>"
            ],
            "text/html": [
              "Finishing previous runs because reinit is set to 'default'."
            ]
          },
          "metadata": {}
        },
        {
          "output_type": "display_data",
          "data": {
            "text/plain": [
              "<IPython.core.display.HTML object>"
            ],
            "text/html": []
          },
          "metadata": {}
        },
        {
          "output_type": "display_data",
          "data": {
            "text/plain": [
              "<IPython.core.display.HTML object>"
            ],
            "text/html": [
              " View run <strong style=\"color:#cdcd00\">XGBoost_hyperparameter_tuning</strong> at: <a href='https://wandb.ai/dshan21-free-university-of-tbilisi-/walmart-forecasting/runs/wlnu2ccl' target=\"_blank\">https://wandb.ai/dshan21-free-university-of-tbilisi-/walmart-forecasting/runs/wlnu2ccl</a><br> View project at: <a href='https://wandb.ai/dshan21-free-university-of-tbilisi-/walmart-forecasting' target=\"_blank\">https://wandb.ai/dshan21-free-university-of-tbilisi-/walmart-forecasting</a><br>Synced 5 W&B file(s), 0 media file(s), 0 artifact file(s) and 0 other file(s)"
            ]
          },
          "metadata": {}
        },
        {
          "output_type": "display_data",
          "data": {
            "text/plain": [
              "<IPython.core.display.HTML object>"
            ],
            "text/html": [
              "Find logs at: <code>./wandb/run-20250703_154615-wlnu2ccl/logs</code>"
            ]
          },
          "metadata": {}
        },
        {
          "output_type": "display_data",
          "data": {
            "text/plain": [
              "<IPython.core.display.HTML object>"
            ],
            "text/html": [
              "Tracking run with wandb version 0.21.0"
            ]
          },
          "metadata": {}
        },
        {
          "output_type": "display_data",
          "data": {
            "text/plain": [
              "<IPython.core.display.HTML object>"
            ],
            "text/html": [
              "Run data is saved locally in <code>/content/wandb/run-20250703_154858-hlkpq8ut</code>"
            ]
          },
          "metadata": {}
        },
        {
          "output_type": "display_data",
          "data": {
            "text/plain": [
              "<IPython.core.display.HTML object>"
            ],
            "text/html": [
              "Syncing run <strong><a href='https://wandb.ai/dshan21-free-university-of-tbilisi-/walmart-forecasting/runs/hlkpq8ut' target=\"_blank\">XGBoost_hyperparameter_tuning</a></strong> to <a href='https://wandb.ai/dshan21-free-university-of-tbilisi-/walmart-forecasting' target=\"_blank\">Weights & Biases</a> (<a href='https://wandb.me/developer-guide' target=\"_blank\">docs</a>)<br>"
            ]
          },
          "metadata": {}
        },
        {
          "output_type": "display_data",
          "data": {
            "text/plain": [
              "<IPython.core.display.HTML object>"
            ],
            "text/html": [
              " View project at <a href='https://wandb.ai/dshan21-free-university-of-tbilisi-/walmart-forecasting' target=\"_blank\">https://wandb.ai/dshan21-free-university-of-tbilisi-/walmart-forecasting</a>"
            ]
          },
          "metadata": {}
        },
        {
          "output_type": "display_data",
          "data": {
            "text/plain": [
              "<IPython.core.display.HTML object>"
            ],
            "text/html": [
              " View run at <a href='https://wandb.ai/dshan21-free-university-of-tbilisi-/walmart-forecasting/runs/hlkpq8ut' target=\"_blank\">https://wandb.ai/dshan21-free-university-of-tbilisi-/walmart-forecasting/runs/hlkpq8ut</a>"
            ]
          },
          "metadata": {}
        },
        {
          "output_type": "stream",
          "name": "stdout",
          "text": [
            "Creating preprocessing pipeline...\n",
            "Fitting preprocessing pipeline...\n",
            "Warning: Could not create rolling features for window 4\n",
            "Warning: Could not create rolling features for window 8\n",
            "Warning: Could not create rolling features for window 12\n",
            "Processed data shape: (421570, 45)\n",
            "Clean data shape: (421570, 45)\n",
            "\n",
            "Testing parameter combination 1: {'max_depth': 4, 'learning_rate': 0.05, 'n_estimators': 500, 'subsample': 0.8, 'colsample_bytree': 0.8}\n",
            "Average RMSE: 4883.2234\n",
            "\n",
            "Testing parameter combination 2: {'max_depth': 6, 'learning_rate': 0.1, 'n_estimators': 300, 'subsample': 0.8, 'colsample_bytree': 0.8}\n",
            "Average RMSE: 4235.8996\n",
            "\n",
            "Testing parameter combination 3: {'max_depth': 8, 'learning_rate': 0.15, 'n_estimators': 200, 'subsample': 0.9, 'colsample_bytree': 0.9}\n",
            "Average RMSE: 4314.1897\n"
          ]
        },
        {
          "output_type": "display_data",
          "data": {
            "text/plain": [
              "<IPython.core.display.HTML object>"
            ],
            "text/html": []
          },
          "metadata": {}
        },
        {
          "output_type": "display_data",
          "data": {
            "text/plain": [
              "<IPython.core.display.HTML object>"
            ],
            "text/html": [
              "<br>    <style><br>        .wandb-row {<br>            display: flex;<br>            flex-direction: row;<br>            flex-wrap: wrap;<br>            justify-content: flex-start;<br>            width: 100%;<br>        }<br>        .wandb-col {<br>            display: flex;<br>            flex-direction: column;<br>            flex-basis: 100%;<br>            flex: 1;<br>            padding: 10px;<br>        }<br>    </style><br><div class=\"wandb-row\"><div class=\"wandb-col\"><h3>Run history:</h3><br/><table class=\"wandb\"><tr><td>best_rmse</td><td>▁</td></tr><tr><td>param_colsample_bytree</td><td>▁▁█</td></tr><tr><td>param_combo_1_rmse</td><td>▁</td></tr><tr><td>param_combo_2_rmse</td><td>▁</td></tr><tr><td>param_combo_3_rmse</td><td>▁</td></tr><tr><td>param_learning_rate</td><td>▁▄█</td></tr><tr><td>param_max_depth</td><td>▁▅█</td></tr><tr><td>param_n_estimators</td><td>█▃▁</td></tr><tr><td>param_subsample</td><td>▁▁█</td></tr></table><br/></div><div class=\"wandb-col\"><h3>Run summary:</h3><br/><table class=\"wandb\"><tr><td>best_rmse</td><td>4235.89962</td></tr><tr><td>param_colsample_bytree</td><td>0.9</td></tr><tr><td>param_combo_1_rmse</td><td>4883.22341</td></tr><tr><td>param_combo_2_rmse</td><td>4235.89962</td></tr><tr><td>param_combo_3_rmse</td><td>4314.18965</td></tr><tr><td>param_learning_rate</td><td>0.15</td></tr><tr><td>param_max_depth</td><td>8</td></tr><tr><td>param_n_estimators</td><td>200</td></tr><tr><td>param_subsample</td><td>0.9</td></tr></table><br/></div></div>"
            ]
          },
          "metadata": {}
        },
        {
          "output_type": "display_data",
          "data": {
            "text/plain": [
              "<IPython.core.display.HTML object>"
            ],
            "text/html": [
              " View run <strong style=\"color:#cdcd00\">XGBoost_hyperparameter_tuning</strong> at: <a href='https://wandb.ai/dshan21-free-university-of-tbilisi-/walmart-forecasting/runs/hlkpq8ut' target=\"_blank\">https://wandb.ai/dshan21-free-university-of-tbilisi-/walmart-forecasting/runs/hlkpq8ut</a><br> View project at: <a href='https://wandb.ai/dshan21-free-university-of-tbilisi-/walmart-forecasting' target=\"_blank\">https://wandb.ai/dshan21-free-university-of-tbilisi-/walmart-forecasting</a><br>Synced 5 W&B file(s), 0 media file(s), 0 artifact file(s) and 0 other file(s)"
            ]
          },
          "metadata": {}
        },
        {
          "output_type": "display_data",
          "data": {
            "text/plain": [
              "<IPython.core.display.HTML object>"
            ],
            "text/html": [
              "Find logs at: <code>./wandb/run-20250703_154858-hlkpq8ut/logs</code>"
            ]
          },
          "metadata": {}
        },
        {
          "output_type": "stream",
          "name": "stdout",
          "text": [
            "Best parameters: {'max_depth': 6, 'learning_rate': 0.1, 'n_estimators': 300, 'subsample': 0.8, 'colsample_bytree': 0.8}\n",
            "\n",
            "Training final model with pipeline...\n"
          ]
        },
        {
          "output_type": "display_data",
          "data": {
            "text/plain": [
              "<IPython.core.display.HTML object>"
            ],
            "text/html": [
              "Tracking run with wandb version 0.21.0"
            ]
          },
          "metadata": {}
        },
        {
          "output_type": "display_data",
          "data": {
            "text/plain": [
              "<IPython.core.display.HTML object>"
            ],
            "text/html": [
              "Run data is saved locally in <code>/content/wandb/run-20250703_155102-xxq3hqqm</code>"
            ]
          },
          "metadata": {}
        },
        {
          "output_type": "display_data",
          "data": {
            "text/plain": [
              "<IPython.core.display.HTML object>"
            ],
            "text/html": [
              "Syncing run <strong><a href='https://wandb.ai/dshan21-free-university-of-tbilisi-/walmart-forecasting/runs/xxq3hqqm' target=\"_blank\">XGBoost_pipeline_training</a></strong> to <a href='https://wandb.ai/dshan21-free-university-of-tbilisi-/walmart-forecasting' target=\"_blank\">Weights & Biases</a> (<a href='https://wandb.me/developer-guide' target=\"_blank\">docs</a>)<br>"
            ]
          },
          "metadata": {}
        },
        {
          "output_type": "display_data",
          "data": {
            "text/plain": [
              "<IPython.core.display.HTML object>"
            ],
            "text/html": [
              " View project at <a href='https://wandb.ai/dshan21-free-university-of-tbilisi-/walmart-forecasting' target=\"_blank\">https://wandb.ai/dshan21-free-university-of-tbilisi-/walmart-forecasting</a>"
            ]
          },
          "metadata": {}
        },
        {
          "output_type": "display_data",
          "data": {
            "text/plain": [
              "<IPython.core.display.HTML object>"
            ],
            "text/html": [
              " View run at <a href='https://wandb.ai/dshan21-free-university-of-tbilisi-/walmart-forecasting/runs/xxq3hqqm' target=\"_blank\">https://wandb.ai/dshan21-free-university-of-tbilisi-/walmart-forecasting/runs/xxq3hqqm</a>"
            ]
          },
          "metadata": {}
        },
        {
          "output_type": "stream",
          "name": "stdout",
          "text": [
            "Fitting preprocessing pipeline...\n",
            "Warning: Could not create rolling features for window 4\n",
            "Warning: Could not create rolling features for window 8\n",
            "Warning: Could not create rolling features for window 12\n",
            "Processed training data shape: (421570, 45)\n",
            "Clean data shape: (421570, 45)\n",
            "Training final model...\n",
            "Pipeline saved successfully!\n"
          ]
        },
        {
          "output_type": "display_data",
          "data": {
            "text/plain": [
              "<IPython.core.display.HTML object>"
            ],
            "text/html": []
          },
          "metadata": {}
        },
        {
          "output_type": "display_data",
          "data": {
            "text/plain": [
              "<IPython.core.display.HTML object>"
            ],
            "text/html": [
              " View run <strong style=\"color:#cdcd00\">XGBoost_pipeline_training</strong> at: <a href='https://wandb.ai/dshan21-free-university-of-tbilisi-/walmart-forecasting/runs/xxq3hqqm' target=\"_blank\">https://wandb.ai/dshan21-free-university-of-tbilisi-/walmart-forecasting/runs/xxq3hqqm</a><br> View project at: <a href='https://wandb.ai/dshan21-free-university-of-tbilisi-/walmart-forecasting' target=\"_blank\">https://wandb.ai/dshan21-free-university-of-tbilisi-/walmart-forecasting</a><br>Synced 5 W&B file(s), 0 media file(s), 2 artifact file(s) and 0 other file(s)"
            ]
          },
          "metadata": {}
        },
        {
          "output_type": "display_data",
          "data": {
            "text/plain": [
              "<IPython.core.display.HTML object>"
            ],
            "text/html": [
              "Find logs at: <code>./wandb/run-20250703_155102-xxq3hqqm/logs</code>"
            ]
          },
          "metadata": {}
        },
        {
          "output_type": "stream",
          "name": "stdout",
          "text": [
            "\n",
            "✅ Training completed successfully!\n",
            "Pipeline saved to wandb artifacts!\n"
          ]
        }
      ],
      "source": [
        "# model_experiment_XGBoost.ipynb (Updated with proper week calculation fix)\n",
        "\n",
        "import pandas as pd\n",
        "import numpy as np\n",
        "import matplotlib.pyplot as plt\n",
        "import seaborn as sns\n",
        "from sklearn.model_selection import TimeSeriesSplit\n",
        "from sklearn.metrics import mean_absolute_error, mean_squared_error\n",
        "from sklearn.preprocessing import LabelEncoder\n",
        "from sklearn.base import BaseEstimator, TransformerMixin\n",
        "from sklearn.pipeline import Pipeline\n",
        "import xgboost as xgb\n",
        "import wandb\n",
        "import joblib\n",
        "import pickle\n",
        "import warnings\n",
        "warnings.filterwarnings('ignore')\n",
        "\n",
        "# Fixed Custom transformers for our pipeline\n",
        "class DataMerger(BaseEstimator, TransformerMixin):\n",
        "    \"\"\"Merge main data with features and stores data\"\"\"\n",
        "\n",
        "    def __init__(self, features_df, stores_df):\n",
        "        self.features_df = features_df\n",
        "        self.stores_df = stores_df\n",
        "\n",
        "    def fit(self, X, y=None):\n",
        "        return self\n",
        "\n",
        "    def transform(self, X):\n",
        "        # Merge with features\n",
        "        X_merged = X.merge(self.features_df, on=['Store', 'Date', 'IsHoliday'], how='left')\n",
        "        # Merge with stores\n",
        "        X_merged = X_merged.merge(self.stores_df, on='Store', how='left')\n",
        "        return X_merged\n",
        "\n",
        "class DateFeatureCreator(BaseEstimator, TransformerMixin):\n",
        "    \"\"\"Create date-based features\"\"\"\n",
        "\n",
        "    def fit(self, X, y=None):\n",
        "        return self\n",
        "\n",
        "    def transform(self, X):\n",
        "        X = X.copy()\n",
        "        X['Date'] = pd.to_datetime(X['Date'])\n",
        "        X['Year'] = X['Date'].dt.year\n",
        "        X['Month'] = X['Date'].dt.month\n",
        "        X['Day'] = X['Date'].dt.day\n",
        "        X['DayOfWeek'] = X['Date'].dt.dayofweek\n",
        "        X['Quarter'] = X['Date'].dt.quarter\n",
        "\n",
        "        # Fix for the week calculation - use a more robust approach\n",
        "        try:\n",
        "            # Try the modern approach first\n",
        "            X['Week'] = X['Date'].dt.isocalendar().week.values\n",
        "        except:\n",
        "            # Fallback to alternative method\n",
        "            X['Week'] = X['Date'].dt.strftime('%U').astype(int)\n",
        "\n",
        "        X['WeekOfMonth'] = X['Day'].apply(lambda x: (x-1) // 7 + 1)\n",
        "\n",
        "        # Additional time features\n",
        "        X['IsWeekend'] = (X['DayOfWeek'] >= 5).astype(int)\n",
        "        X['MonthStart'] = (X['Day'] <= 7).astype(int)\n",
        "        X['MonthEnd'] = (X['Day'] >= 25).astype(int)  # Simplified to avoid days_in_month issues\n",
        "\n",
        "        # Seasonal features\n",
        "        X['IsSummer'] = X['Month'].isin([6, 7, 8]).astype(int)\n",
        "        X['IsWinter'] = X['Month'].isin([12, 1, 2]).astype(int)\n",
        "        X['IsSpring'] = X['Month'].isin([3, 4, 5]).astype(int)\n",
        "        X['IsFall'] = X['Month'].isin([9, 10, 11]).astype(int)\n",
        "\n",
        "        return X\n",
        "\n",
        "class LagFeatureCreator(BaseEstimator, TransformerMixin):\n",
        "    \"\"\"Create lag features for time series\"\"\"\n",
        "\n",
        "    def __init__(self, target_col='Weekly_Sales', lags=[1, 2, 4, 8, 12]):\n",
        "        self.target_col = target_col\n",
        "        self.lags = lags\n",
        "        self.lag_medians = {}\n",
        "\n",
        "    def fit(self, X, y=None):\n",
        "        if self.target_col in X.columns:\n",
        "            X_sorted = X.sort_values(['Store', 'Dept', 'Date']).copy()\n",
        "            X_sorted = X_sorted.reset_index(drop=True)\n",
        "\n",
        "            for lag in self.lags:\n",
        "                lag_col = f'{self.target_col}_lag_{lag}'\n",
        "                try:\n",
        "                    lag_values = X_sorted.groupby(['Store', 'Dept'])[self.target_col].shift(lag)\n",
        "                    self.lag_medians[lag_col] = lag_values.median()\n",
        "                except Exception as e:\n",
        "                    print(f\"Warning: Could not create lag {lag}, using 0 as default\")\n",
        "                    self.lag_medians[lag_col] = 0\n",
        "        return self\n",
        "\n",
        "    def transform(self, X):\n",
        "        X_sorted = X.sort_values(['Store', 'Dept', 'Date']).copy()\n",
        "        X_sorted = X_sorted.reset_index(drop=True)\n",
        "\n",
        "        for lag in self.lags:\n",
        "            lag_col = f'{self.target_col}_lag_{lag}'\n",
        "            if self.target_col in X.columns:\n",
        "                # Training data - compute actual lags\n",
        "                try:\n",
        "                    X_sorted[lag_col] = X_sorted.groupby(['Store', 'Dept'])[self.target_col].shift(lag)\n",
        "                except Exception as e:\n",
        "                    print(f\"Warning: Could not create lag {lag} in transform, using median\")\n",
        "                    X_sorted[lag_col] = self.lag_medians.get(lag_col, 0)\n",
        "            else:\n",
        "                # Test data - use median from training\n",
        "                X_sorted[lag_col] = self.lag_medians.get(lag_col, 0)\n",
        "\n",
        "        return X_sorted\n",
        "\n",
        "class RollingFeatureCreator(BaseEstimator, TransformerMixin):\n",
        "    \"\"\"Create rolling statistics features\"\"\"\n",
        "\n",
        "    def __init__(self, target_col='Weekly_Sales', windows=[4, 8, 12]):\n",
        "        self.target_col = target_col\n",
        "        self.windows = windows\n",
        "        self.rolling_medians = {}\n",
        "\n",
        "    def fit(self, X, y=None):\n",
        "        if self.target_col in X.columns:\n",
        "            X_sorted = X.sort_values(['Store', 'Dept', 'Date']).copy()\n",
        "            X_sorted = X_sorted.reset_index(drop=True)\n",
        "\n",
        "            for window in self.windows:\n",
        "                try:\n",
        "                    grouped = X_sorted.groupby(['Store', 'Dept'])[self.target_col]\n",
        "\n",
        "                    rolling_mean = grouped.rolling(window=window, min_periods=1).mean()\n",
        "                    rolling_std = grouped.rolling(window=window, min_periods=1).std()\n",
        "                    rolling_max = grouped.rolling(window=window, min_periods=1).max()\n",
        "                    rolling_min = grouped.rolling(window=window, min_periods=1).min()\n",
        "\n",
        "                    # Store medians\n",
        "                    self.rolling_medians[f'{self.target_col}_rolling_mean_{window}'] = rolling_mean.median()\n",
        "                    self.rolling_medians[f'{self.target_col}_rolling_std_{window}'] = rolling_std.median()\n",
        "                    self.rolling_medians[f'{self.target_col}_rolling_max_{window}'] = rolling_max.median()\n",
        "                    self.rolling_medians[f'{self.target_col}_rolling_min_{window}'] = rolling_min.median()\n",
        "                except Exception as e:\n",
        "                    print(f\"Warning: Could not create rolling window {window}, using 0 as default\")\n",
        "                    self.rolling_medians[f'{self.target_col}_rolling_mean_{window}'] = 0\n",
        "                    self.rolling_medians[f'{self.target_col}_rolling_std_{window}'] = 0\n",
        "                    self.rolling_medians[f'{self.target_col}_rolling_max_{window}'] = 0\n",
        "                    self.rolling_medians[f'{self.target_col}_rolling_min_{window}'] = 0\n",
        "        return self\n",
        "\n",
        "    def transform(self, X):\n",
        "        X_sorted = X.sort_values(['Store', 'Dept', 'Date']).copy()\n",
        "        X_sorted = X_sorted.reset_index(drop=True)\n",
        "\n",
        "        for window in self.windows:\n",
        "            if self.target_col in X.columns:\n",
        "                # Training data - compute actual rolling features\n",
        "                try:\n",
        "                    grouped = X_sorted.groupby(['Store', 'Dept'])[self.target_col]\n",
        "\n",
        "                    rolling_mean = grouped.rolling(window=window, min_periods=1).mean()\n",
        "                    rolling_std = grouped.rolling(window=window, min_periods=1).std()\n",
        "                    rolling_max = grouped.rolling(window=window, min_periods=1).max()\n",
        "                    rolling_min = grouped.rolling(window=window, min_periods=1).min()\n",
        "\n",
        "                    X_sorted[f'{self.target_col}_rolling_mean_{window}'] = rolling_mean.reset_index(0, drop=True)\n",
        "                    X_sorted[f'{self.target_col}_rolling_std_{window}'] = rolling_std.reset_index(0, drop=True)\n",
        "                    X_sorted[f'{self.target_col}_rolling_max_{window}'] = rolling_max.reset_index(0, drop=True)\n",
        "                    X_sorted[f'{self.target_col}_rolling_min_{window}'] = rolling_min.reset_index(0, drop=True)\n",
        "                except Exception as e:\n",
        "                    print(f\"Warning: Could not create rolling features for window {window}\")\n",
        "                    X_sorted[f'{self.target_col}_rolling_mean_{window}'] = self.rolling_medians.get(f'{self.target_col}_rolling_mean_{window}', 0)\n",
        "                    X_sorted[f'{self.target_col}_rolling_std_{window}'] = self.rolling_medians.get(f'{self.target_col}_rolling_std_{window}', 0)\n",
        "                    X_sorted[f'{self.target_col}_rolling_max_{window}'] = self.rolling_medians.get(f'{self.target_col}_rolling_max_{window}', 0)\n",
        "                    X_sorted[f'{self.target_col}_rolling_min_{window}'] = self.rolling_medians.get(f'{self.target_col}_rolling_min_{window}', 0)\n",
        "            else:\n",
        "                # Test data - use medians from training\n",
        "                X_sorted[f'{self.target_col}_rolling_mean_{window}'] = self.rolling_medians.get(f'{self.target_col}_rolling_mean_{window}', 0)\n",
        "                X_sorted[f'{self.target_col}_rolling_std_{window}'] = self.rolling_medians.get(f'{self.target_col}_rolling_std_{window}', 0)\n",
        "                X_sorted[f'{self.target_col}_rolling_max_{window}'] = self.rolling_medians.get(f'{self.target_col}_rolling_max_{window}', 0)\n",
        "                X_sorted[f'{self.target_col}_rolling_min_{window}'] = self.rolling_medians.get(f'{self.target_col}_rolling_min_{window}', 0)\n",
        "\n",
        "        return X_sorted\n",
        "\n",
        "class CategoricalEncoder(BaseEstimator, TransformerMixin):\n",
        "    \"\"\"Encode categorical variables\"\"\"\n",
        "\n",
        "    def __init__(self):\n",
        "        self.label_encoders = {}\n",
        "\n",
        "    def fit(self, X, y=None):\n",
        "        if 'Type' in X.columns:\n",
        "            self.label_encoders['Type'] = LabelEncoder()\n",
        "            self.label_encoders['Type'].fit(X['Type'])\n",
        "        return self\n",
        "\n",
        "    def transform(self, X):\n",
        "        X = X.copy()\n",
        "        if 'Type' in X.columns and 'Type' in self.label_encoders:\n",
        "            X['Type_encoded'] = self.label_encoders['Type'].transform(X['Type'])\n",
        "        return X\n",
        "\n",
        "class MissingValueImputer(BaseEstimator, TransformerMixin):\n",
        "    \"\"\"Fill missing values with median\"\"\"\n",
        "\n",
        "    def __init__(self):\n",
        "        self.medians = {}\n",
        "\n",
        "    def fit(self, X, y=None):\n",
        "        numeric_columns = X.select_dtypes(include=[np.number]).columns\n",
        "        for col in numeric_columns:\n",
        "            self.medians[col] = X[col].median()\n",
        "        return self\n",
        "\n",
        "    def transform(self, X):\n",
        "        X = X.copy()\n",
        "        for col, median_val in self.medians.items():\n",
        "            if col in X.columns:\n",
        "                X[col] = X[col].fillna(median_val)\n",
        "        return X\n",
        "\n",
        "class FeatureSelector(BaseEstimator, TransformerMixin):\n",
        "    \"\"\"Select final features for modeling\"\"\"\n",
        "\n",
        "    def __init__(self):\n",
        "        self.feature_columns = None\n",
        "\n",
        "    def fit(self, X, y=None):\n",
        "        self.feature_columns = [col for col in X.columns\n",
        "                               if col not in ['Date', 'Weekly_Sales', 'Type', 'Id']]\n",
        "        return self\n",
        "\n",
        "    def transform(self, X):\n",
        "        missing_cols = set(self.feature_columns) - set(X.columns)\n",
        "        if missing_cols:\n",
        "            for col in missing_cols:\n",
        "                X[col] = 0\n",
        "        return X[self.feature_columns]\n",
        "\n",
        "def load_and_explore_data():\n",
        "    \"\"\"Load all datasets and perform initial exploration\"\"\"\n",
        "\n",
        "    train_df = pd.read_csv(\"/content/train.csv\")\n",
        "    features_df = pd.read_csv(\"/content/features.csv\")\n",
        "    stores_df = pd.read_csv(\"/content/stores.csv\")\n",
        "    test_df = pd.read_csv(\"/content/test.csv\")\n",
        "\n",
        "    print(\"Dataset shapes:\")\n",
        "    print(f\"Train: {train_df.shape}\")\n",
        "    print(f\"Features: {features_df.shape}\")\n",
        "    print(f\"Stores: {stores_df.shape}\")\n",
        "    print(f\"Test: {test_df.shape}\")\n",
        "\n",
        "    return train_df, features_df, stores_df, test_df\n",
        "\n",
        "def create_preprocessing_pipeline(features_df, stores_df):\n",
        "    \"\"\"Create the complete preprocessing pipeline\"\"\"\n",
        "\n",
        "    pipeline = Pipeline([\n",
        "        ('merger', DataMerger(features_df, stores_df)),\n",
        "        ('date_features', DateFeatureCreator()),\n",
        "        ('lag_features', LagFeatureCreator()),\n",
        "        ('rolling_features', RollingFeatureCreator()),\n",
        "        ('categorical_encoder', CategoricalEncoder()),\n",
        "        ('imputer', MissingValueImputer()),\n",
        "        ('feature_selector', FeatureSelector())\n",
        "    ])\n",
        "\n",
        "    return pipeline\n",
        "\n",
        "def hyperparameter_tuning(train_df, features_df, stores_df):\n",
        "    \"\"\"Perform hyperparameter tuning with pipeline\"\"\"\n",
        "\n",
        "    run = wandb.init(project=\"walmart-forecasting\",\n",
        "                     job_type=\"hyperparameter_tuning\",\n",
        "                     name=\"XGBoost_hyperparameter_tuning\")\n",
        "\n",
        "    try:\n",
        "        # Create and fit preprocessing pipeline\n",
        "        print(\"Creating preprocessing pipeline...\")\n",
        "        preprocessing_pipeline = create_preprocessing_pipeline(features_df, stores_df)\n",
        "\n",
        "        print(\"Fitting preprocessing pipeline...\")\n",
        "        train_processed = preprocessing_pipeline.fit_transform(train_df)\n",
        "\n",
        "        print(f\"Processed data shape: {train_processed.shape}\")\n",
        "\n",
        "        y = train_df['Weekly_Sales']\n",
        "        mask = ~(train_processed.isnull().any(axis=1) | y.isnull())\n",
        "        X_clean = train_processed[mask]\n",
        "        y_clean = y[mask]\n",
        "\n",
        "        print(f\"Clean data shape: {X_clean.shape}\")\n",
        "\n",
        "        # Parameter combinations\n",
        "        param_combinations = [\n",
        "            {'max_depth': 4, 'learning_rate': 0.05, 'n_estimators': 500, 'subsample': 0.8, 'colsample_bytree': 0.8},\n",
        "            {'max_depth': 6, 'learning_rate': 0.1, 'n_estimators': 300, 'subsample': 0.8, 'colsample_bytree': 0.8},\n",
        "            {'max_depth': 8, 'learning_rate': 0.15, 'n_estimators': 200, 'subsample': 0.9, 'colsample_bytree': 0.9},\n",
        "        ]\n",
        "\n",
        "        best_score = float('inf')\n",
        "        best_params = None\n",
        "\n",
        "        tscv = TimeSeriesSplit(n_splits=3)\n",
        "\n",
        "        for i, params in enumerate(param_combinations):\n",
        "            print(f\"\\nTesting parameter combination {i+1}: {params}\")\n",
        "\n",
        "            scores = []\n",
        "            for fold, (train_idx, val_idx) in enumerate(tscv.split(X_clean)):\n",
        "                X_train_fold, X_val_fold = X_clean.iloc[train_idx], X_clean.iloc[val_idx]\n",
        "                y_train_fold, y_val_fold = y_clean.iloc[train_idx], y_clean.iloc[val_idx]\n",
        "\n",
        "                model = xgb.XGBRegressor(\n",
        "                    objective='reg:squarederror',\n",
        "                    random_state=42,\n",
        "                    **params\n",
        "                )\n",
        "\n",
        "                model.fit(X_train_fold, y_train_fold)\n",
        "                val_pred = model.predict(X_val_fold)\n",
        "                rmse = np.sqrt(mean_squared_error(y_val_fold, val_pred))\n",
        "                scores.append(rmse)\n",
        "\n",
        "            avg_score = np.mean(scores)\n",
        "            print(f\"Average RMSE: {avg_score:.4f}\")\n",
        "\n",
        "            wandb.log({\n",
        "                f\"param_combo_{i+1}_rmse\": avg_score,\n",
        "                **{f\"param_{k}\": v for k, v in params.items()}\n",
        "            })\n",
        "\n",
        "            if avg_score < best_score:\n",
        "                best_score = avg_score\n",
        "                best_params = params\n",
        "\n",
        "        wandb.log({\n",
        "            \"best_rmse\": best_score,\n",
        "            \"best_params\": best_params\n",
        "        })\n",
        "\n",
        "    except Exception as e:\n",
        "        print(f\"Error in hyperparameter tuning: {str(e)}\")\n",
        "        import traceback\n",
        "        traceback.print_exc()\n",
        "        best_params = {'max_depth': 6, 'learning_rate': 0.1, 'n_estimators': 300, 'subsample': 0.8, 'colsample_bytree': 0.8}\n",
        "        best_score = 0\n",
        "\n",
        "    wandb.finish()\n",
        "\n",
        "    return best_params, best_score\n",
        "\n",
        "def train_model_with_pipeline(train_df, features_df, stores_df, best_params=None):\n",
        "    \"\"\"Train model with complete pipeline\"\"\"\n",
        "\n",
        "    run = wandb.init(project=\"walmart-forecasting\",\n",
        "                     job_type=\"training\",\n",
        "                     name=\"XGBoost_pipeline_training\")\n",
        "\n",
        "    try:\n",
        "        # Create preprocessing pipeline\n",
        "        preprocessing_pipeline = create_preprocessing_pipeline(features_df, stores_df)\n",
        "\n",
        "        print(\"Fitting preprocessing pipeline...\")\n",
        "        train_processed = preprocessing_pipeline.fit_transform(train_df)\n",
        "\n",
        "        print(f\"Processed training data shape: {train_processed.shape}\")\n",
        "\n",
        "        # Prepare target\n",
        "        y = train_df['Weekly_Sales']\n",
        "\n",
        "        # Remove rows with NaN\n",
        "        mask = ~(train_processed.isnull().any(axis=1) | y.isnull())\n",
        "        X_clean = train_processed[mask]\n",
        "        y_clean = y[mask]\n",
        "\n",
        "        print(f\"Clean data shape: {X_clean.shape}\")\n",
        "\n",
        "        # Use best params if available\n",
        "        if best_params is None:\n",
        "            best_params = {\n",
        "                'max_depth': 6,\n",
        "                'learning_rate': 0.1,\n",
        "                'n_estimators': 500,\n",
        "                'subsample': 0.8,\n",
        "                'colsample_bytree': 0.8\n",
        "            }\n",
        "\n",
        "        # Train final model\n",
        "        print(\"Training final model...\")\n",
        "        final_model = xgb.XGBRegressor(\n",
        "            objective='reg:squarederror',\n",
        "            random_state=42,\n",
        "            **best_params\n",
        "        )\n",
        "\n",
        "        final_model.fit(X_clean, y_clean)\n",
        "\n",
        "        # Create complete pipeline\n",
        "        complete_pipeline = Pipeline([\n",
        "            ('preprocessing', preprocessing_pipeline),\n",
        "            ('model', final_model)\n",
        "        ])\n",
        "\n",
        "        # Save pipeline\n",
        "        joblib.dump(complete_pipeline, '/content/walmart_pipeline.pkl')\n",
        "\n",
        "        # Save as wandb artifact\n",
        "        artifact = wandb.Artifact('walmart-xgboost-pipeline', type='model')\n",
        "        artifact.add_file('/content/walmart_pipeline.pkl')\n",
        "\n",
        "        artifact.metadata = {\n",
        "            \"model_type\": \"XGBoost\",\n",
        "            \"n_features\": int(X_clean.shape[1]),\n",
        "            \"n_samples\": int(X_clean.shape[0]),\n",
        "            \"best_params\": best_params\n",
        "        }\n",
        "\n",
        "        wandb.log_artifact(artifact)\n",
        "\n",
        "        print(\"Pipeline saved successfully!\")\n",
        "\n",
        "    except Exception as e:\n",
        "        print(f\"Error in training: {str(e)}\")\n",
        "        import traceback\n",
        "        traceback.print_exc()\n",
        "        complete_pipeline = None\n",
        "\n",
        "    wandb.finish()\n",
        "\n",
        "    return complete_pipeline\n",
        "\n",
        "# Main execution\n",
        "if __name__ == \"__main__\":\n",
        "    print(\"Starting Walmart Sales Forecasting with XGBoost...\")\n",
        "\n",
        "    # Load data\n",
        "    train_df, features_df, stores_df, test_df = load_and_explore_data()\n",
        "\n",
        "    # Hyperparameter tuning\n",
        "    print(\"\\nPerforming hyperparameter tuning...\")\n",
        "    best_params, best_score = hyperparameter_tuning(train_df, features_df, stores_df)\n",
        "    print(f\"Best parameters: {best_params}\")\n",
        "\n",
        "    # Train final model\n",
        "    print(\"\\nTraining final model with pipeline...\")\n",
        "    complete_pipeline = train_model_with_pipeline(train_df, features_df, stores_df, best_params)\n",
        "\n",
        "    if complete_pipeline is not None:\n",
        "        print(\"\\n✅ Training completed successfully!\")\n",
        "        print(\"Pipeline saved to wandb artifacts!\")\n",
        "    else:\n",
        "        print(\"\\n❌ Training failed!\")"
      ]
    }
  ],
  "metadata": {
    "kernelspec": {
      "display_name": "Python 3",
      "language": "python",
      "name": "python3"
    },
    "language_info": {
      "codemirror_mode": {
        "name": "ipython",
        "version": 2
      },
      "file_extension": ".py",
      "mimetype": "text/x-python",
      "name": "python",
      "nbconvert_exporter": "python",
      "pygments_lexer": "ipython2",
      "version": "2.7.6"
    },
    "colab": {
      "provenance": [],
      "toc_visible": true
    }
  },
  "nbformat": 4,
  "nbformat_minor": 5
}