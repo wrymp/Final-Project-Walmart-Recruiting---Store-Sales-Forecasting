{
  "cells": [
    {
      "cell_type": "code",
      "source": [
        "!pip install kaggle wandb onnx -Uq\n",
        "from google.colab import drive\n",
        "drive.mount('/content/drive')"
      ],
      "metadata": {
        "colab": {
          "base_uri": "https://localhost:8080/"
        },
        "id": "0xc_xtTn6ECN",
        "outputId": "03f66287-1f15-4681-c464-ff5f5561061e"
      },
      "id": "0xc_xtTn6ECN",
      "execution_count": 80,
      "outputs": [
        {
          "output_type": "stream",
          "name": "stdout",
          "text": [
            "Drive already mounted at /content/drive; to attempt to forcibly remount, call drive.mount(\"/content/drive\", force_remount=True).\n"
          ]
        }
      ]
    },
    {
      "cell_type": "code",
      "source": [
        "! mkdir ~/.kaggle"
      ],
      "metadata": {
        "colab": {
          "base_uri": "https://localhost:8080/"
        },
        "id": "3Q92W4PQ6EaA",
        "outputId": "e7c94926-e7cb-47f2-f645-5866ea6996e4"
      },
      "id": "3Q92W4PQ6EaA",
      "execution_count": 81,
      "outputs": [
        {
          "output_type": "stream",
          "name": "stdout",
          "text": [
            "mkdir: cannot create directory ‘/root/.kaggle’: File exists\n"
          ]
        }
      ]
    },
    {
      "cell_type": "code",
      "source": [
        "!cp /content/drive/MyDrive/Kaggle_credentials/kaggle.json ~/.kaggle/kaggle.json"
      ],
      "metadata": {
        "id": "cDQaBGLX6FfU"
      },
      "id": "cDQaBGLX6FfU",
      "execution_count": 82,
      "outputs": []
    },
    {
      "cell_type": "code",
      "source": [
        "! chmod 600 ~/.kaggle/kaggle.json"
      ],
      "metadata": {
        "id": "HkcOB55i6G8d"
      },
      "id": "HkcOB55i6G8d",
      "execution_count": 83,
      "outputs": []
    },
    {
      "cell_type": "code",
      "source": [
        "# ! kaggle competitions download -c walmart-recruiting-store-sales-forecasting"
      ],
      "metadata": {
        "id": "MPwqMv2z6H6S"
      },
      "id": "MPwqMv2z6H6S",
      "execution_count": 84,
      "outputs": []
    },
    {
      "cell_type": "code",
      "source": [
        "# ! unzip /content/walmart-recruiting-store-sales-forecasting.zip\n",
        "# ! unzip /content/train.csv.zip\n",
        "# ! unzip /content/test.csv.zip\n",
        "# ! unzip /content/features.csv.zip\n",
        "# ! unzip /content/sampleSubmission.csv.zip"
      ],
      "metadata": {
        "id": "jQr6E5zG6KBU"
      },
      "id": "jQr6E5zG6KBU",
      "execution_count": 85,
      "outputs": []
    },
    {
      "cell_type": "code",
      "source": [
        "!pip install wandb -qU"
      ],
      "metadata": {
        "id": "myvAj7pC7CyH"
      },
      "id": "myvAj7pC7CyH",
      "execution_count": 86,
      "outputs": []
    },
    {
      "cell_type": "code",
      "source": [
        "import wandb\n",
        "import random\n",
        "import math"
      ],
      "metadata": {
        "id": "c5Vm5Z5I7DRW"
      },
      "id": "c5Vm5Z5I7DRW",
      "execution_count": 87,
      "outputs": []
    },
    {
      "cell_type": "code",
      "source": [
        "wandb.login()"
      ],
      "metadata": {
        "colab": {
          "base_uri": "https://localhost:8080/"
        },
        "id": "mR9ELoN67Ef_",
        "outputId": "c386af58-24a1-4286-ce60-6403fc97491c"
      },
      "id": "mR9ELoN67Ef_",
      "execution_count": 88,
      "outputs": [
        {
          "output_type": "execute_result",
          "data": {
            "text/plain": [
              "True"
            ]
          },
          "metadata": {},
          "execution_count": 88
        }
      ]
    },
    {
      "cell_type": "code",
      "execution_count": 89,
      "id": "initial_id",
      "metadata": {
        "collapsed": true,
        "id": "initial_id"
      },
      "outputs": [],
      "source": [
        "import pandas as pd\n",
        "import numpy as np\n",
        "import wandb\n",
        "import xgboost as xgb\n",
        "from sklearn.model_selection import TimeSeriesSplit, cross_val_score\n",
        "from sklearn.metrics import mean_absolute_error, mean_squared_error\n",
        "from sklearn.preprocessing import LabelEncoder\n",
        "from sklearn.pipeline import Pipeline\n",
        "from sklearn.base import BaseEstimator, TransformerMixin\n",
        "import matplotlib.pyplot as plt\n",
        "import seaborn as sns\n",
        "from datetime import datetime, timedelta\n",
        "import pickle\n",
        "import joblib\n",
        "import warnings\n",
        "warnings.filterwarnings('ignore')\n",
        "\n",
        "plt.style.use('default')\n",
        "sns.set_palette(\"husl\")"
      ]
    },
    {
      "cell_type": "markdown",
      "source": [
        "# DATA EXPLORATION"
      ],
      "metadata": {
        "id": "IOnTObXcLdmJ"
      },
      "id": "IOnTObXcLdmJ"
    },
    {
      "cell_type": "code",
      "source": [
        "# Initialize wandb run for data exploration\n",
        "wandb.init(project=\"walmart-sales-forecasting\", name=\"XGBoost_Data_Exploration\", tags=[\"exploration\", \"xgboost\"])\n",
        "\n",
        "print(\"=== WALMART SALES FORECASTING - DATA EXPLORATION ===\\n\")\n",
        "\n",
        "# Load all datasets\n",
        "print(\"Loading datasets...\")\n",
        "train = pd.read_csv(\"/content/train.csv\")\n",
        "features = pd.read_csv(\"/content/features.csv\")\n",
        "stores = pd.read_csv(\"/content/stores.csv\")\n",
        "test = pd.read_csv(\"/content/test.csv\")\n",
        "sample_submission = pd.read_csv(\"/content/sampleSubmission.csv\")\n",
        "\n",
        "print(\"Dataset shapes:\")\n",
        "print(f\"Train: {train.shape}\")\n",
        "print(f\"Features: {features.shape}\")\n",
        "print(f\"Stores: {stores.shape}\")\n",
        "print(f\"Test: {test.shape}\")\n",
        "print(f\"Sample Submission: {sample_submission.shape}\")\n",
        "\n",
        "# Log basic dataset info\n",
        "wandb.log({\n",
        "    \"train_rows\": train.shape[0],\n",
        "    \"train_cols\": train.shape[1],\n",
        "    \"features_rows\": features.shape[0],\n",
        "    \"features_cols\": features.shape[1],\n",
        "    \"stores_count\": stores.shape[0],\n",
        "    \"test_rows\": test.shape[0]\n",
        "})"
      ],
      "metadata": {
        "colab": {
          "base_uri": "https://localhost:8080/",
          "height": 260
        },
        "id": "54PZZRYuLhju",
        "outputId": "f2217790-692a-46b6-ccb8-662d5499d8d6"
      },
      "id": "54PZZRYuLhju",
      "execution_count": 90,
      "outputs": [
        {
          "output_type": "display_data",
          "data": {
            "text/plain": [
              "<IPython.core.display.HTML object>"
            ],
            "text/html": [
              "Tracking run with wandb version 0.21.0"
            ]
          },
          "metadata": {}
        },
        {
          "output_type": "display_data",
          "data": {
            "text/plain": [
              "<IPython.core.display.HTML object>"
            ],
            "text/html": [
              "Run data is saved locally in <code>/content/wandb/run-20250704_163409-pub7ixps</code>"
            ]
          },
          "metadata": {}
        },
        {
          "output_type": "display_data",
          "data": {
            "text/plain": [
              "<IPython.core.display.HTML object>"
            ],
            "text/html": [
              "Syncing run <strong><a href='https://wandb.ai/dshan21-free-university-of-tbilisi-/walmart-sales-forecasting/runs/pub7ixps' target=\"_blank\">XGBoost_Data_Exploration</a></strong> to <a href='https://wandb.ai/dshan21-free-university-of-tbilisi-/walmart-sales-forecasting' target=\"_blank\">Weights & Biases</a> (<a href='https://wandb.me/developer-guide' target=\"_blank\">docs</a>)<br>"
            ]
          },
          "metadata": {}
        },
        {
          "output_type": "display_data",
          "data": {
            "text/plain": [
              "<IPython.core.display.HTML object>"
            ],
            "text/html": [
              " View project at <a href='https://wandb.ai/dshan21-free-university-of-tbilisi-/walmart-sales-forecasting' target=\"_blank\">https://wandb.ai/dshan21-free-university-of-tbilisi-/walmart-sales-forecasting</a>"
            ]
          },
          "metadata": {}
        },
        {
          "output_type": "display_data",
          "data": {
            "text/plain": [
              "<IPython.core.display.HTML object>"
            ],
            "text/html": [
              " View run at <a href='https://wandb.ai/dshan21-free-university-of-tbilisi-/walmart-sales-forecasting/runs/pub7ixps' target=\"_blank\">https://wandb.ai/dshan21-free-university-of-tbilisi-/walmart-sales-forecasting/runs/pub7ixps</a>"
            ]
          },
          "metadata": {}
        },
        {
          "output_type": "stream",
          "name": "stdout",
          "text": [
            "=== WALMART SALES FORECASTING - DATA EXPLORATION ===\n",
            "\n",
            "Loading datasets...\n",
            "Dataset shapes:\n",
            "Train: (421570, 5)\n",
            "Features: (8190, 12)\n",
            "Stores: (45, 3)\n",
            "Test: (115064, 4)\n",
            "Sample Submission: (115064, 2)\n"
          ]
        }
      ]
    },
    {
      "cell_type": "markdown",
      "source": [
        "# FEATURE ENGINEERING"
      ],
      "metadata": {
        "id": "vZJ2BOB0LnG_"
      },
      "id": "vZJ2BOB0LnG_"
    },
    {
      "cell_type": "code",
      "source": [
        "# Explore individual datasets\n",
        "print(\"\\n=== TRAIN DATASET ===\")\n",
        "print(\"Columns:\", train.columns.tolist())\n",
        "print(\"\\nFirst 5 rows:\")\n",
        "print(train.head())\n",
        "print(\"\\nBasic statistics:\")\n",
        "print(train.describe())\n",
        "print(f\"\\nMissing values:\\n{train.isnull().sum()}\")\n",
        "\n",
        "print(\"\\n=== FEATURES DATASET ===\")\n",
        "print(\"Columns:\", features.columns.tolist())\n",
        "print(f\"\\nMissing values:\\n{features.isnull().sum()}\")\n",
        "print(\"\\nFeatures data sample:\")\n",
        "print(features.head())\n",
        "\n",
        "print(\"\\n=== STORES DATASET ===\")\n",
        "print(\"Columns:\", stores.columns.tolist())\n",
        "print(f\"\\nStore types: {stores['Type'].value_counts().to_dict()}\")\n",
        "print(f\"Store sizes range: {stores['Size'].min()} - {stores['Size'].max()}\")\n",
        "print(stores.head())"
      ],
      "metadata": {
        "colab": {
          "base_uri": "https://localhost:8080/"
        },
        "id": "Z23MaHPlLkkf",
        "outputId": "4436a2da-ed88-45ec-de90-cb7d3fb40c6e"
      },
      "id": "Z23MaHPlLkkf",
      "execution_count": 91,
      "outputs": [
        {
          "output_type": "stream",
          "name": "stdout",
          "text": [
            "\n",
            "=== TRAIN DATASET ===\n",
            "Columns: ['Store', 'Dept', 'Date', 'Weekly_Sales', 'IsHoliday']\n",
            "\n",
            "First 5 rows:\n",
            "   Store  Dept        Date  Weekly_Sales  IsHoliday\n",
            "0      1     1  2010-02-05      24924.50      False\n",
            "1      1     1  2010-02-12      46039.49       True\n",
            "2      1     1  2010-02-19      41595.55      False\n",
            "3      1     1  2010-02-26      19403.54      False\n",
            "4      1     1  2010-03-05      21827.90      False\n",
            "\n",
            "Basic statistics:\n",
            "               Store           Dept   Weekly_Sales\n",
            "count  421570.000000  421570.000000  421570.000000\n",
            "mean       22.200546      44.260317   15981.258123\n",
            "std        12.785297      30.492054   22711.183519\n",
            "min         1.000000       1.000000   -4988.940000\n",
            "25%        11.000000      18.000000    2079.650000\n",
            "50%        22.000000      37.000000    7612.030000\n",
            "75%        33.000000      74.000000   20205.852500\n",
            "max        45.000000      99.000000  693099.360000\n",
            "\n",
            "Missing values:\n",
            "Store           0\n",
            "Dept            0\n",
            "Date            0\n",
            "Weekly_Sales    0\n",
            "IsHoliday       0\n",
            "dtype: int64\n",
            "\n",
            "=== FEATURES DATASET ===\n",
            "Columns: ['Store', 'Date', 'Temperature', 'Fuel_Price', 'MarkDown1', 'MarkDown2', 'MarkDown3', 'MarkDown4', 'MarkDown5', 'CPI', 'Unemployment', 'IsHoliday']\n",
            "\n",
            "Missing values:\n",
            "Store              0\n",
            "Date               0\n",
            "Temperature        0\n",
            "Fuel_Price         0\n",
            "MarkDown1       4158\n",
            "MarkDown2       5269\n",
            "MarkDown3       4577\n",
            "MarkDown4       4726\n",
            "MarkDown5       4140\n",
            "CPI              585\n",
            "Unemployment     585\n",
            "IsHoliday          0\n",
            "dtype: int64\n",
            "\n",
            "Features data sample:\n",
            "   Store        Date  Temperature  Fuel_Price  MarkDown1  MarkDown2  \\\n",
            "0      1  2010-02-05        42.31       2.572        NaN        NaN   \n",
            "1      1  2010-02-12        38.51       2.548        NaN        NaN   \n",
            "2      1  2010-02-19        39.93       2.514        NaN        NaN   \n",
            "3      1  2010-02-26        46.63       2.561        NaN        NaN   \n",
            "4      1  2010-03-05        46.50       2.625        NaN        NaN   \n",
            "\n",
            "   MarkDown3  MarkDown4  MarkDown5         CPI  Unemployment  IsHoliday  \n",
            "0        NaN        NaN        NaN  211.096358         8.106      False  \n",
            "1        NaN        NaN        NaN  211.242170         8.106       True  \n",
            "2        NaN        NaN        NaN  211.289143         8.106      False  \n",
            "3        NaN        NaN        NaN  211.319643         8.106      False  \n",
            "4        NaN        NaN        NaN  211.350143         8.106      False  \n",
            "\n",
            "=== STORES DATASET ===\n",
            "Columns: ['Store', 'Type', 'Size']\n",
            "\n",
            "Store types: {'A': 22, 'B': 17, 'C': 6}\n",
            "Store sizes range: 34875 - 219622\n",
            "   Store Type    Size\n",
            "0      1    A  151315\n",
            "1      2    A  202307\n",
            "2      3    B   37392\n",
            "3      4    A  205863\n",
            "4      5    B   34875\n"
          ]
        }
      ]
    },
    {
      "cell_type": "markdown",
      "source": [
        "# PROCESSING"
      ],
      "metadata": {
        "id": "0_pyvXVjLpKt"
      },
      "id": "0_pyvXVjLpKt"
    },
    {
      "cell_type": "code",
      "source": [
        "# Merge datasets for exploration\n",
        "print(\"\\n=== MERGING DATASETS ===\")\n",
        "data = train.merge(features, on=['Store', 'Date', 'IsHoliday'], how='left')\n",
        "data = data.merge(stores, on='Store', how='left')\n",
        "\n",
        "print(f\"Merged dataset shape: {data.shape}\")\n",
        "print(f\"Missing values after merge:\\n{data.isnull().sum()}\")\n",
        "\n",
        "# Convert date to datetime\n",
        "data['Date'] = pd.to_datetime(data['Date'])\n",
        "\n",
        "# Basic time series analysis\n",
        "print(f\"\\nDate range: {data['Date'].min()} to {data['Date'].max()}\")\n",
        "print(f\"Unique stores: {data['Store'].nunique()}\")\n",
        "print(f\"Unique departments: {data['Dept'].nunique()}\")\n",
        "print(f\"Total weeks: {data['Date'].nunique()}\")\n",
        "\n",
        "# Log exploration metrics\n",
        "wandb.log({\n",
        "    \"merged_shape_rows\": data.shape[0],\n",
        "    \"merged_shape_cols\": data.shape[1],\n",
        "    \"unique_stores\": data['Store'].nunique(),\n",
        "    \"unique_departments\": data['Dept'].nunique(),\n",
        "    \"unique_weeks\": data['Date'].nunique(),\n",
        "    \"missing_values_total\": data.isnull().sum().sum()\n",
        "})"
      ],
      "metadata": {
        "colab": {
          "base_uri": "https://localhost:8080/"
        },
        "id": "aw2te6AbLpd4",
        "outputId": "314f40d3-94ce-4aa3-c60e-e200b4fe7fa1"
      },
      "id": "aw2te6AbLpd4",
      "execution_count": 92,
      "outputs": [
        {
          "output_type": "stream",
          "name": "stdout",
          "text": [
            "\n",
            "=== MERGING DATASETS ===\n",
            "Merged dataset shape: (421570, 16)\n",
            "Missing values after merge:\n",
            "Store                0\n",
            "Dept                 0\n",
            "Date                 0\n",
            "Weekly_Sales         0\n",
            "IsHoliday            0\n",
            "Temperature          0\n",
            "Fuel_Price           0\n",
            "MarkDown1       270889\n",
            "MarkDown2       310322\n",
            "MarkDown3       284479\n",
            "MarkDown4       286603\n",
            "MarkDown5       270138\n",
            "CPI                  0\n",
            "Unemployment         0\n",
            "Type                 0\n",
            "Size                 0\n",
            "dtype: int64\n",
            "\n",
            "Date range: 2010-02-05 00:00:00 to 2012-10-26 00:00:00\n",
            "Unique stores: 45\n",
            "Unique departments: 81\n",
            "Total weeks: 143\n"
          ]
        }
      ]
    },
    {
      "cell_type": "markdown",
      "source": [
        "# SELECTION"
      ],
      "metadata": {
        "id": "t0TFm9WwLuS5"
      },
      "id": "t0TFm9WwLuS5"
    },
    {
      "cell_type": "code",
      "source": [
        "# Visualize sales distribution and patterns\n",
        "fig, axes = plt.subplots(2, 2, figsize=(15, 10))\n",
        "\n",
        "# Sales distribution\n",
        "axes[0, 0].hist(data['Weekly_Sales'], bins=50, alpha=0.7, color='skyblue')\n",
        "axes[0, 0].set_title('Distribution of Weekly Sales')\n",
        "axes[0, 0].set_xlabel('Weekly Sales')\n",
        "axes[0, 0].set_ylabel('Frequency')\n",
        "\n",
        "# Sales by store type\n",
        "store_sales = data.groupby('Type')['Weekly_Sales'].mean().reset_index()\n",
        "axes[0, 1].bar(store_sales['Type'], store_sales['Weekly_Sales'], color=['coral', 'lightgreen', 'gold'])\n",
        "axes[0, 1].set_title('Average Weekly Sales by Store Type')\n",
        "axes[0, 1].set_xlabel('Store Type')\n",
        "axes[0, 1].set_ylabel('Average Weekly Sales')\n",
        "\n",
        "# Sales over time (monthly average)\n",
        "data['Month'] = data['Date'].dt.month\n",
        "monthly_sales = data.groupby('Month')['Weekly_Sales'].mean().reset_index()\n",
        "axes[1, 0].plot(monthly_sales['Month'], monthly_sales['Weekly_Sales'], marker='o', color='purple')\n",
        "axes[1, 0].set_title('Average Sales by Month')\n",
        "axes[1, 0].set_xlabel('Month')\n",
        "axes[1, 0].set_ylabel('Average Weekly Sales')\n",
        "axes[1, 0].set_xticks(range(1, 13))\n",
        "\n",
        "# Holiday vs Non-holiday sales\n",
        "holiday_sales = data.groupby('IsHoliday')['Weekly_Sales'].mean()\n",
        "axes[1, 1].bar(['Non-Holiday', 'Holiday'], holiday_sales.values, color=['lightcoral', 'lightsalmon'])\n",
        "axes[1, 1].set_title('Average Sales: Holiday vs Non-Holiday')\n",
        "axes[1, 1].set_ylabel('Average Weekly Sales')\n",
        "\n",
        "plt.tight_layout()\n",
        "plt.savefig('data_exploration.png', dpi=300, bbox_inches='tight')\n",
        "wandb.log({\"data_exploration\": wandb.Image('data_exploration.png')})\n",
        "plt.show()"
      ],
      "metadata": {
        "colab": {
          "base_uri": "https://localhost:8080/",
          "height": 870
        },
        "id": "hltq64qULukT",
        "outputId": "1725e8eb-3163-42ec-d9fb-374014d71cd2"
      },
      "id": "hltq64qULukT",
      "execution_count": 93,
      "outputs": [
        {
          "output_type": "display_data",
          "data": {
            "text/plain": [
              "<Figure size 1500x1000 with 4 Axes>"
            ],
            "image/png": "[encoded data removed]"
          },
          "metadata": {}
        }
      ]
    },
    {
      "cell_type": "markdown",
      "source": [
        "# CROSS VALIDATION"
      ],
      "metadata": {
        "id": "0NbIOGZZLyg1"
      },
      "id": "0NbIOGZZLyg1"
    },
    {
      "cell_type": "code",
      "source": [
        "# Correlation analysis\n",
        "print(\"\\n=== CORRELATION ANALYSIS ===\")\n",
        "numeric_cols = ['Weekly_Sales', 'Temperature', 'Fuel_Price', 'CPI', 'Unemployment', 'Size']\n",
        "correlation_matrix = data[numeric_cols].corr()\n",
        "\n",
        "plt.figure(figsize=(10, 8))\n",
        "sns.heatmap(correlation_matrix, annot=True, cmap='coolwarm', center=0, square=True)\n",
        "plt.title('Correlation Matrix of Numeric Features')\n",
        "plt.tight_layout()\n",
        "plt.savefig('correlation_matrix.png', dpi=300, bbox_inches='tight')\n",
        "wandb.log({\"correlation_matrix\": wandb.Image('correlation_matrix.png')})\n",
        "plt.show()\n",
        "\n",
        "print(\"Key correlations with Weekly_Sales:\")\n",
        "sales_corr = correlation_matrix['Weekly_Sales'].sort_values(key=abs, ascending=False)\n",
        "for feature, corr in sales_corr.items():\n",
        "    if feature != 'Weekly_Sales':\n",
        "        print(f\"{feature}: {corr:.3f}\")\n",
        "\n",
        "wandb.finish()"
      ],
      "metadata": {
        "id": "9cUVo7AdLy0q",
        "colab": {
          "base_uri": "https://localhost:8080/",
          "height": 1000
        },
        "outputId": "f273da31-67bc-48ef-a4ae-4770fd3a1112"
      },
      "id": "9cUVo7AdLy0q",
      "execution_count": 94,
      "outputs": [
        {
          "output_type": "stream",
          "name": "stdout",
          "text": [
            "\n",
            "=== CORRELATION ANALYSIS ===\n"
          ]
        },
        {
          "output_type": "display_data",
          "data": {
            "text/plain": [
              "<Figure size 1000x800 with 2 Axes>"
            ],
            "image/png": "[encoded data removed]"
          },
          "metadata": {}
        },
        {
          "output_type": "stream",
          "name": "stdout",
          "text": [
            "Key correlations with Weekly_Sales:\n",
            "Size: 0.244\n",
            "Unemployment: -0.026\n",
            "CPI: -0.021\n",
            "Temperature: -0.002\n",
            "Fuel_Price: -0.000\n"
          ]
        },
        {
          "output_type": "display_data",
          "data": {
            "text/plain": [
              "<IPython.core.display.HTML object>"
            ],
            "text/html": []
          },
          "metadata": {}
        },
        {
          "output_type": "display_data",
          "data": {
            "text/plain": [
              "<IPython.core.display.HTML object>"
            ],
            "text/html": [
              "<br>    <style><br>        .wandb-row {<br>            display: flex;<br>            flex-direction: row;<br>            flex-wrap: wrap;<br>            justify-content: flex-start;<br>            width: 100%;<br>        }<br>        .wandb-col {<br>            display: flex;<br>            flex-direction: column;<br>            flex-basis: 100%;<br>            flex: 1;<br>            padding: 10px;<br>        }<br>    </style><br><div class=\"wandb-row\"><div class=\"wandb-col\"><h3>Run history:</h3><br/><table class=\"wandb\"><tr><td>features_cols</td><td>▁</td></tr><tr><td>features_rows</td><td>▁</td></tr><tr><td>merged_shape_cols</td><td>▁</td></tr><tr><td>merged_shape_rows</td><td>▁</td></tr><tr><td>missing_values_total</td><td>▁</td></tr><tr><td>stores_count</td><td>▁</td></tr><tr><td>test_rows</td><td>▁</td></tr><tr><td>train_cols</td><td>▁</td></tr><tr><td>train_rows</td><td>▁</td></tr><tr><td>unique_departments</td><td>▁</td></tr><tr><td>unique_stores</td><td>▁</td></tr><tr><td>unique_weeks</td><td>▁</td></tr></table><br/></div><div class=\"wandb-col\"><h3>Run summary:</h3><br/><table class=\"wandb\"><tr><td>features_cols</td><td>12</td></tr><tr><td>features_rows</td><td>8190</td></tr><tr><td>merged_shape_cols</td><td>16</td></tr><tr><td>merged_shape_rows</td><td>421570</td></tr><tr><td>missing_values_total</td><td>1422431</td></tr><tr><td>stores_count</td><td>45</td></tr><tr><td>test_rows</td><td>115064</td></tr><tr><td>train_cols</td><td>5</td></tr><tr><td>train_rows</td><td>421570</td></tr><tr><td>unique_departments</td><td>81</td></tr><tr><td>unique_stores</td><td>45</td></tr><tr><td>unique_weeks</td><td>143</td></tr></table><br/></div></div>"
            ]
          },
          "metadata": {}
        },
        {
          "output_type": "display_data",
          "data": {
            "text/plain": [
              "<IPython.core.display.HTML object>"
            ],
            "text/html": [
              " View run <strong style=\"color:#cdcd00\">XGBoost_Data_Exploration</strong> at: <a href='https://wandb.ai/dshan21-free-university-of-tbilisi-/walmart-sales-forecasting/runs/pub7ixps' target=\"_blank\">https://wandb.ai/dshan21-free-university-of-tbilisi-/walmart-sales-forecasting/runs/pub7ixps</a><br> View project at: <a href='https://wandb.ai/dshan21-free-university-of-tbilisi-/walmart-sales-forecasting' target=\"_blank\">https://wandb.ai/dshan21-free-university-of-tbilisi-/walmart-sales-forecasting</a><br>Synced 5 W&B file(s), 2 media file(s), 0 artifact file(s) and 0 other file(s)"
            ]
          },
          "metadata": {}
        },
        {
          "output_type": "display_data",
          "data": {
            "text/plain": [
              "<IPython.core.display.HTML object>"
            ],
            "text/html": [
              "Find logs at: <code>./wandb/run-20250704_163409-pub7ixps/logs</code>"
            ]
          },
          "metadata": {}
        }
      ]
    },
    {
      "cell_type": "markdown",
      "source": [
        "# TUNING"
      ],
      "metadata": {
        "id": "-1Ccq41QL3dp"
      },
      "id": "-1Ccq41QL3dp"
    },
    {
      "cell_type": "code",
      "source": [
        "# Initialize wandb for pipeline development\n",
        "wandb.init(project=\"walmart-sales-forecasting\", name=\"XGBoost_Pipeline_Development\", tags=[\"pipeline\", \"xgboost\"])\n",
        "\n",
        "print(\"=== DEVELOPING PREPROCESSING PIPELINE ===\\n\")\n",
        "\n",
        "class WalmartDataPreprocessor(BaseEstimator, TransformerMixin):\n",
        "    \"\"\"\n",
        "    Custom preprocessor for Walmart sales data that handles:\n",
        "    - Missing value imputation\n",
        "    - Date feature engineering\n",
        "    - Categorical encoding\n",
        "    - Time series feature creation\n",
        "    - Interaction features\n",
        "    \"\"\"\n",
        "\n",
        "    def __init__(self, create_lag_features=True, lag_periods=[1, 2, 4, 8],\n",
        "                 rolling_windows=[4, 8, 12], create_interactions=True):\n",
        "        self.create_lag_features = create_lag_features\n",
        "        self.lag_periods = lag_periods\n",
        "        self.rolling_windows = rolling_windows\n",
        "        self.create_interactions = create_interactions\n",
        "        self.label_encoders = {}\n",
        "        self.feature_means = {}\n",
        "        self.fitted = False\n",
        "\n",
        "    def fit(self, X, y=None):\n",
        "        \"\"\"Fit the preprocessor on training data\"\"\"\n",
        "        print(\"Fitting preprocessor...\")\n",
        "\n",
        "        X_copy = X.copy()\n",
        "\n",
        "        # Store means for numeric features (for missing value imputation)\n",
        "        numeric_cols = ['Temperature', 'Fuel_Price', 'CPI', 'Unemployment',\n",
        "                       'MarkDown1', 'MarkDown2', 'MarkDown3', 'MarkDown4', 'MarkDown5']\n",
        "\n",
        "        for col in numeric_cols:\n",
        "            if col in X_copy.columns:\n",
        "                self.feature_means[col] = X_copy[col].mean()\n",
        "\n",
        "        # Fit label encoders for categorical variables\n",
        "        categorical_cols = ['Type']\n",
        "        for col in categorical_cols:\n",
        "            if col in X_copy.columns:\n",
        "                self.label_encoders[col] = LabelEncoder()\n",
        "                # Handle unknown categories by adding 'Unknown'\n",
        "                unique_values = X_copy[col].fillna('Unknown').unique()\n",
        "                self.label_encoders[col].fit(unique_values)\n",
        "\n",
        "        self.fitted = True\n",
        "        print(\"Preprocessor fitted successfully!\")\n",
        "        return self\n",
        "\n",
        "    def transform(self, X):\n",
        "        \"\"\"Transform the data using fitted parameters\"\"\"\n",
        "        if not self.fitted:\n",
        "            raise ValueError(\"Preprocessor must be fitted before transform!\")\n",
        "\n",
        "        X_processed = X.copy()\n",
        "        print(f\"Transforming data with shape: {X_processed.shape}\")\n",
        "\n",
        "        # 1. Date feature engineering\n",
        "        X_processed['Date'] = pd.to_datetime(X_processed['Date'])\n",
        "        X_processed['Year'] = X_processed['Date'].dt.year\n",
        "        X_processed['Month'] = X_processed['Date'].dt.month\n",
        "        X_processed['Week'] = X_processed['Date'].dt.isocalendar().week\n",
        "        X_processed['DayOfYear'] = X_processed['Date'].dt.dayofyear\n",
        "        X_processed['Quarter'] = X_processed['Date'].dt.quarter\n",
        "        X_processed['WeekOfMonth'] = X_processed['Date'].dt.day // 7 + 1\n",
        "\n",
        "        # 2. Cyclical features (important for time series)\n",
        "        X_processed['Month_sin'] = np.sin(2 * np.pi * X_processed['Month'] / 12)\n",
        "        X_processed['Month_cos'] = np.cos(2 * np.pi * X_processed['Month'] / 12)\n",
        "        X_processed['Week_sin'] = np.sin(2 * np.pi * X_processed['Week'] / 52)\n",
        "        X_processed['Week_cos'] = np.cos(2 * np.pi * X_processed['Week'] / 52)\n",
        "        X_processed['Quarter_sin'] = np.sin(2 * np.pi * X_processed['Quarter'] / 4)\n",
        "        X_processed['Quarter_cos'] = np.cos(2 * np.pi * X_processed['Quarter'] / 4)\n",
        "\n",
        "        # 3. Missing value imputation\n",
        "        numeric_cols = ['Temperature', 'Fuel_Price', 'CPI', 'Unemployment',\n",
        "                       'MarkDown1', 'MarkDown2', 'MarkDown3', 'MarkDown4', 'MarkDown5']\n",
        "\n",
        "        for col in numeric_cols:\n",
        "            if col in X_processed.columns:\n",
        "                mean_val = self.feature_means.get(col, 0)\n",
        "                X_processed[col] = X_processed[col].fillna(mean_val)\n",
        "\n",
        "        # 4. Categorical encoding\n",
        "        for col, encoder in self.label_encoders.items():\n",
        "            if col in X_processed.columns:\n",
        "                # Handle unseen categories\n",
        "                X_processed[col] = X_processed[col].fillna('Unknown')\n",
        "                # Transform, handling unknown values\n",
        "                known_categories = encoder.classes_\n",
        "                X_processed[col] = X_processed[col].apply(\n",
        "                    lambda x: x if x in known_categories else 'Unknown'\n",
        "                )\n",
        "                X_processed[col] = encoder.transform(X_processed[col])\n",
        "\n",
        "        # 5. Interaction features\n",
        "        if self.create_interactions:\n",
        "            # Temperature-Holiday interaction\n",
        "            if 'Temperature' in X_processed.columns and 'IsHoliday' in X_processed.columns:\n",
        "                X_processed['Temp_Holiday_Interaction'] = X_processed['Temperature'] * X_processed['IsHoliday']\n",
        "\n",
        "            # Store size interactions\n",
        "            if 'Size' in X_processed.columns:\n",
        "                if 'CPI' in X_processed.columns:\n",
        "                    X_processed['Size_CPI_Interaction'] = X_processed['Size'] * X_processed['CPI']\n",
        "                if 'Unemployment' in X_processed.columns:\n",
        "                    X_processed['Size_Unemployment_Interaction'] = X_processed['Size'] * X_processed['Unemployment']\n",
        "\n",
        "            # Fuel price interactions\n",
        "            if 'Fuel_Price' in X_processed.columns and 'IsHoliday' in X_processed.columns:\n",
        "                X_processed['FuelPrice_Holiday_Interaction'] = X_processed['Fuel_Price'] * X_processed['IsHoliday']\n",
        "\n",
        "        # 6. Create markdown features\n",
        "        markdown_cols = ['MarkDown1', 'MarkDown2', 'MarkDown3', 'MarkDown4', 'MarkDown5']\n",
        "        existing_markdowns = [col for col in markdown_cols if col in X_processed.columns]\n",
        "\n",
        "        if existing_markdowns:\n",
        "            # Total markdowns\n",
        "            X_processed['Total_MarkDown'] = X_processed[existing_markdowns].sum(axis=1)\n",
        "            # Number of active markdowns\n",
        "            X_processed['Active_MarkDowns'] = (X_processed[existing_markdowns] > 0).sum(axis=1)\n",
        "            # Maximum markdown\n",
        "            X_processed['Max_MarkDown'] = X_processed[existing_markdowns].max(axis=1)\n",
        "\n",
        "        # 7. Boolean feature engineering\n",
        "        X_processed['IsHoliday_int'] = X_processed['IsHoliday'].astype(int)\n",
        "\n",
        "        # Remove original date column\n",
        "        if 'Date' in X_processed.columns:\n",
        "            X_processed = X_processed.drop('Date', axis=1)\n",
        "\n",
        "        # Ensure all features are numeric\n",
        "        for col in X_processed.columns:\n",
        "            if X_processed[col].dtype == 'object':\n",
        "                print(f\"Warning: Column {col} is still object type\")\n",
        "\n",
        "        print(f\"Processed data shape: {X_processed.shape}\")\n",
        "        return X_processed\n",
        "\n",
        "# Test the preprocessor\n",
        "print(\"Testing preprocessor with sample data...\")\n",
        "\n",
        "# Use a subset of data for testing\n",
        "sample_data = data.head(1000).copy()\n",
        "X_sample = sample_data.drop('Weekly_Sales', axis=1)\n",
        "y_sample = sample_data['Weekly_Sales']\n",
        "\n",
        "# Initialize and fit preprocessor\n",
        "preprocessor = WalmartDataPreprocessor()\n",
        "preprocessor.fit(X_sample)\n",
        "\n",
        "# Transform data\n",
        "X_transformed = preprocessor.transform(X_sample)\n",
        "\n",
        "print(f\"Original features: {X_sample.shape[1]}\")\n",
        "print(f\"Transformed features: {X_transformed.shape[1]}\")\n",
        "print(f\"New feature names: {list(X_transformed.columns)}\")\n",
        "\n",
        "# Log preprocessing results\n",
        "wandb.log({\n",
        "    \"original_features\": X_sample.shape[1],\n",
        "    \"transformed_features\": X_transformed.shape[1],\n",
        "    \"feature_engineering_ratio\": X_transformed.shape[1] / X_sample.shape[1]\n",
        "})\n",
        "\n",
        "print(\"\\nPreprocessor created successfully!\")\n",
        "wandb.finish()"
      ],
      "metadata": {
        "colab": {
          "base_uri": "https://localhost:8080/",
          "height": 719
        },
        "id": "3YdCA0K1L3vt",
        "outputId": "80da7c10-a196-4d28-b6e2-b89e68935711"
      },
      "id": "3YdCA0K1L3vt",
      "execution_count": 95,
      "outputs": [
        {
          "output_type": "display_data",
          "data": {
            "text/plain": [
              "<IPython.core.display.HTML object>"
            ],
            "text/html": [
              "Tracking run with wandb version 0.21.0"
            ]
          },
          "metadata": {}
        },
        {
          "output_type": "display_data",
          "data": {
            "text/plain": [
              "<IPython.core.display.HTML object>"
            ],
            "text/html": [
              "Run data is saved locally in <code>/content/wandb/run-20250704_163416-esk993sm</code>"
            ]
          },
          "metadata": {}
        },
        {
          "output_type": "display_data",
          "data": {
            "text/plain": [
              "<IPython.core.display.HTML object>"
            ],
            "text/html": [
              "Syncing run <strong><a href='https://wandb.ai/dshan21-free-university-of-tbilisi-/walmart-sales-forecasting/runs/esk993sm' target=\"_blank\">XGBoost_Pipeline_Development</a></strong> to <a href='https://wandb.ai/dshan21-free-university-of-tbilisi-/walmart-sales-forecasting' target=\"_blank\">Weights & Biases</a> (<a href='https://wandb.me/developer-guide' target=\"_blank\">docs</a>)<br>"
            ]
          },
          "metadata": {}
        },
        {
          "output_type": "display_data",
          "data": {
            "text/plain": [
              "<IPython.core.display.HTML object>"
            ],
            "text/html": [
              " View project at <a href='https://wandb.ai/dshan21-free-university-of-tbilisi-/walmart-sales-forecasting' target=\"_blank\">https://wandb.ai/dshan21-free-university-of-tbilisi-/walmart-sales-forecasting</a>"
            ]
          },
          "metadata": {}
        },
        {
          "output_type": "display_data",
          "data": {
            "text/plain": [
              "<IPython.core.display.HTML object>"
            ],
            "text/html": [
              " View run at <a href='https://wandb.ai/dshan21-free-university-of-tbilisi-/walmart-sales-forecasting/runs/esk993sm' target=\"_blank\">https://wandb.ai/dshan21-free-university-of-tbilisi-/walmart-sales-forecasting/runs/esk993sm</a>"
            ]
          },
          "metadata": {}
        },
        {
          "output_type": "stream",
          "name": "stdout",
          "text": [
            "=== DEVELOPING PREPROCESSING PIPELINE ===\n",
            "\n",
            "Testing preprocessor with sample data...\n",
            "Fitting preprocessor...\n",
            "Preprocessor fitted successfully!\n",
            "Transforming data with shape: (1000, 16)\n",
            "Processed data shape: (1000, 34)\n",
            "Original features: 16\n",
            "Transformed features: 34\n",
            "New feature names: ['Store', 'Dept', 'IsHoliday', 'Temperature', 'Fuel_Price', 'MarkDown1', 'MarkDown2', 'MarkDown3', 'MarkDown4', 'MarkDown5', 'CPI', 'Unemployment', 'Type', 'Size', 'Month', 'Year', 'Week', 'DayOfYear', 'Quarter', 'WeekOfMonth', 'Month_sin', 'Month_cos', 'Week_sin', 'Week_cos', 'Quarter_sin', 'Quarter_cos', 'Temp_Holiday_Interaction', 'Size_CPI_Interaction', 'Size_Unemployment_Interaction', 'FuelPrice_Holiday_Interaction', 'Total_MarkDown', 'Active_MarkDowns', 'Max_MarkDown', 'IsHoliday_int']\n",
            "\n",
            "Preprocessor created successfully!\n"
          ]
        },
        {
          "output_type": "display_data",
          "data": {
            "text/plain": [
              "<IPython.core.display.HTML object>"
            ],
            "text/html": []
          },
          "metadata": {}
        },
        {
          "output_type": "display_data",
          "data": {
            "text/plain": [
              "<IPython.core.display.HTML object>"
            ],
            "text/html": [
              "<br>    <style><br>        .wandb-row {<br>            display: flex;<br>            flex-direction: row;<br>            flex-wrap: wrap;<br>            justify-content: flex-start;<br>            width: 100%;<br>        }<br>        .wandb-col {<br>            display: flex;<br>            flex-direction: column;<br>            flex-basis: 100%;<br>            flex: 1;<br>            padding: 10px;<br>        }<br>    </style><br><div class=\"wandb-row\"><div class=\"wandb-col\"><h3>Run history:</h3><br/><table class=\"wandb\"><tr><td>feature_engineering_ratio</td><td>▁</td></tr><tr><td>original_features</td><td>▁</td></tr><tr><td>transformed_features</td><td>▁</td></tr></table><br/></div><div class=\"wandb-col\"><h3>Run summary:</h3><br/><table class=\"wandb\"><tr><td>feature_engineering_ratio</td><td>2.125</td></tr><tr><td>original_features</td><td>16</td></tr><tr><td>transformed_features</td><td>34</td></tr></table><br/></div></div>"
            ]
          },
          "metadata": {}
        },
        {
          "output_type": "display_data",
          "data": {
            "text/plain": [
              "<IPython.core.display.HTML object>"
            ],
            "text/html": [
              " View run <strong style=\"color:#cdcd00\">XGBoost_Pipeline_Development</strong> at: <a href='https://wandb.ai/dshan21-free-university-of-tbilisi-/walmart-sales-forecasting/runs/esk993sm' target=\"_blank\">https://wandb.ai/dshan21-free-university-of-tbilisi-/walmart-sales-forecasting/runs/esk993sm</a><br> View project at: <a href='https://wandb.ai/dshan21-free-university-of-tbilisi-/walmart-sales-forecasting' target=\"_blank\">https://wandb.ai/dshan21-free-university-of-tbilisi-/walmart-sales-forecasting</a><br>Synced 5 W&B file(s), 0 media file(s), 0 artifact file(s) and 0 other file(s)"
            ]
          },
          "metadata": {}
        },
        {
          "output_type": "display_data",
          "data": {
            "text/plain": [
              "<IPython.core.display.HTML object>"
            ],
            "text/html": [
              "Find logs at: <code>./wandb/run-20250704_163416-esk993sm/logs</code>"
            ]
          },
          "metadata": {}
        }
      ]
    },
    {
      "cell_type": "markdown",
      "source": [
        "# TRAINING"
      ],
      "metadata": {
        "id": "PqRn7XPfL7iw"
      },
      "id": "PqRn7XPfL7iw"
    },
    {
      "cell_type": "code",
      "source": [
        "# Initialize wandb for preprocessing and training\n",
        "wandb.init(project=\"walmart-sales-forecasting\", name=\"XGBoost_Preprocessing_Training\", tags=[\"preprocessing\", \"training\", \"xgboost\"])\n",
        "\n",
        "print(\"=== DATA PREPROCESSING AND INITIAL TRAINING ===\\n\")\n",
        "\n",
        "# Load and prepare full dataset\n",
        "print(\"Loading and preparing full dataset...\")\n",
        "data = train.merge(features, on=['Store', 'Date', 'IsHoliday'], how='left')\n",
        "data = data.merge(stores, on='Store', how='left')\n",
        "\n",
        "print(f\"Full dataset shape: {data.shape}\")\n",
        "\n",
        "# Remove rows with missing target\n",
        "initial_rows = data.shape[0]\n",
        "data = data.dropna(subset=['Weekly_Sales'])\n",
        "final_rows = data.shape[0]\n",
        "\n",
        "print(f\"Removed {initial_rows - final_rows} rows with missing target\")\n",
        "print(f\"Final dataset shape: {data.shape}\")\n",
        "\n",
        "# Sort by store, department, and date for time series\n",
        "data = data.sort_values(['Store', 'Dept', 'Date']).reset_index(drop=True)\n",
        "\n",
        "# Prepare features and target\n",
        "X = data.drop('Weekly_Sales', axis=1)\n",
        "y = data['Weekly_Sales']\n",
        "\n",
        "print(f\"Features shape: {X.shape}\")\n",
        "print(f\"Target shape: {y.shape}\")\n",
        "print(f\"Target statistics:\")\n",
        "print(f\"  Mean: {y.mean():.2f}\")\n",
        "print(f\"  Std: {y.std():.2f}\")\n",
        "print(f\"  Min: {y.min():.2f}\")\n",
        "print(f\"  Max: {y.max():.2f}\")\n",
        "\n",
        "# Log data statistics\n",
        "wandb.log({\n",
        "    \"dataset_rows_final\": final_rows,\n",
        "    \"features_count\": X.shape[1],\n",
        "    \"target_mean\": y.mean(),\n",
        "    \"target_std\": y.std(),\n",
        "    \"target_min\": y.min(),\n",
        "    \"target_max\": y.max(),\n",
        "    \"rows_removed\": initial_rows - final_rows\n",
        "})"
      ],
      "metadata": {
        "colab": {
          "base_uri": "https://localhost:8080/",
          "height": 329
        },
        "id": "tEXGvCSNL73b",
        "outputId": "27d1a424-4cef-4d69-de0e-b2d8c7e30b66"
      },
      "id": "tEXGvCSNL73b",
      "execution_count": 96,
      "outputs": [
        {
          "output_type": "display_data",
          "data": {
            "text/plain": [
              "<IPython.core.display.HTML object>"
            ],
            "text/html": [
              "Tracking run with wandb version 0.21.0"
            ]
          },
          "metadata": {}
        },
        {
          "output_type": "display_data",
          "data": {
            "text/plain": [
              "<IPython.core.display.HTML object>"
            ],
            "text/html": [
              "Run data is saved locally in <code>/content/wandb/run-20250704_163419-203mcr0v</code>"
            ]
          },
          "metadata": {}
        },
        {
          "output_type": "display_data",
          "data": {
            "text/plain": [
              "<IPython.core.display.HTML object>"
            ],
            "text/html": [
              "Syncing run <strong><a href='https://wandb.ai/dshan21-free-university-of-tbilisi-/walmart-sales-forecasting/runs/203mcr0v' target=\"_blank\">XGBoost_Preprocessing_Training</a></strong> to <a href='https://wandb.ai/dshan21-free-university-of-tbilisi-/walmart-sales-forecasting' target=\"_blank\">Weights & Biases</a> (<a href='https://wandb.me/developer-guide' target=\"_blank\">docs</a>)<br>"
            ]
          },
          "metadata": {}
        },
        {
          "output_type": "display_data",
          "data": {
            "text/plain": [
              "<IPython.core.display.HTML object>"
            ],
            "text/html": [
              " View project at <a href='https://wandb.ai/dshan21-free-university-of-tbilisi-/walmart-sales-forecasting' target=\"_blank\">https://wandb.ai/dshan21-free-university-of-tbilisi-/walmart-sales-forecasting</a>"
            ]
          },
          "metadata": {}
        },
        {
          "output_type": "display_data",
          "data": {
            "text/plain": [
              "<IPython.core.display.HTML object>"
            ],
            "text/html": [
              " View run at <a href='https://wandb.ai/dshan21-free-university-of-tbilisi-/walmart-sales-forecasting/runs/203mcr0v' target=\"_blank\">https://wandb.ai/dshan21-free-university-of-tbilisi-/walmart-sales-forecasting/runs/203mcr0v</a>"
            ]
          },
          "metadata": {}
        },
        {
          "output_type": "stream",
          "name": "stdout",
          "text": [
            "=== DATA PREPROCESSING AND INITIAL TRAINING ===\n",
            "\n",
            "Loading and preparing full dataset...\n",
            "Full dataset shape: (421570, 16)\n",
            "Removed 0 rows with missing target\n",
            "Final dataset shape: (421570, 16)\n",
            "Features shape: (421570, 15)\n",
            "Target shape: (421570,)\n",
            "Target statistics:\n",
            "  Mean: 15981.26\n",
            "  Std: 22711.18\n",
            "  Min: -4988.94\n",
            "  Max: 693099.36\n"
          ]
        }
      ]
    },
    {
      "cell_type": "markdown",
      "source": [
        "# EVALUATION"
      ],
      "metadata": {
        "id": "X1lWPhcnMBKs"
      },
      "id": "X1lWPhcnMBKs"
    },
    {
      "cell_type": "code",
      "source": [
        "# Create and fit preprocessor\n",
        "print(\"\\nFitting preprocessor on full dataset...\")\n",
        "preprocessor = WalmartDataPreprocessor(\n",
        "    create_lag_features=True,\n",
        "    lag_periods=[1, 2, 4, 8],\n",
        "    rolling_windows=[4, 8, 12],\n",
        "    create_interactions=True\n",
        ")\n",
        "\n",
        "# Fit preprocessor\n",
        "preprocessor.fit(X)\n",
        "\n",
        "# Transform features\n",
        "print(\"Transforming features...\")\n",
        "X_processed = preprocessor.transform(X)\n",
        "\n",
        "print(f\"Processed features shape: {X_processed.shape}\")\n",
        "print(f\"Feature engineering created {X_processed.shape[1] - X.shape[1]} new features\")\n",
        "\n",
        "# Check for any remaining missing values\n",
        "missing_counts = X_processed.isnull().sum()\n",
        "if missing_counts.sum() > 0:\n",
        "    print(f\"Warning: Still have missing values:\")\n",
        "    print(missing_counts[missing_counts > 0])\n",
        "else:\n",
        "    print(\"✓ No missing values in processed data\")\n",
        "\n",
        "# Log preprocessing results\n",
        "wandb.log({\n",
        "    \"processed_features_count\": X_processed.shape[1],\n",
        "    \"new_features_created\": X_processed.shape[1] - X.shape[1],\n",
        "    \"remaining_missing_values\": missing_counts.sum()\n",
        "})"
      ],
      "metadata": {
        "colab": {
          "base_uri": "https://localhost:8080/"
        },
        "id": "WGmDKvkyMBco",
        "outputId": "073ade63-ea74-4661-a730-265804b20106"
      },
      "id": "WGmDKvkyMBco",
      "execution_count": 97,
      "outputs": [
        {
          "output_type": "stream",
          "name": "stdout",
          "text": [
            "\n",
            "Fitting preprocessor on full dataset...\n",
            "Fitting preprocessor...\n",
            "Preprocessor fitted successfully!\n",
            "Transforming features...\n",
            "Transforming data with shape: (421570, 15)\n",
            "Processed data shape: (421570, 34)\n",
            "Processed features shape: (421570, 34)\n",
            "Feature engineering created 19 new features\n",
            "✓ No missing values in processed data\n"
          ]
        }
      ]
    },
    {
      "cell_type": "markdown",
      "source": [
        "# SUMMARY"
      ],
      "metadata": {
        "id": "BN6I6TnHMFCB"
      },
      "id": "BN6I6TnHMFCB"
    },
    {
      "cell_type": "code",
      "source": [
        "# Initial model training with default parameters\n",
        "print(\"\\n=== INITIAL MODEL TRAINING ===\")\n",
        "\n",
        "# Simple train-test split for initial testing (last 20% as test)\n",
        "split_point = int(0.8 * len(X_processed))\n",
        "X_train_init = X_processed.iloc[:split_point]\n",
        "X_test_init = X_processed.iloc[split_point:]\n",
        "y_train_init = y.iloc[:split_point]\n",
        "y_test_init = y.iloc[split_point:]\n",
        "\n",
        "print(f\"Initial train set: {X_train_init.shape}\")\n",
        "print(f\"Initial test set: {X_test_init.shape}\")\n",
        "\n",
        "# Train initial XGBoost model\n",
        "initial_params = {\n",
        "    'n_estimators': 100,\n",
        "    'max_depth': 6,\n",
        "    'learning_rate': 0.1,\n",
        "    'subsample': 0.8,\n",
        "    'colsample_bytree': 0.8,\n",
        "    'objective': 'reg:squarederror',\n",
        "    'random_state': 42,\n",
        "    'n_jobs': -1\n",
        "}\n",
        "\n",
        "print(\"Training initial XGBoost model...\")\n",
        "initial_model = xgb.XGBRegressor(**initial_params)\n",
        "initial_model.fit(X_train_init, y_train_init)\n",
        "\n",
        "# Make predictions\n",
        "y_pred_train = initial_model.predict(X_train_init)\n",
        "y_pred_test = initial_model.predict(X_test_init)\n",
        "\n",
        "# Calculate metrics\n",
        "train_mae = mean_absolute_error(y_train_init, y_pred_train)\n",
        "test_mae = mean_absolute_error(y_test_init, y_pred_test)\n",
        "train_rmse = np.sqrt(mean_squared_error(y_train_init, y_pred_train))\n",
        "test_rmse = np.sqrt(mean_squared_error(y_test_init, y_pred_test))\n",
        "\n",
        "print(f\"\\nInitial Model Results:\")\n",
        "print(f\"Train MAE: {train_mae:.2f}\")\n",
        "print(f\"Test MAE: {test_mae:.2f}\")\n",
        "print(f\"Train RMSE: {train_rmse:.2f}\")\n",
        "print(f\"Test RMSE: {test_rmse:.2f}\")\n",
        "\n",
        "# Log initial results\n",
        "wandb.log({\n",
        "    \"initial_train_mae\": train_mae,\n",
        "    \"initial_test_mae\": test_mae,\n",
        "    \"initial_train_rmse\": train_rmse,\n",
        "    \"initial_test_rmse\": test_rmse,\n",
        "    \"initial_params\": initial_params\n",
        "})\n",
        "\n",
        "# Feature importance from initial model\n",
        "feature_importance = initial_model.feature_importances_\n",
        "importance_df = pd.DataFrame({\n",
        "    'Feature': X_processed.columns,\n",
        "    'Importance': feature_importance\n",
        "}).sort_values('Importance', ascending=False)\n",
        "\n",
        "print(f\"\\nTop 10 Most Important Features:\")\n",
        "for i, (_, row) in enumerate(importance_df.head(10).iterrows()):\n",
        "    print(f\"{i+1}. {row['Feature']}: {row['Importance']:.4f}\")\n",
        "\n",
        "wandb.finish()"
      ],
      "metadata": {
        "colab": {
          "base_uri": "https://localhost:8080/",
          "height": 1000
        },
        "id": "vh07uywWMFSa",
        "outputId": "d4879471-cc9c-4177-f0d3-55f9afc9caea"
      },
      "id": "vh07uywWMFSa",
      "execution_count": 98,
      "outputs": [
        {
          "output_type": "stream",
          "name": "stdout",
          "text": [
            "\n",
            "=== INITIAL MODEL TRAINING ===\n",
            "Initial train set: (337256, 34)\n",
            "Initial test set: (84314, 34)\n",
            "Training initial XGBoost model...\n",
            "\n",
            "Initial Model Results:\n",
            "Train MAE: 4166.29\n",
            "Test MAE: 5105.38\n",
            "Train RMSE: 7096.20\n",
            "Test RMSE: 8908.58\n",
            "\n",
            "Top 10 Most Important Features:\n",
            "1. Dept: 0.1964\n",
            "2. Type: 0.1911\n",
            "3. Size: 0.0958\n",
            "4. Month: 0.0635\n",
            "5. Size_Unemployment_Interaction: 0.0585\n",
            "6. Quarter_sin: 0.0540\n",
            "7. Size_CPI_Interaction: 0.0488\n",
            "8. Store: 0.0349\n",
            "9. MarkDown3: 0.0321\n",
            "10. Quarter_cos: 0.0289\n"
          ]
        },
        {
          "output_type": "display_data",
          "data": {
            "text/plain": [
              "<IPython.core.display.HTML object>"
            ],
            "text/html": []
          },
          "metadata": {}
        },
        {
          "output_type": "display_data",
          "data": {
            "text/plain": [
              "<IPython.core.display.HTML object>"
            ],
            "text/html": [
              "<br>    <style><br>        .wandb-row {<br>            display: flex;<br>            flex-direction: row;<br>            flex-wrap: wrap;<br>            justify-content: flex-start;<br>            width: 100%;<br>        }<br>        .wandb-col {<br>            display: flex;<br>            flex-direction: column;<br>            flex-basis: 100%;<br>            flex: 1;<br>            padding: 10px;<br>        }<br>    </style><br><div class=\"wandb-row\"><div class=\"wandb-col\"><h3>Run history:</h3><br/><table class=\"wandb\"><tr><td>dataset_rows_final</td><td>▁</td></tr><tr><td>features_count</td><td>▁</td></tr><tr><td>initial_test_mae</td><td>▁</td></tr><tr><td>initial_test_rmse</td><td>▁</td></tr><tr><td>initial_train_mae</td><td>▁</td></tr><tr><td>initial_train_rmse</td><td>▁</td></tr><tr><td>new_features_created</td><td>▁</td></tr><tr><td>processed_features_count</td><td>▁</td></tr><tr><td>remaining_missing_values</td><td>▁</td></tr><tr><td>rows_removed</td><td>▁</td></tr><tr><td>target_max</td><td>▁</td></tr><tr><td>target_mean</td><td>▁</td></tr><tr><td>target_min</td><td>▁</td></tr><tr><td>target_std</td><td>▁</td></tr></table><br/></div><div class=\"wandb-col\"><h3>Run summary:</h3><br/><table class=\"wandb\"><tr><td>dataset_rows_final</td><td>421570</td></tr><tr><td>features_count</td><td>15</td></tr><tr><td>initial_test_mae</td><td>5105.38165</td></tr><tr><td>initial_test_rmse</td><td>8908.57515</td></tr><tr><td>initial_train_mae</td><td>4166.28909</td></tr><tr><td>initial_train_rmse</td><td>7096.19672</td></tr><tr><td>new_features_created</td><td>19</td></tr><tr><td>processed_features_count</td><td>34</td></tr><tr><td>remaining_missing_values</td><td>0</td></tr><tr><td>rows_removed</td><td>0</td></tr><tr><td>target_max</td><td>693099.36</td></tr><tr><td>target_mean</td><td>15981.25812</td></tr><tr><td>target_min</td><td>-4988.94</td></tr><tr><td>target_std</td><td>22711.18352</td></tr></table><br/></div></div>"
            ]
          },
          "metadata": {}
        },
        {
          "output_type": "display_data",
          "data": {
            "text/plain": [
              "<IPython.core.display.HTML object>"
            ],
            "text/html": [
              " View run <strong style=\"color:#cdcd00\">XGBoost_Preprocessing_Training</strong> at: <a href='https://wandb.ai/dshan21-free-university-of-tbilisi-/walmart-sales-forecasting/runs/203mcr0v' target=\"_blank\">https://wandb.ai/dshan21-free-university-of-tbilisi-/walmart-sales-forecasting/runs/203mcr0v</a><br> View project at: <a href='https://wandb.ai/dshan21-free-university-of-tbilisi-/walmart-sales-forecasting' target=\"_blank\">https://wandb.ai/dshan21-free-university-of-tbilisi-/walmart-sales-forecasting</a><br>Synced 5 W&B file(s), 0 media file(s), 0 artifact file(s) and 0 other file(s)"
            ]
          },
          "metadata": {}
        },
        {
          "output_type": "display_data",
          "data": {
            "text/plain": [
              "<IPython.core.display.HTML object>"
            ],
            "text/html": [
              "Find logs at: <code>./wandb/run-20250704_163419-203mcr0v/logs</code>"
            ]
          },
          "metadata": {}
        }
      ]
    },
    {
      "cell_type": "code",
      "source": [
        "# Initialize wandb for cross-validation and tuning\n",
        "wandb.init(project=\"walmart-sales-forecasting\", name=\"XGBoost_CrossValidation_Tuning\", tags=[\"cv\", \"tuning\", \"xgboost\"])\n",
        "\n",
        "print(\"=== CROSS-VALIDATION AND HYPERPARAMETER TUNING ===\\n\")\n",
        "\n",
        "# Time series cross-validation setup\n",
        "print(\"Setting up Time Series Cross-Validation...\")\n",
        "tscv = TimeSeriesSplit(n_splits=5, test_size=12)  # 12 weeks test size\n",
        "\n",
        "print(f\"Cross-validation setup:\")\n",
        "print(f\"  Number of splits: 5\")\n",
        "print(f\"  Test size: 12 weeks\")\n",
        "\n",
        "# Define hyperparameter search space\n",
        "param_grid = {\n",
        "    'n_estimators': [100, 200],\n",
        "    'max_depth': [4, 6, 8],\n",
        "    'learning_rate': [0.1, 0.15],\n",
        "    'subsample': [0.8],\n",
        "    'colsample_bytree': [0.8],\n",
        "}\n",
        "\n",
        "print(f\"\\nHyperparameter search space:\")\n",
        "for param, values in param_grid.items():\n",
        "    print(f\"  {param}: {values}\")\n",
        "\n",
        "total_combinations = np.prod([len(v) for v in param_grid.values()])\n",
        "print(f\"\\nTotal combinations to test: {total_combinations}\")\n",
        "\n",
        "# Cross-validation function\n",
        "def evaluate_params(params, X, y, cv_splits, verbose=True):\n",
        "    \"\"\"Evaluate parameters using time series cross-validation\"\"\"\n",
        "    cv_scores = []\n",
        "\n",
        "    for fold, (train_idx, val_idx) in enumerate(cv_splits.split(X)):\n",
        "        X_train_fold = X.iloc[train_idx]\n",
        "        X_val_fold = X.iloc[val_idx]\n",
        "        y_train_fold = y.iloc[train_idx]\n",
        "        y_val_fold = y.iloc[val_idx]\n",
        "\n",
        "        # Train model\n",
        "        model = xgb.XGBRegressor(**params)\n",
        "        model.fit(X_train_fold, y_train_fold)\n",
        "\n",
        "        # Predict\n",
        "        y_pred = model.predict(X_val_fold)\n",
        "\n",
        "        # Calculate MAE\n",
        "        mae = mean_absolute_error(y_val_fold, y_pred)\n",
        "        cv_scores.append(mae)\n",
        "\n",
        "        if verbose:\n",
        "            print(f\"    Fold {fold + 1}: MAE = {mae:.2f}\")\n",
        "\n",
        "    return cv_scores\n",
        "\n",
        "# Hyperparameter tuning\n",
        "print(\"\\nStarting hyperparameter tuning...\")\n",
        "best_score = float('inf')\n",
        "best_params = None\n",
        "all_results = []\n",
        "\n",
        "iteration = 0\n",
        "for n_est in param_grid['n_estimators']:\n",
        "    for max_d in param_grid['max_depth']:\n",
        "        for lr in param_grid['learning_rate']:\n",
        "            for subs in param_grid['subsample']:\n",
        "                for col_sub in param_grid['colsample_bytree']:\n",
        "                    iteration += 1\n",
        "\n",
        "                    params = {\n",
        "                        'n_estimators': n_est,\n",
        "                        'max_depth': max_d,\n",
        "                        'learning_rate': lr,\n",
        "                        'subsample': subs,\n",
        "                        'colsample_bytree': col_sub,\n",
        "                        'objective': 'reg:squarederror',\n",
        "                        'random_state': 42,\n",
        "                        'n_jobs': -1\n",
        "                    }\n",
        "\n",
        "                    print(f\"\\n[{iteration}/{total_combinations}] Testing parameters:\")\n",
        "                    print(f\"  n_estimators={n_est}, max_depth={max_d}, lr={lr}, subsample={subs}, colsample={col_sub}\")\n",
        "\n",
        "                    # Evaluate with cross-validation\n",
        "                    cv_scores = evaluate_params(params, X_processed, y, tscv, verbose=False)\n",
        "\n",
        "                    avg_score = np.mean(cv_scores)\n",
        "                    std_score = np.std(cv_scores)\n",
        "\n",
        "                    print(f\"  CV Score: {avg_score:.3f} (+/- {std_score:.3f})\")\n",
        "\n",
        "                    # Log to wandb\n",
        "                    wandb.log({\n",
        "                        **params,\n",
        "                        'cv_mae_mean': avg_score,\n",
        "                        'cv_mae_std': std_score,\n",
        "                        'cv_mae_min': min(cv_scores),\n",
        "                        'cv_mae_max': max(cv_scores),\n",
        "                        'iteration': iteration\n",
        "                    })\n",
        "\n",
        "                    # Store results\n",
        "                    result = {\n",
        "                        'params': params.copy(),\n",
        "                        'cv_mean': avg_score,\n",
        "                        'cv_std': std_score,\n",
        "                        'cv_scores': cv_scores\n",
        "                    }\n",
        "                    all_results.append(result)\n",
        "\n",
        "                    # Update best parameters\n",
        "                    if avg_score < best_score:\n",
        "                        best_score = avg_score\n",
        "                        best_params = params.copy()\n",
        "                        print(f\"  *** NEW BEST SCORE: {best_score:.3f} ***\")\n",
        "\n",
        "print(f\"\\n=== HYPERPARAMETER TUNING COMPLETED ===\")\n",
        "print(f\"Best CV Score: {best_score:.3f}\")\n",
        "print(f\"Best Parameters: {best_params}\")\n",
        "\n",
        "# Log best results\n",
        "wandb.log({\n",
        "    'best_cv_mae': best_score,\n",
        "    'best_params': best_params,\n",
        "    'total_combinations_tested': total_combinations\n",
        "})\n",
        "\n",
        "# Analysis of results\n",
        "results_df = pd.DataFrame([\n",
        "    {**r['params'], 'cv_mean': r['cv_mean'], 'cv_std': r['cv_std']}\n",
        "    for r in all_results\n",
        "])\n",
        "\n",
        "print(f\"\\nTop 5 parameter combinations:\")\n",
        "top_5 = results_df.nsmallest(5, 'cv_mean')[['n_estimators', 'max_depth', 'learning_rate', 'cv_mean', 'cv_std']]\n",
        "print(top_5)\n",
        "\n",
        "wandb.finish()"
      ],
      "metadata": {
        "colab": {
          "base_uri": "https://localhost:8080/",
          "height": 1000
        },
        "id": "CK46jGQbDSpi",
        "outputId": "830f3803-54e2-43d9-c83b-1350857bd002"
      },
      "id": "CK46jGQbDSpi",
      "execution_count": null,
      "outputs": [
        {
          "data": {
            "text/html": [
              "Tracking run with wandb version 0.21.0"
            ],
            "text/plain": [
              "<IPython.core.display.HTML object>"
            ]
          },
          "metadata": {},
          "output_type": "display_data"
        },
        {
          "data": {
            "text/html": [
              "Run data is saved locally in <code>/content/wandb/run-20250704_163430-pyuk4ufz</code>"
            ],
            "text/plain": [
              "<IPython.core.display.HTML object>"
            ]
          },
          "metadata": {},
          "output_type": "display_data"
        },
        {
          "data": {
            "text/html": [
              "Syncing run <strong><a href='https://wandb.ai/dshan21-free-university-of-tbilisi-/walmart-sales-forecasting/runs/pyuk4ufz' target=\"_blank\">XGBoost_CrossValidation_Tuning</a></strong> to <a href='https://wandb.ai/dshan21-free-university-of-tbilisi-/walmart-sales-forecasting' target=\"_blank\">Weights & Biases</a> (<a href='https://wandb.me/developer-guide' target=\"_blank\">docs</a>)<br>"
            ],
            "text/plain": [
              "<IPython.core.display.HTML object>"
            ]
          },
          "metadata": {},
          "output_type": "display_data"
        },
        {
          "data": {
            "text/html": [
              " View project at <a href='https://wandb.ai/dshan21-free-university-of-tbilisi-/walmart-sales-forecasting' target=\"_blank\">https://wandb.ai/dshan21-free-university-of-tbilisi-/walmart-sales-forecasting</a>"
            ],
            "text/plain": [
              "<IPython.core.display.HTML object>"
            ]
          },
          "metadata": {},
          "output_type": "display_data"
        },
        {
          "data": {
            "text/html": [
              " View run at <a href='https://wandb.ai/dshan21-free-university-of-tbilisi-/walmart-sales-forecasting/runs/pyuk4ufz' target=\"_blank\">https://wandb.ai/dshan21-free-university-of-tbilisi-/walmart-sales-forecasting/runs/pyuk4ufz</a>"
            ],
            "text/plain": [
              "<IPython.core.display.HTML object>"
            ]
          },
          "metadata": {},
          "output_type": "display_data"
        },
        {
          "output_type": "stream",
          "name": "stdout",
          "text": [
            "=== CROSS-VALIDATION AND HYPERPARAMETER TUNING ===\n",
            "\n",
            "Setting up Time Series Cross-Validation...\n",
            "Cross-validation setup:\n",
            "  Number of splits: 5\n",
            "  Test size: 12 weeks\n",
            "\n",
            "Hyperparameter search space:\n",
            "  n_estimators: [100, 200]\n",
            "  max_depth: [4, 6, 8]\n",
            "  learning_rate: [0.1, 0.15]\n",
            "  subsample: [0.8]\n",
            "  colsample_bytree: [0.8]\n",
            "\n",
            "Total combinations to test: 12\n",
            "\n",
            "Starting hyperparameter tuning...\n",
            "\n",
            "[1/12] Testing parameters:\n",
            "  n_estimators=100, max_depth=4, lr=0.1, subsample=0.8, colsample=0.8\n",
            "  CV Score: 1192.259 (+/- 511.823)\n",
            "  *** NEW BEST SCORE: 1192.259 ***\n",
            "\n",
            "[2/12] Testing parameters:\n",
            "  n_estimators=100, max_depth=4, lr=0.15, subsample=0.8, colsample=0.8\n",
            "  CV Score: 991.822 (+/- 548.031)\n",
            "  *** NEW BEST SCORE: 991.822 ***\n",
            "\n",
            "[3/12] Testing parameters:\n",
            "  n_estimators=100, max_depth=6, lr=0.1, subsample=0.8, colsample=0.8\n",
            "  CV Score: 619.561 (+/- 295.834)\n",
            "  *** NEW BEST SCORE: 619.561 ***\n",
            "\n",
            "[4/12] Testing parameters:\n",
            "  n_estimators=100, max_depth=6, lr=0.15, subsample=0.8, colsample=0.8\n",
            "  CV Score: 849.448 (+/- 334.972)\n",
            "\n",
            "[5/12] Testing parameters:\n",
            "  n_estimators=100, max_depth=8, lr=0.1, subsample=0.8, colsample=0.8\n",
            "  CV Score: 420.484 (+/- 270.666)\n",
            "  *** NEW BEST SCORE: 420.484 ***\n",
            "\n",
            "[6/12] Testing parameters:\n",
            "  n_estimators=100, max_depth=8, lr=0.15, subsample=0.8, colsample=0.8\n",
            "  CV Score: 457.299 (+/- 273.378)\n",
            "\n",
            "[7/12] Testing parameters:\n",
            "  n_estimators=200, max_depth=4, lr=0.1, subsample=0.8, colsample=0.8\n",
            "  CV Score: 831.650 (+/- 480.379)\n",
            "\n",
            "[8/12] Testing parameters:\n",
            "  n_estimators=200, max_depth=4, lr=0.15, subsample=0.8, colsample=0.8\n",
            "  CV Score: 1186.069 (+/- 372.374)\n",
            "\n",
            "[9/12] Testing parameters:\n",
            "  n_estimators=200, max_depth=6, lr=0.1, subsample=0.8, colsample=0.8\n",
            "  CV Score: 629.453 (+/- 274.240)\n",
            "\n",
            "[10/12] Testing parameters:\n",
            "  n_estimators=200, max_depth=6, lr=0.15, subsample=0.8, colsample=0.8\n"
          ]
        }
      ]
    },
    {
      "cell_type": "code",
      "source": [
        "# Initialize wandb for final training\n",
        "wandb.init(project=\"walmart-sales-forecasting\", name=\"XGBoost_Final_Training\", tags=[\"final\", \"training\", \"xgboost\", \"production\"])\n",
        "\n",
        "print(\"=== FINAL MODEL TRAINING AND ANALYSIS ===\\n\")\n",
        "\n",
        "# Load best parameters (use best found or defaults if none)\n",
        "final_params = best_params if 'best_params' in locals() and best_params else {\n",
        "    'n_estimators': 200,\n",
        "    'max_depth': 6,\n",
        "    'learning_rate': 0.1,\n",
        "    'subsample': 0.9,\n",
        "    'colsample_bytree': 0.9,\n",
        "    'objective': 'reg:squarederror',\n",
        "    'random_state': 42,\n",
        "    'n_jobs': -1\n",
        "}\n",
        "\n",
        "print(\"Final model parameters:\")\n",
        "for param, value in final_params.items():\n",
        "    print(f\"  {param}: {value}\")\n",
        "\n",
        "# Log final parameters\n",
        "wandb.log(final_params)"
      ],
      "metadata": {
        "id": "wZXq3dZUDTHZ"
      },
      "id": "wZXq3dZUDTHZ",
      "execution_count": null,
      "outputs": []
    },
    {
      "cell_type": "code",
      "source": [
        "# Create final pipeline\n",
        "print(\"\\nCreating final pipeline...\")\n",
        "\n",
        "final_preprocessor = WalmartDataPreprocessor(\n",
        "    create_lag_features=True,\n",
        "    lag_periods=[1, 2, 4, 8],\n",
        "    rolling_windows=[4, 8, 12],\n",
        "    create_interactions=True\n",
        ")\n",
        "\n",
        "final_model = xgb.XGBRegressor(**final_params)\n",
        "\n",
        "# Create pipeline\n",
        "final_pipeline = Pipeline([\n",
        "    ('preprocessor', final_preprocessor),\n",
        "    ('model', final_model)\n",
        "])\n",
        "\n",
        "print(\"Pipeline created successfully!\")"
      ],
      "metadata": {
        "id": "rDCoGZEeDW6_"
      },
      "id": "rDCoGZEeDW6_",
      "execution_count": null,
      "outputs": []
    },
    {
      "cell_type": "code",
      "source": [
        "# Train final model on full dataset\n",
        "print(\"\\nTraining final model on full dataset...\")\n",
        "\n",
        "# Prepare final dataset\n",
        "X_final = data.drop('Weekly_Sales', axis=1)\n",
        "y_final = data['Weekly_Sales']\n",
        "\n",
        "print(f\"Training on {len(X_final)} samples with {X_final.shape[1]} features\")\n",
        "\n",
        "# Fit pipeline\n",
        "final_pipeline.fit(X_final, y_final)\n",
        "\n",
        "print(\"Final model trained successfully!\")\n",
        "\n",
        "# Make predictions for evaluation\n",
        "print(\"Making predictions on training data...\")\n",
        "y_pred_final = final_pipeline.predict(X_final)\n",
        "\n",
        "# Calculate comprehensive metrics\n",
        "train_mae = mean_absolute_error(y_final, y_pred_final)\n",
        "train_rmse = np.sqrt(mean_squared_error(y_final, y_pred_final))\n",
        "train_mape = np.mean(np.abs((y_final - y_pred_final) / y_final)) * 100\n",
        "\n",
        "# Calculate R²\n",
        "from sklearn.metrics import r2_score\n",
        "train_r2 = r2_score(y_final, y_pred_final)\n",
        "\n",
        "print(f\"\\n=== FINAL MODEL PERFORMANCE ===\")\n",
        "print(f\"Training MAE: {train_mae:.2f}\")\n",
        "print(f\"Training RMSE: {train_rmse:.2f}\")\n",
        "print(f\"Training MAPE: {train_mape:.2f}%\")\n",
        "print(f\"Training R²: {train_r2:.4f}\")\n",
        "\n",
        "# Log final metrics\n",
        "wandb.log({\n",
        "    'final_train_mae': train_mae,\n",
        "    'final_train_rmse': train_rmse,\n",
        "    'final_train_mape': train_mape,\n",
        "    'final_train_r2': train_r2,\n",
        "    'final_samples_count': len(X_final)\n",
        "})"
      ],
      "metadata": {
        "id": "2VuJcZ8ODYAM"
      },
      "id": "2VuJcZ8ODYAM",
      "execution_count": null,
      "outputs": []
    },
    {
      "cell_type": "code",
      "source": [
        "# Feature importance analysis\n",
        "print(\"\\n=== FEATURE IMPORTANCE ANALYSIS ===\")\n",
        "\n",
        "feature_importance = final_model.feature_importances_\n",
        "processed_features = final_preprocessor.transform(X_final.head(1))\n",
        "feature_names = processed_features.columns\n",
        "\n",
        "importance_df = pd.DataFrame({\n",
        "    'Feature': feature_names,\n",
        "    'Importance': feature_importance,\n",
        "    'Importance_Pct': (feature_importance / feature_importance.sum()) * 100\n",
        "}).sort_values('Importance', ascending=False)\n",
        "\n",
        "print(f\"Top 20 Most Important Features:\")\n",
        "for i, (_, row) in enumerate(importance_df.head(20).iterrows()):\n",
        "    print(f\"{i+1:2d}. {row['Feature']:<25} | {row['Importance']:.4f} ({row['Importance_Pct']:.1f}%)\")\n",
        "\n",
        "# Create feature importance visualization\n",
        "fig, (ax1, ax2) = plt.subplots(1, 2, figsize=(20, 8))\n",
        "\n",
        "# Top 20 features\n",
        "top_20 = importance_df.head(20)\n",
        "ax1.barh(range(len(top_20)), top_20['Importance'])\n",
        "ax1.set_yticks(range(len(top_20)))\n",
        "ax1.set_yticklabels(top_20['Feature'])\n",
        "ax1.set_xlabel('Feature Importance')\n",
        "ax1.set_title('Top 20 Features by Importance')\n",
        "ax1.invert_yaxis()\n",
        "\n",
        "# Feature importance distribution\n",
        "ax2.hist(importance_df['Importance'], bins=50, alpha=0.7, color='skyblue')\n",
        "ax2.set_xlabel('Feature Importance')\n",
        "ax2.set_ylabel('Frequency')\n",
        "ax2.set_title('Distribution of Feature Importance')\n",
        "\n",
        "plt.tight_layout()\n",
        "plt.savefig('final_feature_importance.png', dpi=300, bbox_inches='tight')\n",
        "wandb.log({\"final_feature_importance\": wandb.Image('final_feature_importance.png')})\n",
        "plt.show()\n",
        "\n",
        "# Log top features\n",
        "wandb.log({\n",
        "    'top_10_features': top_20.head(10)['Feature'].tolist(),\n",
        "    'top_20_features_table': wandb.Table(dataframe=top_20),\n",
        "    'total_features': len(feature_names)\n",
        "})"
      ],
      "metadata": {
        "id": "v7_RyGK2DZI9"
      },
      "id": "v7_RyGK2DZI9",
      "execution_count": null,
      "outputs": []
    },
    {
      "cell_type": "code",
      "source": [
        "# Model performance visualization\n",
        "print(\"\\n=== MODEL PERFORMANCE VISUALIZATION ===\")\n",
        "\n",
        "# Create performance plots\n",
        "fig, axes = plt.subplots(2, 2, figsize=(15, 12))\n",
        "\n",
        "# 1. Actual vs Predicted (sample)\n",
        "sample_size = min(5000, len(y_final))\n",
        "sample_indices = np.random.choice(len(y_final), size=sample_size, replace=False)\n",
        "sample_actual = y_final.iloc[sample_indices]\n",
        "sample_pred = y_pred_final[sample_indices]\n",
        "\n",
        "axes[0, 0].scatter(sample_actual, sample_pred, alpha=0.5, s=1)\n",
        "axes[0, 0].plot([y_final.min(), y_final.max()], [y_final.min(), y_final.max()], 'r--', lw=2)\n",
        "axes[0, 0].set_xlabel('Actual Sales')\n",
        "axes[0, 0].set_ylabel('Predicted Sales')\n",
        "axes[0, 0].set_title(f'Actual vs Predicted Sales (n={sample_size})')\n",
        "\n",
        "# 2. Residuals\n",
        "residuals = y_final - y_pred_final\n",
        "axes[0, 1].scatter(y_pred_final[sample_indices], residuals.iloc[sample_indices], alpha=0.5, s=1)\n",
        "axes[0, 1].axhline(y=0, color='r', linestyle='--')\n",
        "axes[0, 1].set_xlabel('Predicted Sales')\n",
        "axes[0, 1].set_ylabel('Residuals')\n",
        "axes[0, 1].set_title('Residual Plot')\n",
        "\n",
        "# 3. Residual distribution\n",
        "axes[1, 0].hist(residuals, bins=100, alpha=0.7, color='lightgreen')\n",
        "axes[1, 0].set_xlabel('Residuals')\n",
        "axes[1, 0].set_ylabel('Frequency')\n",
        "axes[1, 0].set_title('Distribution of Residuals')\n",
        "\n",
        "# 4. Performance by prediction range\n",
        "pred_ranges = pd.cut(y_pred_final, bins=10, labels=False)\n",
        "range_mae = []\n",
        "range_labels = []\n",
        "for i in range(10):\n",
        "    mask = pred_ranges == i\n",
        "    if mask.sum() > 0:\n",
        "        range_mae.append(mean_absolute_error(y_final[mask], y_pred_final[mask]))\n",
        "        range_labels.append(f'Range {i+1}')\n",
        "\n",
        "axes[1, 1].bar(range(len(range_mae)), range_mae, color='coral')\n",
        "axes[1, 1].set_xlabel('Prediction Range')\n",
        "axes[1, 1].set_ylabel('MAE')\n",
        "axes[1, 1].set_title('MAE by Prediction Range')\n",
        "axes[1, 1].set_xticks(range(len(range_labels)))\n",
        "axes[1, 1].set_xticklabels(range_labels, rotation=45)\n",
        "\n",
        "plt.tight_layout()\n",
        "plt.savefig('final_model_performance.png', dpi=300, bbox_inches='tight')\n",
        "wandb.log({\"final_model_performance\": wandb.Image('final_model_performance.png')})\n",
        "plt.show()\n",
        "\n",
        "# Residual statistics\n",
        "print(f\"\\nResidual Analysis:\")\n",
        "print(f\"Residual Mean: {residuals.mean():.2f}\")\n",
        "print(f\"Residual Std: {residuals.std():.2f}\")\n",
        "print(f\"Residual Skewness: {residuals.skew():.3f}\")\n",
        "print(f\"Residual Kurtosis: {residuals.kurtosis():.3f}\")\n",
        "\n",
        "wandb.log({\n",
        "    'residual_mean': residuals.mean(),\n",
        "    'residual_std': residuals.std(),\n",
        "    'residual_skewness': residuals.skew(),\n",
        "    'residual_kurtosis': residuals.kurtosis()\n",
        "})"
      ],
      "metadata": {
        "id": "4l9xCSScDbq6"
      },
      "id": "4l9xCSScDbq6",
      "execution_count": null,
      "outputs": []
    },
    {
      "cell_type": "code",
      "source": [
        "# Save final model\n",
        "print(\"\\n=== SAVING FINAL MODEL ===\")\n",
        "\n",
        "# DON'T initialize wandb again - you already have an active run!\n",
        "# wandb.init(project=\"walmart-sales-forecasting\", name=\"XGBoost_Data_Exploration\", tags=[\"exploration\", \"xgboost\"])\n",
        "\n",
        "# Fix MAPE calculation (handle zero values)\n",
        "def safe_mape(y_true, y_pred):\n",
        "    \"\"\"Calculate MAPE while handling zero values\"\"\"\n",
        "    mask = y_true != 0\n",
        "    if mask.sum() == 0:\n",
        "        return float('inf')\n",
        "    return np.mean(np.abs((y_true[mask] - y_pred[mask]) / y_true[mask])) * 100\n",
        "\n",
        "train_mape_fixed = safe_mape(y_final, y_pred_final)\n",
        "print(f\"Corrected Training MAPE: {train_mape_fixed:.2f}%\")\n",
        "\n",
        "# # Save pipeline locally\n",
        "# pipeline_filename = f\"xgboost_pipeline_{datetime.now().strftime('%Y%m%d_%H%M%S')}.pkl\"\n",
        "# joblib.dump(final_pipeline, pipeline_filename)\n",
        "# print(f\"Pipeline saved as: {pipeline_filename}\")\n",
        "\n",
        "\n",
        "# Save pipeline with cloudpickle (handles custom classes better)\n",
        "try:\n",
        "    import cloudpickle\n",
        "except ImportError:\n",
        "    import subprocess\n",
        "    subprocess.check_call(['pip', 'install', 'cloudpickle'])\n",
        "    import cloudpickle\n",
        "\n",
        "pipeline_filename = f\"xgboost_pipeline_{datetime.now().strftime('%Y%m%d_%H%M%S')}.pkl\"\n",
        "\n",
        "# Save with cloudpickle\n",
        "with open(pipeline_filename, 'wb') as f:\n",
        "    cloudpickle.dump(final_pipeline, f)\n",
        "\n",
        "print(f\"Pipeline saved as: {pipeline_filename}\")\n",
        "\n",
        "# Try to upload to wandb with error handling\n",
        "try:\n",
        "    # Create model artifact with fixed metadata\n",
        "    model_artifact = wandb.Artifact(\n",
        "        name=\"xgboost_pipeline\",\n",
        "        type=\"model\",\n",
        "        description=\"Final XGBoost pipeline for Walmart sales forecasting\",\n",
        "        metadata={\n",
        "            \"train_mae\": float(train_mae),\n",
        "            \"train_rmse\": float(train_rmse),\n",
        "            \"train_mape\": float(train_mape_fixed) if not np.isinf(train_mape_fixed) else 0.0,\n",
        "            \"train_r2\": float(train_r2),\n",
        "            \"features_count\": len(feature_names),\n",
        "            \"training_samples\": len(X_final),\n",
        "            \"model_type\": \"XGBoost\"\n",
        "        }\n",
        "    )\n",
        "\n",
        "    # Add model file to artifact\n",
        "    model_artifact.add_file(pipeline_filename)\n",
        "\n",
        "    # Log artifact\n",
        "    wandb.log_artifact(model_artifact)\n",
        "    print(\"✓ Model artifact logged to wandb successfully!\")\n",
        "\n",
        "except Exception as e:\n",
        "    print(f\"⚠️ Error uploading to wandb: {e}\")\n",
        "    print(\"Model saved locally - you can manually upload later\")\n",
        "\n",
        "    # Log just the metrics without artifact\n",
        "    wandb.log({\n",
        "        'final_train_mae': train_mae,\n",
        "        'final_train_rmse': train_rmse,\n",
        "        'final_train_mape': train_mape_fixed if not np.isinf(train_mape_fixed) else 0.0,\n",
        "        'final_train_r2': train_r2,\n",
        "        'model_saved_locally': pipeline_filename\n",
        "    })\n",
        "\n",
        "# Final summary with corrected MAPE\n",
        "print(f\"\\n\" + \"=\"*60)\n",
        "print(\"FINAL MODEL SUMMARY\")\n",
        "print(\"=\"*60)\n",
        "print(f\"Model Type: XGBoost Regressor\")\n",
        "print(f\"Training Samples: {len(X_final):,}\")\n",
        "print(f\"Features: {len(feature_names)}\")\n",
        "print(f\"Training MAE: {train_mae:.2f}\")\n",
        "print(f\"Training RMSE: {train_rmse:.2f}\")\n",
        "print(f\"Training MAPE: {train_mape_fixed:.2f}%\")\n",
        "print(f\"Training R²: {train_r2:.4f}\")\n",
        "print(f\"Pipeline saved as: {pipeline_filename}\")\n",
        "print(\"=\"*60)\n",
        "\n",
        "wandb.finish()"
      ],
      "metadata": {
        "id": "yGvslcHpDcsr"
      },
      "id": "yGvslcHpDcsr",
      "execution_count": null,
      "outputs": []
    }
  ],
  "metadata": {
    "kernelspec": {
      "display_name": "Python 3",
      "language": "python",
      "name": "python3"
    },
    "language_info": {
      "codemirror_mode": {
        "name": "ipython",
        "version": 2
      },
      "file_extension": ".py",
      "mimetype": "text/x-python",
      "name": "python",
      "nbconvert_exporter": "python",
      "pygments_lexer": "ipython2",
      "version": "2.7.6"
    },
    "colab": {
      "provenance": [],
      "toc_visible": true
    }
  },
  "nbformat": 4,
  "nbformat_minor": 5
}