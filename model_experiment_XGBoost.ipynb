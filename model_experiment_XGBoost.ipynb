{
  "cells": [
    {
      "cell_type": "code",
      "source": [
        "!pip install kaggle wandb onnx -Uq\n",
        "from google.colab import drive\n",
        "drive.mount('/content/drive')"
      ],
      "metadata": {
        "colab": {
          "base_uri": "https://localhost:8080/"
        },
        "id": "0xc_xtTn6ECN",
        "outputId": "5697df37-4828-4550-ffc6-a6583e02650b"
      },
      "id": "0xc_xtTn6ECN",
      "execution_count": 27,
      "outputs": [
        {
          "output_type": "stream",
          "name": "stdout",
          "text": [
            "Drive already mounted at /content/drive; to attempt to forcibly remount, call drive.mount(\"/content/drive\", force_remount=True).\n"
          ]
        }
      ]
    },
    {
      "cell_type": "code",
      "source": [
        "! mkdir ~/.kaggle"
      ],
      "metadata": {
        "colab": {
          "base_uri": "https://localhost:8080/"
        },
        "id": "3Q92W4PQ6EaA",
        "outputId": "6b1f5421-7625-42a4-89c3-f285621ba871"
      },
      "id": "3Q92W4PQ6EaA",
      "execution_count": 28,
      "outputs": [
        {
          "output_type": "stream",
          "name": "stdout",
          "text": [
            "mkdir: cannot create directory ‘/root/.kaggle’: File exists\n"
          ]
        }
      ]
    },
    {
      "cell_type": "code",
      "source": [
        "!cp /content/drive/MyDrive/Kaggle_credentials/kaggle.json ~/.kaggle/kaggle.json"
      ],
      "metadata": {
        "id": "cDQaBGLX6FfU"
      },
      "id": "cDQaBGLX6FfU",
      "execution_count": 29,
      "outputs": []
    },
    {
      "cell_type": "code",
      "source": [
        "! chmod 600 ~/.kaggle/kaggle.json"
      ],
      "metadata": {
        "id": "HkcOB55i6G8d"
      },
      "id": "HkcOB55i6G8d",
      "execution_count": 30,
      "outputs": []
    },
    {
      "cell_type": "code",
      "source": [
        "# ! kaggle competitions download -c walmart-recruiting-store-sales-forecasting"
      ],
      "metadata": {
        "id": "MPwqMv2z6H6S"
      },
      "id": "MPwqMv2z6H6S",
      "execution_count": 31,
      "outputs": []
    },
    {
      "cell_type": "code",
      "source": [
        "# ! unzip /content/walmart-recruiting-store-sales-forecasting.zip\n",
        "# ! unzip /content/train.csv.zip\n",
        "# ! unzip /content/test.csv.zip\n",
        "# ! unzip /content/features.csv.zip\n",
        "# ! unzip /content/sampleSubmission.csv.zip"
      ],
      "metadata": {
        "id": "jQr6E5zG6KBU"
      },
      "id": "jQr6E5zG6KBU",
      "execution_count": 32,
      "outputs": []
    },
    {
      "cell_type": "code",
      "source": [
        "!pip install wandb -qU"
      ],
      "metadata": {
        "id": "myvAj7pC7CyH"
      },
      "id": "myvAj7pC7CyH",
      "execution_count": 33,
      "outputs": []
    },
    {
      "cell_type": "code",
      "source": [
        "import wandb\n",
        "import random\n",
        "import math"
      ],
      "metadata": {
        "id": "c5Vm5Z5I7DRW"
      },
      "id": "c5Vm5Z5I7DRW",
      "execution_count": 34,
      "outputs": []
    },
    {
      "cell_type": "code",
      "source": [
        "wandb.login()"
      ],
      "metadata": {
        "colab": {
          "base_uri": "https://localhost:8080/"
        },
        "id": "mR9ELoN67Ef_",
        "outputId": "1538a1e3-13a1-4abd-fe72-108a5e123b99"
      },
      "id": "mR9ELoN67Ef_",
      "execution_count": 35,
      "outputs": [
        {
          "output_type": "stream",
          "name": "stderr",
          "text": [
            "\u001b[34m\u001b[1mwandb\u001b[0m: \u001b[33mWARNING\u001b[0m Calling wandb.login() after wandb.init() has no effect.\n"
          ]
        },
        {
          "output_type": "execute_result",
          "data": {
            "text/plain": [
              "True"
            ]
          },
          "metadata": {},
          "execution_count": 35
        }
      ]
    },
    {
      "cell_type": "code",
      "execution_count": 36,
      "id": "initial_id",
      "metadata": {
        "collapsed": true,
        "id": "initial_id"
      },
      "outputs": [],
      "source": [
        "import pandas as pd\n",
        "import numpy as np\n",
        "import xgboost as xgb\n",
        "from sklearn.model_selection import TimeSeriesSplit\n",
        "from sklearn.metrics import mean_absolute_error\n",
        "from sklearn.preprocessing import LabelEncoder\n",
        "from sklearn.pipeline import Pipeline\n",
        "from sklearn.base import BaseEstimator, TransformerMixin\n",
        "import wandb\n",
        "import pickle\n",
        "import warnings\n",
        "warnings.filterwarnings('ignore')"
      ]
    },
    {
      "cell_type": "markdown",
      "source": [
        "# DATA EXPLORATION"
      ],
      "metadata": {
        "id": "IOnTObXcLdmJ"
      },
      "id": "IOnTObXcLdmJ"
    },
    {
      "cell_type": "code",
      "source": [
        "# Load data\n",
        "train = pd.read_csv('/content/train.csv')\n",
        "test = pd.read_csv('/content/test.csv')\n",
        "stores = pd.read_csv('/content/stores.csv')\n",
        "features = pd.read_csv('/content/features.csv')\n",
        "sample_submission = pd.read_csv('/content/sampleSubmission.csv')\n",
        "\n",
        "print(\"Data shapes:\")\n",
        "print(f\"Train: {train.shape}\")\n",
        "print(f\"Test: {test.shape}\")\n",
        "print(f\"Stores: {stores.shape}\")\n",
        "print(f\"Features: {features.shape}\")\n",
        "print(f\"Sample Submission: {sample_submission.shape}\")\n",
        "\n",
        "# Display column information\n",
        "print(\"\\nColumn details:\")\n",
        "print(\"Train columns:\", train.columns.tolist())\n",
        "print(\"Features columns:\", features.columns.tolist())\n",
        "print(\"Stores columns:\", stores.columns.tolist())\n",
        "print(\"Sample submission columns:\", sample_submission.columns.tolist())\n",
        "\n",
        "# Basic info about the data\n",
        "print(\"\\nData info:\")\n",
        "print(\"Date range:\", train['Date'].min(), \"to\", train['Date'].max())\n",
        "print(\"Unique stores:\", train['Store'].nunique())\n",
        "print(\"Unique departments:\", train['Dept'].nunique())\n",
        "print(\"Store types:\", stores['Type'].unique())\n",
        "\n",
        "# Check for missing values\n",
        "print(\"\\nMissing values:\")\n",
        "print(\"Train missing:\", train.isnull().sum().sum())\n",
        "print(\"Features missing:\", features.isnull().sum())\n",
        "\n",
        "# Fix the date conversion issue BEFORE creating feature engineer\n",
        "print(\"Converting all Date columns to datetime...\")\n",
        "\n",
        "# Convert dates in all dataframes\n",
        "train['Date'] = pd.to_datetime(train['Date'])\n",
        "features['Date'] = pd.to_datetime(features['Date'])\n",
        "stores_copy = stores.copy()  # stores doesn't have Date column\n",
        "test['Date'] = pd.to_datetime(test['Date'])\n",
        "\n",
        "print(\"Date conversion completed!\")\n",
        "print(f\"Train Date dtype: {train['Date'].dtype}\")\n",
        "print(f\"Features Date dtype: {features['Date'].dtype}\")\n",
        "print(f\"Test Date dtype: {test['Date'].dtype}\")"
      ],
      "metadata": {
        "colab": {
          "base_uri": "https://localhost:8080/"
        },
        "id": "54PZZRYuLhju",
        "outputId": "f6fe77b5-0ace-446a-d904-c03751d25598"
      },
      "id": "54PZZRYuLhju",
      "execution_count": 37,
      "outputs": [
        {
          "output_type": "stream",
          "name": "stdout",
          "text": [
            "Data shapes:\n",
            "Train: (421570, 5)\n",
            "Test: (115064, 4)\n",
            "Stores: (45, 3)\n",
            "Features: (8190, 12)\n",
            "Sample Submission: (115064, 2)\n",
            "\n",
            "Column details:\n",
            "Train columns: ['Store', 'Dept', 'Date', 'Weekly_Sales', 'IsHoliday']\n",
            "Features columns: ['Store', 'Date', 'Temperature', 'Fuel_Price', 'MarkDown1', 'MarkDown2', 'MarkDown3', 'MarkDown4', 'MarkDown5', 'CPI', 'Unemployment', 'IsHoliday']\n",
            "Stores columns: ['Store', 'Type', 'Size']\n",
            "Sample submission columns: ['Id', 'Weekly_Sales']\n",
            "\n",
            "Data info:\n",
            "Date range: 2010-02-05 to 2012-10-26\n",
            "Unique stores: 45\n",
            "Unique departments: 81\n",
            "Store types: ['A' 'B' 'C']\n",
            "\n",
            "Missing values:\n",
            "Train missing: 0\n",
            "Features missing: Store              0\n",
            "Date               0\n",
            "Temperature        0\n",
            "Fuel_Price         0\n",
            "MarkDown1       4158\n",
            "MarkDown2       5269\n",
            "MarkDown3       4577\n",
            "MarkDown4       4726\n",
            "MarkDown5       4140\n",
            "CPI              585\n",
            "Unemployment     585\n",
            "IsHoliday          0\n",
            "dtype: int64\n",
            "Converting all Date columns to datetime...\n",
            "Date conversion completed!\n",
            "Train Date dtype: datetime64[ns]\n",
            "Features Date dtype: datetime64[ns]\n",
            "Test Date dtype: datetime64[ns]\n"
          ]
        }
      ]
    },
    {
      "cell_type": "markdown",
      "source": [
        "# FEATURE ENGINEERING"
      ],
      "metadata": {
        "id": "vZJ2BOB0LnG_"
      },
      "id": "vZJ2BOB0LnG_"
    },
    {
      "cell_type": "code",
      "source": [
        "# Updated Feature Engineer that uses the pre-converted dataframes\n",
        "class WalmartFeatureEngineer(BaseEstimator, TransformerMixin):\n",
        "    def __init__(self):\n",
        "        self.label_encoders = {}\n",
        "\n",
        "    def fit(self, X, y=None):\n",
        "        # Fit label encoders\n",
        "        X_with_stores = X.merge(stores_copy, on='Store', how='left')\n",
        "\n",
        "        if 'Type' in X_with_stores.columns:\n",
        "            le = LabelEncoder()\n",
        "            le.fit(X_with_stores['Type'].astype(str))\n",
        "            self.label_encoders['Type'] = le\n",
        "        return self\n",
        "\n",
        "    def transform(self, X):\n",
        "        X = X.copy()\n",
        "\n",
        "        # Dates should already be datetime from preprocessing\n",
        "        # No need to convert again - just verify\n",
        "        if not pd.api.types.is_datetime64_any_dtype(X['Date']):\n",
        "            X['Date'] = pd.to_datetime(X['Date'])\n",
        "\n",
        "        # Merge with additional data (all Date columns should now be datetime)\n",
        "        X = X.merge(stores_copy, on='Store', how='left')\n",
        "        X = X.merge(features, on=['Store', 'Date'], how='left')\n",
        "\n",
        "        # Handle IsHoliday conflict\n",
        "        if 'IsHoliday_x' in X.columns and 'IsHoliday_y' in X.columns:\n",
        "            X['IsHoliday'] = X['IsHoliday_y'].fillna(X['IsHoliday_x'])\n",
        "            X = X.drop(['IsHoliday_x', 'IsHoliday_y'], axis=1)\n",
        "\n",
        "        # Basic date features\n",
        "        X['Year'] = X['Date'].dt.year\n",
        "        X['Month'] = X['Date'].dt.month\n",
        "        X['Week'] = X['Date'].dt.isocalendar().week\n",
        "        X['Weekday'] = X['Date'].dt.dayofweek\n",
        "        X['Quarter'] = X['Date'].dt.quarter\n",
        "        X['Is_Weekend'] = (X['Weekday'] >= 5).astype(int)\n",
        "\n",
        "        # Simple holiday feature\n",
        "        X['IsHoliday'] = X['IsHoliday'].fillna(False).astype(int)\n",
        "\n",
        "        # Markdown features\n",
        "        markdown_cols = ['MarkDown1', 'MarkDown2', 'MarkDown3', 'MarkDown4', 'MarkDown5']\n",
        "        for col in markdown_cols:\n",
        "            if col in X.columns:\n",
        "                X[col] = X[col].fillna(0)\n",
        "\n",
        "        # Create total markdown\n",
        "        if any(col in X.columns for col in markdown_cols):\n",
        "            existing_cols = [col for col in markdown_cols if col in X.columns]\n",
        "            X['Total_MarkDown'] = X[existing_cols].sum(axis=1)\n",
        "            X['Num_MarkDowns'] = (X[existing_cols] > 0).sum(axis=1)\n",
        "\n",
        "        # Economic features\n",
        "        if 'Fuel_Price' in X.columns and 'CPI' in X.columns:\n",
        "            X['Fuel_Price_to_CPI'] = X['Fuel_Price'] / (X['CPI'] + 1e-8)\n",
        "\n",
        "        if 'Temperature' in X.columns:\n",
        "            X['Temperature_squared'] = X['Temperature'] ** 2\n",
        "\n",
        "        # Encode categorical variables\n",
        "        for col, le in self.label_encoders.items():\n",
        "            if col in X.columns:\n",
        "                X[col] = le.transform(X[col].astype(str))\n",
        "\n",
        "        # Fill missing values\n",
        "        numeric_cols = X.select_dtypes(include=[np.number]).columns\n",
        "        X[numeric_cols] = X[numeric_cols].fillna(0)\n",
        "\n",
        "        # Select features (exclude Date and Weekly_Sales if present)\n",
        "        cols_to_drop = ['Date']\n",
        "        if 'Weekly_Sales' in X.columns:\n",
        "            cols_to_drop.append('Weekly_Sales')\n",
        "        feature_cols = [col for col in X.columns if col not in cols_to_drop]\n",
        "\n",
        "        return X[feature_cols]\n",
        "\n",
        "# Initialize feature engineer\n",
        "feature_engineer = WalmartFeatureEngineer()\n",
        "print(\"Updated feature engineer created!\")"
      ],
      "metadata": {
        "colab": {
          "base_uri": "https://localhost:8080/"
        },
        "id": "Z23MaHPlLkkf",
        "outputId": "ecb7541b-2f4e-4515-b2e6-145c03205668"
      },
      "id": "Z23MaHPlLkkf",
      "execution_count": 38,
      "outputs": [
        {
          "output_type": "stream",
          "name": "stdout",
          "text": [
            "Updated feature engineer created!\n"
          ]
        }
      ]
    },
    {
      "cell_type": "markdown",
      "source": [
        "# PROCESSING"
      ],
      "metadata": {
        "id": "0_pyvXVjLpKt"
      },
      "id": "0_pyvXVjLpKt"
    },
    {
      "cell_type": "code",
      "source": [
        "# Initialize wandb run for data cleaning\n",
        "wandb.init(\n",
        "    project=\"Walmart_Forecasting\",\n",
        "    name=\"XGBoost_Data_Cleaning\",\n",
        "    group=\"XGBoost_Training\",\n",
        "    tags=[\"preprocessing\", \"xgboost\", \"data_cleaning\"]\n",
        ")\n",
        "\n",
        "# Log initial parameters\n",
        "wandb.config.update({\n",
        "    \"original_train_shape\": train.shape,\n",
        "    \"date_conversion_completed\": True\n",
        "})\n",
        "\n",
        "# Fit and transform training data\n",
        "print(\"Fitting and transforming training data...\")\n",
        "train_processed = feature_engineer.fit_transform(train)\n",
        "\n",
        "# Prepare target variable\n",
        "y_train = train['Weekly_Sales'].values\n",
        "\n",
        "# Log preprocessing results\n",
        "wandb.config.update({\n",
        "    \"final_train_shape\": train_processed.shape,\n",
        "    \"n_features\": train_processed.shape[1],\n",
        "    \"missing_values_after_preprocessing\": int(train_processed.isnull().sum().sum())\n",
        "})\n",
        "\n",
        "# Log summary metrics\n",
        "wandb.log({\n",
        "    \"train_samples\": len(train_processed),\n",
        "    \"n_features\": train_processed.shape[1],\n",
        "    \"target_mean\": float(y_train.mean()),\n",
        "    \"target_std\": float(y_train.std()),\n",
        "    \"missing_values\": int(train_processed.isnull().sum().sum())\n",
        "})\n",
        "\n",
        "print(\"Preprocessing completed!\")\n",
        "print(f\"Final training shape: {train_processed.shape}\")\n",
        "print(f\"Target shape: {y_train.shape}\")\n",
        "print(f\"Features: {list(train_processed.columns)}\")\n",
        "\n",
        "# Check for any remaining issues\n",
        "print(f\"Missing values: {train_processed.isnull().sum().sum()}\")\n",
        "print(f\"Infinite values: {np.isinf(train_processed.select_dtypes(include=[np.number])).sum().sum()}\")\n",
        "\n",
        "# Save feature names for later use\n",
        "wandb.log({\"feature_names\": list(train_processed.columns)})\n",
        "\n",
        "wandb.finish()"
      ],
      "metadata": {
        "colab": {
          "base_uri": "https://localhost:8080/",
          "height": 804
        },
        "id": "aw2te6AbLpd4",
        "outputId": "a3218084-cb99-425e-9dd0-e8dfd3dd5ba2"
      },
      "id": "aw2te6AbLpd4",
      "execution_count": 39,
      "outputs": [
        {
          "output_type": "display_data",
          "data": {
            "text/plain": [
              "<IPython.core.display.HTML object>"
            ],
            "text/html": [
              "Finishing previous runs because reinit is set to 'default'."
            ]
          },
          "metadata": {}
        },
        {
          "output_type": "display_data",
          "data": {
            "text/plain": [
              "<IPython.core.display.HTML object>"
            ],
            "text/html": []
          },
          "metadata": {}
        },
        {
          "output_type": "display_data",
          "data": {
            "text/plain": [
              "<IPython.core.display.HTML object>"
            ],
            "text/html": [
              " View run <strong style=\"color:#cdcd00\">XGBoost_Data_Cleaning</strong> at: <a href='https://wandb.ai/dshan21-free-university-of-tbilisi-/Walmart_Forecasting/runs/abfy2s50' target=\"_blank\">https://wandb.ai/dshan21-free-university-of-tbilisi-/Walmart_Forecasting/runs/abfy2s50</a><br> View project at: <a href='https://wandb.ai/dshan21-free-university-of-tbilisi-/Walmart_Forecasting' target=\"_blank\">https://wandb.ai/dshan21-free-university-of-tbilisi-/Walmart_Forecasting</a><br>Synced 5 W&B file(s), 0 media file(s), 0 artifact file(s) and 0 other file(s)"
            ]
          },
          "metadata": {}
        },
        {
          "output_type": "display_data",
          "data": {
            "text/plain": [
              "<IPython.core.display.HTML object>"
            ],
            "text/html": [
              "Find logs at: <code>./wandb/run-20250703_165552-abfy2s50/logs</code>"
            ]
          },
          "metadata": {}
        },
        {
          "output_type": "display_data",
          "data": {
            "text/plain": [
              "<IPython.core.display.HTML object>"
            ],
            "text/html": [
              "Tracking run with wandb version 0.21.0"
            ]
          },
          "metadata": {}
        },
        {
          "output_type": "display_data",
          "data": {
            "text/plain": [
              "<IPython.core.display.HTML object>"
            ],
            "text/html": [
              "Run data is saved locally in <code>/content/wandb/run-20250703_165855-0wg4hox8</code>"
            ]
          },
          "metadata": {}
        },
        {
          "output_type": "display_data",
          "data": {
            "text/plain": [
              "<IPython.core.display.HTML object>"
            ],
            "text/html": [
              "Syncing run <strong><a href='https://wandb.ai/dshan21-free-university-of-tbilisi-/Walmart_Forecasting/runs/0wg4hox8' target=\"_blank\">XGBoost_Data_Cleaning</a></strong> to <a href='https://wandb.ai/dshan21-free-university-of-tbilisi-/Walmart_Forecasting' target=\"_blank\">Weights & Biases</a> (<a href='https://wandb.me/developer-guide' target=\"_blank\">docs</a>)<br>"
            ]
          },
          "metadata": {}
        },
        {
          "output_type": "display_data",
          "data": {
            "text/plain": [
              "<IPython.core.display.HTML object>"
            ],
            "text/html": [
              " View project at <a href='https://wandb.ai/dshan21-free-university-of-tbilisi-/Walmart_Forecasting' target=\"_blank\">https://wandb.ai/dshan21-free-university-of-tbilisi-/Walmart_Forecasting</a>"
            ]
          },
          "metadata": {}
        },
        {
          "output_type": "display_data",
          "data": {
            "text/plain": [
              "<IPython.core.display.HTML object>"
            ],
            "text/html": [
              " View run at <a href='https://wandb.ai/dshan21-free-university-of-tbilisi-/Walmart_Forecasting/runs/0wg4hox8' target=\"_blank\">https://wandb.ai/dshan21-free-university-of-tbilisi-/Walmart_Forecasting/runs/0wg4hox8</a>"
            ]
          },
          "metadata": {}
        },
        {
          "output_type": "stream",
          "name": "stdout",
          "text": [
            "Fitting and transforming training data...\n",
            "Preprocessing completed!\n",
            "Final training shape: (421570, 24)\n",
            "Target shape: (421570,)\n",
            "Features: ['Store', 'Dept', 'Type', 'Size', 'Temperature', 'Fuel_Price', 'MarkDown1', 'MarkDown2', 'MarkDown3', 'MarkDown4', 'MarkDown5', 'CPI', 'Unemployment', 'IsHoliday', 'Year', 'Month', 'Week', 'Weekday', 'Quarter', 'Is_Weekend', 'Total_MarkDown', 'Num_MarkDowns', 'Fuel_Price_to_CPI', 'Temperature_squared']\n",
            "Missing values: 0\n",
            "Infinite values: 0\n"
          ]
        },
        {
          "output_type": "display_data",
          "data": {
            "text/plain": [
              "<IPython.core.display.HTML object>"
            ],
            "text/html": []
          },
          "metadata": {}
        },
        {
          "output_type": "display_data",
          "data": {
            "text/plain": [
              "<IPython.core.display.HTML object>"
            ],
            "text/html": [
              "<br>    <style><br>        .wandb-row {<br>            display: flex;<br>            flex-direction: row;<br>            flex-wrap: wrap;<br>            justify-content: flex-start;<br>            width: 100%;<br>        }<br>        .wandb-col {<br>            display: flex;<br>            flex-direction: column;<br>            flex-basis: 100%;<br>            flex: 1;<br>            padding: 10px;<br>        }<br>    </style><br><div class=\"wandb-row\"><div class=\"wandb-col\"><h3>Run history:</h3><br/><table class=\"wandb\"><tr><td>missing_values</td><td>▁</td></tr><tr><td>n_features</td><td>▁</td></tr><tr><td>target_mean</td><td>▁</td></tr><tr><td>target_std</td><td>▁</td></tr><tr><td>train_samples</td><td>▁</td></tr></table><br/></div><div class=\"wandb-col\"><h3>Run summary:</h3><br/><table class=\"wandb\"><tr><td>missing_values</td><td>0</td></tr><tr><td>n_features</td><td>24</td></tr><tr><td>target_mean</td><td>15981.25812</td></tr><tr><td>target_std</td><td>22711.15658</td></tr><tr><td>train_samples</td><td>421570</td></tr></table><br/></div></div>"
            ]
          },
          "metadata": {}
        },
        {
          "output_type": "display_data",
          "data": {
            "text/plain": [
              "<IPython.core.display.HTML object>"
            ],
            "text/html": [
              " View run <strong style=\"color:#cdcd00\">XGBoost_Data_Cleaning</strong> at: <a href='https://wandb.ai/dshan21-free-university-of-tbilisi-/Walmart_Forecasting/runs/0wg4hox8' target=\"_blank\">https://wandb.ai/dshan21-free-university-of-tbilisi-/Walmart_Forecasting/runs/0wg4hox8</a><br> View project at: <a href='https://wandb.ai/dshan21-free-university-of-tbilisi-/Walmart_Forecasting' target=\"_blank\">https://wandb.ai/dshan21-free-university-of-tbilisi-/Walmart_Forecasting</a><br>Synced 5 W&B file(s), 0 media file(s), 0 artifact file(s) and 0 other file(s)"
            ]
          },
          "metadata": {}
        },
        {
          "output_type": "display_data",
          "data": {
            "text/plain": [
              "<IPython.core.display.HTML object>"
            ],
            "text/html": [
              "Find logs at: <code>./wandb/run-20250703_165855-0wg4hox8/logs</code>"
            ]
          },
          "metadata": {}
        }
      ]
    },
    {
      "cell_type": "markdown",
      "source": [
        "# SELECTION"
      ],
      "metadata": {
        "id": "t0TFm9WwLuS5"
      },
      "id": "t0TFm9WwLuS5"
    },
    {
      "cell_type": "code",
      "source": [
        "# Initialize wandb run for feature selection\n",
        "wandb.init(\n",
        "    project=\"Walmart_Forecasting\",\n",
        "    name=\"XGBoost_Feature_Selection\",\n",
        "    group=\"XGBoost_Training\",\n",
        "    tags=[\"preprocessing\", \"xgboost\", \"feature_selection\"]\n",
        ")\n",
        "\n",
        "# Remove features with too many missing values\n",
        "missing_threshold = 0.8\n",
        "missing_pct = train_processed.isnull().sum() / len(train_processed)\n",
        "features_to_keep = missing_pct[missing_pct < missing_threshold].index.tolist()\n",
        "\n",
        "X_train_selected = train_processed[features_to_keep]\n",
        "\n",
        "# Remove constant features\n",
        "constant_features = [col for col in X_train_selected.columns\n",
        "                    if X_train_selected[col].nunique() <= 1]\n",
        "X_train_selected = X_train_selected.drop(columns=constant_features)\n",
        "\n",
        "# Remove highly correlated features\n",
        "correlation_threshold = 0.95\n",
        "corr_matrix = X_train_selected.corr().abs()\n",
        "upper_tri = corr_matrix.where(np.triu(np.ones(corr_matrix.shape), k=1).astype(bool))\n",
        "high_corr_features = [column for column in upper_tri.columns if any(upper_tri[column] > correlation_threshold)]\n",
        "X_train_selected = X_train_selected.drop(columns=high_corr_features)\n",
        "\n",
        "# Log feature selection results\n",
        "wandb.config.update({\n",
        "    \"missing_threshold\": missing_threshold,\n",
        "    \"correlation_threshold\": correlation_threshold,\n",
        "    \"features_after_selection\": X_train_selected.shape[1],\n",
        "    \"removed_missing_features\": len(train_processed.columns) - len(features_to_keep),\n",
        "    \"removed_constant_features\": len(constant_features),\n",
        "    \"removed_correlated_features\": len(high_corr_features)\n",
        "})\n",
        "\n",
        "wandb.log({\n",
        "    \"n_features_final\": X_train_selected.shape[1],\n",
        "    \"n_features_removed_missing\": len(train_processed.columns) - len(features_to_keep),\n",
        "    \"n_features_removed_constant\": len(constant_features),\n",
        "    \"n_features_removed_correlated\": len(high_corr_features)\n",
        "})\n",
        "\n",
        "print(f\"Features after selection: {X_train_selected.shape[1]}\")\n",
        "print(f\"Removed {len(constant_features)} constant features\")\n",
        "print(f\"Removed {len(high_corr_features)} highly correlated features\")\n",
        "\n",
        "# Save selected features list\n",
        "selected_features = list(X_train_selected.columns)\n",
        "wandb.log({\"selected_features\": selected_features})\n",
        "\n",
        "wandb.finish()"
      ],
      "metadata": {
        "colab": {
          "base_uri": "https://localhost:8080/",
          "height": 586
        },
        "id": "hltq64qULukT",
        "outputId": "57601b61-a09d-4f80-f6aa-5ba43d2bfbc9"
      },
      "id": "hltq64qULukT",
      "execution_count": 40,
      "outputs": [
        {
          "output_type": "display_data",
          "data": {
            "text/plain": [
              "<IPython.core.display.HTML object>"
            ],
            "text/html": [
              "Tracking run with wandb version 0.21.0"
            ]
          },
          "metadata": {}
        },
        {
          "output_type": "display_data",
          "data": {
            "text/plain": [
              "<IPython.core.display.HTML object>"
            ],
            "text/html": [
              "Run data is saved locally in <code>/content/wandb/run-20250703_165905-4eatzaao</code>"
            ]
          },
          "metadata": {}
        },
        {
          "output_type": "display_data",
          "data": {
            "text/plain": [
              "<IPython.core.display.HTML object>"
            ],
            "text/html": [
              "Syncing run <strong><a href='https://wandb.ai/dshan21-free-university-of-tbilisi-/Walmart_Forecasting/runs/4eatzaao' target=\"_blank\">XGBoost_Feature_Selection</a></strong> to <a href='https://wandb.ai/dshan21-free-university-of-tbilisi-/Walmart_Forecasting' target=\"_blank\">Weights & Biases</a> (<a href='https://wandb.me/developer-guide' target=\"_blank\">docs</a>)<br>"
            ]
          },
          "metadata": {}
        },
        {
          "output_type": "display_data",
          "data": {
            "text/plain": [
              "<IPython.core.display.HTML object>"
            ],
            "text/html": [
              " View project at <a href='https://wandb.ai/dshan21-free-university-of-tbilisi-/Walmart_Forecasting' target=\"_blank\">https://wandb.ai/dshan21-free-university-of-tbilisi-/Walmart_Forecasting</a>"
            ]
          },
          "metadata": {}
        },
        {
          "output_type": "display_data",
          "data": {
            "text/plain": [
              "<IPython.core.display.HTML object>"
            ],
            "text/html": [
              " View run at <a href='https://wandb.ai/dshan21-free-university-of-tbilisi-/Walmart_Forecasting/runs/4eatzaao' target=\"_blank\">https://wandb.ai/dshan21-free-university-of-tbilisi-/Walmart_Forecasting/runs/4eatzaao</a>"
            ]
          },
          "metadata": {}
        },
        {
          "output_type": "stream",
          "name": "stdout",
          "text": [
            "Features after selection: 19\n",
            "Removed 2 constant features\n",
            "Removed 3 highly correlated features\n"
          ]
        },
        {
          "output_type": "display_data",
          "data": {
            "text/plain": [
              "<IPython.core.display.HTML object>"
            ],
            "text/html": []
          },
          "metadata": {}
        },
        {
          "output_type": "display_data",
          "data": {
            "text/plain": [
              "<IPython.core.display.HTML object>"
            ],
            "text/html": [
              "<br>    <style><br>        .wandb-row {<br>            display: flex;<br>            flex-direction: row;<br>            flex-wrap: wrap;<br>            justify-content: flex-start;<br>            width: 100%;<br>        }<br>        .wandb-col {<br>            display: flex;<br>            flex-direction: column;<br>            flex-basis: 100%;<br>            flex: 1;<br>            padding: 10px;<br>        }<br>    </style><br><div class=\"wandb-row\"><div class=\"wandb-col\"><h3>Run history:</h3><br/><table class=\"wandb\"><tr><td>n_features_final</td><td>▁</td></tr><tr><td>n_features_removed_constant</td><td>▁</td></tr><tr><td>n_features_removed_correlated</td><td>▁</td></tr><tr><td>n_features_removed_missing</td><td>▁</td></tr></table><br/></div><div class=\"wandb-col\"><h3>Run summary:</h3><br/><table class=\"wandb\"><tr><td>n_features_final</td><td>19</td></tr><tr><td>n_features_removed_constant</td><td>2</td></tr><tr><td>n_features_removed_correlated</td><td>3</td></tr><tr><td>n_features_removed_missing</td><td>0</td></tr></table><br/></div></div>"
            ]
          },
          "metadata": {}
        },
        {
          "output_type": "display_data",
          "data": {
            "text/plain": [
              "<IPython.core.display.HTML object>"
            ],
            "text/html": [
              " View run <strong style=\"color:#cdcd00\">XGBoost_Feature_Selection</strong> at: <a href='https://wandb.ai/dshan21-free-university-of-tbilisi-/Walmart_Forecasting/runs/4eatzaao' target=\"_blank\">https://wandb.ai/dshan21-free-university-of-tbilisi-/Walmart_Forecasting/runs/4eatzaao</a><br> View project at: <a href='https://wandb.ai/dshan21-free-university-of-tbilisi-/Walmart_Forecasting' target=\"_blank\">https://wandb.ai/dshan21-free-university-of-tbilisi-/Walmart_Forecasting</a><br>Synced 5 W&B file(s), 0 media file(s), 0 artifact file(s) and 0 other file(s)"
            ]
          },
          "metadata": {}
        },
        {
          "output_type": "display_data",
          "data": {
            "text/plain": [
              "<IPython.core.display.HTML object>"
            ],
            "text/html": [
              "Find logs at: <code>./wandb/run-20250703_165905-4eatzaao/logs</code>"
            ]
          },
          "metadata": {}
        }
      ]
    },
    {
      "cell_type": "markdown",
      "source": [
        "# CROSS VALIDATION"
      ],
      "metadata": {
        "id": "0NbIOGZZLyg1"
      },
      "id": "0NbIOGZZLyg1"
    },
    {
      "cell_type": "code",
      "source": [
        "def weighted_mean_absolute_error(y_true, y_pred, weights=None):\n",
        "    \"\"\"Calculate Weighted Mean Absolute Error (Kaggle metric)\"\"\"\n",
        "    if weights is None:\n",
        "        weights = np.ones(len(y_true))\n",
        "    return np.sum(weights * np.abs(y_true - y_pred)) / np.sum(weights)\n",
        "\n",
        "def time_series_cv_xgboost(X, y, params, n_splits=5, run_name=\"CV\"):\n",
        "    \"\"\"Time series cross-validation for XGBoost\"\"\"\n",
        "    tscv = TimeSeriesSplit(n_splits=n_splits)\n",
        "    cv_scores = []\n",
        "    fold_results = []\n",
        "\n",
        "    for fold, (train_idx, val_idx) in enumerate(tscv.split(X)):\n",
        "        X_train_fold, X_val_fold = X.iloc[train_idx], X.iloc[val_idx]\n",
        "        y_train_fold, y_val_fold = y[train_idx], y[val_idx]\n",
        "\n",
        "        # Create XGBoost datasets\n",
        "        dtrain = xgb.DMatrix(X_train_fold, label=y_train_fold)\n",
        "        dval = xgb.DMatrix(X_val_fold, label=y_val_fold)\n",
        "\n",
        "        # Train model\n",
        "        model = xgb.train(\n",
        "            params=params,\n",
        "            dtrain=dtrain,\n",
        "            num_boost_round=1000,\n",
        "            evals=[(dval, 'validation')],\n",
        "            early_stopping_rounds=50,\n",
        "            verbose_eval=False\n",
        "        )\n",
        "\n",
        "        # Predict and evaluate\n",
        "        y_pred = model.predict(dval)\n",
        "\n",
        "        # Calculate MAE\n",
        "        mae = mean_absolute_error(y_val_fold, y_pred)\n",
        "        cv_scores.append(mae)\n",
        "        fold_results.append({\n",
        "            f\"fold_{fold+1}_mae\": mae,\n",
        "            f\"fold_{fold+1}_train_size\": len(train_idx),\n",
        "            f\"fold_{fold+1}_val_size\": len(val_idx)\n",
        "        })\n",
        "\n",
        "        print(f\"Fold {fold + 1} MAE: {mae:.4f}\")\n",
        "\n",
        "    # Log fold results to wandb\n",
        "    for fold_result in fold_results:\n",
        "        wandb.log(fold_result)\n",
        "\n",
        "    return cv_scores"
      ],
      "metadata": {
        "id": "9cUVo7AdLy0q"
      },
      "id": "9cUVo7AdLy0q",
      "execution_count": 41,
      "outputs": []
    },
    {
      "cell_type": "markdown",
      "source": [
        "# TUNING"
      ],
      "metadata": {
        "id": "-1Ccq41QL3dp"
      },
      "id": "-1Ccq41QL3dp"
    },
    {
      "cell_type": "code",
      "source": [
        "# Initialize wandb run for hyperparameter tuning\n",
        "wandb.init(\n",
        "    project=\"Walmart_Forecasting\",\n",
        "    name=\"XGBoost_Hyperparameter_Tuning\",\n",
        "    group=\"XGBoost_Training\",\n",
        "    tags=[\"hyperparameter_tuning\", \"xgboost\", \"cross_validation\"]\n",
        ")\n",
        "\n",
        "# Define parameter grid for tuning\n",
        "param_grid = [\n",
        "    {\n",
        "        'objective': 'reg:squarederror',\n",
        "        'eval_metric': 'mae',\n",
        "        'max_depth': 6,\n",
        "        'learning_rate': 0.1,\n",
        "        'subsample': 0.8,\n",
        "        'colsample_bytree': 0.8,\n",
        "        'min_child_weight': 1,\n",
        "        'reg_alpha': 0,\n",
        "        'reg_lambda': 1,\n",
        "        'random_state': 42,\n",
        "        'tree_method': 'hist'\n",
        "    },\n",
        "    {\n",
        "        'objective': 'reg:squarederror',\n",
        "        'eval_metric': 'mae',\n",
        "        'max_depth': 8,\n",
        "        'learning_rate': 0.05,\n",
        "        'subsample': 0.9,\n",
        "        'colsample_bytree': 0.9,\n",
        "        'min_child_weight': 3,\n",
        "        'reg_alpha': 0.1,\n",
        "        'reg_lambda': 1,\n",
        "        'random_state': 42,\n",
        "        'tree_method': 'hist'\n",
        "    },\n",
        "    {\n",
        "        'objective': 'reg:squarederror',\n",
        "        'eval_metric': 'mae',\n",
        "        'max_depth': 10,\n",
        "        'learning_rate': 0.03,\n",
        "        'subsample': 0.85,\n",
        "        'colsample_bytree': 0.85,\n",
        "        'min_child_weight': 5,\n",
        "        'reg_alpha': 0.05,\n",
        "        'reg_lambda': 1.5,\n",
        "        'random_state': 42,\n",
        "        'tree_method': 'hist'\n",
        "    }\n",
        "]\n",
        "\n",
        "best_score = float('inf')\n",
        "best_params = None\n",
        "param_results = []\n",
        "\n",
        "for i, params in enumerate(param_grid):\n",
        "    print(f\"\\nTesting parameter set {i + 1}:\")\n",
        "    print(f\"Parameters: {params}\")\n",
        "\n",
        "    # Log current parameters being tested\n",
        "    wandb.log({f\"testing_param_set\": i + 1})\n",
        "\n",
        "    cv_scores = time_series_cv_xgboost(X_train_selected, y_train, params, run_name=f\"ParamSet_{i+1}\")\n",
        "    avg_score = np.mean(cv_scores)\n",
        "    std_score = np.std(cv_scores)\n",
        "\n",
        "    # Store results\n",
        "    param_results.append({\n",
        "        'param_set': i + 1,\n",
        "        'params': params,\n",
        "        'cv_mean': avg_score,\n",
        "        'cv_std': std_score,\n",
        "        'cv_scores': cv_scores\n",
        "    })\n",
        "\n",
        "    # Log to wandb\n",
        "    wandb.log({\n",
        "        f\"param_set_{i+1}_cv_mean\": avg_score,\n",
        "        f\"param_set_{i+1}_cv_std\": std_score,\n",
        "        f\"param_set_{i+1}_max_depth\": params['max_depth'],\n",
        "        f\"param_set_{i+1}_learning_rate\": params['learning_rate'],\n",
        "        f\"param_set_{i+1}_subsample\": params['subsample'],\n",
        "        f\"param_set_{i+1}_colsample_bytree\": params['colsample_bytree'],\n",
        "        f\"param_set_{i+1}_min_child_weight\": params['min_child_weight'],\n",
        "        f\"param_set_{i+1}_reg_alpha\": params['reg_alpha'],\n",
        "        f\"param_set_{i+1}_reg_lambda\": params['reg_lambda']\n",
        "    })\n",
        "\n",
        "    print(f\"Average CV MAE: {avg_score:.4f} (+/- {std_score*2:.4f})\")\n",
        "\n",
        "    if avg_score < best_score:\n",
        "        best_score = avg_score\n",
        "        best_params = params\n",
        "\n",
        "# Log best results\n",
        "wandb.config.update({\n",
        "    \"best_params\": best_params,\n",
        "    \"best_cv_score\": best_score,\n",
        "    \"n_param_sets_tested\": len(param_grid)\n",
        "})\n",
        "\n",
        "wandb.log({\n",
        "    \"best_cv_score\": best_score,\n",
        "    \"best_param_set\": param_results[np.argmin([r['cv_mean'] for r in param_results])]['param_set']\n",
        "})\n",
        "\n",
        "print(f\"\\nBest parameters: {best_params}\")\n",
        "print(f\"Best CV score: {best_score:.4f}\")\n",
        "\n",
        "wandb.finish()"
      ],
      "metadata": {
        "colab": {
          "base_uri": "https://localhost:8080/",
          "height": 1000
        },
        "id": "3YdCA0K1L3vt",
        "outputId": "66b75c00-cc36-4007-a5a0-b0d6004295ea"
      },
      "id": "3YdCA0K1L3vt",
      "execution_count": 42,
      "outputs": [
        {
          "output_type": "display_data",
          "data": {
            "text/plain": [
              "<IPython.core.display.HTML object>"
            ],
            "text/html": [
              "Tracking run with wandb version 0.21.0"
            ]
          },
          "metadata": {}
        },
        {
          "output_type": "display_data",
          "data": {
            "text/plain": [
              "<IPython.core.display.HTML object>"
            ],
            "text/html": [
              "Run data is saved locally in <code>/content/wandb/run-20250703_165911-uxuzfgs6</code>"
            ]
          },
          "metadata": {}
        },
        {
          "output_type": "display_data",
          "data": {
            "text/plain": [
              "<IPython.core.display.HTML object>"
            ],
            "text/html": [
              "Syncing run <strong><a href='https://wandb.ai/dshan21-free-university-of-tbilisi-/Walmart_Forecasting/runs/uxuzfgs6' target=\"_blank\">XGBoost_Hyperparameter_Tuning</a></strong> to <a href='https://wandb.ai/dshan21-free-university-of-tbilisi-/Walmart_Forecasting' target=\"_blank\">Weights & Biases</a> (<a href='https://wandb.me/developer-guide' target=\"_blank\">docs</a>)<br>"
            ]
          },
          "metadata": {}
        },
        {
          "output_type": "display_data",
          "data": {
            "text/plain": [
              "<IPython.core.display.HTML object>"
            ],
            "text/html": [
              " View project at <a href='https://wandb.ai/dshan21-free-university-of-tbilisi-/Walmart_Forecasting' target=\"_blank\">https://wandb.ai/dshan21-free-university-of-tbilisi-/Walmart_Forecasting</a>"
            ]
          },
          "metadata": {}
        },
        {
          "output_type": "display_data",
          "data": {
            "text/plain": [
              "<IPython.core.display.HTML object>"
            ],
            "text/html": [
              " View run at <a href='https://wandb.ai/dshan21-free-university-of-tbilisi-/Walmart_Forecasting/runs/uxuzfgs6' target=\"_blank\">https://wandb.ai/dshan21-free-university-of-tbilisi-/Walmart_Forecasting/runs/uxuzfgs6</a>"
            ]
          },
          "metadata": {}
        },
        {
          "output_type": "stream",
          "name": "stdout",
          "text": [
            "\n",
            "Testing parameter set 1:\n",
            "Parameters: {'objective': 'reg:squarederror', 'eval_metric': 'mae', 'max_depth': 6, 'learning_rate': 0.1, 'subsample': 0.8, 'colsample_bytree': 0.8, 'min_child_weight': 1, 'reg_alpha': 0, 'reg_lambda': 1, 'random_state': 42, 'tree_method': 'hist'}\n",
            "Fold 1 MAE: 8263.5537\n",
            "Fold 2 MAE: 6089.4391\n",
            "Fold 3 MAE: 6889.4377\n",
            "Fold 4 MAE: 7887.1705\n",
            "Fold 5 MAE: 5900.5510\n",
            "Average CV MAE: 7006.0304 (+/- 1883.3143)\n",
            "\n",
            "Testing parameter set 2:\n",
            "Parameters: {'objective': 'reg:squarederror', 'eval_metric': 'mae', 'max_depth': 8, 'learning_rate': 0.05, 'subsample': 0.9, 'colsample_bytree': 0.9, 'min_child_weight': 3, 'reg_alpha': 0.1, 'reg_lambda': 1, 'random_state': 42, 'tree_method': 'hist'}\n",
            "Fold 1 MAE: 8315.4580\n",
            "Fold 2 MAE: 6093.1814\n",
            "Fold 3 MAE: 7617.5479\n",
            "Fold 4 MAE: 8219.2369\n",
            "Fold 5 MAE: 5789.3405\n",
            "Average CV MAE: 7206.9530 (+/- 2130.2023)\n",
            "\n",
            "Testing parameter set 3:\n",
            "Parameters: {'objective': 'reg:squarederror', 'eval_metric': 'mae', 'max_depth': 10, 'learning_rate': 0.03, 'subsample': 0.85, 'colsample_bytree': 0.85, 'min_child_weight': 5, 'reg_alpha': 0.05, 'reg_lambda': 1.5, 'random_state': 42, 'tree_method': 'hist'}\n",
            "Fold 1 MAE: 8470.0357\n",
            "Fold 2 MAE: 5962.8551\n",
            "Fold 3 MAE: 7094.6701\n",
            "Fold 4 MAE: 8541.9078\n",
            "Fold 5 MAE: 5783.5223\n",
            "Average CV MAE: 7170.5982 (+/- 2359.2229)\n",
            "\n",
            "Best parameters: {'objective': 'reg:squarederror', 'eval_metric': 'mae', 'max_depth': 6, 'learning_rate': 0.1, 'subsample': 0.8, 'colsample_bytree': 0.8, 'min_child_weight': 1, 'reg_alpha': 0, 'reg_lambda': 1, 'random_state': 42, 'tree_method': 'hist'}\n",
            "Best CV score: 7006.0304\n"
          ]
        },
        {
          "output_type": "display_data",
          "data": {
            "text/plain": [
              "<IPython.core.display.HTML object>"
            ],
            "text/html": []
          },
          "metadata": {}
        },
        {
          "output_type": "display_data",
          "data": {
            "text/plain": [
              "<IPython.core.display.HTML object>"
            ],
            "text/html": [
              "<br>    <style><br>        .wandb-row {<br>            display: flex;<br>            flex-direction: row;<br>            flex-wrap: wrap;<br>            justify-content: flex-start;<br>            width: 100%;<br>        }<br>        .wandb-col {<br>            display: flex;<br>            flex-direction: column;<br>            flex-basis: 100%;<br>            flex: 1;<br>            padding: 10px;<br>        }<br>    </style><br><div class=\"wandb-row\"><div class=\"wandb-col\"><h3>Run history:</h3><br/><table class=\"wandb\"><tr><td>best_cv_score</td><td>▁</td></tr><tr><td>best_param_set</td><td>▁</td></tr><tr><td>fold_1_mae</td><td>▁▃█</td></tr><tr><td>fold_1_train_size</td><td>▁▁▁</td></tr><tr><td>fold_1_val_size</td><td>▁▁▁</td></tr><tr><td>fold_2_mae</td><td>██▁</td></tr><tr><td>fold_2_train_size</td><td>▁▁▁</td></tr><tr><td>fold_2_val_size</td><td>▁▁▁</td></tr><tr><td>fold_3_mae</td><td>▁█▃</td></tr><tr><td>fold_3_train_size</td><td>▁▁▁</td></tr><tr><td>fold_3_val_size</td><td>▁▁▁</td></tr><tr><td>fold_4_mae</td><td>▁▅█</td></tr><tr><td>fold_4_train_size</td><td>▁▁▁</td></tr><tr><td>fold_4_val_size</td><td>▁▁▁</td></tr><tr><td>fold_5_mae</td><td>█▁▁</td></tr><tr><td>fold_5_train_size</td><td>▁▁▁</td></tr><tr><td>fold_5_val_size</td><td>▁▁▁</td></tr><tr><td>param_set_1_colsample_bytree</td><td>▁</td></tr><tr><td>param_set_1_cv_mean</td><td>▁</td></tr><tr><td>param_set_1_cv_std</td><td>▁</td></tr><tr><td>param_set_1_learning_rate</td><td>▁</td></tr><tr><td>param_set_1_max_depth</td><td>▁</td></tr><tr><td>param_set_1_min_child_weight</td><td>▁</td></tr><tr><td>param_set_1_reg_alpha</td><td>▁</td></tr><tr><td>param_set_1_reg_lambda</td><td>▁</td></tr><tr><td>param_set_1_subsample</td><td>▁</td></tr><tr><td>param_set_2_colsample_bytree</td><td>▁</td></tr><tr><td>param_set_2_cv_mean</td><td>▁</td></tr><tr><td>param_set_2_cv_std</td><td>▁</td></tr><tr><td>param_set_2_learning_rate</td><td>▁</td></tr><tr><td>param_set_2_max_depth</td><td>▁</td></tr><tr><td>param_set_2_min_child_weight</td><td>▁</td></tr><tr><td>param_set_2_reg_alpha</td><td>▁</td></tr><tr><td>param_set_2_reg_lambda</td><td>▁</td></tr><tr><td>param_set_2_subsample</td><td>▁</td></tr><tr><td>param_set_3_colsample_bytree</td><td>▁</td></tr><tr><td>param_set_3_cv_mean</td><td>▁</td></tr><tr><td>param_set_3_cv_std</td><td>▁</td></tr><tr><td>param_set_3_learning_rate</td><td>▁</td></tr><tr><td>param_set_3_max_depth</td><td>▁</td></tr><tr><td>param_set_3_min_child_weight</td><td>▁</td></tr><tr><td>param_set_3_reg_alpha</td><td>▁</td></tr><tr><td>param_set_3_reg_lambda</td><td>▁</td></tr><tr><td>param_set_3_subsample</td><td>▁</td></tr><tr><td>testing_param_set</td><td>▁▅█</td></tr></table><br/></div><div class=\"wandb-col\"><h3>Run summary:</h3><br/><table class=\"wandb\"><tr><td>best_cv_score</td><td>7006.03041</td></tr><tr><td>best_param_set</td><td>1</td></tr><tr><td>fold_1_mae</td><td>8470.03571</td></tr><tr><td>fold_1_train_size</td><td>70265</td></tr><tr><td>fold_1_val_size</td><td>70261</td></tr><tr><td>fold_2_mae</td><td>5962.85514</td></tr><tr><td>fold_2_train_size</td><td>140526</td></tr><tr><td>fold_2_val_size</td><td>70261</td></tr><tr><td>fold_3_mae</td><td>7094.67006</td></tr><tr><td>fold_3_train_size</td><td>210787</td></tr><tr><td>fold_3_val_size</td><td>70261</td></tr><tr><td>fold_4_mae</td><td>8541.90777</td></tr><tr><td>fold_4_train_size</td><td>281048</td></tr><tr><td>fold_4_val_size</td><td>70261</td></tr><tr><td>fold_5_mae</td><td>5783.52235</td></tr><tr><td>fold_5_train_size</td><td>351309</td></tr><tr><td>fold_5_val_size</td><td>70261</td></tr><tr><td>param_set_1_colsample_bytree</td><td>0.8</td></tr><tr><td>param_set_1_cv_mean</td><td>7006.03041</td></tr><tr><td>param_set_1_cv_std</td><td>941.65714</td></tr><tr><td>param_set_1_learning_rate</td><td>0.1</td></tr><tr><td>param_set_1_max_depth</td><td>6</td></tr><tr><td>param_set_1_min_child_weight</td><td>1</td></tr><tr><td>param_set_1_reg_alpha</td><td>0</td></tr><tr><td>param_set_1_reg_lambda</td><td>1</td></tr><tr><td>param_set_1_subsample</td><td>0.8</td></tr><tr><td>param_set_2_colsample_bytree</td><td>0.9</td></tr><tr><td>param_set_2_cv_mean</td><td>7206.95295</td></tr><tr><td>param_set_2_cv_std</td><td>1065.10116</td></tr><tr><td>param_set_2_learning_rate</td><td>0.05</td></tr><tr><td>param_set_2_max_depth</td><td>8</td></tr><tr><td>param_set_2_min_child_weight</td><td>3</td></tr><tr><td>param_set_2_reg_alpha</td><td>0.1</td></tr><tr><td>param_set_2_reg_lambda</td><td>1</td></tr><tr><td>param_set_2_subsample</td><td>0.9</td></tr><tr><td>param_set_3_colsample_bytree</td><td>0.85</td></tr><tr><td>param_set_3_cv_mean</td><td>7170.5982</td></tr><tr><td>param_set_3_cv_std</td><td>1179.61143</td></tr><tr><td>param_set_3_learning_rate</td><td>0.03</td></tr><tr><td>param_set_3_max_depth</td><td>10</td></tr><tr><td>param_set_3_min_child_weight</td><td>5</td></tr><tr><td>param_set_3_reg_alpha</td><td>0.05</td></tr><tr><td>param_set_3_reg_lambda</td><td>1.5</td></tr><tr><td>param_set_3_subsample</td><td>0.85</td></tr><tr><td>testing_param_set</td><td>3</td></tr></table><br/></div></div>"
            ]
          },
          "metadata": {}
        },
        {
          "output_type": "display_data",
          "data": {
            "text/plain": [
              "<IPython.core.display.HTML object>"
            ],
            "text/html": [
              " View run <strong style=\"color:#cdcd00\">XGBoost_Hyperparameter_Tuning</strong> at: <a href='https://wandb.ai/dshan21-free-university-of-tbilisi-/Walmart_Forecasting/runs/uxuzfgs6' target=\"_blank\">https://wandb.ai/dshan21-free-university-of-tbilisi-/Walmart_Forecasting/runs/uxuzfgs6</a><br> View project at: <a href='https://wandb.ai/dshan21-free-university-of-tbilisi-/Walmart_Forecasting' target=\"_blank\">https://wandb.ai/dshan21-free-university-of-tbilisi-/Walmart_Forecasting</a><br>Synced 5 W&B file(s), 0 media file(s), 0 artifact file(s) and 0 other file(s)"
            ]
          },
          "metadata": {}
        },
        {
          "output_type": "display_data",
          "data": {
            "text/plain": [
              "<IPython.core.display.HTML object>"
            ],
            "text/html": [
              "Find logs at: <code>./wandb/run-20250703_165911-uxuzfgs6/logs</code>"
            ]
          },
          "metadata": {}
        }
      ]
    },
    {
      "cell_type": "markdown",
      "source": [
        "# TRAINING"
      ],
      "metadata": {
        "id": "PqRn7XPfL7iw"
      },
      "id": "PqRn7XPfL7iw"
    },
    {
      "cell_type": "code",
      "source": [
        "# Initialize wandb run for final training\n",
        "wandb.init(\n",
        "    project=\"Walmart_Forecasting\",\n",
        "    name=\"XGBoost_Final_Training\",\n",
        "    group=\"XGBoost_Training\",\n",
        "    tags=[\"final_model\", \"xgboost\", \"pipeline\"]\n",
        ")\n",
        "\n",
        "# Create full pipeline\n",
        "class XGBoostPipeline(BaseEstimator):\n",
        "    def __init__(self, params, feature_engineer, selected_features):\n",
        "        self.params = params\n",
        "        self.feature_engineer = feature_engineer\n",
        "        self.selected_features = selected_features\n",
        "        self.model = None\n",
        "\n",
        "    def fit(self, X, y):\n",
        "        # Transform features\n",
        "        X_transformed = self.feature_engineer.fit_transform(X)\n",
        "        X_selected = X_transformed[self.selected_features]\n",
        "\n",
        "        # Train XGBoost\n",
        "        dtrain = xgb.DMatrix(X_selected, label=y)\n",
        "        self.model = xgb.train(\n",
        "            params=self.params,\n",
        "            dtrain=dtrain,\n",
        "            num_boost_round=1000,\n",
        "            verbose_eval=False\n",
        "        )\n",
        "        return self\n",
        "\n",
        "    def predict(self, X):\n",
        "        # Transform features\n",
        "        X_transformed = self.feature_engineer.transform(X)\n",
        "        X_selected = X_transformed[self.selected_features]\n",
        "\n",
        "        # Make predictions\n",
        "        dtest = xgb.DMatrix(X_selected)\n",
        "        return self.model.predict(dtest)\n",
        "\n",
        "# Create and train final pipeline\n",
        "final_pipeline = XGBoostPipeline(best_params, feature_engineer, selected_features)\n",
        "final_pipeline.fit(train, y_train)\n",
        "\n",
        "# Log model parameters\n",
        "wandb.config.update(best_params)\n",
        "wandb.config.update({\n",
        "    \"n_selected_features\": len(selected_features),\n",
        "    \"pipeline_components\": [\"feature_engineer\", \"xgboost_model\"]\n",
        "})\n",
        "\n",
        "# Save model artifacts\n",
        "model_path = \"xgboost_final_model.pkl\"\n",
        "with open(model_path, 'wb') as f:\n",
        "    pickle.dump(final_pipeline, f)\n",
        "\n",
        "# Log model to wandb\n",
        "artifact = wandb.Artifact(\"xgboost_pipeline\", type=\"model\")\n",
        "artifact.add_file(model_path)\n",
        "wandb.log_artifact(artifact)\n",
        "\n",
        "# Feature importance\n",
        "if hasattr(final_pipeline.model, 'get_score'):\n",
        "    importance = final_pipeline.model.get_score(importance_type='weight')\n",
        "\n",
        "    # Log top 20 features\n",
        "    sorted_importance = sorted(importance.items(), key=lambda x: x[1], reverse=True)[:20]\n",
        "\n",
        "    # Create feature importance table for wandb\n",
        "    importance_data = []\n",
        "    for i, (feature, score) in enumerate(sorted_importance):\n",
        "        importance_data.append([i+1, feature, score])\n",
        "        wandb.log({f\"feature_importance_rank_{i+1:02d}\": score})\n",
        "\n",
        "    # Log as wandb table\n",
        "    importance_table = wandb.Table(\n",
        "        data=importance_data,\n",
        "        columns=[\"Rank\", \"Feature\", \"Importance\"]\n",
        "    )\n",
        "    wandb.log({\"feature_importance_table\": importance_table})\n",
        "\n",
        "    # Print top features\n",
        "    print(\"Top 10 most important features:\")\n",
        "    for i, (feature, score) in enumerate(sorted_importance[:10]):\n",
        "        print(f\"{i+1:2d}. {feature}: {score}\")\n",
        "\n",
        "print(\"Final model training completed and logged to wandb!\")\n",
        "\n",
        "wandb.finish()"
      ],
      "metadata": {
        "colab": {
          "base_uri": "https://localhost:8080/",
          "height": 1000
        },
        "id": "tEXGvCSNL73b",
        "outputId": "f6001425-98a4-4640-e47e-6980c834e45a"
      },
      "id": "tEXGvCSNL73b",
      "execution_count": 43,
      "outputs": [
        {
          "output_type": "display_data",
          "data": {
            "text/plain": [
              "<IPython.core.display.HTML object>"
            ],
            "text/html": [
              "Tracking run with wandb version 0.21.0"
            ]
          },
          "metadata": {}
        },
        {
          "output_type": "display_data",
          "data": {
            "text/plain": [
              "<IPython.core.display.HTML object>"
            ],
            "text/html": [
              "Run data is saved locally in <code>/content/wandb/run-20250703_170432-aeq3llrc</code>"
            ]
          },
          "metadata": {}
        },
        {
          "output_type": "display_data",
          "data": {
            "text/plain": [
              "<IPython.core.display.HTML object>"
            ],
            "text/html": [
              "Syncing run <strong><a href='https://wandb.ai/dshan21-free-university-of-tbilisi-/Walmart_Forecasting/runs/aeq3llrc' target=\"_blank\">XGBoost_Final_Training</a></strong> to <a href='https://wandb.ai/dshan21-free-university-of-tbilisi-/Walmart_Forecasting' target=\"_blank\">Weights & Biases</a> (<a href='https://wandb.me/developer-guide' target=\"_blank\">docs</a>)<br>"
            ]
          },
          "metadata": {}
        },
        {
          "output_type": "display_data",
          "data": {
            "text/plain": [
              "<IPython.core.display.HTML object>"
            ],
            "text/html": [
              " View project at <a href='https://wandb.ai/dshan21-free-university-of-tbilisi-/Walmart_Forecasting' target=\"_blank\">https://wandb.ai/dshan21-free-university-of-tbilisi-/Walmart_Forecasting</a>"
            ]
          },
          "metadata": {}
        },
        {
          "output_type": "display_data",
          "data": {
            "text/plain": [
              "<IPython.core.display.HTML object>"
            ],
            "text/html": [
              " View run at <a href='https://wandb.ai/dshan21-free-university-of-tbilisi-/Walmart_Forecasting/runs/aeq3llrc' target=\"_blank\">https://wandb.ai/dshan21-free-university-of-tbilisi-/Walmart_Forecasting/runs/aeq3llrc</a>"
            ]
          },
          "metadata": {}
        },
        {
          "output_type": "stream",
          "name": "stdout",
          "text": [
            "Top 10 most important features:\n",
            " 1. Dept: 19834.0\n",
            " 2. Store: 6200.0\n",
            " 3. Size: 5620.0\n",
            " 4. Temperature: 4255.0\n",
            " 5. CPI: 3874.0\n",
            " 6. Fuel_Price: 3169.0\n",
            " 7. Month: 2909.0\n",
            " 8. Unemployment: 2859.0\n",
            " 9. Fuel_Price_to_CPI: 2062.0\n",
            "10. MarkDown3: 1414.0\n",
            "Final model training completed and logged to wandb!\n"
          ]
        },
        {
          "output_type": "display_data",
          "data": {
            "text/plain": [
              "<IPython.core.display.HTML object>"
            ],
            "text/html": []
          },
          "metadata": {}
        },
        {
          "output_type": "display_data",
          "data": {
            "text/plain": [
              "<IPython.core.display.HTML object>"
            ],
            "text/html": [
              "<br>    <style><br>        .wandb-row {<br>            display: flex;<br>            flex-direction: row;<br>            flex-wrap: wrap;<br>            justify-content: flex-start;<br>            width: 100%;<br>        }<br>        .wandb-col {<br>            display: flex;<br>            flex-direction: column;<br>            flex-basis: 100%;<br>            flex: 1;<br>            padding: 10px;<br>        }<br>    </style><br><div class=\"wandb-row\"><div class=\"wandb-col\"><h3>Run history:</h3><br/><table class=\"wandb\"><tr><td>feature_importance_rank_01</td><td>▁</td></tr><tr><td>feature_importance_rank_02</td><td>▁</td></tr><tr><td>feature_importance_rank_03</td><td>▁</td></tr><tr><td>feature_importance_rank_04</td><td>▁</td></tr><tr><td>feature_importance_rank_05</td><td>▁</td></tr><tr><td>feature_importance_rank_06</td><td>▁</td></tr><tr><td>feature_importance_rank_07</td><td>▁</td></tr><tr><td>feature_importance_rank_08</td><td>▁</td></tr><tr><td>feature_importance_rank_09</td><td>▁</td></tr><tr><td>feature_importance_rank_10</td><td>▁</td></tr><tr><td>feature_importance_rank_11</td><td>▁</td></tr><tr><td>feature_importance_rank_12</td><td>▁</td></tr><tr><td>feature_importance_rank_13</td><td>▁</td></tr><tr><td>feature_importance_rank_14</td><td>▁</td></tr><tr><td>feature_importance_rank_15</td><td>▁</td></tr><tr><td>feature_importance_rank_16</td><td>▁</td></tr><tr><td>feature_importance_rank_17</td><td>▁</td></tr><tr><td>feature_importance_rank_18</td><td>▁</td></tr><tr><td>feature_importance_rank_19</td><td>▁</td></tr></table><br/></div><div class=\"wandb-col\"><h3>Run summary:</h3><br/><table class=\"wandb\"><tr><td>feature_importance_rank_01</td><td>19834</td></tr><tr><td>feature_importance_rank_02</td><td>6200</td></tr><tr><td>feature_importance_rank_03</td><td>5620</td></tr><tr><td>feature_importance_rank_04</td><td>4255</td></tr><tr><td>feature_importance_rank_05</td><td>3874</td></tr><tr><td>feature_importance_rank_06</td><td>3169</td></tr><tr><td>feature_importance_rank_07</td><td>2909</td></tr><tr><td>feature_importance_rank_08</td><td>2859</td></tr><tr><td>feature_importance_rank_09</td><td>2062</td></tr><tr><td>feature_importance_rank_10</td><td>1414</td></tr><tr><td>feature_importance_rank_11</td><td>1254</td></tr><tr><td>feature_importance_rank_12</td><td>973</td></tr><tr><td>feature_importance_rank_13</td><td>969</td></tr><tr><td>feature_importance_rank_14</td><td>955</td></tr><tr><td>feature_importance_rank_15</td><td>880</td></tr><tr><td>feature_importance_rank_16</td><td>854</td></tr><tr><td>feature_importance_rank_17</td><td>579</td></tr><tr><td>feature_importance_rank_18</td><td>174</td></tr><tr><td>feature_importance_rank_19</td><td>57</td></tr></table><br/></div></div>"
            ]
          },
          "metadata": {}
        },
        {
          "output_type": "display_data",
          "data": {
            "text/plain": [
              "<IPython.core.display.HTML object>"
            ],
            "text/html": [
              " View run <strong style=\"color:#cdcd00\">XGBoost_Final_Training</strong> at: <a href='https://wandb.ai/dshan21-free-university-of-tbilisi-/Walmart_Forecasting/runs/aeq3llrc' target=\"_blank\">https://wandb.ai/dshan21-free-university-of-tbilisi-/Walmart_Forecasting/runs/aeq3llrc</a><br> View project at: <a href='https://wandb.ai/dshan21-free-university-of-tbilisi-/Walmart_Forecasting' target=\"_blank\">https://wandb.ai/dshan21-free-university-of-tbilisi-/Walmart_Forecasting</a><br>Synced 5 W&B file(s), 1 media file(s), 4 artifact file(s) and 0 other file(s)"
            ]
          },
          "metadata": {}
        },
        {
          "output_type": "display_data",
          "data": {
            "text/plain": [
              "<IPython.core.display.HTML object>"
            ],
            "text/html": [
              "Find logs at: <code>./wandb/run-20250703_170432-aeq3llrc/logs</code>"
            ]
          },
          "metadata": {}
        }
      ]
    },
    {
      "cell_type": "markdown",
      "source": [
        "# EVALUATION"
      ],
      "metadata": {
        "id": "X1lWPhcnMBKs"
      },
      "id": "X1lWPhcnMBKs"
    },
    {
      "cell_type": "code",
      "source": [
        "# Initialize wandb run for evaluation\n",
        "wandb.init(\n",
        "    project=\"Walmart_Forecasting\",\n",
        "    name=\"XGBoost_Evaluation\",\n",
        "    group=\"XGBoost_Training\",\n",
        "    tags=[\"evaluation\", \"xgboost\", \"final_cv\"]\n",
        ")\n",
        "\n",
        "# Final cross-validation with best parameters\n",
        "final_cv_scores = time_series_cv_xgboost(X_train_selected, y_train, best_params, n_splits=5)\n",
        "\n",
        "# Log evaluation metrics\n",
        "wandb.config.update({\n",
        "    \"final_cv_folds\": 5,\n",
        "    \"evaluation_metric\": \"MAE\"\n",
        "})\n",
        "\n",
        "wandb.log({\n",
        "    \"final_cv_mean\": np.mean(final_cv_scores),\n",
        "    \"final_cv_std\": np.std(final_cv_scores),\n",
        "    \"final_cv_min\": np.min(final_cv_scores),\n",
        "    \"final_cv_max\": np.max(final_cv_scores)\n",
        "})\n",
        "\n",
        "print(\"Model evaluation completed!\")\n",
        "print(f\"Final CV MAE: {np.mean(final_cv_scores):.4f} (+/- {np.std(final_cv_scores)*2:.4f})\")\n",
        "\n",
        "# Log individual fold scores\n",
        "for i, score in enumerate(final_cv_scores):\n",
        "    wandb.log({f\"final_fold_{i+1}_mae\": score})\n",
        "\n",
        "wandb.finish()"
      ],
      "metadata": {
        "colab": {
          "base_uri": "https://localhost:8080/",
          "height": 1000
        },
        "id": "WGmDKvkyMBco",
        "outputId": "b73ca64a-e852-4b76-be12-ee34d78cdaf4"
      },
      "id": "WGmDKvkyMBco",
      "execution_count": 44,
      "outputs": [
        {
          "output_type": "display_data",
          "data": {
            "text/plain": [
              "<IPython.core.display.HTML object>"
            ],
            "text/html": [
              "Tracking run with wandb version 0.21.0"
            ]
          },
          "metadata": {}
        },
        {
          "output_type": "display_data",
          "data": {
            "text/plain": [
              "<IPython.core.display.HTML object>"
            ],
            "text/html": [
              "Run data is saved locally in <code>/content/wandb/run-20250703_170530-nyjyxq3l</code>"
            ]
          },
          "metadata": {}
        },
        {
          "output_type": "display_data",
          "data": {
            "text/plain": [
              "<IPython.core.display.HTML object>"
            ],
            "text/html": [
              "Syncing run <strong><a href='https://wandb.ai/dshan21-free-university-of-tbilisi-/Walmart_Forecasting/runs/nyjyxq3l' target=\"_blank\">XGBoost_Evaluation</a></strong> to <a href='https://wandb.ai/dshan21-free-university-of-tbilisi-/Walmart_Forecasting' target=\"_blank\">Weights & Biases</a> (<a href='https://wandb.me/developer-guide' target=\"_blank\">docs</a>)<br>"
            ]
          },
          "metadata": {}
        },
        {
          "output_type": "display_data",
          "data": {
            "text/plain": [
              "<IPython.core.display.HTML object>"
            ],
            "text/html": [
              " View project at <a href='https://wandb.ai/dshan21-free-university-of-tbilisi-/Walmart_Forecasting' target=\"_blank\">https://wandb.ai/dshan21-free-university-of-tbilisi-/Walmart_Forecasting</a>"
            ]
          },
          "metadata": {}
        },
        {
          "output_type": "display_data",
          "data": {
            "text/plain": [
              "<IPython.core.display.HTML object>"
            ],
            "text/html": [
              " View run at <a href='https://wandb.ai/dshan21-free-university-of-tbilisi-/Walmart_Forecasting/runs/nyjyxq3l' target=\"_blank\">https://wandb.ai/dshan21-free-university-of-tbilisi-/Walmart_Forecasting/runs/nyjyxq3l</a>"
            ]
          },
          "metadata": {}
        },
        {
          "output_type": "stream",
          "name": "stdout",
          "text": [
            "Fold 1 MAE: 8263.5537\n",
            "Fold 2 MAE: 6089.4391\n",
            "Fold 3 MAE: 6889.4377\n",
            "Fold 4 MAE: 7887.1705\n",
            "Fold 5 MAE: 5900.5510\n",
            "Model evaluation completed!\n",
            "Final CV MAE: 7006.0304 (+/- 1883.3143)\n"
          ]
        },
        {
          "output_type": "display_data",
          "data": {
            "text/plain": [
              "<IPython.core.display.HTML object>"
            ],
            "text/html": []
          },
          "metadata": {}
        },
        {
          "output_type": "display_data",
          "data": {
            "text/plain": [
              "<IPython.core.display.HTML object>"
            ],
            "text/html": [
              "<br>    <style><br>        .wandb-row {<br>            display: flex;<br>            flex-direction: row;<br>            flex-wrap: wrap;<br>            justify-content: flex-start;<br>            width: 100%;<br>        }<br>        .wandb-col {<br>            display: flex;<br>            flex-direction: column;<br>            flex-basis: 100%;<br>            flex: 1;<br>            padding: 10px;<br>        }<br>    </style><br><div class=\"wandb-row\"><div class=\"wandb-col\"><h3>Run history:</h3><br/><table class=\"wandb\"><tr><td>final_cv_max</td><td>▁</td></tr><tr><td>final_cv_mean</td><td>▁</td></tr><tr><td>final_cv_min</td><td>▁</td></tr><tr><td>final_cv_std</td><td>▁</td></tr><tr><td>final_fold_1_mae</td><td>▁</td></tr><tr><td>final_fold_2_mae</td><td>▁</td></tr><tr><td>final_fold_3_mae</td><td>▁</td></tr><tr><td>final_fold_4_mae</td><td>▁</td></tr><tr><td>final_fold_5_mae</td><td>▁</td></tr><tr><td>fold_1_mae</td><td>▁</td></tr><tr><td>fold_1_train_size</td><td>▁</td></tr><tr><td>fold_1_val_size</td><td>▁</td></tr><tr><td>fold_2_mae</td><td>▁</td></tr><tr><td>fold_2_train_size</td><td>▁</td></tr><tr><td>fold_2_val_size</td><td>▁</td></tr><tr><td>fold_3_mae</td><td>▁</td></tr><tr><td>fold_3_train_size</td><td>▁</td></tr><tr><td>fold_3_val_size</td><td>▁</td></tr><tr><td>fold_4_mae</td><td>▁</td></tr><tr><td>fold_4_train_size</td><td>▁</td></tr><tr><td>fold_4_val_size</td><td>▁</td></tr><tr><td>fold_5_mae</td><td>▁</td></tr><tr><td>fold_5_train_size</td><td>▁</td></tr><tr><td>fold_5_val_size</td><td>▁</td></tr></table><br/></div><div class=\"wandb-col\"><h3>Run summary:</h3><br/><table class=\"wandb\"><tr><td>final_cv_max</td><td>8263.5537</td></tr><tr><td>final_cv_mean</td><td>7006.03041</td></tr><tr><td>final_cv_min</td><td>5900.55104</td></tr><tr><td>final_cv_std</td><td>941.65714</td></tr><tr><td>final_fold_1_mae</td><td>8263.5537</td></tr><tr><td>final_fold_2_mae</td><td>6089.43909</td></tr><tr><td>final_fold_3_mae</td><td>6889.43771</td></tr><tr><td>final_fold_4_mae</td><td>7887.17049</td></tr><tr><td>final_fold_5_mae</td><td>5900.55104</td></tr><tr><td>fold_1_mae</td><td>8263.5537</td></tr><tr><td>fold_1_train_size</td><td>70265</td></tr><tr><td>fold_1_val_size</td><td>70261</td></tr><tr><td>fold_2_mae</td><td>6089.43909</td></tr><tr><td>fold_2_train_size</td><td>140526</td></tr><tr><td>fold_2_val_size</td><td>70261</td></tr><tr><td>fold_3_mae</td><td>6889.43771</td></tr><tr><td>fold_3_train_size</td><td>210787</td></tr><tr><td>fold_3_val_size</td><td>70261</td></tr><tr><td>fold_4_mae</td><td>7887.17049</td></tr><tr><td>fold_4_train_size</td><td>281048</td></tr><tr><td>fold_4_val_size</td><td>70261</td></tr><tr><td>fold_5_mae</td><td>5900.55104</td></tr><tr><td>fold_5_train_size</td><td>351309</td></tr><tr><td>fold_5_val_size</td><td>70261</td></tr></table><br/></div></div>"
            ]
          },
          "metadata": {}
        },
        {
          "output_type": "display_data",
          "data": {
            "text/plain": [
              "<IPython.core.display.HTML object>"
            ],
            "text/html": [
              " View run <strong style=\"color:#cdcd00\">XGBoost_Evaluation</strong> at: <a href='https://wandb.ai/dshan21-free-university-of-tbilisi-/Walmart_Forecasting/runs/nyjyxq3l' target=\"_blank\">https://wandb.ai/dshan21-free-university-of-tbilisi-/Walmart_Forecasting/runs/nyjyxq3l</a><br> View project at: <a href='https://wandb.ai/dshan21-free-university-of-tbilisi-/Walmart_Forecasting' target=\"_blank\">https://wandb.ai/dshan21-free-university-of-tbilisi-/Walmart_Forecasting</a><br>Synced 5 W&B file(s), 0 media file(s), 0 artifact file(s) and 0 other file(s)"
            ]
          },
          "metadata": {}
        },
        {
          "output_type": "display_data",
          "data": {
            "text/plain": [
              "<IPython.core.display.HTML object>"
            ],
            "text/html": [
              "Find logs at: <code>./wandb/run-20250703_170530-nyjyxq3l/logs</code>"
            ]
          },
          "metadata": {}
        }
      ]
    },
    {
      "cell_type": "markdown",
      "source": [
        "# SUMMARY"
      ],
      "metadata": {
        "id": "BN6I6TnHMFCB"
      },
      "id": "BN6I6TnHMFCB"
    },
    {
      "cell_type": "code",
      "source": [
        "# Create a summary run to consolidate all results\n",
        "wandb.init(\n",
        "    project=\"Walmart_Forecasting\",\n",
        "    name=\"XGBoost_Summary\",\n",
        "    group=\"XGBoost_Training\",\n",
        "    tags=[\"summary\", \"xgboost\", \"results\"]\n",
        ")\n",
        "\n",
        "# Log summary of all experiments\n",
        "wandb.log({\n",
        "    \"model_architecture\": \"XGBoost\",\n",
        "    \"total_features_engineered\": train_processed.shape[1],\n",
        "    \"selected_features\": len(selected_features),\n",
        "    \"best_cv_score\": best_score,\n",
        "    \"final_cv_mean\": np.mean(final_cv_scores),\n",
        "    \"final_cv_std\": np.std(final_cv_scores),\n",
        "    \"experiment_completed\": True\n",
        "})\n",
        "\n",
        "wandb.config.update({\n",
        "    \"experiment_summary\": {\n",
        "        \"data_preprocessing\": \"completed\",\n",
        "        \"feature_selection\": \"completed\",\n",
        "        \"hyperparameter_tuning\": \"completed\",\n",
        "        \"final_training\": \"completed\",\n",
        "        \"evaluation\": \"completed\"\n",
        "    }\n",
        "})\n",
        "\n",
        "print(\"XGBoost experiment completed successfully!\")\n",
        "print(f\"Check your wandb dashboard at: https://wandb.ai/{wandb.run.entity}/{wandb.run.project}\")\n",
        "\n",
        "wandb.finish()"
      ],
      "metadata": {
        "colab": {
          "base_uri": "https://localhost:8080/",
          "height": 654
        },
        "id": "vh07uywWMFSa",
        "outputId": "2e4955cd-112e-450c-d84b-8d20c3be73cb"
      },
      "id": "vh07uywWMFSa",
      "execution_count": 45,
      "outputs": [
        {
          "output_type": "display_data",
          "data": {
            "text/plain": [
              "<IPython.core.display.HTML object>"
            ],
            "text/html": [
              "Tracking run with wandb version 0.21.0"
            ]
          },
          "metadata": {}
        },
        {
          "output_type": "display_data",
          "data": {
            "text/plain": [
              "<IPython.core.display.HTML object>"
            ],
            "text/html": [
              "Run data is saved locally in <code>/content/wandb/run-20250703_170629-wkztspq0</code>"
            ]
          },
          "metadata": {}
        },
        {
          "output_type": "display_data",
          "data": {
            "text/plain": [
              "<IPython.core.display.HTML object>"
            ],
            "text/html": [
              "Syncing run <strong><a href='https://wandb.ai/dshan21-free-university-of-tbilisi-/Walmart_Forecasting/runs/wkztspq0' target=\"_blank\">XGBoost_Summary</a></strong> to <a href='https://wandb.ai/dshan21-free-university-of-tbilisi-/Walmart_Forecasting' target=\"_blank\">Weights & Biases</a> (<a href='https://wandb.me/developer-guide' target=\"_blank\">docs</a>)<br>"
            ]
          },
          "metadata": {}
        },
        {
          "output_type": "display_data",
          "data": {
            "text/plain": [
              "<IPython.core.display.HTML object>"
            ],
            "text/html": [
              " View project at <a href='https://wandb.ai/dshan21-free-university-of-tbilisi-/Walmart_Forecasting' target=\"_blank\">https://wandb.ai/dshan21-free-university-of-tbilisi-/Walmart_Forecasting</a>"
            ]
          },
          "metadata": {}
        },
        {
          "output_type": "display_data",
          "data": {
            "text/plain": [
              "<IPython.core.display.HTML object>"
            ],
            "text/html": [
              " View run at <a href='https://wandb.ai/dshan21-free-university-of-tbilisi-/Walmart_Forecasting/runs/wkztspq0' target=\"_blank\">https://wandb.ai/dshan21-free-university-of-tbilisi-/Walmart_Forecasting/runs/wkztspq0</a>"
            ]
          },
          "metadata": {}
        },
        {
          "output_type": "stream",
          "name": "stdout",
          "text": [
            "XGBoost experiment completed successfully!\n",
            "Check your wandb dashboard at: https://wandb.ai/dshan21-free-university-of-tbilisi-/Walmart_Forecasting\n"
          ]
        },
        {
          "output_type": "display_data",
          "data": {
            "text/plain": [
              "<IPython.core.display.HTML object>"
            ],
            "text/html": []
          },
          "metadata": {}
        },
        {
          "output_type": "display_data",
          "data": {
            "text/plain": [
              "<IPython.core.display.HTML object>"
            ],
            "text/html": [
              "<br>    <style><br>        .wandb-row {<br>            display: flex;<br>            flex-direction: row;<br>            flex-wrap: wrap;<br>            justify-content: flex-start;<br>            width: 100%;<br>        }<br>        .wandb-col {<br>            display: flex;<br>            flex-direction: column;<br>            flex-basis: 100%;<br>            flex: 1;<br>            padding: 10px;<br>        }<br>    </style><br><div class=\"wandb-row\"><div class=\"wandb-col\"><h3>Run history:</h3><br/><table class=\"wandb\"><tr><td>best_cv_score</td><td>▁</td></tr><tr><td>final_cv_mean</td><td>▁</td></tr><tr><td>final_cv_std</td><td>▁</td></tr><tr><td>selected_features</td><td>▁</td></tr><tr><td>total_features_engineered</td><td>▁</td></tr></table><br/></div><div class=\"wandb-col\"><h3>Run summary:</h3><br/><table class=\"wandb\"><tr><td>best_cv_score</td><td>7006.03041</td></tr><tr><td>experiment_completed</td><td>True</td></tr><tr><td>final_cv_mean</td><td>7006.03041</td></tr><tr><td>final_cv_std</td><td>941.65714</td></tr><tr><td>model_architecture</td><td>XGBoost</td></tr><tr><td>selected_features</td><td>19</td></tr><tr><td>total_features_engineered</td><td>24</td></tr></table><br/></div></div>"
            ]
          },
          "metadata": {}
        },
        {
          "output_type": "display_data",
          "data": {
            "text/plain": [
              "<IPython.core.display.HTML object>"
            ],
            "text/html": [
              " View run <strong style=\"color:#cdcd00\">XGBoost_Summary</strong> at: <a href='https://wandb.ai/dshan21-free-university-of-tbilisi-/Walmart_Forecasting/runs/wkztspq0' target=\"_blank\">https://wandb.ai/dshan21-free-university-of-tbilisi-/Walmart_Forecasting/runs/wkztspq0</a><br> View project at: <a href='https://wandb.ai/dshan21-free-university-of-tbilisi-/Walmart_Forecasting' target=\"_blank\">https://wandb.ai/dshan21-free-university-of-tbilisi-/Walmart_Forecasting</a><br>Synced 5 W&B file(s), 0 media file(s), 0 artifact file(s) and 0 other file(s)"
            ]
          },
          "metadata": {}
        },
        {
          "output_type": "display_data",
          "data": {
            "text/plain": [
              "<IPython.core.display.HTML object>"
            ],
            "text/html": [
              "Find logs at: <code>./wandb/run-20250703_170629-wkztspq0/logs</code>"
            ]
          },
          "metadata": {}
        }
      ]
    }
  ],
  "metadata": {
    "kernelspec": {
      "display_name": "Python 3",
      "language": "python",
      "name": "python3"
    },
    "language_info": {
      "codemirror_mode": {
        "name": "ipython",
        "version": 2
      },
      "file_extension": ".py",
      "mimetype": "text/x-python",
      "name": "python",
      "nbconvert_exporter": "python",
      "pygments_lexer": "ipython2",
      "version": "2.7.6"
    },
    "colab": {
      "provenance": [],
      "toc_visible": true
    }
  },
  "nbformat": 4,
  "nbformat_minor": 5
}